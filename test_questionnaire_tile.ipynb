{
 "cells": [
  {
   "cell_type": "code",
   "execution_count": 1,
   "id": "667354f9-c68c-4859-8e45-f003ba84f82d",
   "metadata": {},
   "outputs": [],
   "source": [
    "%load_ext autoreload\n",
    "%autoreload 2"
   ]
  },
  {
   "cell_type": "code",
   "execution_count": 3,
   "id": "286d9a75-ed45-4dce-a778-0958f24154b5",
   "metadata": {},
   "outputs": [],
   "source": [
    "from component.model.app_model import AppModel\n",
    "\n",
    "from component.widget.alert_state import AlertState\n",
    "from component.tile.custom_aoi_tile import AoiTile\n",
    "from component.tile.dashboard_tile import DashboardTile\n",
    "from component.tile.map_tile import MapTile\n",
    "from component.tile.questionnaire_tile import QuestionnaireTile\n",
    "from component.tile.recipe_tile import RecipeTile, RecipeView\n",
    "from component.model.recipe import Recipe\n",
    "from component.widget.alert_state import AlertState"
   ]
  },
  {
   "cell_type": "code",
   "execution_count": null,
   "id": "274e6625-ebdf-42a0-b6ff-797b6fd9ffe9",
   "metadata": {},
   "outputs": [],
   "source": [
    "app_model = AppModel()"
   ]
  },
  {
   "cell_type": "code",
   "execution_count": null,
   "id": "980f9f19-58af-44b1-87d2-a1d0eb1a864b",
   "metadata": {},
   "outputs": [],
   "source": [
    "aoi_tile = AoiTile()\n",
    "questionnaire_tile = QuestionnaireTile()\n",
    "map_tile = MapTile()\n",
    "dashboard_tile = DashboardTile()"
   ]
  },
  {
   "cell_type": "code",
   "execution_count": 7,
   "id": "99cba8b6-f5cc-4b2d-b5cd-8f6ddf292192",
   "metadata": {},
   "outputs": [],
   "source": [
    "questionnaire_tile = QuestionnaireTile()"
   ]
  },
  {
   "cell_type": "code",
   "execution_count": 8,
   "id": "5f197a19-a68d-4a3e-8cc3-f00fafc49307",
   "metadata": {},
   "outputs": [],
   "source": [
    "alert = AlertState()"
   ]
  },
  {
   "cell_type": "code",
   "execution_count": 9,
   "id": "7f8b04f4-da3d-4386-94f9-eb405ce6c875",
   "metadata": {},
   "outputs": [],
   "source": [
    "recipe = Recipe()"
   ]
  },
  {
   "cell_type": "code",
   "execution_count": 11,
   "id": "9a2fa772-0c29-4768-b551-8d5bdeb0c198",
   "metadata": {},
   "outputs": [
    {
     "data": {
      "text/plain": [
       "<component.model.recipe.Recipe at 0x7fcb75b37a30>"
      ]
     },
     "execution_count": 11,
     "metadata": {},
     "output_type": "execute_result"
    }
   ],
   "source": [
    "recipe.load_model()"
   ]
  },
  {
   "cell_type": "code",
   "execution_count": null,
   "id": "a9c0a364-07a8-4a83-bde8-601db5388240",
   "metadata": {},
   "outputs": [],
   "source": [
    "questionnaire_tile.build(recipe, alert)"
   ]
  },
  {
   "cell_type": "code",
   "execution_count": null,
   "id": "9fc18235-940f-4139-bafe-23ac922b8d9c",
   "metadata": {},
   "outputs": [],
   "source": [
    "questionnaire_tile"
   ]
  }
 ],
 "metadata": {
  "kernelspec": {
   "display_name": "Python 3 (ipykernel)",
   "language": "python",
   "name": "python3"
  },
  "language_info": {
   "codemirror_mode": {
    "name": "ipython",
    "version": 3
   },
   "file_extension": ".py",
   "mimetype": "text/x-python",
   "name": "python",
   "nbconvert_exporter": "python",
   "pygments_lexer": "ipython3",
   "version": "3.10.12"
  }
 },
 "nbformat": 4,
 "nbformat_minor": 5
}
