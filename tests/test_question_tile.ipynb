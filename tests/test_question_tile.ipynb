{
 "cells": [
  {
   "cell_type": "code",
   "execution_count": null,
   "metadata": {
    "tags": []
   },
   "outputs": [],
   "source": [
    "%load_ext autoreload\n",
    "%autoreload 2"
   ]
  },
  {
   "cell_type": "code",
   "execution_count": null,
   "metadata": {},
   "outputs": [],
   "source": [
    "from component.tile.questionnaire_tile import QuestionnaireTile"
   ]
  },
  {
   "cell_type": "code",
   "execution_count": null,
   "metadata": {},
   "outputs": [],
   "source": [
    "quest_tile = QuestionnaireTile()"
   ]
  },
  {
   "cell_type": "code",
   "execution_count": null,
   "metadata": {
    "tags": []
   },
   "outputs": [],
   "source": [
    "quest_tile"
   ]
  },
  {
   "cell_type": "code",
   "execution_count": null,
   "metadata": {
    "tags": []
   },
   "outputs": [],
   "source": [
    "import ee"
   ]
  },
  {
   "cell_type": "code",
   "execution_count": null,
   "metadata": {
    "tags": []
   },
   "outputs": [],
   "source": [
    "default = {\"image\": ee.Image(0), \"weight\": 0, \"nb\": 0}\n",
    "theme_images = {k: default.copy() for k in set(quest_tile.benefit_model.themes)}\n",
    "theme_images"
   ]
  },
  {
   "cell_type": "code",
   "execution_count": null,
   "metadata": {
    "tags": []
   },
   "outputs": [],
   "source": [
    "from component.scripts.seplan import _percentile"
   ]
  },
  {
   "cell_type": "code",
   "execution_count": null,
   "metadata": {
    "tags": []
   },
   "outputs": [],
   "source": [
    "aoi = quest_tile.aoi_model.feature_collection"
   ]
  },
  {
   "cell_type": "code",
   "execution_count": null,
   "metadata": {
    "tags": []
   },
   "outputs": [],
   "source": [
    "images = [\n",
    "    _percentile(ee.Image(i).unmask(), aoi) for i in quest_tile.benefit_model.assets\n",
    "]"
   ]
  },
  {
   "cell_type": "code",
   "execution_count": null,
   "metadata": {
    "tags": []
   },
   "outputs": [],
   "source": [
    "default = {\"image\": ee.Image(0), \"weight\": 0, \"nb\": 0}\n",
    "theme_images = {k: default.copy() for k in set(quest_tile.benefit_model.themes)}\n",
    "for idx, image in enumerate(images):\n",
    "    theme_image = theme_images[quest_tile.benefit_model.themes[idx]]\n",
    "    theme_image[\"image\"] = theme_image[\"image\"].add(image)\n",
    "    theme_image[\"weight\"] += quest_tile.benefit_model.weights[idx]\n",
    "    theme_image[\"nb\"] += 1\n",
    "\n",
    "for v in theme_images.values():\n",
    "    v[\"weight\"] = round(v[\"weight\"] / v[\"nb\"], 5)\n",
    "\n",
    "index = ee.Image(0)\n",
    "for v in theme_images.values():\n",
    "    index = index.add(v[\"image\"].divide(ee.Image(v[\"weight\"])))\n",
    "index = _percentile(index, aoi)"
   ]
  },
  {
   "cell_type": "code",
   "execution_count": null,
   "metadata": {
    "tags": []
   },
   "outputs": [],
   "source": [
    "theme_images"
   ]
  },
  {
   "cell_type": "code",
   "execution_count": null,
   "metadata": {
    "tags": []
   },
   "outputs": [],
   "source": [
    "4 / 16"
   ]
  }
 ],
 "metadata": {
  "kernelspec": {
   "display_name": "Python 3 (ipykernel)",
   "language": "python",
   "name": "python3"
  },
  "language_info": {
   "codemirror_mode": {
    "name": "ipython",
    "version": 3
   },
   "file_extension": ".py",
   "mimetype": "text/x-python",
   "name": "python",
   "nbconvert_exporter": "python",
   "pygments_lexer": "ipython3",
   "version": "3.8.10"
  }
 },
 "nbformat": 4,
 "nbformat_minor": 4
}
