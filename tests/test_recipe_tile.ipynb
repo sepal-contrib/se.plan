{
 "cells": [
  {
   "cell_type": "code",
   "execution_count": null,
   "id": "1aeefe7c-4b10-4a4e-b4a3-f8ade600c0fe",
   "metadata": {
    "tags": []
   },
   "outputs": [],
   "source": [
    "%load_ext autoreload\n",
    "%autoreload 2"
   ]
  },
  {
   "cell_type": "code",
   "execution_count": null,
   "id": "0639e8e5-a7c4-42d2-b1c0-9a300effd1d3",
   "metadata": {
    "tags": []
   },
   "outputs": [],
   "source": [
    "from component.model.app_model import AppModel\n",
    "\n",
    "from component.widget.alert_state import AlertState\n",
    "from component.tile.custom_aoi_tile import AoiTile\n",
    "from component.tile.dashboard_tile import DashboardTile\n",
    "from component.tile.map_tile import MapTile\n",
    "from component.tile.questionnaire_tile import QuestionnaireTile\n",
    "from component.tile.recipe_tile import RecipeTile, RecipeView"
   ]
  },
  {
   "cell_type": "code",
   "execution_count": null,
   "id": "47987d15-f6f9-42d0-ab90-ab7f192aaac5",
   "metadata": {
    "tags": []
   },
   "outputs": [],
   "source": [
    "app_model = AppModel()"
   ]
  },
  {
   "cell_type": "code",
   "execution_count": null,
   "id": "a69fa4cf-5374-4af5-99c3-423c52c664e6",
   "metadata": {
    "tags": []
   },
   "outputs": [],
   "source": [
    "aoi_tile = AoiTile()\n",
    "questionnaire_tile = QuestionnaireTile()\n",
    "map_tile = MapTile()\n",
    "dashboard_tile = DashboardTile()"
   ]
  },
  {
   "cell_type": "code",
   "execution_count": null,
   "id": "99a790d9-e284-4a2c-99b7-2b4f706f005f",
   "metadata": {
    "tags": []
   },
   "outputs": [],
   "source": [
    "recipe_tile = RecipeTile(\n",
    "    app_model, aoi_tile, questionnaire_tile, map_tile, dashboard_tile\n",
    ")\n",
    "recipe_tile"
   ]
  },
  {
   "cell_type": "code",
   "execution_count": null,
   "id": "cb034333-b6ae-42a2-b5a7-1f5b472c0788",
   "metadata": {
    "tags": []
   },
   "outputs": [],
   "source": [
    "aoi_tile"
   ]
  },
  {
   "cell_type": "code",
   "execution_count": null,
   "id": "0672d4dc-1a14-49b7-ad08-67abcb331326",
   "metadata": {
    "tags": []
   },
   "outputs": [],
   "source": [
    "# from sepal_ui.mapping import SepalMap\n",
    "# map_ = SepalMap()\n",
    "# map_.addLayer(recipe_tile.recipe_view.recipe.seplan_aoi.feature_collection)\n",
    "# map_"
   ]
  },
  {
   "cell_type": "code",
   "execution_count": null,
   "id": "7a865d21-398f-4adc-9ed4-2e38b085cd3b",
   "metadata": {
    "tags": []
   },
   "outputs": [],
   "source": [
    "# recipe_tile.recipe_view.recipe.constraint_model.values"
   ]
  },
  {
   "cell_type": "code",
   "execution_count": null,
   "id": "c34d15ca-138d-46a9-9a04-f2323db3dcbf",
   "metadata": {
    "tags": []
   },
   "outputs": [],
   "source": [
    "questionnaire_tile"
   ]
  },
  {
   "cell_type": "code",
   "execution_count": null,
   "id": "9525633a-11fd-4ff6-8131-734aa6ee5305",
   "metadata": {
    "tags": []
   },
   "outputs": [],
   "source": [
    "map_tile"
   ]
  },
  {
   "cell_type": "code",
   "execution_count": null,
   "id": "115f926a-9594-47f8-9eb8-b47d3c04eda0",
   "metadata": {
    "tags": []
   },
   "outputs": [],
   "source": [
    "dashboard_tile"
   ]
  }
 ],
 "metadata": {
  "kernelspec": {
   "display_name": "Python 3 (ipykernel)",
   "language": "python",
   "name": "python3"
  },
  "language_info": {
   "codemirror_mode": {
    "name": "ipython",
    "version": 3
   },
   "file_extension": ".py",
   "mimetype": "text/x-python",
   "name": "python",
   "nbconvert_exporter": "python",
   "pygments_lexer": "ipython3",
   "version": "3.10.12"
  }
 },
 "nbformat": 4,
 "nbformat_minor": 5
}
