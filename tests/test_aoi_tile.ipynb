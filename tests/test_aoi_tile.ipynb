{
 "cells": [
  {
   "cell_type": "code",
   "execution_count": null,
   "id": "f388b007-cc74-463b-ba3b-e7a936cde760",
   "metadata": {
    "tags": []
   },
   "outputs": [],
   "source": [
    "%load_ext autoreload\n",
    "%autoreload 2"
   ]
  },
  {
   "cell_type": "code",
   "execution_count": null,
   "id": "731c23ec-888a-424c-9b19-f7b7b1c53cc8",
   "metadata": {
    "tags": []
   },
   "outputs": [],
   "source": [
    "from component.tile.custom_aoi_tile import AoiTile\n",
    "from component.model.aoi_model import SeplanAoi\n",
    "from component.widget.alert_state import AlertState"
   ]
  },
  {
   "cell_type": "code",
   "execution_count": null,
   "id": "cfbcba68-5466-4ee5-92ef-96863224fc5f",
   "metadata": {
    "tags": []
   },
   "outputs": [],
   "source": [
    "alert_state = AlertState()"
   ]
  },
  {
   "cell_type": "code",
   "execution_count": null,
   "id": "470e5123-be00-410d-b244-60dbf80e26bf",
   "metadata": {
    "tags": []
   },
   "outputs": [],
   "source": [
    "alert_state"
   ]
  },
  {
   "cell_type": "code",
   "execution_count": null,
   "id": "874d01a3-7b66-4676-b262-25b731e9c1a0",
   "metadata": {
    "tags": []
   },
   "outputs": [],
   "source": [
    "aoi_tile = AoiTile()"
   ]
  },
  {
   "cell_type": "code",
   "execution_count": null,
   "id": "4b127723-f9fc-4aca-bce3-6f7837b242fc",
   "metadata": {
    "tags": []
   },
   "outputs": [],
   "source": [
    "class Recipe:\n",
    "    seplan_aoi = SeplanAoi()\n",
    "\n",
    "\n",
    "recipe = Recipe()"
   ]
  },
  {
   "cell_type": "code",
   "execution_count": null,
   "id": "3007b385-f57b-4e8d-ad54-f89d25bb3e2c",
   "metadata": {
    "tags": []
   },
   "outputs": [],
   "source": [
    "aoi_tile.build(recipe=recipe, build_alert=alert_state)"
   ]
  },
  {
   "cell_type": "code",
   "execution_count": null,
   "id": "fb570a3e-db5c-490e-87a0-469a1e4c14b2",
   "metadata": {
    "tags": []
   },
   "outputs": [],
   "source": [
    "aoi_tile"
   ]
  }
 ],
 "metadata": {
  "kernelspec": {
   "display_name": "(test) test-se",
   "language": "python",
   "name": "test-se"
  },
  "language_info": {
   "codemirror_mode": {
    "name": "ipython",
    "version": 3
   },
   "file_extension": ".py",
   "mimetype": "text/x-python",
   "name": "python",
   "nbconvert_exporter": "python",
   "pygments_lexer": "ipython3",
   "version": "3.8.10"
  }
 },
 "nbformat": 4,
 "nbformat_minor": 5
}
