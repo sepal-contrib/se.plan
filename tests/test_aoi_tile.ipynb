{
 "cells": [
  {
   "cell_type": "code",
   "execution_count": null,
   "id": "f388b007-cc74-463b-ba3b-e7a936cde760",
   "metadata": {
    "tags": []
   },
   "outputs": [],
   "source": [
    "%load_ext autoreload\n",
    "%autoreload 2"
   ]
  },
  {
   "cell_type": "code",
   "execution_count": 1,
   "id": "731c23ec-888a-424c-9b19-f7b7b1c53cc8",
   "metadata": {
    "tags": []
   },
   "outputs": [
    {
     "data": {
      "text/html": [
       "<style>/*******************************************************************************\n",
       " * Customization of the provided css from the different libs used by sepal_ui\n",
       " */\n",
       "\n",
       "/* replace the map panel elements on top */\n",
       ".leaflet-pane,\n",
       ".leaflet-top,\n",
       ".leaflet-bottom {\n",
       "  z-index: 2 !important;\n",
       "}\n",
       "\n",
       "/* remove the shadow from the widgets on the maps */\n",
       ".leaflet-widgetcontrol {\n",
       "  box-shadow: none;\n",
       "}\n",
       "\n",
       "/* remove extra padding on top of the content */\n",
       "main.v-content {\n",
       "  padding-top: 0px !important;\n",
       "}\n",
       "\n",
       "/* remove all the backgrounds from the controls and widget to be colored naturelly by the map */\n",
       ".leaflet-control-container .vuetify-styles .v-application {\n",
       "  background: rgb(0, 0, 0, 0);\n",
       "}\n",
       ".v-alert__wrapper .progress {\n",
       "  background-color: transparent;\n",
       "}\n",
       "\n",
       "/* set the bar on top of the map (800) when set to fullscreen */\n",
       "header.v-app-bar {\n",
       "  z-index: 800 !important;\n",
       "}\n",
       "\n",
       "/* set the menu_content on top of the map when it's set to fullscreen */\n",
       ".v-menu__content {\n",
       "  max-width: 100% !important;\n",
       "}\n",
       "\n",
       "/* make sure navigation drawers are always visible when they exist */\n",
       "nav.v-navigation-drawer {\n",
       "  z-index: 900 !important;\n",
       "}\n",
       "\n",
       "/* create extra position for the leaflet map controls */\n",
       ".leaflet-center {\n",
       "  left: 50%;\n",
       "  transform: translate(-50%, 0%);\n",
       "}\n",
       "\n",
       ".leaflet-middle {\n",
       "  top: 50%;\n",
       "  position: absolute;\n",
       "  z-index: 1000;\n",
       "  pointer-events: none;\n",
       "  transform: translate(0%, -50%);\n",
       "}\n",
       "\n",
       ".leaflet-center.leaflet-middle {\n",
       "  transform: translate(-50%, -50%);\n",
       "}\n",
       "\n",
       "/* create extra classes to customize the layer_control table */\n",
       ".v-no-hover:hover {\n",
       "  background-color: transparent !important;\n",
       "}\n",
       "\n",
       ".v-no-border tbody tr td,\n",
       ".v-no-border tbody tr th {\n",
       "  border: none !important;\n",
       "}\n",
       "\n",
       "/* extra css rules to make the messages disappear beneath the SimpleSlider */\n",
       ".v-no-messages .v-messages {\n",
       "  display: none;\n",
       "}\n",
       "\n",
       ".v-no-messages .v-input__slot {\n",
       "  margin-bottom: 0;\n",
       "}\n",
       "\n",
       "/* specific css for the btn placed on maps */\n",
       ".v-btn.v-size--default.v-map-btn:not(.v-btn--round) {\n",
       "  padding: 0px;\n",
       "  min-width: 0px;\n",
       "  width: 30px;\n",
       "  height: 30px;\n",
       "}\n",
       "\n",
       "/* add specific css for the zoom btn of the map */\n",
       ".v-btn.v-zoom-plus {\n",
       "  border-bottom-left-radius: 0;\n",
       "  border-bottom-right-radius: 0;\n",
       "}\n",
       "\n",
       ".v-btn.v-zoom-minus {\n",
       "  margin-top: -1px;\n",
       "  border-top-left-radius: 0;\n",
       "  border-top-right-radius: 0;\n",
       "}\n",
       "\n",
       "/* css rules for fullscreen menus */\n",
       ".v-card.v-menu-fullscreen {\n",
       "  width: calc(100vw - 80px);\n",
       "  height: calc(100vh - 20px);\n",
       "}\n",
       "\n",
       "/* hide the disclaimer message placed on top of the ui notebook\n",
       " * the message will be displayed until the css is loaded */\n",
       "#loading-app {\n",
       "  display: none !important;\n",
       "}\n",
       "\n",
       "/* Related with https://github.com/12rambau/sepal_ui/issues/893 */\n",
       "#rendered_cells {\n",
       "  contain: revert !important;\n",
       "  background-color: revert !important;\n",
       "}\n",
       "</style>"
      ],
      "text/plain": [
       "<IPython.core.display.HTML object>"
      ]
     },
     "metadata": {},
     "output_type": "display_data"
    },
    {
     "data": {
      "text/html": [
       "<link rel=\"stylesheet\" href=\"https://cdnjs.cloudflare.com/ajax/libs/font-awesome/6.2.1/css/all.min.css\"/>"
      ],
      "text/plain": [
       "<IPython.core.display.HTML object>"
      ]
     },
     "metadata": {},
     "output_type": "display_data"
    },
    {
     "data": {
      "application/javascript": "/*******************************************************************************\n * remove any links from fontawesome 5 created by jupyter in favor of\n * fontawesome 6. to be removed when Jupyter updates it\n */\n\nfunction remove_fa5() {\n  let links = document.querySelectorAll(\n    \"link[href^='https://cdn.jsdelivr.net/npm/@fortawesome/fontawesome-free@^5']\"\n  );\n\n  links.forEach((link) => link.remove());\n}\n\nif (document.readyState != \"loading\") remove_fa5();\nelse document.addEventListener(\"DOMContentLoaded\", remove_fa5);\n",
      "text/plain": [
       "<IPython.core.display.Javascript object>"
      ]
     },
     "metadata": {},
     "output_type": "display_data"
    },
    {
     "data": {
      "application/vnd.jupyter.widget-view+json": {
       "model_id": "0fdb69356cae47249f1716ad99ac3774",
       "version_major": 2,
       "version_minor": 0
      },
      "text/plain": [
       "ResizeTrigger()"
      ]
     },
     "metadata": {},
     "output_type": "display_data"
    }
   ],
   "source": [
    "import sys\n",
    "sys.path.append('../')\n",
    "from component.tile.custom_aoi_tile import AoiTile\n",
    "from component.model.aoi_model import SeplanAoi\n",
    "from component.widget.alert_state import AlertState"
   ]
  },
  {
   "cell_type": "code",
   "execution_count": null,
   "id": "cfbcba68-5466-4ee5-92ef-96863224fc5f",
   "metadata": {
    "tags": []
   },
   "outputs": [],
   "source": [
    "alert_state = AlertState()"
   ]
  },
  {
   "cell_type": "code",
   "execution_count": null,
   "id": "470e5123-be00-410d-b244-60dbf80e26bf",
   "metadata": {
    "tags": []
   },
   "outputs": [],
   "source": [
    "alert_state"
   ]
  },
  {
   "cell_type": "code",
   "execution_count": null,
   "id": "874d01a3-7b66-4676-b262-25b731e9c1a0",
   "metadata": {
    "tags": []
   },
   "outputs": [],
   "source": [
    "aoi_tile = AoiTile()"
   ]
  },
  {
   "cell_type": "code",
   "execution_count": null,
   "id": "4b127723-f9fc-4aca-bce3-6f7837b242fc",
   "metadata": {
    "tags": []
   },
   "outputs": [],
   "source": [
    "class Recipe:\n",
    "    seplan_aoi = SeplanAoi()\n",
    "\n",
    "\n",
    "recipe = Recipe()"
   ]
  },
  {
   "cell_type": "code",
   "execution_count": null,
   "id": "3007b385-f57b-4e8d-ad54-f89d25bb3e2c",
   "metadata": {
    "tags": []
   },
   "outputs": [],
   "source": [
    "aoi_tile.build(recipe=recipe, build_alert=alert_state)"
   ]
  },
  {
   "cell_type": "code",
   "execution_count": null,
   "id": "fb570a3e-db5c-490e-87a0-469a1e4c14b2",
   "metadata": {
    "tags": []
   },
   "outputs": [],
   "source": [
    "aoi_tile"
   ]
  }
 ],
 "metadata": {
  "kernelspec": {
   "display_name": "se.plan",
   "language": "python",
   "name": "python3"
  },
  "language_info": {
   "codemirror_mode": {
    "name": "ipython",
    "version": 3
   },
   "file_extension": ".py",
   "mimetype": "text/x-python",
   "name": "python",
   "nbconvert_exporter": "python",
   "pygments_lexer": "ipython3",
   "version": "3.10.12"
  }
 },
 "nbformat": 4,
 "nbformat_minor": 5
}
