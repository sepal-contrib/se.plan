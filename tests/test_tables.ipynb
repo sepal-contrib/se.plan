{
 "cells": [
  {
   "cell_type": "markdown",
   "id": "9cc53e99-6d42-45e3-b61d-6d2a93bd61a7",
   "metadata": {},
   "source": [
    "## BENEFITS"
   ]
  },
  {
   "cell_type": "code",
   "execution_count": null,
   "id": "8934bdfd-abe6-4c0c-be68-48b4c14e1497",
   "metadata": {
    "tags": []
   },
   "outputs": [],
   "source": [
    "%load_ext autoreload\n",
    "%autoreload 2"
   ]
  },
  {
   "cell_type": "code",
   "execution_count": null,
   "id": "d65eee12-bc4c-4d45-9522-3ba87048d6d0",
   "metadata": {
    "tags": []
   },
   "outputs": [],
   "source": [
    "from component.widget.alert_state import Alert\n",
    "from component.widget.questionaire_table import Table\n",
    "from component.model.benefit_model import BenefitModel\n",
    "from component.model.aoi_model import SeplanAoi"
   ]
  },
  {
   "cell_type": "code",
   "execution_count": null,
   "id": "a8fdaef5-c11d-487b-8f93-64bfb5795b6f",
   "metadata": {
    "tags": []
   },
   "outputs": [],
   "source": [
    "alert = Alert()"
   ]
  },
  {
   "cell_type": "code",
   "execution_count": null,
   "id": "ac5bca3c-d2ff-4eac-91b3-f7da4ae209e4",
   "metadata": {
    "tags": []
   },
   "outputs": [],
   "source": [
    "alert"
   ]
  },
  {
   "cell_type": "code",
   "execution_count": null,
   "id": "6f996aca-0655-4279-af28-a533844c58f8",
   "metadata": {
    "tags": []
   },
   "outputs": [],
   "source": [
    "aoi_model = SeplanAoi()"
   ]
  },
  {
   "cell_type": "code",
   "execution_count": null,
   "id": "91892f23-6753-4cc6-b749-de7b28766c04",
   "metadata": {
    "tags": []
   },
   "outputs": [],
   "source": [
    "aoi_model = SeplanAoi()"
   ]
  },
  {
   "cell_type": "code",
   "execution_count": null,
   "id": "92a898c0-7944-4dd3-98f2-bf2abeda63be",
   "metadata": {
    "tags": []
   },
   "outputs": [],
   "source": [
    "benefit_model = BenefitModel()"
   ]
  },
  {
   "cell_type": "code",
   "execution_count": null,
   "id": "1b67a63d-d816-4fbd-ad35-07d920b83bc6",
   "metadata": {
    "tags": []
   },
   "outputs": [],
   "source": [
    "benefit_table = Table(model=benefit_model, alert=alert, aoi_model=aoi_model)"
   ]
  },
  {
   "cell_type": "code",
   "execution_count": null,
   "id": "5d764701-ea54-4e19-b39d-1becdab92434",
   "metadata": {
    "tags": []
   },
   "outputs": [],
   "source": [
    "aoi_model.aoi_model.method = \"ADMIN1\"\n",
    "aoi_model.aoi_model.admin = \"959\"\n",
    "aoi_model.aoi_model.set_object()"
   ]
  },
  {
   "cell_type": "code",
   "execution_count": null,
   "id": "31e921b7-a6fd-4582-9e2d-19ecf06b7176",
   "metadata": {
    "tags": []
   },
   "outputs": [],
   "source": [
    "benefit_table"
   ]
  },
  {
   "cell_type": "markdown",
   "id": "ac19c4ed-bfa3-4d61-989e-398240b11845",
   "metadata": {
    "tags": []
   },
   "source": [
    "## CONSTRAINTS"
   ]
  },
  {
   "cell_type": "code",
   "execution_count": null,
   "id": "c9d4d5b7-0650-43f3-85a4-7ff99aa17851",
   "metadata": {
    "tags": []
   },
   "outputs": [],
   "source": [
    "%load_ext autoreload\n",
    "%autoreload 2"
   ]
  },
  {
   "cell_type": "code",
   "execution_count": null,
   "id": "5f268103-f462-4b17-bc2c-a932dd2f19bf",
   "metadata": {
    "tags": []
   },
   "outputs": [],
   "source": [
    "from component.widget.alert_state import Alert, AlertDialog\n",
    "from component.widget.questionaire_table import Table\n",
    "from component.model.constraint_model import ConstraintModel\n",
    "from component.model.aoi_model import SeplanAoi"
   ]
  },
  {
   "cell_type": "code",
   "execution_count": null,
   "id": "c249748b-adc1-4b67-9384-f06301ca4622",
   "metadata": {
    "tags": []
   },
   "outputs": [],
   "source": [
    "from component.model.aoi_model import SeplanAoi"
   ]
  },
  {
   "cell_type": "code",
   "execution_count": null,
   "id": "26aaeb06-01a2-47bf-961c-68f536709e72",
   "metadata": {
    "tags": []
   },
   "outputs": [],
   "source": [
    "alert = Alert()"
   ]
  },
  {
   "cell_type": "code",
   "execution_count": null,
   "id": "02b1b18b-c628-44f5-be7f-d9a7c4319a29",
   "metadata": {
    "tags": []
   },
   "outputs": [],
   "source": [
    "alert_dialog = AlertDialog(alert)\n",
    "alert_dialog"
   ]
  },
  {
   "cell_type": "code",
   "execution_count": null,
   "id": "5d7b891c-6058-4889-8e18-6a36b49d3129",
   "metadata": {
    "tags": []
   },
   "outputs": [],
   "source": [
    "aoi_model = SeplanAoi()"
   ]
  },
  {
   "cell_type": "code",
   "execution_count": null,
   "id": "a2b289fd-c8c4-4420-8bdf-1ec60978fc85",
   "metadata": {
    "tags": []
   },
   "outputs": [],
   "source": [
    "constraint_model = ConstraintModel()"
   ]
  },
  {
   "cell_type": "code",
   "execution_count": null,
   "id": "85d9b682-512d-4c47-9c32-f362f19c8de4",
   "metadata": {
    "tags": []
   },
   "outputs": [],
   "source": [
    "import component.frontend  # we need this line"
   ]
  },
  {
   "cell_type": "code",
   "execution_count": null,
   "id": "7c45699c-6658-423c-a572-89f18255671d",
   "metadata": {
    "tags": []
   },
   "outputs": [],
   "source": [
    "aoi_model.aoi_model.method = \"ADMIN1\"\n",
    "aoi_model.aoi_model.admin = \"959\"\n",
    "aoi_model.aoi_model.set_object()"
   ]
  },
  {
   "cell_type": "code",
   "execution_count": null,
   "id": "9440dc15-cbc7-4a23-b40f-178daed9076b",
   "metadata": {
    "tags": []
   },
   "outputs": [],
   "source": [
    "constraint_table = Table(model=constraint_model, alert=alert, aoi_model=aoi_model)"
   ]
  },
  {
   "cell_type": "code",
   "execution_count": null,
   "id": "89657627-9a27-45f1-8f6f-188f4665dc16",
   "metadata": {
    "tags": []
   },
   "outputs": [],
   "source": [
    "constraint_table"
   ]
  },
  {
   "cell_type": "markdown",
   "id": "93ea4034-bd35-4487-897e-2ba4102be886",
   "metadata": {},
   "source": [
    "## COSTS"
   ]
  },
  {
   "cell_type": "code",
   "execution_count": null,
   "id": "3cc6308f-4ca9-4192-88ed-9d8f747de698",
   "metadata": {
    "tags": []
   },
   "outputs": [],
   "source": [
    "%load_ext autoreload\n",
    "%autoreload 2"
   ]
  },
  {
   "cell_type": "code",
   "execution_count": null,
   "id": "1e273d94-c808-483a-96ca-a1969d12d384",
   "metadata": {
    "tags": []
   },
   "outputs": [],
   "source": [
    "from component.widget.alert_state import Alert\n",
    "from component.model.cost_model import CostModel\n",
    "from component.widget.questionaire_table import Table\n",
    "from component.model.aoi_model import SeplanAoi"
   ]
  },
  {
   "cell_type": "code",
   "execution_count": null,
   "id": "48fbe6cb-d514-4425-916e-642680bbe7b9",
   "metadata": {
    "tags": []
   },
   "outputs": [],
   "source": [
    "alert = Alert()"
   ]
  },
  {
   "cell_type": "code",
   "execution_count": null,
   "id": "e7c52a04-184c-4cfd-840f-e41038390df2",
   "metadata": {
    "tags": []
   },
   "outputs": [],
   "source": [
    "alert"
   ]
  },
  {
   "cell_type": "code",
   "execution_count": null,
   "id": "9b9c6a85-0dda-443f-a253-a6b974d23984",
   "metadata": {
    "tags": []
   },
   "outputs": [],
   "source": [
    "costs_model = CostModel()"
   ]
  },
  {
   "cell_type": "code",
   "execution_count": null,
   "id": "e728af14-c63f-4a32-9297-3c4bf4964e69",
   "metadata": {
    "tags": []
   },
   "outputs": [],
   "source": [
    "aoi_model = SeplanAoi()"
   ]
  },
  {
   "cell_type": "code",
   "execution_count": null,
   "id": "a9336a79-5899-44e6-beb6-d891feb7ffb7",
   "metadata": {
    "tags": []
   },
   "outputs": [],
   "source": [
    "aoi_model.aoi_model.method = \"ADMIN1\"\n",
    "aoi_model.aoi_model.admin = \"959\"\n",
    "aoi_model.aoi_model.set_object()"
   ]
  },
  {
   "cell_type": "code",
   "execution_count": null,
   "id": "5eadad1f-adda-474b-b245-ab7b11463e93",
   "metadata": {
    "tags": []
   },
   "outputs": [],
   "source": [
    "cost_table = Table(model=costs_model, alert=alert, aoi_model=aoi_model)"
   ]
  },
  {
   "cell_type": "code",
   "execution_count": null,
   "id": "13c7d106-f8eb-4cd7-a4f1-648b01e9c3e8",
   "metadata": {
    "tags": []
   },
   "outputs": [],
   "source": [
    "cost_table"
   ]
  },
  {
   "cell_type": "code",
   "execution_count": null,
   "id": "d1ade658-b2b9-4227-ba14-d7826e6ca177",
   "metadata": {
    "tags": []
   },
   "outputs": [],
   "source": [
    "aoi = aoi_model.aoi_model.feature_collection"
   ]
  },
  {
   "cell_type": "code",
   "execution_count": null,
   "id": "c7b39711-7eab-4005-807f-4b48c78ae902",
   "metadata": {
    "tags": []
   },
   "outputs": [],
   "source": [
    "cost_table.preview_map.map_.centerObject(aoi)"
   ]
  },
  {
   "cell_type": "code",
   "execution_count": null,
   "id": "26328d71-9f23-4599-a646-04bda93ae96b",
   "metadata": {
    "tags": []
   },
   "outputs": [],
   "source": []
  },
  {
   "cell_type": "markdown",
   "id": "54c4d4ff-8d0f-4cf4-9497-a228e301d4b0",
   "metadata": {},
   "source": [
    "## TEST GEE SCRIPTS"
   ]
  },
  {
   "cell_type": "code",
   "execution_count": null,
   "id": "057cc597-e8a7-4a3f-b60a-000b90f31124",
   "metadata": {},
   "outputs": [],
   "source": []
  },
  {
   "cell_type": "code",
   "execution_count": null,
   "id": "5c824ae9-c9b1-468a-bf89-b23cad89614f",
   "metadata": {
    "tags": []
   },
   "outputs": [],
   "source": [
    "%load_ext autoreload\n",
    "%autoreload 2"
   ]
  },
  {
   "cell_type": "code",
   "execution_count": null,
   "id": "b2d07e02-18c9-4ee9-b427-c0f0f98bcca5",
   "metadata": {
    "tags": []
   },
   "outputs": [],
   "source": [
    "import ee\n",
    "\n",
    "ee.Initialize()\n",
    "import pygaul\n",
    "import component.scripts.gee as gee"
   ]
  },
  {
   "cell_type": "code",
   "execution_count": null,
   "id": "23937ef8-5b04-4e86-8b6b-8ac147c0046a",
   "metadata": {
    "tags": []
   },
   "outputs": [],
   "source": [
    "aoi = pygaul.get_items(admin=\"959\")"
   ]
  },
  {
   "cell_type": "code",
   "execution_count": null,
   "id": "ab459412-d462-405f-b223-0d7b2ae54130",
   "metadata": {
    "tags": []
   },
   "outputs": [],
   "source": [
    "# asset = ee.Image(\"projects/john-ee-282116/assets/fao-restoration/features/gez_2010_wgs84_split\")\n",
    "# asset = ee.Image(\"COPERNICUS/Landcover/100m/Proba-V-C3/Global/2019\").select([\"discrete_classification\"])\n",
    "# asset = ee.Image(\"USGS/SRTMGL1_003\")\n",
    "asset = ee.Image(\n",
    "    \"Oxford/MAP/accessibility_to_cities_2015_v1_0\"\n",
    ")  # accessibility to cities\n",
    "# asset = ee.Image(\"projects/john-ee-282116/assets/fao-restoration/features/slope\") # slope"
   ]
  },
  {
   "cell_type": "code",
   "execution_count": null,
   "id": "6736404d-3168-4d67-8b07-25264d23715c",
   "metadata": {
    "tags": []
   },
   "outputs": [],
   "source": [
    "%%time\n",
    "values = gee.get_limits(asset, \"binary\", aoi, 1)\n",
    "values"
   ]
  },
  {
   "cell_type": "code",
   "execution_count": null,
   "id": "4952ca44-8109-4122-bceb-97dc675e82d1",
   "metadata": {},
   "outputs": [],
   "source": []
  }
 ],
 "metadata": {
  "kernelspec": {
   "display_name": "(test) test-se",
   "language": "python",
   "name": "test-se"
  },
  "language_info": {
   "codemirror_mode": {
    "name": "ipython",
    "version": 3
   },
   "file_extension": ".py",
   "mimetype": "text/x-python",
   "name": "python",
   "nbconvert_exporter": "python",
   "pygments_lexer": "ipython3",
   "version": "3.8.10"
  }
 },
 "nbformat": 4,
 "nbformat_minor": 5
}
