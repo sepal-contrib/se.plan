{
 "cells": [
  {
   "cell_type": "code",
   "execution_count": null,
   "id": "4ca903f4-aeb9-44b9-8cd1-3bda3c1fe345",
   "metadata": {
    "tags": []
   },
   "outputs": [],
   "source": [
    "%load_ext autoreload\n",
    "%autoreload 2"
   ]
  },
  {
   "cell_type": "code",
   "execution_count": null,
   "id": "7a54cfc1-c0c5-44c9-8d34-3ffc7090bdaa",
   "metadata": {
    "tags": []
   },
   "outputs": [],
   "source": [
    "from component.message import cm"
   ]
  },
  {
   "cell_type": "code",
   "execution_count": null,
   "id": "0002ab75-28f6-46a6-8fee-0c88ab0f9c5a",
   "metadata": {
    "tags": []
   },
   "outputs": [],
   "source": [
    "from component.model.recipe import Recipe\n",
    "from component.tile.custom_aoi_tile import AoiTile\n",
    "from component.tile.dashboard_tile import DashboardTile\n",
    "from component.widget.alert_state import AlertState"
   ]
  },
  {
   "cell_type": "code",
   "execution_count": null,
   "id": "6da11f13-d15e-4f08-9d15-225eb74cfeeb",
   "metadata": {
    "tags": []
   },
   "outputs": [],
   "source": [
    "build_alert = AlertState()"
   ]
  },
  {
   "cell_type": "code",
   "execution_count": null,
   "id": "b95fe655-bdb6-479a-8605-e6344b064b72",
   "metadata": {
    "tags": []
   },
   "outputs": [],
   "source": [
    "build_alert"
   ]
  },
  {
   "cell_type": "code",
   "execution_count": null,
   "id": "ddc1a77c-9a32-4ecf-955b-c1440d223933",
   "metadata": {
    "tags": []
   },
   "outputs": [],
   "source": [
    "recipe = Recipe()\n",
    "recipe.load_model()"
   ]
  },
  {
   "cell_type": "code",
   "execution_count": null,
   "id": "8b2ca6ff-23da-4cb1-a1d9-9e9f72990465",
   "metadata": {
    "tags": []
   },
   "outputs": [],
   "source": [
    "aoi_tile = AoiTile()"
   ]
  },
  {
   "cell_type": "code",
   "execution_count": null,
   "id": "48992938-3095-4a90-b86d-782563ff9966",
   "metadata": {},
   "outputs": [],
   "source": [
    "dashboard_tile = DashboardTile()\n",
    "dashboard_tile.build(recipe=recipe, build_alert=build_alert)"
   ]
  },
  {
   "cell_type": "code",
   "execution_count": null,
   "id": "1b65d526-2102-4b9b-a3f5-abb9979841d5",
   "metadata": {
    "tags": []
   },
   "outputs": [],
   "source": [
    "aoi_tile.build(recipe=recipe, build_alert=build_alert)"
   ]
  },
  {
   "cell_type": "code",
   "execution_count": null,
   "id": "e60f5bc6-5f00-4d1f-9e0b-6ee0dbd8fdbf",
   "metadata": {
    "tags": []
   },
   "outputs": [],
   "source": [
    "aoi_tile"
   ]
  },
  {
   "cell_type": "code",
   "execution_count": null,
   "id": "b4f37dbf-ca8e-4905-8f14-bd7f4dba1926",
   "metadata": {
    "tags": []
   },
   "outputs": [],
   "source": [
    "dashboard_tile"
   ]
  },
  {
   "cell_type": "markdown",
   "id": "bf4ff287-a662-4f10-ab61-04ff88ba5f44",
   "metadata": {},
   "source": [
    "## Run the dashboard"
   ]
  },
  {
   "cell_type": "code",
   "execution_count": null,
   "id": "4b274c00-ca39-44a1-b410-c3ec7731251d",
   "metadata": {},
   "outputs": [],
   "source": [
    "wlc_outputs = \"wlc_out\", \"benefit_list\", \"constraint_list\", \"cost_list\""
   ]
  },
  {
   "cell_type": "code",
   "execution_count": null,
   "id": "eb9f0653-d2a8-4f58-980f-c1a108b04baf",
   "metadata": {},
   "outputs": [],
   "source": [
    "ee_features = aoi_model.get_ee_features()\n",
    "\n",
    "# retreive the area and theme json result\n",
    "cs.get_stats(\n",
    "    ee_features,\n",
    "    wlc_outputs,\n",
    "    layer_model,\n",
    ")"
   ]
  },
  {
   "cell_type": "code",
   "execution_count": null,
   "id": "c46a60af-7190-43d0-a469-8a84de456425",
   "metadata": {},
   "outputs": [],
   "source": [
    "stats = [\n",
    "    get_summary_statistics(wlc_outputs, name, geom, layer_model.layer_list, True)\n",
    "    for name, geom in enumerate(ee_features)\n",
    "]"
   ]
  },
  {
   "cell_type": "markdown",
   "id": "1211a48d-0cd7-4956-9c53-a50acadbbbe4",
   "metadata": {},
   "source": [
    "## Calculate WLC\n",
    "\n",
    "- get constraints mask\n",
    "- get the benefit index\n",
    "- get the benefit/cost index\n",
    "- get constraint_index (this is WLC)"
   ]
  },
  {
   "cell_type": "code",
   "execution_count": null,
   "id": "c3615d46-b32a-4acb-893f-701adfb0fe49",
   "metadata": {
    "tags": []
   },
   "outputs": [],
   "source": [
    "%load_ext autoreload\n",
    "%autoreload 2"
   ]
  },
  {
   "cell_type": "code",
   "execution_count": null,
   "id": "068c7201-08e6-462c-8de8-b225364a2ba2",
   "metadata": {
    "tags": []
   },
   "outputs": [],
   "source": [
    "from component.model import BenefitModel\n",
    "from component.model import ConstraintModel\n",
    "from component.model import CostModel\n",
    "from component.model import SeplanAoi\n",
    "\n",
    "from component.scripts.seplan import Seplan, reduce_constraints\n",
    "from component.scripts.statistics import get_summary_statistics\n",
    "from component.tile.map_tile import MapTile\n",
    "from component.tile.questionnaire_tile import QuestionnaireTile\n",
    "\n",
    "from component import tile"
   ]
  },
  {
   "cell_type": "code",
   "execution_count": null,
   "id": "8f2153d2-d5ca-4212-88a3-c5f14338464e",
   "metadata": {
    "tags": []
   },
   "outputs": [],
   "source": [
    "seplan_aoi = SeplanAoi()\n",
    "\n",
    "seplan_aoi.aoi_model.method = \"ADMIN1\"\n",
    "seplan_aoi.aoi_model.admin = \"959\"\n",
    "seplan_aoi.aoi_model.set_object()\n",
    "\n",
    "benefit_model = BenefitModel()\n",
    "constraint_model = ConstraintModel()\n",
    "cost_model = CostModel()\n",
    "\n",
    "\n",
    "class Recipe:\n",
    "\n",
    "    seplan = Seplan(\n",
    "        seplan_aoi,\n",
    "        benefit_model,\n",
    "        constraint_model,\n",
    "        cost_model,\n",
    "    )\n",
    "\n",
    "\n",
    "recipe = Recipe()"
   ]
  },
  {
   "cell_type": "markdown",
   "id": "cc984471-8643-4e89-9a1b-fe3127574867",
   "metadata": {},
   "source": [
    "### Test stats "
   ]
  },
  {
   "cell_type": "code",
   "execution_count": null,
   "id": "ec5a6e42-449d-40dc-bc04-442712cd017c",
   "metadata": {
    "tags": []
   },
   "outputs": [],
   "source": [
    "ee_features = recipe.seplan.aoi_model.get_ee_features()\n",
    "ee_features"
   ]
  },
  {
   "cell_type": "code",
   "execution_count": null,
   "id": "77362665-b2a7-470a-98da-7722a6f1224b",
   "metadata": {
    "tags": []
   },
   "outputs": [],
   "source": [
    "from component.tile.dashboard_tile import DashboardTile\n",
    "from component.widget.alert_state import AlertState"
   ]
  },
  {
   "cell_type": "code",
   "execution_count": null,
   "id": "200c1bab-d16c-4036-81c1-17073477ba66",
   "metadata": {
    "tags": []
   },
   "outputs": [],
   "source": [
    "alert = AlertState()\n",
    "alert"
   ]
  },
  {
   "cell_type": "code",
   "execution_count": null,
   "id": "0f3d9ece-b32b-4acd-a085-73291c116921",
   "metadata": {
    "tags": []
   },
   "outputs": [],
   "source": [
    "dashboard_tile = DashboardTile()"
   ]
  },
  {
   "cell_type": "code",
   "execution_count": null,
   "id": "8ec8aa47-7228-46e5-916c-0f802730f115",
   "metadata": {
    "tags": []
   },
   "outputs": [],
   "source": [
    "dashboard_tile.build(recipe, alert)"
   ]
  },
  {
   "cell_type": "code",
   "execution_count": null,
   "id": "4bc38471-887c-4fa2-a97d-64650f3a079f",
   "metadata": {
    "tags": []
   },
   "outputs": [],
   "source": [
    "dashboard_tile"
   ]
  },
  {
   "cell_type": "code",
   "execution_count": null,
   "id": "5a287109-7020-4208-b2dd-ef7ab6726bfc",
   "metadata": {
    "tags": []
   },
   "outputs": [],
   "source": [
    "summary_stats = get_summary_statistics(recipe.seplan)"
   ]
  },
  {
   "cell_type": "code",
   "execution_count": null,
   "id": "8bfdd51c-5c40-480f-aaea-4469e0e7a9f0",
   "metadata": {
    "tags": []
   },
   "outputs": [],
   "source": [
    "from component.scripts.statistics import parse_theme_stats"
   ]
  },
  {
   "cell_type": "code",
   "execution_count": null,
   "id": "27ba0ac3-1a1b-4af7-9667-1de69e0b8f2c",
   "metadata": {
    "tags": []
   },
   "outputs": [],
   "source": [
    "summary_stats"
   ]
  },
  {
   "cell_type": "code",
   "execution_count": null,
   "id": "04c535cd-e14a-4b38-add5-32555f97421a",
   "metadata": {
    "tags": []
   },
   "outputs": [],
   "source": [
    "parse_theme_stats(summary_stats)"
   ]
  },
  {
   "cell_type": "markdown",
   "id": "1dde905b-b176-4add-8fb2-d0a7f86e7d4d",
   "metadata": {},
   "source": [
    "## Calculate the image percent cover pixel area"
   ]
  },
  {
   "cell_type": "code",
   "execution_count": null,
   "id": "5ff8b7bc-9a06-4395-b68c-e1372c48ceca",
   "metadata": {
    "tags": []
   },
   "outputs": [],
   "source": [
    "from component.scripts.statistics import get_image_percent_cover_pixelarea\n",
    "from component.scripts.seplan import mask_image"
   ]
  },
  {
   "cell_type": "code",
   "execution_count": null,
   "id": "39ed1b26-335e-4b59-a776-b7fbced93ccc",
   "metadata": {
    "tags": []
   },
   "outputs": [],
   "source": [
    "aoi = seplan_model.aoi_model.feature_collection"
   ]
  },
  {
   "cell_type": "code",
   "execution_count": null,
   "id": "607fff88-36ce-4958-b369-2dafdf354dcb",
   "metadata": {
    "tags": []
   },
   "outputs": [],
   "source": [
    "asset_id = recipe.seplan.constraint_model.assets[0]\n",
    "data_type = recipe.seplan.constraint_model.data_type[0]\n",
    "maskout_values = recipe.seplan.constraint_model.values[0]\n",
    "\n",
    "asset_id, data_type, maskout_values"
   ]
  },
  {
   "cell_type": "code",
   "execution_count": null,
   "id": "a4ad1e39-7d3f-4970-b1c9-34595ee993e1",
   "metadata": {
    "tags": []
   },
   "outputs": [],
   "source": [
    "# maskout any image from the model\n",
    "\n",
    "masked_image = mask_image(asset_id, data_type, maskout_values)"
   ]
  },
  {
   "cell_type": "code",
   "execution_count": null,
   "id": "95c0f6da-a59a-42b3-be03-0eac8013ac1d",
   "metadata": {
    "tags": []
   },
   "outputs": [],
   "source": [
    "get_image_percent_cover_pixelarea(masked_image, aoi, \"perro\").getInfo()"
   ]
  },
  {
   "cell_type": "code",
   "execution_count": null,
   "id": "62eb5b13-0b9f-415f-ae7c-2ee7020681d9",
   "metadata": {
    "tags": []
   },
   "outputs": [],
   "source": [
    "from sepal_ui.mapping import SepalMap\n",
    "import ee\n",
    "\n",
    "ee.Initialize()"
   ]
  },
  {
   "cell_type": "code",
   "execution_count": null,
   "id": "68135700-5d38-4e84-a533-6dbb82b312eb",
   "metadata": {
    "tags": []
   },
   "outputs": [],
   "source": [
    "map_ = SepalMap()\n",
    "map_.addLayer(masked_image.unmask(0).randomVisualizer().clip(aoi))\n",
    "map_"
   ]
  },
  {
   "cell_type": "markdown",
   "id": "97e79030-b6d0-44b0-8085-6d6c92ec2575",
   "metadata": {
    "tags": []
   },
   "source": [
    "## Calculate the image sum on COSTS"
   ]
  },
  {
   "cell_type": "code",
   "execution_count": null,
   "id": "a82a11fe-dda2-48b0-8ee0-e5d75455a4c8",
   "metadata": {
    "tags": []
   },
   "outputs": [],
   "source": [
    "%load_ext autoreload\n",
    "%autoreload 2"
   ]
  },
  {
   "cell_type": "code",
   "execution_count": null,
   "id": "ab9236dd-3140-40f8-becd-5c8e4f0aae3f",
   "metadata": {
    "tags": []
   },
   "outputs": [],
   "source": [
    "from component.scripts.statistics import get_image_sum\n",
    "from component.scripts.seplan import reduce_constraints, asset_to_image"
   ]
  },
  {
   "cell_type": "code",
   "execution_count": null,
   "id": "71714efe-4f14-4181-a22d-a6eedc019cb1",
   "metadata": {
    "tags": []
   },
   "outputs": [],
   "source": [
    "aoi = recipe.seplan.aoi_model.feature_collection"
   ]
  },
  {
   "cell_type": "code",
   "execution_count": null,
   "id": "a6c885b8-1f8e-447a-a3b2-8c616215ee84",
   "metadata": {
    "tags": []
   },
   "outputs": [],
   "source": [
    "asset_id = recipe.seplan.cost_model.assets[0]\n",
    "constraint_list = recipe.seplan.get_masked_constraints_list()\n",
    "mask_out_areas = reduce_constraints(constraint_list)"
   ]
  },
  {
   "cell_type": "code",
   "execution_count": null,
   "id": "8347f140-a8a0-4af8-a0fb-8f16995f7704",
   "metadata": {
    "tags": []
   },
   "outputs": [],
   "source": [
    "image = asset_to_image(asset_id)"
   ]
  },
  {
   "cell_type": "code",
   "execution_count": null,
   "id": "f11b2b1a-bfb4-4260-b908-3f698308594d",
   "metadata": {
    "tags": []
   },
   "outputs": [],
   "source": [
    "sum_img = image.updateMask(mask_out_areas).reduceRegion(\n",
    "    reducer=ee.Reducer.sum(),\n",
    "    geometry=aoi,\n",
    "    scale=100,\n",
    "    maxPixels=1e13,\n",
    ")\n",
    "sum_img.values().get(0).getInfo()"
   ]
  },
  {
   "cell_type": "code",
   "execution_count": null,
   "id": "e6be3097-4a3b-47c8-8d21-33d74caf1b0d",
   "metadata": {
    "tags": []
   },
   "outputs": [],
   "source": [
    "get_image_sum(image, aoi, mask_out_areas, \"name\").getInfo()"
   ]
  },
  {
   "cell_type": "code",
   "execution_count": null,
   "id": "3e968d0e-ff67-4cf8-b65a-97d69a7da82e",
   "metadata": {
    "tags": []
   },
   "outputs": [],
   "source": [
    "area_ha = (\n",
    "    ee.Image.pixelArea()\n",
    "    .divide(10000)\n",
    "    .reduceRegion(\n",
    "        reducer=ee.Reducer.sum(),\n",
    "        geometry=aoi,\n",
    "        scale=100,\n",
    "        maxPixels=1e13,\n",
    "    )\n",
    "    .getInfo()\n",
    ")"
   ]
  },
  {
   "cell_type": "code",
   "execution_count": null,
   "id": "f9951c86-0f17-459e-a159-b10c84231acf",
   "metadata": {
    "tags": []
   },
   "outputs": [],
   "source": [
    "1227466904.7257729 / 403841.9645242746"
   ]
  },
  {
   "cell_type": "code",
   "execution_count": null,
   "id": "985ad736-ee35-4896-b05b-42b05b9929fb",
   "metadata": {
    "tags": []
   },
   "outputs": [],
   "source": [
    "area_ha"
   ]
  },
  {
   "cell_type": "code",
   "execution_count": null,
   "id": "a0548ae0-15e7-41bf-891e-f5fd64ff1a6d",
   "metadata": {
    "tags": []
   },
   "outputs": [],
   "source": [
    "1227466904.7257729 / (2379515721.649737 + 1227466904.7257729)"
   ]
  },
  {
   "cell_type": "code",
   "execution_count": null,
   "id": "12051f35-ccb7-4ca9-af49-2cf55490c796",
   "metadata": {
    "tags": []
   },
   "outputs": [],
   "source": [
    "map_.addLayer(constraint_list[0][0].clip(aoi), {}, \"mask\")"
   ]
  },
  {
   "cell_type": "code",
   "execution_count": null,
   "id": "ac0e9e7f-7f64-4b5d-aaa9-21eb93ca0227",
   "metadata": {
    "tags": []
   },
   "outputs": [],
   "source": [
    "map_ = SepalMap()\n",
    "map_.addLayer(mask_out_areas.randomVisualizer().clip(aoi))\n",
    "map_"
   ]
  }
 ],
 "metadata": {
  "kernelspec": {
   "display_name": "(test) test-se",
   "language": "python",
   "name": "test-se"
  },
  "language_info": {
   "codemirror_mode": {
    "name": "ipython",
    "version": 3
   },
   "file_extension": ".py",
   "mimetype": "text/x-python",
   "name": "python",
   "nbconvert_exporter": "python",
   "pygments_lexer": "ipython3",
   "version": "3.8.10"
  }
 },
 "nbformat": 4,
 "nbformat_minor": 5
}
