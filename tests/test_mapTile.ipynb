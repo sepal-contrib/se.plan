{
 "cells": [
  {
   "cell_type": "code",
   "execution_count": null,
   "id": "7e9f1c13-f33e-41ae-8bc3-4108a4cf7708",
   "metadata": {
    "tags": []
   },
   "outputs": [],
   "source": [
    "%load_ext autoreload\n",
    "%autoreload 2"
   ]
  },
  {
   "cell_type": "code",
   "execution_count": null,
   "id": "8b94378c-bd93-423d-a07b-47d0de150d3f",
   "metadata": {
    "tags": []
   },
   "outputs": [],
   "source": [
    "from component.model import BenefitModel\n",
    "from component.model import ConstraintModel\n",
    "from component.model import CostModel\n",
    "from component.model.aoi_model import SeplanAoi"
   ]
  },
  {
   "cell_type": "code",
   "execution_count": null,
   "id": "38a2c765-3034-4784-9c1a-d1ba1b68f0f9",
   "metadata": {
    "tags": []
   },
   "outputs": [],
   "source": [
    "from component.tile.map_tile import MapTile\n",
    "from component.widget.alert_state import AlertState"
   ]
  },
  {
   "cell_type": "code",
   "execution_count": null,
   "id": "c4c3f9a3-14f4-4a5b-b7d3-8f4c271adbee",
   "metadata": {
    "tags": []
   },
   "outputs": [],
   "source": [
    "from component.model.recipe import Recipe"
   ]
  },
  {
   "cell_type": "code",
   "execution_count": null,
   "id": "92ab76fb-4844-4f45-8824-3ab11949b60b",
   "metadata": {
    "tags": []
   },
   "outputs": [],
   "source": [
    "alert = AlertState()"
   ]
  },
  {
   "cell_type": "code",
   "execution_count": null,
   "id": "691ac587-2fae-480d-8b27-d9c131aa09e1",
   "metadata": {
    "tags": []
   },
   "outputs": [],
   "source": [
    "alert"
   ]
  },
  {
   "cell_type": "code",
   "execution_count": null,
   "id": "ffa907c6-ec1a-478a-9d07-22277cc42932",
   "metadata": {
    "tags": []
   },
   "outputs": [],
   "source": [
    "recipe = Recipe().load_model(admin=\"57\")"
   ]
  },
  {
   "cell_type": "code",
   "execution_count": null,
   "id": "6d3d6eeb-0911-4410-a9b5-608617d48b31",
   "metadata": {
    "tags": []
   },
   "outputs": [],
   "source": [
    "# benefit_index = seplan_model.get_benefit_index(clip=True)\n",
    "# benefit_cost_index = seplan_model.get_benefit_cost_index(clip=True)\n",
    "# constraint_index = seplan_model.get_constraint_index(clip=True)"
   ]
  },
  {
   "cell_type": "code",
   "execution_count": null,
   "id": "b04b0e30-f8e0-4c2b-a519-30f37fe05681",
   "metadata": {
    "tags": []
   },
   "outputs": [],
   "source": [
    "map_tile = MapTile()\n",
    "map_tile.build(recipe, alert)"
   ]
  },
  {
   "cell_type": "code",
   "execution_count": null,
   "id": "e35b18eb-f648-41c5-bbd7-e3c3448b1d83",
   "metadata": {
    "tags": []
   },
   "outputs": [],
   "source": [
    "map_tile"
   ]
  }
 ],
 "metadata": {
  "kernelspec": {
   "display_name": "(test) test-se",
   "language": "python",
   "name": "test-se"
  },
  "language_info": {
   "codemirror_mode": {
    "name": "ipython",
    "version": 3
   },
   "file_extension": ".py",
   "mimetype": "text/x-python",
   "name": "python",
   "nbconvert_exporter": "python",
   "pygments_lexer": "ipython3",
   "version": "3.8.10"
  }
 },
 "nbformat": 4,
 "nbformat_minor": 5
}
