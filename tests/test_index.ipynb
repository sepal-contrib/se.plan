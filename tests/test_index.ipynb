{
 "cells": [
  {
   "cell_type": "code",
   "execution_count": null,
   "id": "4ca903f4-aeb9-44b9-8cd1-3bda3c1fe345",
   "metadata": {
    "tags": []
   },
   "outputs": [],
   "source": [
    "%load_ext autoreload\n",
    "%autoreload 2"
   ]
  },
  {
   "cell_type": "code",
   "execution_count": null,
   "id": "25ea250e-3694-4274-a09e-552004b4ffbf",
   "metadata": {
    "tags": []
   },
   "outputs": [],
   "source": [
    "import ee\n",
    "\n",
    "ee.Initialize()\n",
    "\n",
    "from sepal_ui.mapping import SepalMap\n",
    "from sepal_ui.mapping import InspectorControl\n",
    "from component.scripts.seplan import reduce_constraints\n",
    "from component.model.recipe import Recipe\n",
    "import component.parameter as cp\n",
    "from sepal_ui.frontend.styles import SepalColor\n",
    "\n",
    "SepalColor(**{f\"col_{i}\": col for i, col in enumerate(cp.final_viz[\"palette\"])})\n",
    "map_ = SepalMap()\n",
    "inspector_control = InspectorControl(map_)\n",
    "map_.add(inspector_control);"
   ]
  },
  {
   "cell_type": "code",
   "execution_count": null,
   "id": "a6376838-6823-4948-b4a2-a1f6026c29b6",
   "metadata": {
    "tags": []
   },
   "outputs": [],
   "source": [
    "recipe = Recipe().load_model(admin=\"57\")\n",
    "# recipe = Recipe().load_model()"
   ]
  },
  {
   "cell_type": "code",
   "execution_count": null,
   "id": "9331bad6-cfb9-4f15-bafc-a30e3c84160b",
   "metadata": {
    "tags": []
   },
   "outputs": [],
   "source": [
    "# recipe.load(\"/home/sepal-user/module_results/se.plan/recipes/good_recipe.json\")"
   ]
  },
  {
   "cell_type": "code",
   "execution_count": null,
   "id": "e1902fd9-05e4-494e-89d0-e37d4ace303a",
   "metadata": {
    "tags": []
   },
   "outputs": [],
   "source": [
    "# I have to do this because is the view who is binding both models...\n",
    "# I would rather to use the full feature collection object path\n",
    "# or find a workaround to link them. FTM i'll let that as it is\n",
    "recipe.seplan_aoi.feature_collection = recipe.seplan_aoi.aoi_model.feature_collection"
   ]
  },
  {
   "cell_type": "code",
   "execution_count": null,
   "id": "e178a7c4-bda3-4717-8cf8-209c023ec698",
   "metadata": {
    "tags": []
   },
   "outputs": [],
   "source": [
    "seplan = recipe.seplan"
   ]
  },
  {
   "cell_type": "code",
   "execution_count": null,
   "id": "531f72ad-9a21-452d-9860-122cd4a0fdc8",
   "metadata": {
    "tags": []
   },
   "outputs": [],
   "source": [
    "benefit_index = seplan.get_benefit_index(clip=True)"
   ]
  },
  {
   "cell_type": "code",
   "execution_count": null,
   "id": "32fc968c-ad19-4211-a54a-6eb63d6309b3",
   "metadata": {
    "tags": []
   },
   "outputs": [],
   "source": [
    "masked_constraint_list = seplan.get_masked_constraints_list()"
   ]
  },
  {
   "cell_type": "code",
   "execution_count": null,
   "id": "2977116d-85a2-4303-81e3-956fa7316d63",
   "metadata": {
    "tags": []
   },
   "outputs": [],
   "source": [
    "reduced_constraints = reduce_constraints(masked_constraint_list)"
   ]
  },
  {
   "cell_type": "code",
   "execution_count": null,
   "id": "b905fd85-88b5-4ace-8a89-38184a095d86",
   "metadata": {
    "tags": []
   },
   "outputs": [],
   "source": [
    "img_tree_cover_potential_mask = masked_constraint_list[0][0]"
   ]
  },
  {
   "cell_type": "code",
   "execution_count": null,
   "id": "57c316ff-08e6-4bea-8ed4-5bb89f89addf",
   "metadata": {
    "tags": []
   },
   "outputs": [],
   "source": [
    "masked_index = seplan.get_constraint_index(clip=True)"
   ]
  },
  {
   "cell_type": "code",
   "execution_count": null,
   "id": "15f6e4d5-ee66-4e35-bcec-51d0297e9fd1",
   "metadata": {
    "tags": []
   },
   "outputs": [],
   "source": [
    "map_.addLayer(benefit_index, {}, \"benefit_index\")"
   ]
  },
  {
   "cell_type": "code",
   "execution_count": null,
   "id": "38eefb81-e1df-49ee-a4fd-6d54ad03ee3a",
   "metadata": {
    "tags": []
   },
   "outputs": [],
   "source": [
    "map_.addLayer(masked_index, cp.final_viz, \"masked_index\")"
   ]
  },
  {
   "cell_type": "code",
   "execution_count": null,
   "id": "0e262b3b-63bb-42f8-912d-8c7dadb2eb8e",
   "metadata": {
    "tags": []
   },
   "outputs": [],
   "source": [
    "map_"
   ]
  }
 ],
 "metadata": {
  "kernelspec": {
   "display_name": "(test) test-se",
   "language": "python",
   "name": "test-se"
  },
  "language_info": {
   "codemirror_mode": {
    "name": "ipython",
    "version": 3
   },
   "file_extension": ".py",
   "mimetype": "text/x-python",
   "name": "python",
   "nbconvert_exporter": "python",
   "pygments_lexer": "ipython3",
   "version": "3.8.10"
  }
 },
 "nbformat": 4,
 "nbformat_minor": 5
}
