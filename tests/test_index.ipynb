{
 "cells": [
  {
   "cell_type": "code",
   "execution_count": 3,
   "id": "4ca903f4-aeb9-44b9-8cd1-3bda3c1fe345",
   "metadata": {
    "editable": true,
    "slideshow": {
     "slide_type": ""
    },
    "tags": []
   },
   "outputs": [
    {
     "name": "stdout",
     "output_type": "stream",
     "text": [
      "The autoreload extension is already loaded. To reload it, use:\n",
      "  %reload_ext autoreload\n"
     ]
    }
   ],
   "source": [
    "%load_ext autoreload\n",
    "%autoreload 2\n",
    "import sys\n",
    "sys.path.append('../')"
   ]
  },
  {
   "cell_type": "code",
   "execution_count": 4,
   "id": "25ea250e-3694-4274-a09e-552004b4ffbf",
   "metadata": {
    "tags": []
   },
   "outputs": [],
   "source": [
    "import ee\n",
    "\n",
    "ee.Initialize()\n",
    "\n",
    "from sepal_ui.mapping import SepalMap\n",
    "from sepal_ui.mapping import InspectorControl\n",
    "from component.scripts.seplan import reduce_constraints\n",
    "from component.model.recipe import Recipe\n",
    "import component.parameter as cp\n",
    "from sepal_ui.frontend.styles import SepalColor\n",
    "from component.scripts.seplan import quintiles\n",
    "\n",
    "SepalColor(**{f\"col_{i}\": col for i, col in enumerate(cp.final_viz[\"palette\"])})\n",
    "map_ = SepalMap()\n",
    "inspector_control = InspectorControl(map_)\n",
    "map_.add(inspector_control);"
   ]
  },
  {
   "cell_type": "code",
   "execution_count": 5,
   "id": "a6376838-6823-4948-b4a2-a1f6026c29b6",
   "metadata": {
    "tags": []
   },
   "outputs": [],
   "source": [
    "recipe = Recipe().load_model(admin=\"799\")\n",
    "# recipe = Recipe().load_model()"
   ]
  },
  {
   "cell_type": "code",
   "execution_count": 39,
   "id": "e1902fd9-05e4-494e-89d0-e37d4ace303a",
   "metadata": {
    "tags": []
   },
   "outputs": [
    {
     "data": {
      "text/plain": [
       "<pygaul.AdmItems at 0x76f67e013040>"
      ]
     },
     "execution_count": 39,
     "metadata": {},
     "output_type": "execute_result"
    }
   ],
   "source": [
    "# I have to do this because is the view who is binding both models...\n",
    "# I would rather to use the full feature collection object path\n",
    "# or find a workaround to link them. FTM i'll let that as it is\n",
    "aoi = recipe.seplan_aoi.feature_collection = recipe.seplan_aoi.aoi_model.feature_collection\n",
    "aoi"
   ]
  },
  {
   "cell_type": "code",
   "execution_count": 56,
   "id": "e178a7c4-bda3-4717-8cf8-209c023ec698",
   "metadata": {
    "tags": []
   },
   "outputs": [],
   "source": [
    "seplan = recipe.seplan"
   ]
  },
  {
   "cell_type": "code",
   "execution_count": 57,
   "id": "531f72ad-9a21-452d-9860-122cd4a0fdc8",
   "metadata": {
    "tags": []
   },
   "outputs": [],
   "source": [
    "benefit_index = seplan.get_benefit_index(clip=True)"
   ]
  },
  {
   "cell_type": "code",
   "execution_count": 58,
   "id": "32fc968c-ad19-4211-a54a-6eb63d6309b3",
   "metadata": {
    "tags": []
   },
   "outputs": [],
   "source": [
    "masked_constraint_list = seplan.get_masked_constraints_list()"
   ]
  },
  {
   "cell_type": "code",
   "execution_count": 59,
   "id": "2977116d-85a2-4303-81e3-956fa7316d63",
   "metadata": {
    "tags": []
   },
   "outputs": [],
   "source": [
    "reduced_constraints = reduce_constraints(masked_constraint_list)"
   ]
  },
  {
   "cell_type": "code",
   "execution_count": 60,
   "id": "b905fd85-88b5-4ace-8a89-38184a095d86",
   "metadata": {
    "tags": []
   },
   "outputs": [],
   "source": [
    "img_tree_cover_potential_mask = masked_constraint_list[0][0]"
   ]
  },
  {
   "cell_type": "code",
   "execution_count": 61,
   "id": "57c316ff-08e6-4bea-8ed4-5bb89f89addf",
   "metadata": {
    "tags": []
   },
   "outputs": [],
   "source": [
    "masked_index = seplan.get_constraint_index(clip=True)"
   ]
  },
  {
   "cell_type": "code",
   "execution_count": 13,
   "id": "3ea59e73",
   "metadata": {},
   "outputs": [
    {
     "data": {
      "text/plain": [
       "[[None, None, None],\n",
       " [None, None, None],\n",
       " [None, None, None],\n",
       " [None, None, None],\n",
       " [None, None, None],\n",
       " [None, None, None]]"
      ]
     },
     "execution_count": 13,
     "metadata": {},
     "output_type": "execute_result"
    }
   ],
   "source": [
    "benefits = [image for image, _ in seplan.get_benefits_list()]\n",
    "quint_benefits = [quintiles(b, aoi) for b in benefits]\n",
    "[\n",
    "    [\n",
    "        map_.addLayer(benefits[i].randomVisualizer(), {}, f\"raw benefit {i}\"),\n",
    "        map_.addLayer(benefits[i].clip(aoi).randomVisualizer(), {}, f\"benefit {i}\"),\n",
    "        map_.addLayer(quint_benefits[i].clip(aoi).randomVisualizer(), {}, f\"quintile {i}\"),\n",
    "    ] for i, _ in enumerate(quint_benefits)\n",
    "]"
   ]
  },
  {
   "cell_type": "code",
   "execution_count": 18,
   "id": "caeac1b9-f894-42c1-9b08-1c2da672c8b9",
   "metadata": {},
   "outputs": [],
   "source": [
    "map_.centerObject(aoi);"
   ]
  },
  {
   "cell_type": "code",
   "execution_count": 14,
   "id": "15f6e4d5-ee66-4e35-bcec-51d0297e9fd1",
   "metadata": {
    "tags": []
   },
   "outputs": [],
   "source": [
    "map_.addLayer(benefit_index, {}, \"benefit_index\")"
   ]
  },
  {
   "cell_type": "code",
   "execution_count": 15,
   "id": "38eefb81-e1df-49ee-a4fd-6d54ad03ee3a",
   "metadata": {
    "tags": []
   },
   "outputs": [],
   "source": [
    "map_.addLayer(masked_index, cp.final_viz, \"masked_index\")"
   ]
  },
  {
   "cell_type": "code",
   "execution_count": 32,
   "id": "af475929-bfff-4d1c-a95d-44a5c75e4c05",
   "metadata": {},
   "outputs": [
    {
     "data": {
      "text/plain": [
       "['projects/ee-amcmahon/assets/seplan/seplan_layers/features/opportunity_cost_20221110',\n",
       " 'projects/john-ee-282116/assets/fao-restoration/features/AfCost_ha']"
      ]
     },
     "execution_count": 32,
     "metadata": {},
     "output_type": "execute_result"
    }
   ],
   "source": [
    "seplan.cost_model.assets"
   ]
  },
  {
   "cell_type": "code",
   "execution_count": 37,
   "id": "fef34b76-8989-4f31-9001-c858d485e69f",
   "metadata": {},
   "outputs": [],
   "source": [
    "# unmask the images without normalizing as everything is in $/ha\n",
    "images = [ee.Image(i).unmask() for i in seplan.cost_model.assets]\n",
    "\n",
    "# create a normalized sum\n",
    "norm_cost = ee.Image(0)\n",
    "for v in images:\n",
    "    norm_cost = norm_cost.add(v)"
   ]
  },
  {
   "cell_type": "code",
   "execution_count": 38,
   "id": "4e3c6a6c-aeac-4608-9c5d-9da8982e0404",
   "metadata": {},
   "outputs": [],
   "source": [
    "map_.addLayer(norm_cost, {}, \"norm cost2\")"
   ]
  },
  {
   "cell_type": "code",
   "execution_count": 16,
   "id": "0e262b3b-63bb-42f8-912d-8c7dadb2eb8e",
   "metadata": {
    "tags": []
   },
   "outputs": [
    {
     "data": {
      "application/vnd.jupyter.widget-view+json": {
       "model_id": "a15414812e4c40a7ba61514bf24bb2c7",
       "version_major": 2,
       "version_minor": 0
      },
      "text/plain": [
       "SepalMap(center=[0, 0], controls=(ZoomControl(options=['position', 'transparent_bg'], position='topright', wid…"
      ]
     },
     "execution_count": 16,
     "metadata": {},
     "output_type": "execute_result"
    }
   ],
   "source": [
    "map_"
   ]
  },
  {
   "cell_type": "code",
   "execution_count": 46,
   "id": "6c442c1e-53e7-421a-a16a-329a151772ee",
   "metadata": {},
   "outputs": [],
   "source": [
    "map2 = SepalMap()\n",
    "inspector_control = InspectorControl(map_)\n",
    "map2.add(inspector_control);"
   ]
  },
  {
   "cell_type": "code",
   "execution_count": 47,
   "id": "554053a6-8996-410f-8bbd-aa697d2b3ef0",
   "metadata": {},
   "outputs": [],
   "source": [
    "map2.centerObject(aoi);\n",
    "map2.addLayer(benefit_index, {}, \"benefit_index\")\n",
    "map2.addLayer(masked_index, cp.final_viz, \"masked_index\")"
   ]
  },
  {
   "cell_type": "code",
   "execution_count": 48,
   "id": "e33be004-4f7e-45e7-afd4-ed2bd381fd1f",
   "metadata": {},
   "outputs": [
    {
     "data": {
      "application/vnd.jupyter.widget-view+json": {
       "model_id": "84efbeff31e845b29abd350e52fb1166",
       "version_major": 2,
       "version_minor": 0
      },
      "text/plain": [
       "SepalMap(center=[11.456659096726085, 103.43142632380807], controls=(ZoomControl(options=['position', 'transpar…"
      ]
     },
     "execution_count": 48,
     "metadata": {},
     "output_type": "execute_result"
    }
   ],
   "source": [
    "map2"
   ]
  },
  {
   "cell_type": "code",
   "execution_count": 55,
   "id": "ceaf5808-f120-4d9d-9994-8dfae199066c",
   "metadata": {},
   "outputs": [
    {
     "data": {
      "application/vnd.jupyter.widget-view+json": {
       "model_id": "e95da6fbec9d49b69d1c1f9b26ed22f3",
       "version_major": 2,
       "version_minor": 0
      },
      "text/plain": [
       "SepalMap(center=[0, 0], controls=(ZoomControl(options=['position', 'transparent_bg'], position='topright', wid…"
      ]
     },
     "execution_count": 55,
     "metadata": {},
     "output_type": "execute_result"
    }
   ],
   "source": [
    "map3 = SepalMap()\n",
    "inspector_control = InspectorControl(map_)\n",
    "map3.add(inspector_control);\n",
    "map3.centerObject(aoi);\n",
    "map3.addLayer(benefit_index, {}, \"benefit_index\")\n",
    "map3.addLayer(masked_index, cp.final_viz, \"masked_index\")\n",
    "map3"
   ]
  },
  {
   "cell_type": "code",
   "execution_count": 62,
   "id": "83b86fe9-58fe-46ea-885a-ac7fae4b2a11",
   "metadata": {},
   "outputs": [
    {
     "data": {
      "application/vnd.jupyter.widget-view+json": {
       "model_id": "54686dfd14b045df89bb7c7da98ff89d",
       "version_major": 2,
       "version_minor": 0
      },
      "text/plain": [
       "SepalMap(center=[0, 0], controls=(ZoomControl(options=['position', 'transparent_bg'], position='topright', wid…"
      ]
     },
     "execution_count": 62,
     "metadata": {},
     "output_type": "execute_result"
    }
   ],
   "source": [
    "map4 = SepalMap()\n",
    "inspector_control = InspectorControl(map_)\n",
    "map4.add(inspector_control);\n",
    "map4.centerObject(aoi);\n",
    "map4.addLayer(benefit_index, {}, \"benefit_index\")\n",
    "map4.addLayer(masked_index, cp.final_viz, \"masked_index\")\n",
    "map4"
   ]
  }
 ],
 "metadata": {
  "kernelspec": {
   "display_name": "(test) test-se",
   "language": "python",
   "name": "test-se"
  },
  "language_info": {
   "codemirror_mode": {
    "name": "ipython",
    "version": 3
   },
   "file_extension": ".py",
   "mimetype": "text/x-python",
   "name": "python",
   "nbconvert_exporter": "python",
   "pygments_lexer": "ipython3",
   "version": "3.10.12"
  }
 },
 "nbformat": 4,
 "nbformat_minor": 5
}
