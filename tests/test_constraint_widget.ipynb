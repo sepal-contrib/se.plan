{
 "cells": [
  {
   "cell_type": "code",
   "execution_count": 7,
   "id": "fe8b3cce-85da-44dc-bdf7-ac186d2eda5d",
   "metadata": {
    "tags": []
   },
   "outputs": [
    {
     "name": "stdout",
     "output_type": "stream",
     "text": [
      "The autoreload extension is already loaded. To reload it, use:\n",
      "  %reload_ext autoreload\n"
     ]
    }
   ],
   "source": [
    "%load_ext autoreload\n",
    "%autoreload 2"
   ]
  },
  {
   "cell_type": "code",
   "execution_count": 8,
   "id": "da55ba9c-df39-41e0-ac4e-40ba0934f46a",
   "metadata": {},
   "outputs": [],
   "source": [
    "import sys\n",
    "sys.path.append(\"../\")\n",
    "from component.widget.constraint_widget import ConstraintWidget"
   ]
  },
  {
   "cell_type": "code",
   "execution_count": 25,
   "id": "0525733f-b88e-4b3c-81f5-189e18224825",
   "metadata": {
    "tags": []
   },
   "outputs": [
    {
     "data": {
      "application/vnd.jupyter.widget-view+json": {
       "model_id": "c74944f88927490eb2945c1a945d41e9",
       "version_major": 2,
       "version_minor": 0
      },
      "text/plain": [
       "ConstraintWidget(attributes={'data-layer': 'layer', 'id': 'layer_widget'}, children=[Flex(children=[RadioGroup…"
      ]
     },
     "execution_count": 25,
     "metadata": {},
     "output_type": "execute_result"
    }
   ],
   "source": [
    "binary = ConstraintWidget(\"binary\", \"layer\", [0])\n",
    "binary.observe(lambda *_: print(binary.v_model), \"v_model\")\n",
    "binary"
   ]
  },
  {
   "cell_type": "code",
   "execution_count": 29,
   "id": "2ffbd7c2-823b-4082-be6f-bb6c4ec82186",
   "metadata": {
    "tags": []
   },
   "outputs": [
    {
     "name": "stdout",
     "output_type": "stream",
     "text": [
      "[1]\n"
     ]
    }
   ],
   "source": [
    "binary.v_model = [1]"
   ]
  },
  {
   "cell_type": "code",
   "execution_count": 16,
   "id": "403287ed-b602-4bc9-9ba6-80b5ad1e2f58",
   "metadata": {},
   "outputs": [],
   "source": []
  },
  {
   "cell_type": "code",
   "execution_count": 22,
   "id": "946a0920-6560-485c-9227-17c246dbf1c4",
   "metadata": {},
   "outputs": [
    {
     "data": {
      "application/vnd.jupyter.widget-view+json": {
       "model_id": "35a07994699a4700818053e24fedcbaf",
       "version_major": 2,
       "version_minor": 0
      },
      "text/plain": [
       "ConstraintWidget(attributes={'data-layer': 'layer', 'id': 'layer_widget'}, children=[Flex(children=[Select(hid…"
      ]
     },
     "execution_count": 22,
     "metadata": {},
     "output_type": "execute_result"
    }
   ],
   "source": [
    "continuos = ConstraintWidget(\"categorical\", \"layer\", [0,1,2,3,4])\n",
    "continuos.items = list(range(19))\n",
    "continuos.observe(lambda *_: print(continuos.v_model), \"v_model\")\n",
    "continuos"
   ]
  },
  {
   "cell_type": "code",
   "execution_count": 60,
   "id": "b38da809-3ac7-4032-a65c-9747135c72a0",
   "metadata": {},
   "outputs": [
    {
     "data": {
      "application/vnd.jupyter.widget-view+json": {
       "model_id": "021e44e3bc774457bb3868c939f73ab4",
       "version_major": 2,
       "version_minor": 0
      },
      "text/plain": [
       "ConstraintWidget(attributes={'data-layer': 'layer', 'id': 'layer_widget'}, children=[Flex(children=[CustomSlid…"
      ]
     },
     "execution_count": 60,
     "metadata": {},
     "output_type": "execute_result"
    }
   ],
   "source": [
    "values = [0,999] # Are the min and max\n",
    "continuos = ConstraintWidget(\"continuous\", \"layer\", values)\n",
    "continuos.widget.min_ = values[0]\n",
    "continuos.widget.max_ = values[-1]\n",
    "continuos.widget.v_model = [values[0], values[-1]]\n",
    "continuos"
   ]
  },
  {
   "cell_type": "code",
   "execution_count": null,
   "id": "5c47a7b4-a3ac-4130-a3ab-64b043fdcbf7",
   "metadata": {},
   "outputs": [],
   "source": [
    "continuos"
   ]
  }
 ],
 "metadata": {
  "kernelspec": {
   "display_name": "(test) test-se.plan",
   "language": "python",
   "name": "test-se.plan"
  },
  "language_info": {
   "codemirror_mode": {
    "name": "ipython",
    "version": 3
   },
   "file_extension": ".py",
   "mimetype": "text/x-python",
   "name": "python",
   "nbconvert_exporter": "python",
   "pygments_lexer": "ipython3",
   "version": "3.10.12"
  }
 },
 "nbformat": 4,
 "nbformat_minor": 5
}
