{
 "cells": [
  {
   "cell_type": "code",
   "execution_count": null,
   "id": "fe8b3cce-85da-44dc-bdf7-ac186d2eda5d",
   "metadata": {
    "tags": []
   },
   "outputs": [],
   "source": [
    "%load_ext autoreload\n",
    "%autoreload 2"
   ]
  },
  {
   "cell_type": "code",
   "execution_count": null,
   "id": "da55ba9c-df39-41e0-ac4e-40ba0934f46a",
   "metadata": {},
   "outputs": [],
   "source": [
    "from component.widget.constraint_widget import ConstraintWidget"
   ]
  },
  {
   "cell_type": "code",
   "execution_count": null,
   "id": "0525733f-b88e-4b3c-81f5-189e18224825",
   "metadata": {
    "tags": []
   },
   "outputs": [],
   "source": [
    "widget = ConstraintWidget(\"binary\", \"layer\", [0])"
   ]
  },
  {
   "cell_type": "code",
   "execution_count": null,
   "id": "2ffbd7c2-823b-4082-be6f-bb6c4ec82186",
   "metadata": {
    "tags": []
   },
   "outputs": [],
   "source": [
    "widget"
   ]
  }
 ],
 "metadata": {
  "kernelspec": {
   "display_name": "Python 3",
   "language": "python",
   "name": "mykernel"
  },
  "language_info": {
   "codemirror_mode": {
    "name": "ipython",
    "version": 3
   },
   "file_extension": ".py",
   "mimetype": "text/x-python",
   "name": "python",
   "nbconvert_exporter": "python",
   "pygments_lexer": "ipython3",
   "version": "3.8.10"
  }
 },
 "nbformat": 4,
 "nbformat_minor": 5
}
