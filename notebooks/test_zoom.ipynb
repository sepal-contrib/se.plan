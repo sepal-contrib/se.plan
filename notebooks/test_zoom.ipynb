{
 "cells": [
  {
   "cell_type": "code",
   "execution_count": null,
   "id": "79993a7c-c7bb-4f35-9af9-91f58eaf84af",
   "metadata": {
    "tags": []
   },
   "outputs": [],
   "source": [
    "%load_ext autoreload\n",
    "%autoreload 2"
   ]
  },
  {
   "cell_type": "code",
   "execution_count": null,
   "id": "d21ca85d-50da-42b5-a313-50730853747c",
   "metadata": {
    "tags": []
   },
   "outputs": [],
   "source": [
    "from sepal_ui.mapping import SepalMap"
   ]
  },
  {
   "cell_type": "code",
   "execution_count": null,
   "id": "fa4c6c0a-14c6-45fd-812a-4f46e8fd7d81",
   "metadata": {
    "tags": []
   },
   "outputs": [],
   "source": [
    "map_ = SepalMap()"
   ]
  },
  {
   "cell_type": "code",
   "execution_count": null,
   "id": "9e201d1f-fd50-4015-bf08-26537ded6016",
   "metadata": {
    "tags": []
   },
   "outputs": [],
   "source": [
    "from component.model.aoi_model import SeplanAoi"
   ]
  },
  {
   "cell_type": "code",
   "execution_count": null,
   "id": "dad8a6f9-0ec8-4ab2-8c2d-5e7fad36ae35",
   "metadata": {},
   "outputs": [],
   "source": [
    "seplan_aoi = SeplanAoi(admin=\"959\")"
   ]
  },
  {
   "cell_type": "code",
   "execution_count": null,
   "id": "b442928c-48d6-4c78-827d-9e67ddd4edd5",
   "metadata": {
    "tags": []
   },
   "outputs": [],
   "source": [
    "bounds = seplan_aoi.aoi_model.feature_collection"
   ]
  },
  {
   "cell_type": "code",
   "execution_count": null,
   "id": "92974ce1-52cb-40dd-b573-c96708524d90",
   "metadata": {
    "tags": []
   },
   "outputs": [],
   "source": [
    "map_.zoom_ee_object(bounds, zoom_out=2)"
   ]
  }
 ],
 "metadata": {
  "kernelspec": {
   "display_name": "(test) test-se",
   "language": "python",
   "name": "test-se"
  },
  "language_info": {
   "codemirror_mode": {
    "name": "ipython",
    "version": 3
   },
   "file_extension": ".py",
   "mimetype": "text/x-python",
   "name": "python",
   "nbconvert_exporter": "python",
   "pygments_lexer": "ipython3",
   "version": "3.8.10"
  }
 },
 "nbformat": 4,
 "nbformat_minor": 5
}
