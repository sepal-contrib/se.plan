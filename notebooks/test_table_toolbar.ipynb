{
 "cells": [
  {
   "cell_type": "code",
   "execution_count": null,
   "id": "f15118f7-204a-4a1d-841a-a15d5a358029",
   "metadata": {},
   "outputs": [],
   "source": [
    "%load_ext autoreload\n",
    "%autoreload 2"
   ]
  },
  {
   "cell_type": "code",
   "execution_count": null,
   "id": "57911302-b11c-48f9-85e0-2aa14a6461b6",
   "metadata": {},
   "outputs": [],
   "source": [
    "import sys\n",
    "sys.path.append(\"../\")\n",
    "from component.widget.custom_widgets import ToolBar\n",
    "from component.model import BenefitModel\n",
    "from component.widget.benefit_dialog import BenefitDialog\n",
    "from component.widget.alert_state import Alert\n",
    "from component.model.aoi_model import SeplanAoi"
   ]
  },
  {
   "cell_type": "code",
   "execution_count": null,
   "id": "1dc34d4a-f332-420c-9e74-912d2ebe78a8",
   "metadata": {},
   "outputs": [],
   "source": [
    "alert = Alert()"
   ]
  },
  {
   "cell_type": "code",
   "execution_count": null,
   "id": "cc36483d-5fc8-446e-ba48-b91ca44da328",
   "metadata": {},
   "outputs": [],
   "source": [
    "seplan_aoi = SeplanAoi()"
   ]
  },
  {
   "cell_type": "code",
   "execution_count": null,
   "id": "916852d1-4d25-4c49-a4d3-47770cea578c",
   "metadata": {},
   "outputs": [],
   "source": [
    "benefit_model = BenefitModel()"
   ]
  },
  {
   "cell_type": "code",
   "execution_count": null,
   "id": "4b10fe2d-3903-4ba2-ae4c-0acea25c5f92",
   "metadata": {},
   "outputs": [],
   "source": [
    "benefit_dialog = BenefitDialog(benefit_model, alert)"
   ]
  },
  {
   "cell_type": "code",
   "execution_count": null,
   "id": "33683f27-bd9c-4a6c-b8bb-570ffb4c8bd3",
   "metadata": {},
   "outputs": [],
   "source": [
    "seplan_aoi = SeplanAoi()"
   ]
  },
  {
   "cell_type": "code",
   "execution_count": null,
   "id": "a3658ee7-4c49-40ba-97a4-60a575cf91f9",
   "metadata": {},
   "outputs": [],
   "source": [
    "alert"
   ]
  },
  {
   "cell_type": "code",
   "execution_count": null,
   "id": "81487224-f542-492b-be58-0deb799a3fff",
   "metadata": {},
   "outputs": [],
   "source": [
    "benefit_toolbar = ToolBar(\n",
    "    model = benefit_model,\n",
    "    dialog=benefit_dialog,\n",
    "    seplan_aoi = seplan_aoi,\n",
    "    alert = alert\n",
    ")\n",
    "benefit_toolbar"
   ]
  }
 ],
 "metadata": {
  "kernelspec": {
   "display_name": "(test) test-se.plan",
   "language": "python",
   "name": "test-se.plan"
  },
  "language_info": {
   "codemirror_mode": {
    "name": "ipython",
    "version": 3
   },
   "file_extension": ".py",
   "mimetype": "text/x-python",
   "name": "python",
   "nbconvert_exporter": "python",
   "pygments_lexer": "ipython3",
   "version": "3.10.12"
  }
 },
 "nbformat": 4,
 "nbformat_minor": 5
}
