{
 "cells": [
  {
   "cell_type": "code",
   "execution_count": null,
   "id": "fe8b3cce-85da-44dc-bdf7-ac186d2eda5d",
   "metadata": {
    "tags": []
   },
   "outputs": [],
   "source": [
    "%load_ext autoreload\n",
    "%autoreload 2"
   ]
  },
  {
   "cell_type": "code",
   "execution_count": null,
   "id": "da55ba9c-df39-41e0-ac4e-40ba0934f46a",
   "metadata": {},
   "outputs": [],
   "source": [
    "import sys\n",
    "sys.path.append(\"../\")\n",
    "from component.widget.constraint_widget import ConstraintWidget\n",
    "from sepal_ui import color\n",
    "import ipyvuetify as v\n",
    "from component.widget.custom_widgets import Tabs\n",
    "from sepal_ui.scripts.utils import init_ee\n",
    "import ee\n",
    "init_ee()\n"
   ]
  },
  {
   "cell_type": "code",
   "execution_count": null,
   "id": "946a0920-6560-485c-9227-17c246dbf1c4",
   "metadata": {},
   "outputs": [],
   "source": [
    "continuos = ConstraintWidget(\"categorical\", \"layer\", [0,1,2,3,4])\n",
    "continuos.items = list(range(19))\n",
    "continuos.observe(lambda *_: print(continuos.v_model), \"v_model\")\n",
    "continuos"
   ]
  },
  {
   "cell_type": "code",
   "execution_count": null,
   "id": "da58ca0e",
   "metadata": {},
   "outputs": [],
   "source": [
    "continuos"
   ]
  },
  {
   "cell_type": "code",
   "execution_count": null,
   "id": "b38da809-3ac7-4032-a65c-9747135c72a0",
   "metadata": {},
   "outputs": [],
   "source": [
    "values = [0,999] # Are the min and max\n",
    "continuos = ConstraintWidget(\"continuous\", \"layer\", values)\n",
    "continuos.widget.min_ = values[0]\n",
    "continuos.widget.max_ = values[-1]\n",
    "continuos.widget.v_model = [values[0], values[-1]]\n",
    "continuos"
   ]
  },
  {
   "cell_type": "code",
   "execution_count": null,
   "id": "5c47a7b4-a3ac-4130-a3ab-64b043fdcbf7",
   "metadata": {},
   "outputs": [],
   "source": [
    "continuos"
   ]
  }
 ],
 "metadata": {
  "kernelspec": {
   "display_name": "(test) test-se.plan",
   "language": "python",
   "name": "test-se.plan"
  },
  "language_info": {
   "codemirror_mode": {
    "name": "ipython",
    "version": 3
   },
   "file_extension": ".py",
   "mimetype": "text/x-python",
   "name": "python",
   "nbconvert_exporter": "python",
   "pygments_lexer": "ipython3",
   "version": "3.10.12"
  }
 },
 "nbformat": 4,
 "nbformat_minor": 5
}
