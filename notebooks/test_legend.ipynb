{
 "cells": [
  {
   "cell_type": "code",
   "execution_count": null,
   "id": "11aff24b-23f5-4634-8818-58351498b2e6",
   "metadata": {
    "tags": []
   },
   "outputs": [],
   "source": [
    "%load_ext autoreload\n",
    "%autoreload 2"
   ]
  },
  {
   "cell_type": "code",
   "execution_count": null,
   "id": "dfacb13e-42c6-4324-a218-ce4a4c5722ee",
   "metadata": {
    "tags": []
   },
   "outputs": [],
   "source": [
    "from component.widget.legend import Legend"
   ]
  },
  {
   "cell_type": "code",
   "execution_count": null,
   "id": "8c87a851-8eb4-47ad-accd-ec805d0146a5",
   "metadata": {
    "tags": []
   },
   "outputs": [],
   "source": [
    "legend_dict = {\n",
    "    \"color1\": \"#440154\",\n",
    "    \"color2\": \"#433982\",\n",
    "    \"color3\": \"#30678D\",\n",
    "    \"color4\": \"#218F8B\",\n",
    "    \"color5\": \"#36B677\",\n",
    "    \"color6\": \"#8ED542\",\n",
    "    \"color7\": \"#FDE725\",\n",
    "}\n",
    "\n",
    "legend = Legend(\"gradient\", \"Legend\", names=[\"1\", \"2\"], colors=legend_dict.values())\n",
    "legend.widget"
   ]
  },
  {
   "cell_type": "code",
   "execution_count": null,
   "id": "ea1b16f3-211a-41af-b113-9f940c5f92d7",
   "metadata": {
    "tags": []
   },
   "outputs": [],
   "source": [
    "legend.update_legend(\"stepped\", \"Legend\", names=[\"1\", \"2\"], colors=legend_dict.values())"
   ]
  },
  {
   "cell_type": "code",
   "execution_count": null,
   "id": "3c48fb45-85ea-42cf-9a82-dfb017a6d3bb",
   "metadata": {
    "tags": []
   },
   "outputs": [],
   "source": [
    "legend.update_legend(\n",
    "    \"gradient\",\n",
    "    \"Legend\",\n",
    "    names=[\"gato\", \"1\", \"2\", \"3\", \"perro\"],\n",
    "    colors=legend_dict.values(),\n",
    ")"
   ]
  },
  {
   "cell_type": "code",
   "execution_count": null,
   "id": "a0e2aedc-9703-46bb-813d-3f4de1ce244b",
   "metadata": {
    "tags": []
   },
   "outputs": [],
   "source": [
    "legend = Legend()\n",
    "legend.widget"
   ]
  }
 ],
 "metadata": {
  "kernelspec": {
   "display_name": "(test) test-se",
   "language": "python",
   "name": "test-se"
  },
  "language_info": {
   "codemirror_mode": {
    "name": "ipython",
    "version": 3
   },
   "file_extension": ".py",
   "mimetype": "text/x-python",
   "name": "python",
   "nbconvert_exporter": "python",
   "pygments_lexer": "ipython3",
   "version": "3.8.10"
  }
 },
 "nbformat": 4,
 "nbformat_minor": 5
}
