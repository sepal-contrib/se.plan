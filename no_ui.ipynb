{
 "cells": [
  {
   "cell_type": "code",
   "execution_count": 1,
   "metadata": {},
   "outputs": [],
   "source": [
    "%load_ext autoreload\n",
    "%autoreload 2"
   ]
  },
  {
   "cell_type": "code",
   "execution_count": 2,
   "metadata": {
    "tags": []
   },
   "outputs": [
    {
     "data": {
      "text/html": [
       "<style>/*******************************************************************************\n",
       " * Customization of the provided css from the different libs used by sepal_ui\n",
       " */\n",
       "\n",
       "/* replace the map panel elements on top */\n",
       ".leaflet-pane,\n",
       ".leaflet-top,\n",
       ".leaflet-bottom {\n",
       "  z-index: 2 !important;\n",
       "}\n",
       "\n",
       "/* remove the shadow from the widgets on the maps */\n",
       ".leaflet-widgetcontrol {\n",
       "  box-shadow: none;\n",
       "}\n",
       "\n",
       "/* remove extra padding on top of the content */\n",
       "main.v-content {\n",
       "  padding-top: 0px !important;\n",
       "}\n",
       "\n",
       "/* remove all the backgrounds from the controls and widget to be colored naturelly by the map */\n",
       ".leaflet-control-container .vuetify-styles .v-application {\n",
       "  background: rgb(0, 0, 0, 0);\n",
       "}\n",
       ".v-alert__wrapper .progress {\n",
       "  background-color: transparent;\n",
       "}\n",
       "\n",
       "/* set the bar on top of the map (800) when set to fullscreen */\n",
       "header.v-app-bar {\n",
       "  z-index: 800 !important;\n",
       "}\n",
       "\n",
       "/* set the menu_content on top of the map when it's set to fullscreen */\n",
       ".v-menu__content {\n",
       "  max-width: 100% !important;\n",
       "}\n",
       "\n",
       "/* make sure navigation drawers are always visible when they exist */\n",
       "nav.v-navigation-drawer {\n",
       "  z-index: 900 !important;\n",
       "}\n",
       "\n",
       "/* create extra position for the leaflet map controls */\n",
       ".leaflet-center {\n",
       "  left: 50%;\n",
       "  transform: translate(-50%, 0%);\n",
       "}\n",
       "\n",
       ".leaflet-middle {\n",
       "  top: 50%;\n",
       "  position: absolute;\n",
       "  z-index: 1000;\n",
       "  pointer-events: none;\n",
       "  transform: translate(0%, -50%);\n",
       "}\n",
       "\n",
       ".leaflet-center.leaflet-middle {\n",
       "  transform: translate(-50%, -50%);\n",
       "}\n",
       "\n",
       "/* create extra classes to customize the layer_control table */\n",
       ".v-no-hover:hover {\n",
       "  background-color: transparent !important;\n",
       "}\n",
       "\n",
       ".v-no-border tbody tr td,\n",
       ".v-no-border tbody tr th {\n",
       "  border: none !important;\n",
       "}\n",
       "\n",
       "/* extra css rules to make the messages disappear beneath the SimpleSlider */\n",
       ".v-no-messages .v-messages {\n",
       "  display: none;\n",
       "}\n",
       "\n",
       ".v-no-messages .v-input__slot {\n",
       "  margin-bottom: 0;\n",
       "}\n",
       "\n",
       "/* specific css for the btn placed on maps */\n",
       ".v-btn.v-size--default.v-map-btn:not(.v-btn--round) {\n",
       "  padding: 0px;\n",
       "  min-width: 0px;\n",
       "  width: 30px;\n",
       "  height: 30px;\n",
       "}\n",
       "\n",
       "/* add specific css for the zoom btn of the map */\n",
       ".v-btn.v-zoom-plus {\n",
       "  border-bottom-left-radius: 0;\n",
       "  border-bottom-right-radius: 0;\n",
       "}\n",
       "\n",
       ".v-btn.v-zoom-minus {\n",
       "  margin-top: -1px;\n",
       "  border-top-left-radius: 0;\n",
       "  border-top-right-radius: 0;\n",
       "}\n",
       "\n",
       "/* css rules for fullscreen menus */\n",
       ".v-card.v-menu-fullscreen {\n",
       "  width: calc(100vw - 80px);\n",
       "  height: calc(100vh - 20px);\n",
       "}\n",
       "\n",
       "/* hide the disclaimer message placed on top of the ui notebook\n",
       " * the message will be displayed until the css is loaded */\n",
       "#loading-app {\n",
       "  display: none !important;\n",
       "}\n",
       "\n",
       "/* Related with https://github.com/12rambau/sepal_ui/issues/893 */\n",
       "#rendered_cells {\n",
       "  contain: revert !important;\n",
       "  background-color: revert !important;\n",
       "}\n",
       "</style>"
      ],
      "text/plain": [
       "<IPython.core.display.HTML object>"
      ]
     },
     "metadata": {},
     "output_type": "display_data"
    },
    {
     "data": {
      "text/html": [
       "<link rel=\"stylesheet\" href=\"https://cdnjs.cloudflare.com/ajax/libs/font-awesome/6.2.1/css/all.min.css\"/>"
      ],
      "text/plain": [
       "<IPython.core.display.HTML object>"
      ]
     },
     "metadata": {},
     "output_type": "display_data"
    },
    {
     "data": {
      "application/javascript": [
       "/*******************************************************************************\n",
       " * remove any links from fontawesome 5 created by jupyter in favor of\n",
       " * fontawesome 6. to be removed when Jupyter updates it\n",
       " */\n",
       "\n",
       "function remove_fa5() {\n",
       "  let links = document.querySelectorAll(\n",
       "    \"link[href^='https://cdn.jsdelivr.net/npm/@fortawesome/fontawesome-free@^5']\"\n",
       "  );\n",
       "\n",
       "  links.forEach((link) => link.remove());\n",
       "}\n",
       "\n",
       "if (document.readyState != \"loading\") remove_fa5();\n",
       "else document.addEventListener(\"DOMContentLoaded\", remove_fa5);\n"
      ],
      "text/plain": [
       "<IPython.core.display.Javascript object>"
      ]
     },
     "metadata": {},
     "output_type": "display_data"
    },
    {
     "data": {
      "application/vnd.jupyter.widget-view+json": {
       "model_id": "c7a7553606b94713997a57af95ed14be",
       "version_major": 2,
       "version_minor": 0
      },
      "text/plain": [
       "ResizeTrigger()"
      ]
     },
     "metadata": {},
     "output_type": "display_data"
    },
    {
     "data": {
      "application/vnd.jupyter.widget-view+json": {
       "model_id": "03820dd45cf44510896fa12c2ecc5204",
       "version_major": 2,
       "version_minor": 0
      },
      "text/plain": [
       "Html(children=['.custom_map .jupyter-widgets.leaflet-widgets {\\n  height: 84vh;\\n}\\n'], layout=None, tag='styl…"
      ]
     },
     "metadata": {},
     "output_type": "display_data"
    }
   ],
   "source": [
    "import sepal_ui.sepalwidgets as sw\n",
    "from component.widget.custom_widgets import (\n",
    "    CustomDrawerItem,\n",
    "    CustomNavDrawer,\n",
    "    CustomAppBar,\n",
    "    CustomApp,\n",
    ")\n",
    "\n",
    "from component.model.app_model import AppModel\n",
    "from component.tile.custom_aoi_tile import AoiTile\n",
    "from component.tile.dashboard_tile import DashboardTile\n",
    "from component.tile.map_tile import MapTile\n",
    "from component.tile.questionnaire_tile import QuestionnaireTile\n",
    "from component.tile.recipe_tile import RecipeTile\n",
    "\n",
    "from component.message import cm\n",
    "import component.frontend  # we need this line"
   ]
  },
  {
   "cell_type": "code",
   "execution_count": 3,
   "metadata": {
    "tags": []
   },
   "outputs": [],
   "source": [
    "app_model = AppModel()"
   ]
  },
  {
   "cell_type": "code",
   "execution_count": 4,
   "metadata": {},
   "outputs": [],
   "source": [
    "aoi_tile = AoiTile()\n",
    "questionnaire_tile = QuestionnaireTile()\n",
    "map_tile = MapTile(app_model)\n",
    "dashboard_tile = DashboardTile()\n",
    "recipe_tile = RecipeTile(\n",
    "    app_model, aoi_tile, questionnaire_tile, map_tile, dashboard_tile\n",
    ")"
   ]
  },
  {
   "cell_type": "code",
   "execution_count": 5,
   "metadata": {},
   "outputs": [
    {
     "data": {
      "application/vnd.jupyter.widget-view+json": {
       "model_id": "13e4b8a46aa04c0f886bf8cef53da066",
       "version_major": 2,
       "version_minor": 0
      },
      "text/plain": [
       "RecipeTile(children=[RecipeView(attributes={'_metadata': 'recipe_tile'}, children=[AlertDialog(children=[Card(…"
      ]
     },
     "execution_count": 5,
     "metadata": {},
     "output_type": "execute_result"
    }
   ],
   "source": [
    "recipe_tile"
   ]
  },
  {
   "cell_type": "code",
   "execution_count": 6,
   "metadata": {},
   "outputs": [
    {
     "data": {
      "application/vnd.jupyter.widget-view+json": {
       "model_id": "bfb994a185954dc2ab8b273b55d90b00",
       "version_major": 2,
       "version_minor": 0
      },
      "text/plain": [
       "AoiTile(class_='d-block custom_map', layout=None)"
      ]
     },
     "execution_count": 6,
     "metadata": {},
     "output_type": "execute_result"
    }
   ],
   "source": [
    "    aoi_tile"
   ]
  },
  {
   "cell_type": "code",
   "execution_count": 7,
   "metadata": {},
   "outputs": [
    {
     "data": {
      "application/vnd.jupyter.widget-view+json": {
       "model_id": "c6fdadfe02b54290bcad02dc4b4a706c",
       "version_major": 2,
       "version_minor": 0
      },
      "text/plain": [
       "QuestionnaireTile(class_='d-block', layout=None)"
      ]
     },
     "execution_count": 7,
     "metadata": {},
     "output_type": "execute_result"
    }
   ],
   "source": [
    "questionnaire_tile"
   ]
  },
  {
   "cell_type": "code",
   "execution_count": 8,
   "metadata": {},
   "outputs": [
    {
     "data": {
      "application/vnd.jupyter.widget-view+json": {
       "model_id": "b170e6b86158428882a70b5cda14cd6f",
       "version_major": 2,
       "version_minor": 0
      },
      "text/plain": [
       "MapTile(class_='d-block custom_map', layout=None)"
      ]
     },
     "execution_count": 8,
     "metadata": {},
     "output_type": "execute_result"
    }
   ],
   "source": [
    "map_tile"
   ]
  },
  {
   "cell_type": "code",
   "execution_count": 9,
   "metadata": {},
   "outputs": [
    {
     "data": {
      "application/vnd.jupyter.widget-view+json": {
       "model_id": "780d53f7e5844b9a9c0adbc331ad1cd0",
       "version_major": 2,
       "version_minor": 0
      },
      "text/plain": [
       "DashboardTile(class_='d-block', layout=None)"
      ]
     },
     "execution_count": 9,
     "metadata": {},
     "output_type": "execute_result"
    },
    {
     "name": "stdout",
     "output_type": "stream",
     "text": [
      "setting rows\n",
      "new IDs\n",
      "setting rows\n",
      "new IDs\n",
      "theres no aoi\n",
      "setting rows\n",
      "new IDs\n"
     ]
    }
   ],
   "source": [
    "dashboard_tile"
   ]
  }
 ],
 "metadata": {
  "kernelspec": {
   "display_name": "(test) test-se",
   "language": "python",
   "name": "test-se"
  },
  "language_info": {
   "codemirror_mode": {
    "name": "ipython",
    "version": 3
   },
   "file_extension": ".py",
   "mimetype": "text/x-python",
   "name": "python",
   "nbconvert_exporter": "python",
   "pygments_lexer": "ipython3",
   "version": "3.10.12"
  }
 },
 "nbformat": 4,
 "nbformat_minor": 4
}
