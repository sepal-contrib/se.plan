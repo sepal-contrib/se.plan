{
 "cells": [
  {
   "cell_type": "markdown",
   "id": "8a440b33-4ae9-4b44-a096-6ef79614b03f",
   "metadata": {},
   "source": [
    "# SE.PLAN advanced usage"
   ]
  },
  {
   "cell_type": "code",
   "execution_count": null,
   "id": "4093d0fb-b2e4-4ebd-a8df-9841cb2ec703",
   "metadata": {},
   "outputs": [],
   "source": [
    "%load_ext autoreload\n",
    "%autoreload 2"
   ]
  },
  {
   "cell_type": "markdown",
   "id": "12f59fe0-3f3e-48fe-9fd2-7ddd9dda3918",
   "metadata": {},
   "source": [
    "### Import neccessary packages"
   ]
  },
  {
   "cell_type": "code",
   "execution_count": null,
   "id": "6e364e28-8f58-41d3-aeb4-f31b5b30d55c",
   "metadata": {},
   "outputs": [],
   "source": [
    "from component.model.recipe import Recipe\n",
    "from component.scripts.seplan import reduce_constraints\n",
    "from component.tile.custom_aoi_tile import AoiTile\n",
    "from component.tile.dashboard_tile import DashboardTile\n",
    "from component.widget.alert_state import AlertState\n",
    "from component.scripts.statistics import parse_theme_stats, get_summary_statistics\n",
    "from component import parameter as cp\n",
    "from sepal_ui.mapping import SepalMap\n",
    "from sepal_ui.scripts.utils import init_ee\n",
    "init_ee()"
   ]
  },
  {
   "cell_type": "code",
   "execution_count": null,
   "id": "1264a877-8151-48ff-adf3-88e4cda165d0",
   "metadata": {},
   "outputs": [],
   "source": [
    "# Load a previously created recipe\n",
    "recipe = Recipe()\n",
    "recipe.load_model()\n",
    "# Set the fullpath of the recipe\n",
    "recipe.load(\"/home/dguerrero/module_results/se.plan/recipes/test_cundinamarca.json\") # Add full path of the recipe file\n",
    "recipe.seplan_aoi.aoi_model.set_object(); # we have to do this manually (just leave it there)\n",
    "aoi = recipe.seplan_aoi.aoi_model.feature_collection # And this as well"
   ]
  },
  {
   "cell_type": "code",
   "execution_count": null,
   "id": "f0ff8859-6de6-4cb3-8b30-60305636ce90",
   "metadata": {},
   "outputs": [],
   "source": [
    "# To display some alerts\n",
    "build_alert = AlertState()\n",
    "build_alert"
   ]
  },
  {
   "cell_type": "markdown",
   "id": "abcd06b8-ffd8-49f0-95cd-47320ca7d625",
   "metadata": {},
   "source": [
    "### Calculate layers"
   ]
  },
  {
   "cell_type": "code",
   "execution_count": null,
   "id": "9a979d8d-71b4-490f-b2cc-c0ae9a3876e5",
   "metadata": {},
   "outputs": [],
   "source": [
    "constraint_list = recipe.seplan.get_masked_constraints_list()\n",
    "constraint_layer = reduce_constraints(constraint_list)"
   ]
  },
  {
   "cell_type": "code",
   "execution_count": null,
   "id": "d27d4dc7-b0e5-4e59-b5a5-f617bc454935",
   "metadata": {},
   "outputs": [],
   "source": [
    "suitability_index_layer = recipe.seplan.get_constraint_index()"
   ]
  },
  {
   "cell_type": "code",
   "execution_count": null,
   "id": "fcb1eeba-6554-4faa-b4f2-3f66b9362d3b",
   "metadata": {},
   "outputs": [],
   "source": [
    "benefit_cost_layer = recipe.seplan.get_benefit_cost_index()"
   ]
  },
  {
   "cell_type": "code",
   "execution_count": null,
   "id": "522eaedf-ef52-4d0c-8dd8-a88c3882e4cc",
   "metadata": {},
   "outputs": [],
   "source": [
    "benefit_index_layer = recipe.seplan.get_benefit_index()"
   ]
  },
  {
   "cell_type": "markdown",
   "id": "c6b78ca8-4fbf-49a6-bcc9-37d90c31d2a0",
   "metadata": {},
   "source": [
    "## Display layers"
   ]
  },
  {
   "cell_type": "markdown",
   "id": "e76c52c8-402f-4157-a964-65d7b8934926",
   "metadata": {},
   "source": [
    "## Create a map"
   ]
  },
  {
   "cell_type": "code",
   "execution_count": null,
   "id": "2f3d3f9e-005d-4bc6-a2e3-bbc72665a724",
   "metadata": {},
   "outputs": [],
   "source": [
    "from sepal_ui import color\n",
    "color._dark_theme = True # Or flase "
   ]
  },
  {
   "cell_type": "code",
   "execution_count": null,
   "id": "f12461fb-0a7b-474e-899f-c20da1539934",
   "metadata": {},
   "outputs": [],
   "source": [
    "map_ = SepalMap()\n",
    "map_"
   ]
  },
  {
   "cell_type": "markdown",
   "id": "65fec1aa-a905-43d0-9ebe-352f1c934ce9",
   "metadata": {},
   "source": [
    "### Add layers to the map"
   ]
  },
  {
   "cell_type": "code",
   "execution_count": null,
   "id": "2c686937-0e0b-43ab-a137-9ef5e94994c9",
   "metadata": {},
   "outputs": [],
   "source": [
    "# Center the map in our area of interest (AOI)\n",
    "map_.centerObject(aoi);"
   ]
  },
  {
   "cell_type": "code",
   "execution_count": null,
   "id": "b22b8b96-3249-40ed-94d7-63e1b75207f4",
   "metadata": {},
   "outputs": [],
   "source": [
    "map_.addLayer(suitability_index_layer.unmask(0).clip(aoi), cp.layer_vis, \"Suitability Layer\")"
   ]
  },
  {
   "cell_type": "code",
   "execution_count": null,
   "id": "66e9ac31-8e40-4ec4-b84b-031254837f42",
   "metadata": {},
   "outputs": [],
   "source": [
    "map_.addLayer(constraint_layer.unmask(0).clip(aoi), cp.layer_vis, \"Constraints Layer\")"
   ]
  },
  {
   "cell_type": "code",
   "execution_count": null,
   "id": "7a05f0e3-5893-449c-b191-24decc1c8384",
   "metadata": {},
   "outputs": [],
   "source": [
    "map_.addLayer(benefit_cost_layer.unmask(0).clip(aoi), cp.layer_vis, \"Benefit/cost Layer\")"
   ]
  },
  {
   "cell_type": "code",
   "execution_count": null,
   "id": "66825306-fa8a-44ce-b148-e6bc368b1e6d",
   "metadata": {},
   "outputs": [],
   "source": [
    "map_.addLayer(benefit_index_layer.unmask(0).clip(aoi), cp.layer_vis, \"Benefit/cost Layer\")"
   ]
  },
  {
   "cell_type": "markdown",
   "id": "21b9bec0-e26e-464b-ab3b-d1a3bc1eef6c",
   "metadata": {},
   "source": [
    "## Calculate basic statistics"
   ]
  },
  {
   "cell_type": "code",
   "execution_count": null,
   "id": "4698e022-3b38-491f-b043-d42b4535d763",
   "metadata": {},
   "outputs": [],
   "source": [
    "summary_stats = get_summary_statistics(recipe.seplan)\n",
    "summary_stats"
   ]
  },
  {
   "cell_type": "markdown",
   "id": "b6828587-22f9-4e72-b707-771ac0b11111",
   "metadata": {},
   "source": [
    "## Use GEE API to perform any type of additional analysis.\n",
    "\n",
    "- Calculate different statistics\n",
    "- Compare layers\n",
    "- Compare layers from different areas/scenarios"
   ]
  },
  {
   "cell_type": "code",
   "execution_count": null,
   "id": "faf0797b-402a-4727-bb57-dac257b6808d",
   "metadata": {},
   "outputs": [],
   "source": [
    "# Load a previously created recipe\n",
    "recipe_thailand = Recipe()\n",
    "recipe_thailand.load_model()\n",
    "# Set the fullpath of the recipe\n",
    "recipe_thailand.load(\"/home/dguerrero/module_results/se.plan/recipes/thailand_recipe.json\") # Add full path of the recipe file\n",
    "recipe_thailand.seplan_aoi.aoi_model.set_object(); # we have to do this manually (just leave it there)\n",
    "aoi = recipe_thailand.seplan_aoi.aoi_model.feature_collection # And this as well"
   ]
  },
  {
   "cell_type": "code",
   "execution_count": null,
   "id": "066ff28c-3532-4676-9f0c-dd381fc22c50",
   "metadata": {},
   "outputs": [],
   "source": [
    "# Load a previously created recipe\n",
    "recipe_indonesia = Recipe()\n",
    "recipe_indonesia.load_model()\n",
    "# Set the fullpath of the recipe\n",
    "recipe_indonesia.load(\"/home/dguerrero/module_results/se.plan/recipes/indonesia_recipe.json\") # Add full path of the recipe file\n",
    "recipe_indonesia.seplan_aoi.aoi_model.set_object(); # we have to do this manually (just leave it there)\n",
    "aoi = recipe_indonesia.seplan_aoi.aoi_model.feature_collection # And this as well"
   ]
  }
 ],
 "metadata": {
  "kernelspec": {
   "display_name": "(test) test-se.plan",
   "language": "python",
   "name": "test-se.plan"
  },
  "language_info": {
   "codemirror_mode": {
    "name": "ipython",
    "version": 3
   },
   "file_extension": ".py",
   "mimetype": "text/x-python",
   "name": "python",
   "nbconvert_exporter": "python",
   "pygments_lexer": "ipython3",
   "version": "3.10.12"
  }
 },
 "nbformat": 4,
 "nbformat_minor": 5
}
