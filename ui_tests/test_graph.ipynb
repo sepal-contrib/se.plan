{
 "cells": [
  {
   "cell_type": "code",
   "execution_count": 1,
   "metadata": {
    "extensions": {
     "jupyter_dashboards": {
      "activeView": "grid_default",
      "views": {
       "grid_default": {
        "col": null,
        "height": 2,
        "hidden": true,
        "locked": true,
        "row": null,
        "width": 2
       }
      }
     }
    }
   },
   "outputs": [],
   "source": [
    "%load_ext autoreload\n",
    "%autoreload 2dsafdasf"
   ]
  },
  {
   "cell_type": "code",
   "execution_count": 2,
   "metadata": {
    "editable": true,
    "extensions": {
     "jupyter_dashboards": {
      "activeView": "grid_default",
      "views": {
       "grid_default": {
        "col": null,
        "height": 2,
        "hidden": true,
        "locked": true,
        "row": null,
        "width": 2
       }
      }
     }
    },
    "slideshow": {
     "slide_type": ""
    },
    "tags": []
   },
   "outputs": [],
   "source": [
    "import syssdf\n",
    "sys.path.append(\"../\")adsas"
   ]
  },
  {
   "cell_type": "code",
   "execution_count": 20,
   "metadata": {
    "extensions": {
     "jupyter_dashboards": {
      "activeView": "grid_default",
      "views": {
       "grid_default": {
        "col": 1,
        "height": 13,
        "hidden": true,
        "locked": true,
        "row": 17,
        "width": 7
       }
      }
     }
    }
   },
   "outputs": [
    {
     "data": {
      "application/vnd.jupyter.widget-view+json": {
       "model_id": "ec453d681a4945f3868c43b23dc1a368",
       "version_major": 2,
       "version_minor": 0
      },
      "text/plain": [
       "EChartsRawWidget(option={'tooltip': {'trigger': 'axis', 'axisPointer': {'type': 'shadow'}}, 'legend': {'data':…"
      ]
     },
     "execution_count": 20,
     "metadata": {},
     "output_type": "execute_result"
    }
   ],
   "source": [
    "from ipecharts import EChartsRawWidget\n",
    "\n",
    "suitability_chart_green = suitability_chart_secondary_axis = {\n",
    "    'tooltip': {\n",
    "        'trigger': 'axis',\n",
    "        'axisPointer': {\n",
    "            'type': 'shadow'\n",
    "        }\n",
    "    },\n",
    "    'legend': {\n",
    "        'data': ['Very Low', 'Low', 'Medium', 'High', 'Very High', 'Unsuitable land']\n",
    "    },\n",
    "    'xAxis': {\n",
    "        'type': 'category',\n",
    "        'data': ['MMR', 'Custom_MMR_Bago__E_', 'Custom_MMR_Kachin']\n",
    "    },\n",
    "    'yAxis': [\n",
    "        {\n",
    "            'type': 'value',\n",
    "            'name': 'Surface Area (ha)',\n",
    "            'min': 0,\n",
    "            'max': 400000,\n",
    "            'position': 'left',\n",
    "            'axisLine': {\n",
    "                'lineStyle': {'color': '#5793f3'}\n",
    "            }\n",
    "        },\n",
    "        {\n",
    "            'type': 'value',\n",
    "            'name': 'Unsuitable land (ha)',\n",
    "            'min': 0,\n",
    "            'max': 70000000,\n",
    "            'position': 'right',\n",
    "            'axisLine': {\n",
    "                'lineStyle': {'color': '#999'}\n",
    "            }\n",
    "        }\n",
    "    ],\n",
    "    'series': [\n",
    "        {\n",
    "            'name': 'Very Low',\n",
    "            'type': 'bar',\n",
    "            'stack': 'Total',\n",
    "            'data': [143611.9, 299.7, 58969.2],\n",
    "            'itemStyle': {'color': '#d0f0c0'}\n",
    "        },\n",
    "        {\n",
    "            'name': 'Low',\n",
    "            'type': 'bar',\n",
    "            'stack': 'Total',\n",
    "            'data': [204588.7, 2326.8, 145040.8],\n",
    "            'itemStyle': {'color': '#a2d56e'}\n",
    "        },\n",
    "        {\n",
    "            'name': 'Medium',\n",
    "            'type': 'bar',\n",
    "            'stack': 'Total',\n",
    "            'data': [171616.0, 0, 144095.7],\n",
    "            'itemStyle': {'color': '#78b045'}\n",
    "        },\n",
    "        {\n",
    "            'name': 'High',\n",
    "            'type': 'bar',\n",
    "            'stack': 'Total',\n",
    "            'data': [333275.9, 4812.0, 157174.9],\n",
    "            'itemStyle': {'color': '#5f9335'}\n",
    "        },\n",
    "        {\n",
    "            'name': 'Very High',\n",
    "            'type': 'bar',\n",
    "            'stack': 'Total',\n",
    "            'data': [96180.8, 6427.9, 17372.5],\n",
    "            'itemStyle': {'color': '#426b25'}\n",
    "        },\n",
    "        {\n",
    "            'name': 'Unsuitable land',\n",
    "            'type': 'bar',\n",
    "            'yAxisIndex': 1,  # Using the secondary y-axis\n",
    "            'data': [65758960.2, 2355873.0, 8344454.1],\n",
    "            'itemStyle': {'color': '#999'}  # Gray color\n",
    "        }\n",
    "    ],\n",
    "    \"backgroundColor\": \"rgba(51,51,51,1)\"\n",
    "}\n",
    "\n",
    "\n",
    "char = EChartsRawWidget(option=suitability_chart_green)\n",
    "char"
   ]
  },
  {
   "cell_type": "code",
   "execution_count": 23,
   "metadata": {},
   "outputs": [
    {
     "data": {
      "application/vnd.jupyter.widget-view+json": {
       "model_id": "db47026c37af4e42974af8daa21c1f32",
       "version_major": 2,
       "version_minor": 0
      },
      "text/plain": [
       "EChartsRawWidget(option={'title': {'text': 'Suitability Categories Proportion', 'left': 'center'}, 'tooltip': …"
      ]
     },
     "execution_count": 23,
     "metadata": {},
     "output_type": "execute_result"
    }
   ],
   "source": [
    "safsdafdasf\n",
    "\n",
    "\n",
    "suitability_pie_chart = {\n",
    "    'title': {\n",
    "        'text': 'Suitability Categories Proportion',\n",
    "        'left': 'center'\n",
    "    },\n",
    "    'tooltip': {\n",
    "        'trigger': 'item',\n",
    "        'formatter': '{a} <br/>{b}: {c} ({d}%)'\n",
    "    },\n",
    "    'legend': {\n",
    "        'orient': 'vertical',\n",
    "        'left': 'right',\n",
    "        'data': ['Very Low', 'Low', 'Medium', 'High', 'Very High', 'Unsuitable land']\n",
    "    },\n",
    "    'series': [\n",
    "        {\n",
    "            'name': 'Suitability',\n",
    "            'type': 'pie',\n",
    "            'radius': '50%',\n",
    "            'data': [\n",
    "                {'value': 143611.9, 'name': 'Very Low', 'itemStyle': {'color': '#d0f0c0'}},  # Light green\n",
    "                {'value': 204588.7, 'name': 'Low', 'itemStyle': {'color': '#a2d56e'}},      # Medium green\n",
    "                {'value': 171616.0, 'name': 'Medium', 'itemStyle': {'color': '#78b045'}},   # Dark green\n",
    "                {'value': 333275.9, 'name': 'High', 'itemStyle': {'color': '#5f9335'}},     # Darker green\n",
    "                {'value': 96180.8, 'name': 'Very High', 'itemStyle': {'color': '#426b25'}}, # Deep green\n",
    "                {'value': 65758960.2, 'name': 'Unsuitable land', 'itemStyle': {'color': '#999'}, 'selected': True, 'selectedOffset': 20}  # Gray and exploded\n",
    "            ],\n",
    "            'emphasis': {\n",
    "                'itemStyle': {\n",
    "                    'shadowBlur': 10,\n",
    "                    'shadowOffsetX': 0,\n",
    "                    'shadowColor': 'rgba(0, 0, 0, 0.5)'\n",
    "                }\n",
    "            }\n",
    "        }\n",
    "    ]\n",
    "}\n",
    "\n",
    "char = EChartsRawWidget(option=suitability_pie_chart)\n",
    "char"
   ]
  },
  {
   "cell_type": "code",
   "execution_count": 18,
   "metadata": {},
   "outputs": [
    {
     "data": {
      "application/vnd.jupyter.widget-view+json": {
       "model_id": "7364fc9fc95d4ceb9960824f8298c696",
       "version_major": 2,
       "version_minor": 0
      },
      "text/plain": [
       "EChartsRawWidget(option={'title': {'text': 'Suitability Categories Proportion', 'left': 'center'}, 'tooltip': …"
      ]
     },
     "execution_count": 18,
     "metadata": {},
     "output_type": "execute_result"
    }
   ],
   "source": [
    "suitability_donut_chart = {\n",
    "    'title': {\n",
    "        'text': 'Suitability Categories Proportion',\n",
    "        'left': 'center'\n",
    "    },\n",
    "    'tooltip': {\n",
    "        'trigger': 'item',\n",
    "        'formatter': '{a} <br/>{b}: {c} ({d}%)'\n",
    "    },\n",
    "    'legend': {\n",
    "        'orient': 'vertical',\n",
    "        'left': 'left',\n",
    "        'data': ['Very Low', 'Low', 'Medium', 'High', 'Very High', 'Unsuitable land']\n",
    "    },\n",
    "    'series': [\n",
    "        {\n",
    "            'name': 'Suitability',\n",
    "            'type': 'pie',\n",
    "            'radius': ['40%', '70%'],  # Donut shape\n",
    "            'avoidLabelOverlap': False,\n",
    "            'data': [\n",
    "                {'value': 143611.9, 'name': 'Very Low', 'itemStyle': {'color': '#d0f0c0'}},  # Light green\n",
    "                {'value': 204588.7, 'name': 'Low', 'itemStyle': {'color': '#a2d56e'}},      # Medium green\n",
    "                {'value': 171616.0, 'name': 'Medium', 'itemStyle': {'color': '#78b045'}},   # Dark green\n",
    "                {'value': 333275.9, 'name': 'High', 'itemStyle': {'color': '#5f9335'}},     # Darker green\n",
    "                {'value': 96180.8, 'name': 'Very High', 'itemStyle': {'color': '#426b25'}}, # Deep green\n",
    "                {'value': 65758960.2, 'name': 'Unsuitable land', 'itemStyle': {'color': '#999'}, 'selected': True, 'selectedOffset': 20}  # Gray and exploded\n",
    "            ],\n",
    "            'emphasis': {\n",
    "                'itemStyle': {\n",
    "                    'shadowBlur': 10,\n",
    "                    'shadowOffsetX': 0,\n",
    "                    'shadowColor': 'rgba(0, 0, 0, 0.5)'\n",
    "                }\n",
    "            }\n",
    "        }\n",
    "    ]\n",
    "}\n",
    "\n",
    "char = EChartsRawWidget(option=suitability_donut_chart)\n",
    "char"
   ]
  },
  {
   "cell_type": "code",
   "execution_count": null,
   "metadata": {
    "extensions": {
     "jupyter_dashboards": {
      "activeView": "grid_default",
      "views": {
       "grid_default": {
        "col": null,
        "height": 2,
        "hidden": true,
        "locked": true,
        "row": null,
        "width": 2
       }
      }
     }
    }
   },
   "outputs": [],
   "source": [
    "from ipecharts import EChartsWidget\n",
    "from ipecharts.option import Option, XAxis, YAxis\n",
    "from ipecharts.option.series import Line\n",
    "\n",
    "line = Line(data=[820, 932, 901, 934, 1290, 1330, 1320], areaStyle={})\n",
    "background =   {\n",
    "\"color\": [\n",
    "  '#c23531',\n",
    "  '#2f4554',\n",
    "  '#61a0a8',\n",
    "  '#d48265',\n",
    "  '#91c7ae',\n",
    "  '#749f83',\n",
    "  '#ca8622',\n",
    "  '#bda29a',\n",
    "  '#6e7074',\n",
    "  '#546570',\n",
    "  '#c4ccd3'\n",
    "]}\n",
    "option = Option(\n",
    "      **background,\n",
    "    xAxis=XAxis(\n",
    "        type=\"category\",\n",
    "        boundaryGap=False,\n",
    "        data=[\"Mon\", \"Tue\", \"Wed\", \"Thu\", \"Fri\", \"Sat\", \"Sun\"],\n",
    "    ),\n",
    "    yAxis=YAxis(type=\"value\"),\n",
    "    series=[line],\n",
    ")\n",
    "widget = EChartsWidget(option=option)\n",
    "widget.on_widget_constructed(lambda *x: print(x))\n",
    "widget"
   ]
  },
  {
   "cell_type": "code",
   "execution_count": null,
   "metadata": {},
   "outputs": [],
   "source": [
    "option.backgroundColor = {}"
   ]
  },
  {
   "cell_type": "code",
   "execution_count": null,
   "metadata": {
    "extensions": {
     "jupyter_dashboards": {
      "activeView": "grid_default",
      "views": {
       "grid_default": {
        "col": null,
        "height": 2,
        "hidden": true,
        "locked": true,
        "row": null,
        "width": 2
       }
      }
     }
    }
   },
   "outputs": [],
   "source": [
    "widget.on_msg?"
   ]
  },
  {
   "cell_type": "code",
   "execution_count": null,
   "metadata": {
    "extensions": {
     "jupyter_dashboards": {
      "activeView": "grid_default",
      "views": {
       "grid_default": {
        "col": null,
        "height": 2,
        "hidden": true,
        "locked": true,
        "row": null,
        "width": 2
       }
      }
     }
    }
   },
   "outputs": [],
   "source": [
    "dir(widget)"
   ]
  },
  {
   "cell_type": "code",
   "execution_count": null,
   "metadata": {
    "extensions": {
     "jupyter_dashboards": {
      "activeView": "grid_default",
      "views": {
       "grid_default": {
        "col": null,
        "height": 2,
        "hidden": true,
        "locked": true,
        "row": null,
        "width": 2
       }
      }
     }
    }
   },
   "outputs": [],
   "source": [
    "dir(line)"
   ]
  },
  {
   "cell_type": "code",
   "execution_count": null,
   "metadata": {
    "extensions": {
     "jupyter_dashboards": {
      "activeView": "grid_default",
      "views": {
       "grid_default": {
        "col": null,
        "height": 2,
        "hidden": true,
        "locked": true,
        "row": null,
        "width": 2
       }
      }
     }
    }
   },
   "outputs": [],
   "source": [
    "line.data = sorted(line.data)"
   ]
  },
  {
   "cell_type": "code",
   "execution_count": null,
   "metadata": {
    "extensions": {
     "jupyter_dashboards": {
      "activeView": "grid_default",
      "views": {
       "grid_default": {
        "col": null,
        "height": 2,
        "hidden": true,
        "locked": true,
        "row": null,
        "width": 2
       }
      }
     }
    }
   },
   "outputs": [],
   "source": [
    "char.on(\"click\", lambda x: print(x))"
   ]
  },
  {
   "cell_type": "code",
   "execution_count": null,
   "metadata": {
    "extensions": {
     "jupyter_dashboards": {
      "activeView": "grid_default",
      "views": {
       "grid_default": {
        "col": 0,
        "height": 15,
        "hidden": true,
        "locked": true,
        "row": 1,
        "width": 9
       }
      }
     }
    }
   },
   "outputs": [],
   "source": [
    "biodiversity_scatter = {\n",
    "    'title': {\n",
    "        'text': 'Biodiversity Intactness vs Endangered Species'\n",
    "    },\n",
    "    'tooltip': {\n",
    "        'trigger': 'item',\n",
    "        'formatter': '{a} <br/>{b}: {c}'\n",
    "    },\n",
    "    'xAxis': {\n",
    "        'type': 'value',\n",
    "        'name': 'Biodiversity Intactness (%)'\n",
    "    },\n",
    "    'yAxis': {\n",
    "        'type': 'value',\n",
    "        'name': 'Endangered Species (number/km2)'\n",
    "    },\n",
    "    'series': [\n",
    "        {\n",
    "            'name': 'MMR',\n",
    "            'type': 'scatter',\n",
    "            'data': [[0.94, 25.99]]\n",
    "        },\n",
    "        {\n",
    "            'name': 'Custom_MMR_Bago__E_',\n",
    "            'type': 'scatter',\n",
    "            'data': [[1.04, 29.47]]\n",
    "        },\n",
    "        {\n",
    "            'name': 'Custom_MMR_Kachin',\n",
    "            'type': 'scatter',\n",
    "            'data': [[0.89, 23.93]]\n",
    "        }\n",
    "    ]\n",
    "}\n",
    "EChartsRawWidget(option=biodiversity_scatter)"
   ]
  },
  {
   "cell_type": "code",
   "execution_count": null,
   "metadata": {
    "extensions": {
     "jupyter_dashboards": {
      "activeView": "grid_default",
      "views": {
       "grid_default": {
        "col": null,
        "height": 2,
        "hidden": true,
        "locked": true,
        "row": null,
        "width": 2
       }
      }
     }
    }
   },
   "outputs": [],
   "source": [
    "cumulative_benefits = {\n",
    "    'title': {\n",
    "        'text': 'Cumulative Forest Restoration Benefits'\n",
    "    },\n",
    "    'tooltip': {\n",
    "        'trigger': 'axis'\n",
    "    },\n",
    "    'xAxis': {\n",
    "        'type': 'category',\n",
    "        'boundaryGap': False,\n",
    "        'data': ['MMR', 'Custom_MMR_Bago__E_', 'Custom_MMR_Kachin']\n",
    "    },\n",
    "    'yAxis': {\n",
    "        'type': 'value'\n",
    "    },\n",
    "    'series': [\n",
    "        {\n",
    "            'name': 'Ground Carbon',\n",
    "            'type': 'line',\n",
    "            'stack': 'Total',\n",
    "            'areaStyle': {},\n",
    "            'data': [79.36, 88.66, 79.29]\n",
    "        },\n",
    "        {\n",
    "            'name': 'Forest Jobs',\n",
    "            'type': 'line',\n",
    "            'stack': 'Total',\n",
    "            'areaStyle': {},\n",
    "            'data': [0.009, 0.018, 0.007]\n",
    "        },\n",
    "        {\n",
    "            'name': 'Woodfuel Harvest',\n",
    "            'type': 'line',\n",
    "            'stack': 'Total',\n",
    "            'areaStyle': {},\n",
    "            'data': [0.78, 1.57, 0.53]\n",
    "        }\n",
    "    ]\n",
    "}\n",
    "EChartsRawWidget(option=cumulative_benefits)"
   ]
  },
  {
   "cell_type": "code",
   "execution_count": null,
   "metadata": {
    "extensions": {
     "jupyter_dashboards": {
      "activeView": "grid_default",
      "views": {
       "grid_default": {
        "col": null,
        "height": 2,
        "hidden": true,
        "locked": true,
        "row": null,
        "width": 2
       }
      }
     }
    }
   },
   "outputs": [],
   "source": [
    "gauge_chart = {\n",
    "    'title': {\n",
    "        'text': 'Restoration Potential Gauge'\n",
    "    },\n",
    "    'tooltip': {\n",
    "        'formatter': '{a} <br/>{b}: {c}%'\n",
    "    },\n",
    "    'series': [\n",
    "        {\n",
    "            'name': 'Restoration Potential',\n",
    "            'type': 'gauge',\n",
    "            'detail': {'formatter': '{value}%'},\n",
    "            'data': [{'value': 56, 'name': 'MMR'}]\n",
    "        },\n",
    "        {\n",
    "            'name': 'Restoration Potential',\n",
    "            'type': 'gauge',\n",
    "            'detail': {'formatter': '{value}%'},\n",
    "            'data': [{'value': 62, 'name': 'Custom_MMR_Bago__E_'}]\n",
    "        },\n",
    "        {\n",
    "            'name': 'Restoration Potential',\n",
    "            'type': 'gauge',\n",
    "            'detail': {'formatter': '{value}%'},\n",
    "            'data': [{'value': 45, 'name': 'Custom_MMR_Kachin'}]\n",
    "        }\n",
    "    ]\n",
    "}\n",
    "EChartsRawWidget(option=gauge_chart)"
   ]
  },
  {
   "cell_type": "code",
   "execution_count": null,
   "metadata": {
    "extensions": {
     "jupyter_dashboards": {
      "activeView": "grid_default",
      "views": {
       "grid_default": {
        "col": null,
        "height": 2,
        "hidden": true,
        "locked": true,
        "row": null,
        "width": 2
       }
      }
     }
    }
   },
   "outputs": [],
   "source": [
    "pie_chart = {\n",
    "    'title': {\n",
    "        'text': 'Suitability Summary'\n",
    "    },\n",
    "    'tooltip': {\n",
    "        'trigger': 'item',\n",
    "        'formatter': '{a} <br/>{b}: {c} ({d}%)'\n",
    "    },\n",
    "    'legend': {\n",
    "        'orient': 'vertical',\n",
    "        'left': 'left',\n",
    "        'data': ['Very Low', 'Low', 'Medium', 'High', 'Very High', 'Unsuitable land']\n",
    "    },\n",
    "    'series': [\n",
    "        {\n",
    "            'name': 'Suitability',\n",
    "            'type': 'pie',\n",
    "            'radius': '50%',\n",
    "            'data': [\n",
    "                {'value': 143611.9, 'name': 'Very Low'},\n",
    "                {'value': 204588.7, 'name': 'Low'},\n",
    "                {'value': 171616.0, 'name': 'Medium'},\n",
    "                {'value': 333275.9, 'name': 'High'},\n",
    "                {'value': 96180.8, 'name': 'Very High'},\n",
    "                {'value': 65758960.2, 'name': 'Unsuitable land'}\n",
    "            ],\n",
    "            'emphasis': {\n",
    "                'itemStyle': {\n",
    "                    'shadowBlur': 10,\n",
    "                    'shadowOffsetX': 0,\n",
    "                    'shadowColor': 'rgba(0, 0, 0, 0.5)'\n",
    "                }\n",
    "            }\n",
    "        }\n",
    "    ]\n",
    "}\n",
    "EChartsRawWidget(option=pie_chart)"
   ]
  },
  {
   "cell_type": "code",
   "execution_count": null,
   "metadata": {},
   "outputs": [],
   "source": []
  }
 ],
 "metadata": {
  "extensions": {
   "jupyter_dashboards": {
    "activeView": "grid_default",
    "version": 1,
    "views": {
     "grid_default": {
      "cellMargin": 2,
      "defaultCellHeight": 40,
      "maxColumns": 12,
      "name": "grid",
      "type": "grid"
     }
    }
   }
  },
  "kernelspec": {
   "display_name": "Python 3 (ipykernel)",
   "language": "python",
   "name": "python3"
  },
  "language_info": {
   "codemirror_mode": {
    "name": "ipython",
    "version": 3
   },
   "file_extension": ".py",
   "mimetype": "text/x-python",
   "name": "python",
   "nbconvert_exporter": "python",
   "pygments_lexer": "ipython3",
   "version": "3.10.14"
  }
 },
 "nbformat": 4,
 "nbformat_minor": 4
}
