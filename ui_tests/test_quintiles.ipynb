{
 "cells": [
  {
   "cell_type": "code",
   "execution_count": 35,
   "metadata": {},
   "outputs": [
    {
     "name": "stdout",
     "output_type": "stream",
     "text": [
      "The autoreload extension is already loaded. To reload it, use:\n",
      "  %reload_ext autoreload\n"
     ]
    }
   ],
   "source": [
    "%load_ext autoreload\n",
    "%autoreload 2"
   ]
  },
  {
   "cell_type": "code",
   "execution_count": 36,
   "metadata": {},
   "outputs": [],
   "source": [
    "from component.model import BenefitModel\n",
    "from component.model import ConstraintModel\n",
    "from component.model import CostModel\n",
    "from component.model import SeplanAoi\n",
    "\n",
    "from component.scripts.seplan import Seplan\n",
    "\n",
    "\n",
    "from sepal_ui.mapping import SepalMap, InspectorControl\n",
    "from component.scripts.seplan import _percentile"
   ]
  },
  {
   "cell_type": "code",
   "execution_count": 37,
   "metadata": {},
   "outputs": [],
   "source": [
    "seplan_aoi = SeplanAoi(aoi_model=None)\n",
    "benefit_model = BenefitModel()\n",
    "constraint_model = ConstraintModel()\n",
    "cost_model = CostModel()\n",
    "seplan_model = Seplan(\n",
    "    seplan_aoi,\n",
    "    benefit_model,\n",
    "    constraint_model,\n",
    "    cost_model,\n",
    ")"
   ]
  },
  {
   "cell_type": "code",
   "execution_count": 38,
   "metadata": {},
   "outputs": [],
   "source": [
    "import ee\n",
    "\n",
    "ee.Initialize()"
   ]
  },
  {
   "cell_type": "code",
   "execution_count": 39,
   "metadata": {},
   "outputs": [],
   "source": [
    "def _quintile(ee_image, ee_aoi, scale=100, name=\"layer_id\"):\n",
    "    \"\"\"use quintile normailzation\"\"\"\n",
    "\n",
    "    # test if the quintile list is valid\n",
    "    # if the all area benefits is masked then this list will be empty and the image should be replaced by 1 everywhere\n",
    "    # it can happen as the carbon sequestration layer has holes in south america and africa\n",
    "    if valid_quintiles.size().getInfo() == 0:\n",
    "        raise ValueError(\"cm.compute.error.missing_priority.format(name)\")\n",
    "\n",
    "    vaild_quintiles_list = valid_quintiles.toList(valid_quintiles.size())\n",
    "\n",
    "    def conditions(feature):\n",
    "        feature = ee.Feature(feature)\n",
    "\n",
    "        quintiles = ee.Image().byte()\n",
    "        quintiles = quintiles.paint(ee.FeatureCollection(feature), 0)\n",
    "\n",
    "        low = ee.Number(feature.get(\"low\"))\n",
    "        lowmed = ee.Number(feature.get(\"lowmed\"))\n",
    "        highmed = ee.Number(feature.get(\"highmed\"))\n",
    "        high = ee.Number(feature.get(\"high\"))\n",
    "\n",
    "        out = (\n",
    "            quintiles.where(ee_image.lte(low), 1)\n",
    "            .where(ee_image.gt(low).And(ee_image.lte(lowmed)), 2)\n",
    "            .where(ee_image.gt(lowmed).And(ee_image.lte(highmed)), 3)\n",
    "            .where(ee_image.gt(highmed).And(ee_image.lte(high)), 4)\n",
    "            .where(ee_image.gt(high), 5)\n",
    "        )\n",
    "\n",
    "        return out\n",
    "\n",
    "    return ee.ImageCollection(vaild_quintiles_list.map(conditions)).mosaic()"
   ]
  },
  {
   "cell_type": "code",
   "execution_count": 41,
   "metadata": {},
   "outputs": [],
   "source": [
    "# Caluclate quintiles for all default assets on benefits\n",
    "\n",
    "benefits = [ee.Image(benefit_id) for benefit_id in seplan_model.benefit_model.assets]"
   ]
  },
  {
   "cell_type": "markdown",
   "metadata": {},
   "source": [
    "## Define variables\n"
   ]
  },
  {
   "cell_type": "code",
   "execution_count": 42,
   "metadata": {},
   "outputs": [],
   "source": [
    "ee_image = ee.Image(benefits[0])\n",
    "ee_aoi = seplan_aoi.feature_collection\n",
    "scale = ee_image.projection().nominalScale().multiply(2)"
   ]
  },
  {
   "cell_type": "markdown",
   "metadata": {},
   "source": [
    "## Test with reduceRegion\n"
   ]
  },
  {
   "cell_type": "code",
   "execution_count": 43,
   "metadata": {},
   "outputs": [],
   "source": [
    "band_name = ee.String(ee_image.bandNames().get(0))\n",
    "quintiles_dict = ee_image.reduceRegion(\n",
    "    reducer=ee.Reducer.percentile(percentiles=[20, 40, 60, 80]),\n",
    "    geometry=ee_aoi,\n",
    "    tileScale=2,\n",
    "    scale=scale,\n",
    "    maxPixels=1e13,\n",
    ")"
   ]
  },
  {
   "cell_type": "code",
   "execution_count": 44,
   "metadata": {},
   "outputs": [],
   "source": [
    "quintiles_names = ee.List([\"p20\", \"p40\", \"p60\", \"p80\"]).map(\n",
    "    lambda quintile_name: band_name.cat(\"_\").cat(ee.String(quintile_name))\n",
    ")"
   ]
  },
  {
   "cell_type": "code",
   "execution_count": 46,
   "metadata": {},
   "outputs": [
    {
     "data": {
      "text/plain": [
       "<ee.ee_list.List at 0x7f9fe02c77c0>"
      ]
     },
     "execution_count": 46,
     "metadata": {},
     "output_type": "execute_result"
    }
   ],
   "source": [
    "quintiles_names"
   ]
  },
  {
   "cell_type": "code",
   "execution_count": 45,
   "metadata": {},
   "outputs": [
    {
     "ename": "TypeError",
     "evalue": "the JSON object must be str, bytes or bytearray, not List",
     "output_type": "error",
     "traceback": [
      "\u001b[0;31m---------------------------------------------------------------------------\u001b[0m",
      "\u001b[0;31mTypeError\u001b[0m                                 Traceback (most recent call last)",
      "Cell \u001b[0;32mIn[45], line 2\u001b[0m\n\u001b[1;32m      1\u001b[0m \u001b[39mimport\u001b[39;00m \u001b[39mjson\u001b[39;00m\n\u001b[0;32m----> 2\u001b[0m json\u001b[39m.\u001b[39;49mloads(quintiles_names)\n",
      "File \u001b[0;32m/usr/lib/python3.10/json/__init__.py:339\u001b[0m, in \u001b[0;36mloads\u001b[0;34m(s, cls, object_hook, parse_float, parse_int, parse_constant, object_pairs_hook, **kw)\u001b[0m\n\u001b[1;32m    337\u001b[0m \u001b[39melse\u001b[39;00m:\n\u001b[1;32m    338\u001b[0m     \u001b[39mif\u001b[39;00m \u001b[39mnot\u001b[39;00m \u001b[39misinstance\u001b[39m(s, (\u001b[39mbytes\u001b[39m, \u001b[39mbytearray\u001b[39m)):\n\u001b[0;32m--> 339\u001b[0m         \u001b[39mraise\u001b[39;00m \u001b[39mTypeError\u001b[39;00m(\u001b[39mf\u001b[39m\u001b[39m'\u001b[39m\u001b[39mthe JSON object must be str, bytes or bytearray, \u001b[39m\u001b[39m'\u001b[39m\n\u001b[1;32m    340\u001b[0m                         \u001b[39mf\u001b[39m\u001b[39m'\u001b[39m\u001b[39mnot \u001b[39m\u001b[39m{\u001b[39;00ms\u001b[39m.\u001b[39m\u001b[39m__class__\u001b[39m\u001b[39m.\u001b[39m\u001b[39m__name__\u001b[39m\u001b[39m}\u001b[39;00m\u001b[39m'\u001b[39m)\n\u001b[1;32m    341\u001b[0m     s \u001b[39m=\u001b[39m s\u001b[39m.\u001b[39mdecode(detect_encoding(s), \u001b[39m'\u001b[39m\u001b[39msurrogatepass\u001b[39m\u001b[39m'\u001b[39m)\n\u001b[1;32m    343\u001b[0m \u001b[39mif\u001b[39;00m (\u001b[39mcls\u001b[39m \u001b[39mis\u001b[39;00m \u001b[39mNone\u001b[39;00m \u001b[39mand\u001b[39;00m object_hook \u001b[39mis\u001b[39;00m \u001b[39mNone\u001b[39;00m \u001b[39mand\u001b[39;00m\n\u001b[1;32m    344\u001b[0m         parse_int \u001b[39mis\u001b[39;00m \u001b[39mNone\u001b[39;00m \u001b[39mand\u001b[39;00m parse_float \u001b[39mis\u001b[39;00m \u001b[39mNone\u001b[39;00m \u001b[39mand\u001b[39;00m\n\u001b[1;32m    345\u001b[0m         parse_constant \u001b[39mis\u001b[39;00m \u001b[39mNone\u001b[39;00m \u001b[39mand\u001b[39;00m object_pairs_hook \u001b[39mis\u001b[39;00m \u001b[39mNone\u001b[39;00m \u001b[39mand\u001b[39;00m \u001b[39mnot\u001b[39;00m kw):\n",
      "\u001b[0;31mTypeError\u001b[0m: the JSON object must be str, bytes or bytearray, not List"
     ]
    }
   ],
   "source": [
    "import json\n",
    "\n",
    "json.loads(quintiles_names)"
   ]
  },
  {
   "cell_type": "markdown",
   "metadata": {},
   "source": [
    "### Reclassify quintiles\n"
   ]
  },
  {
   "cell_type": "code",
   "execution_count": 32,
   "metadata": {},
   "outputs": [],
   "source": [
    "low = ee.Number(quintiles_dict.get(quintiles_names.get(0)))\n",
    "lowmed = ee.Number(quintiles_dict.get(quintiles_names.get(1)))\n",
    "highmed = ee.Number(quintiles_dict.get(quintiles_names.get(2)))\n",
    "high = ee.Number(quintiles_dict.get(quintiles_names.get(3)))"
   ]
  },
  {
   "cell_type": "code",
   "execution_count": 33,
   "metadata": {},
   "outputs": [],
   "source": [
    "quintiles = (\n",
    "    ee.Image(0)\n",
    "    .where(ee_image.lte(low), 1)\n",
    "    .where(ee_image.gt(low).And(ee_image.lte(lowmed)), 2)\n",
    "    .where(ee_image.gt(lowmed).And(ee_image.lte(highmed)), 3)\n",
    "    .where(ee_image.gt(highmed).And(ee_image.lte(high)), 4)\n",
    "    .where(ee_image.gt(high), 5)\n",
    ")"
   ]
  },
  {
   "cell_type": "code",
   "execution_count": 34,
   "metadata": {},
   "outputs": [
    {
     "data": {
      "text/plain": [
       "{'type': 'Image',\n",
       " 'bands': [{'id': 'constant',\n",
       "   'data_type': {'type': 'PixelType', 'precision': 'int', 'min': 0, 'max': 5},\n",
       "   'crs': 'EPSG:4326',\n",
       "   'crs_transform': [1, 0, 0, 0, 1, 0]}]}"
      ]
     },
     "execution_count": 34,
     "metadata": {},
     "output_type": "execute_result"
    }
   ],
   "source": [
    "quintiles.getInfo()"
   ]
  },
  {
   "cell_type": "markdown",
   "metadata": {},
   "source": [
    "## Test with reduceRegionS\n"
   ]
  },
  {
   "cell_type": "code",
   "execution_count": 8,
   "metadata": {},
   "outputs": [],
   "source": [
    "from sepal_ui.mapping import SepalMap\n",
    "\n",
    "map_ = SepalMap()"
   ]
  },
  {
   "cell_type": "code",
   "execution_count": 11,
   "metadata": {},
   "outputs": [
    {
     "data": {
      "application/vnd.jupyter.widget-view+json": {
       "model_id": "180c0f76f20c48b6a60e4dbb5ce9f4fb",
       "version_major": 2,
       "version_minor": 0
      },
      "text/plain": [
       "SepalMap(bottom=8519.0, center=[-2.7943488256019813, 58.29159111795809], controls=(ZoomControl(options=['posit…"
      ]
     },
     "metadata": {},
     "output_type": "display_data"
    }
   ],
   "source": [
    "map_.add_ee_layer(ee_aoi)\n",
    "map_.centerObject(ee_aoi)\n",
    "map_"
   ]
  },
  {
   "cell_type": "code",
   "execution_count": 12,
   "metadata": {},
   "outputs": [
    {
     "data": {
      "text/plain": [
       "1"
      ]
     },
     "execution_count": 12,
     "metadata": {},
     "output_type": "execute_result"
    }
   ],
   "source": [
    "# get the number of features of the ee_aoi\n",
    "\n",
    "ee_aoi.size().getInfo()"
   ]
  },
  {
   "cell_type": "code",
   "execution_count": 13,
   "metadata": {},
   "outputs": [],
   "source": [
    "quintile_collection = ee_image.reduceRegions(\n",
    "    collection=ee_aoi,\n",
    "    reducer=ee.Reducer.percentile(\n",
    "        percentiles=[20, 40, 60, 80],\n",
    "        outputNames=[\"low\", \"lowmed\", \"highmed\", \"high\"],\n",
    "    ),\n",
    "    tileScale=2,\n",
    "    scale=scale,\n",
    ")\n",
    "labels = [\"high\", \"low\", \"lowmed\", \"highmed\"]\n",
    "# only use features that have non null quintiles\n",
    "valid_quintiles = quintile_collection.filter(ee.Filter.notNull(labels))"
   ]
  },
  {
   "cell_type": "code",
   "execution_count": 14,
   "metadata": {},
   "outputs": [],
   "source": [
    "quintile_values = {}\n",
    "for f_id, feature in enumerate(valid_quintiles.getInfo()[\"features\"]):\n",
    "    quintile_values[f_id] = {}.setdefault(f_id, {})\n",
    "    for prop, val in feature[\"properties\"].items():\n",
    "        if prop in labels:\n",
    "            quintile_values[f_id][prop] = val"
   ]
  },
  {
   "cell_type": "code",
   "execution_count": 15,
   "metadata": {},
   "outputs": [
    {
     "data": {
      "text/plain": [
       "{0: {'high': 0.9585266642062268,\n",
       "  'highmed': 0.9514316618442535,\n",
       "  'low': 0.9237051010131836,\n",
       "  'lowmed': 0.9410230284915759}}"
      ]
     },
     "execution_count": 15,
     "metadata": {},
     "output_type": "execute_result"
    }
   ],
   "source": [
    "quintile_values"
   ]
  }
 ],
 "metadata": {
  "kernelspec": {
   "display_name": "seplan",
   "language": "python",
   "name": "seplan"
  },
  "language_info": {
   "codemirror_mode": {
    "name": "ipython",
    "version": 3
   },
   "file_extension": ".py",
   "mimetype": "text/x-python",
   "name": "python",
   "nbconvert_exporter": "python",
   "pygments_lexer": "ipython3",
   "version": "3.10.6"
  },
  "orig_nbformat": 4
 },
 "nbformat": 4,
 "nbformat_minor": 2
}
