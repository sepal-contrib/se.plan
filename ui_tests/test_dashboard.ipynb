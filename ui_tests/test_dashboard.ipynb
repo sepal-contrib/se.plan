{
 "cells": [
  {
   "cell_type": "code",
   "execution_count": null,
   "id": "4ca903f4-aeb9-44b9-8cd1-3bda3c1fe345",
   "metadata": {
    "tags": []
   },
   "outputs": [],
   "source": [
    "%load_ext autoreload\n",
    "%autoreload 2"
   ]
  },
  {
   "cell_type": "code",
   "execution_count": null,
   "id": "7a54cfc1-c0c5-44c9-8d34-3ffc7090bdaa",
   "metadata": {
    "tags": []
   },
   "outputs": [],
   "source": [
    "import sys\n",
    "sys.path.append(\"../\")\n",
    "from component.message import cm"
   ]
  },
  {
   "cell_type": "code",
   "execution_count": null,
   "id": "0002ab75-28f6-46a6-8fee-0c88ab0f9c5a",
   "metadata": {
    "tags": []
   },
   "outputs": [],
   "source": [
    "from component.model.recipe import Recipe\n",
    "from component.tile.custom_aoi_tile import AoiTile\n",
    "from component.tile.dashboard_tile import DashboardTile\n",
    "from component.widget.alert_state import AlertState\n",
    "\n",
    "from pathlib import Path\n",
    "import json\n",
    "from component.scripts.plots import get_individual_charts\n",
    "import ipyvuetify as v"
   ]
  },
  {
   "cell_type": "code",
   "execution_count": null,
   "id": "6da11f13-d15e-4f08-9d15-225eb74cfeeb",
   "metadata": {
    "tags": []
   },
   "outputs": [],
   "source": [
    "build_alert = AlertState()\n",
    "build_alert"
   ]
  },
  {
   "cell_type": "code",
   "execution_count": null,
   "id": "b95fe655-bdb6-479a-8605-e6344b064b72",
   "metadata": {
    "tags": []
   },
   "outputs": [],
   "source": [
    "build_alert"
   ]
  },
  {
   "cell_type": "code",
   "execution_count": null,
   "id": "ddc1a77c-9a32-4ecf-955b-c1440d223933",
   "metadata": {
    "tags": []
   },
   "outputs": [],
   "source": [
    "recipe = Recipe()"
   ]
  },
  {
   "cell_type": "code",
   "execution_count": null,
   "id": "19d0e7eb-b254-45d4-b707-571bf6dd3740",
   "metadata": {},
   "outputs": [],
   "source": [
    "# We need the AoiTile so it can create the SeplanAoi and will \n",
    "# set the feature collection in the model\n",
    "aoi_tile = AoiTile(recipe=recipe)"
   ]
  },
  {
   "cell_type": "code",
   "execution_count": null,
   "id": "3f9d81b9-ae09-4504-b1d4-44baf097591b",
   "metadata": {},
   "outputs": [],
   "source": [
    "recipe.load(\"/home/dguerrero/module_results/se.plan/recipes/Myanmar_example.json\")"
   ]
  },
  {
   "cell_type": "code",
   "execution_count": null,
   "id": "48992938-3095-4a90-b86d-782563ff9966",
   "metadata": {},
   "outputs": [],
   "source": [
    "dashboard_tile = DashboardTile(recipe=recipe)"
   ]
  },
  {
   "cell_type": "code",
   "execution_count": null,
   "id": "c36f0058-973b-4c8c-9226-61545b7a833c",
   "metadata": {},
   "outputs": [],
   "source": [
    "dashboard_tile.reset()\n",
    "dashboard_tile.summary_stats = json.loads(Path(\"data/summary_stats.json\").read_text())[\"results\"]"
   ]
  },
  {
   "cell_type": "code",
   "execution_count": null,
   "id": "1768479a-b288-48ad-af42-b0698d611727",
   "metadata": {},
   "outputs": [],
   "source": [
    "suitability_data = {area_name:data[\"suitability\"] for area_name, data in dashboard_tile.summary_stats.items()}\n",
    "# suitability_data"
   ]
  },
  {
   "cell_type": "code",
   "execution_count": null,
   "id": "b4f37dbf-ca8e-4905-8f14-bd7f4dba1926",
   "metadata": {
    "tags": []
   },
   "outputs": [],
   "source": [
    "dashboard_tile"
   ]
  },
  {
   "cell_type": "markdown",
   "id": "fa49ef5f-9530-41cf-87a9-97ed268f111e",
   "metadata": {},
   "source": [
    "# Test suitability chart"
   ]
  },
  {
   "cell_type": "code",
   "execution_count": 1,
   "id": "d6ae92c9-1375-4919-b812-4b53807fc954",
   "metadata": {},
   "outputs": [],
   "source": [
    "%load_ext autoreload\n",
    "%autoreload 2"
   ]
  },
  {
   "cell_type": "code",
   "execution_count": 2,
   "id": "3d42a828-bcbb-4a98-8587-fdfe9d05e9f1",
   "metadata": {},
   "outputs": [],
   "source": [
    "import sys\n",
    "sys.path.append(\"../\")"
   ]
  },
  {
   "cell_type": "code",
   "execution_count": 5,
   "id": "3b0de1e9-6723-42b5-a95e-7848da12a42c",
   "metadata": {},
   "outputs": [],
   "source": [
    "from component.scripts.plots import get_stacked_bars_chart, get_bars_chart, parse_layer_data, get_suitability_charts\n",
    "import json\n",
    "from component.widget.suitability_table import get_summary_table\n",
    "from pathlib import Path\n",
    "import ipyvuetify as v"
   ]
  },
  {
   "cell_type": "code",
   "execution_count": 6,
   "id": "3e0583b2-49e2-4c85-93b0-b8b73e53543f",
   "metadata": {},
   "outputs": [],
   "source": [
    "summary_stats = json.loads(Path(\"data/summary_stats_double.json\").read_text())[\"results\"]"
   ]
  },
  {
   "cell_type": "code",
   "execution_count": 7,
   "id": "5da72100-2f1b-48bd-b77b-3e3871fbdbd2",
   "metadata": {},
   "outputs": [],
   "source": [
    "summary_stats2 = json.loads(Path(\"data/summary_stats.json\").read_text())[\"results\"]"
   ]
  },
  {
   "cell_type": "code",
   "execution_count": 8,
   "id": "f27dd672-1cb2-4e52-a41f-5fb08d06a337",
   "metadata": {},
   "outputs": [],
   "source": [
    "summary_stats3 = json.loads(Path(\"data/summary_stats_single.json\").read_text())[\"results\"]"
   ]
  },
  {
   "cell_type": "code",
   "execution_count": 9,
   "id": "6e330ba3-bc83-4906-ac8e-9b6f1460514b",
   "metadata": {},
   "outputs": [],
   "source": [
    "from component.parameter.vis_params import gradient"
   ]
  },
  {
   "cell_type": "code",
   "execution_count": 10,
   "id": "4c013c5f-ae83-4474-81f0-daaf15c1b88f",
   "metadata": {},
   "outputs": [
    {
     "data": {
      "text/plain": [
       "['#ebfaf2', '#a8decb', '#66c2a4', '#339768', '#006d2c']"
      ]
     },
     "execution_count": 10,
     "metadata": {},
     "output_type": "execute_result"
    }
   ],
   "source": [
    "palettes = {\"green\": [\"#EBFAF2\", \"#66c2a4\", \"#006d2c\"]}\n",
    "# palettes = {\"green\": [\"#98FB98\", \"#32CD32\", \"#006400\"]}\n",
    "\n",
    "no_data_color = [\"#353535\"]  # the color used for values filtered by constraints\n",
    "gradient_palette = gradient(levels=5, palette=palettes[\"green\"])\n",
    "gradient_palette"
   ]
  },
  {
   "cell_type": "code",
   "execution_count": 12,
   "id": "8a236581-a8c6-42f2-80d9-4ca7486774b4",
   "metadata": {},
   "outputs": [
    {
     "data": {
      "application/vnd.jupyter.widget-view+json": {
       "model_id": "626195aebe894abf8f44611e0cb09f31",
       "version_major": 2,
       "version_minor": 0
      },
      "text/plain": [
       "Card(children=[CardText(children=[EChartsWidget(height='200', option=Option(angleAxis=None, aria=None, axisPoi…"
      ]
     },
     "execution_count": 12,
     "metadata": {},
     "output_type": "execute_result"
    }
   ],
   "source": [
    "chart = get_suitability_charts([summary_stats, summary_stats2,summary_stats3], test=True)\n",
    "chart"
   ]
  },
  {
   "cell_type": "code",
   "execution_count": 13,
   "id": "88487ae0-6bb3-4d4e-97f1-6c08fc3a3ee3",
   "metadata": {},
   "outputs": [
    {
     "data": {
      "application/vnd.jupyter.widget-view+json": {
       "model_id": "e872dd62515c481d8e95036c5f5f13b4",
       "version_major": 2,
       "version_minor": 0
      },
      "text/plain": [
       "SimpleTable(children=[Html(children=[Html(children=[Html(children=['Area name', IconBtn(children=[Icon(childre…"
      ]
     },
     "execution_count": 13,
     "metadata": {},
     "output_type": "execute_result"
    }
   ],
   "source": [
    "suitability_table = get_summary_table([summary_stats, summary_stats2, summary_stats3], \"both\")\n",
    "suitability_table"
   ]
  },
  {
   "cell_type": "code",
   "execution_count": 20,
   "id": "a2a78292-c3e5-444b-91c1-fd58a435e98d",
   "metadata": {},
   "outputs": [],
   "source": [
    "v.theme.dark=not v.theme.dark"
   ]
  },
  {
   "cell_type": "code",
   "execution_count": null,
   "id": "a7193b77-d7d1-4bc0-a4b2-e94678c63ffc",
   "metadata": {},
   "outputs": [],
   "source": []
  },
  {
   "cell_type": "code",
   "execution_count": null,
   "id": "e4eddb1a-e150-4541-992f-c17b3e0ddfa8",
   "metadata": {},
   "outputs": [],
   "source": []
  },
  {
   "cell_type": "code",
   "execution_count": null,
   "id": "e891f272-6ee9-4eb2-9ac2-f8428418183c",
   "metadata": {},
   "outputs": [],
   "source": []
  },
  {
   "cell_type": "code",
   "execution_count": null,
   "id": "2c39d1b3-4ee8-4000-b38a-c83f370a5cdc",
   "metadata": {},
   "outputs": [],
   "source": [
    "chart.theme='light'\n",
    "chart.renderer='svg'"
   ]
  },
  {
   "cell_type": "code",
   "execution_count": null,
   "id": "98658b23-5eb1-478b-bc94-e97cbb45c971",
   "metadata": {},
   "outputs": [],
   "source": [
    "chart.theme='dark'\n",
    "chart.renderer='svg'"
   ]
  },
  {
   "cell_type": "code",
   "execution_count": null,
   "id": "4540d424-862a-41b7-9f75-4fc7b883396e",
   "metadata": {},
   "outputs": [],
   "source": [
    "layer_id = \"plantation_growth_rates\"\n",
    "layer_data = recipe.seplan.benefit_model.get_layer_data(\"plantation_growth_rates\")\n",
    "aoi_names, values, colors = parse_layer_data(summary_results, layer_id)"
   ]
  },
  {
   "cell_type": "code",
   "execution_count": 23,
   "id": "9926f6ae-437c-4d2e-a2a1-0742a7f36875",
   "metadata": {},
   "outputs": [
    {
     "ename": "NameError",
     "evalue": "name 'recipe' is not defined",
     "output_type": "error",
     "traceback": [
      "\u001b[0;31m---------------------------------------------------------------------------\u001b[0m",
      "\u001b[0;31mNameError\u001b[0m                                 Traceback (most recent call last)",
      "Cell \u001b[0;32mIn[23], line 2\u001b[0m\n\u001b[1;32m      1\u001b[0m aoi_names, values, colors, series_names \u001b[38;5;241m=\u001b[39m [], [], [], []\n\u001b[0;32m----> 2\u001b[0m \u001b[38;5;28;01mfor\u001b[39;00m layer_id \u001b[38;5;129;01min\u001b[39;00m \u001b[43mrecipe\u001b[49m\u001b[38;5;241m.\u001b[39mseplan\u001b[38;5;241m.\u001b[39mcost_model\u001b[38;5;241m.\u001b[39mids:\n\u001b[1;32m      4\u001b[0m     layer_data \u001b[38;5;241m=\u001b[39m recipe\u001b[38;5;241m.\u001b[39mseplan\u001b[38;5;241m.\u001b[39mcost_model\u001b[38;5;241m.\u001b[39mget_layer_data(layer_id)\n\u001b[1;32m      6\u001b[0m     aoi_name, value, color \u001b[38;5;241m=\u001b[39m parse_layer_data(summary_results, layer_id)\n",
      "\u001b[0;31mNameError\u001b[0m: name 'recipe' is not defined"
     ]
    }
   ],
   "source": [
    "aoi_names, values, colors, series_names = [], [], [], []\n",
    "for layer_id in recipe.seplan.cost_model.ids:\n",
    "\n",
    "    layer_data = recipe.seplan.cost_model.get_layer_data(layer_id)\n",
    "\n",
    "    aoi_name, value, color = parse_layer_data(summary_results, layer_id)\n",
    "    aoi_names.append(aoi_name)\n",
    "    values.append(value)\n",
    "    colors.append(color)\n",
    "    series_names.append(layer_data[\"name\"])\n",
    "\n",
    "chart = get_bars_chart(\n",
    "    aoi_names[0], values, series_names, series_colors = ['#4CAF50', '#2196F3'\n",
    "    ], custom_item_color=False, custom_item_colors=colors, bars_width=70\n",
    ")\n",
    "chart"
   ]
  },
  {
   "cell_type": "code",
   "execution_count": null,
   "id": "410ceaa0-fbd2-462b-9590-0aec9a3eef8c",
   "metadata": {},
   "outputs": [],
   "source": [
    "print(chart)"
   ]
  },
  {
   "cell_type": "code",
   "execution_count": null,
   "id": "666031f4-6a1f-4603-97f8-009420087550",
   "metadata": {},
   "outputs": [],
   "source": [
    "chart"
   ]
  },
  {
   "cell_type": "code",
   "execution_count": 21,
   "id": "6eb99a39-c5bc-4f83-8d9a-d23b0e2586da",
   "metadata": {},
   "outputs": [],
   "source": [
    "from component.widget.dashboard_layer_panels import LayerFull"
   ]
  },
  {
   "cell_type": "code",
   "execution_count": 22,
   "id": "d6091849-3a1b-4f0d-8aa4-e79fa2059135",
   "metadata": {},
   "outputs": [
    {
     "ename": "NameError",
     "evalue": "name 'recipe' is not defined",
     "output_type": "error",
     "traceback": [
      "\u001b[0;31m---------------------------------------------------------------------------\u001b[0m",
      "\u001b[0;31mNameError\u001b[0m                                 Traceback (most recent call last)",
      "Cell \u001b[0;32mIn[22], line 1\u001b[0m\n\u001b[0;32m----> 1\u001b[0m layer_data \u001b[38;5;241m=\u001b[39m \u001b[43mrecipe\u001b[49m\u001b[38;5;241m.\u001b[39mseplan\u001b[38;5;241m.\u001b[39mcost_model\u001b[38;5;241m.\u001b[39mget_layer_data(layer_id)\n",
      "\u001b[0;31mNameError\u001b[0m: name 'recipe' is not defined"
     ]
    }
   ],
   "source": [
    "layer_data = recipe.seplan.cost_model.get_layer_data(layer_id)"
   ]
  },
  {
   "cell_type": "code",
   "execution_count": null,
   "id": "4bce0829-967d-4465-b643-73219e271172",
   "metadata": {},
   "outputs": [],
   "source": [
    "LayerFull(layer_data, chart)"
   ]
  },
  {
   "cell_type": "code",
   "execution_count": null,
   "id": "baaf892c-a590-4670-bb00-780641147d5c",
   "metadata": {},
   "outputs": [],
   "source": []
  },
  {
   "cell_type": "code",
   "execution_count": null,
   "id": "6838951b-c3e4-4491-b207-163f28ba8e28",
   "metadata": {},
   "outputs": [],
   "source": []
  },
  {
   "cell_type": "code",
   "execution_count": null,
   "id": "bcfc17fa-7098-40f4-8b9e-bf16bb12ec70",
   "metadata": {},
   "outputs": [],
   "source": []
  },
  {
   "cell_type": "code",
   "execution_count": null,
   "id": "f12fcf66-299a-43a5-b312-e9e46bfc4df2",
   "metadata": {},
   "outputs": [],
   "source": []
  },
  {
   "cell_type": "code",
   "execution_count": null,
   "id": "859c49c6-130e-4873-aad2-08592ebda80c",
   "metadata": {},
   "outputs": [],
   "source": []
  },
  {
   "cell_type": "code",
   "execution_count": null,
   "id": "eb38e98a-36c5-4b5d-8a59-e733dd0c278b",
   "metadata": {},
   "outputs": [],
   "source": []
  },
  {
   "cell_type": "code",
   "execution_count": null,
   "id": "35965d1a-079c-43bf-b5d2-c656c35cfdf4",
   "metadata": {},
   "outputs": [],
   "source": []
  },
  {
   "cell_type": "code",
   "execution_count": null,
   "id": "e73af3e7-21e8-48d2-84fa-4beed8c55407",
   "metadata": {},
   "outputs": [],
   "source": []
  },
  {
   "cell_type": "code",
   "execution_count": null,
   "id": "3cb24d84-9227-4d8c-a80d-b123ffd17824",
   "metadata": {},
   "outputs": [],
   "source": []
  },
  {
   "cell_type": "markdown",
   "id": "cc984471-8643-4e89-9a1b-fe3127574867",
   "metadata": {},
   "source": [
    "### Test stats "
   ]
  },
  {
   "cell_type": "code",
   "execution_count": 39,
   "id": "ec5a6e42-449d-40dc-bc04-442712cd017c",
   "metadata": {
    "tags": []
   },
   "outputs": [
    {
     "data": {
      "text/plain": [
       "{'COL_Antioquia': {'ee_feature': <pygaul.AdmItems at 0x76116e9f0bb0>,\n",
       "  'color': '#76591e'}}"
      ]
     },
     "execution_count": 39,
     "metadata": {},
     "output_type": "execute_result"
    }
   ],
   "source": [
    "ee_features = recipe.seplan.aoi_model.get_ee_features()\n",
    "ee_features"
   ]
  },
  {
   "cell_type": "code",
   "execution_count": 40,
   "id": "77362665-b2a7-470a-98da-7722a6f1224b",
   "metadata": {
    "tags": []
   },
   "outputs": [],
   "source": [
    "from component.tile.dashboard_tile import DashboardTile\n",
    "from component.widget.alert_state import AlertState"
   ]
  },
  {
   "cell_type": "code",
   "execution_count": 41,
   "id": "200c1bab-d16c-4036-81c1-17073477ba66",
   "metadata": {
    "tags": []
   },
   "outputs": [
    {
     "data": {
      "application/vnd.jupyter.widget-view+json": {
       "model_id": "e9a2951be7c54c4cb57a1f0bd5ae86c7",
       "version_major": 2,
       "version_minor": 0
      },
      "text/plain": [
       "AlertState(class_='d-none', layout=None, old_class='mt-5', style_='margin: 0 !important;', text=True, type='in…"
      ]
     },
     "execution_count": 41,
     "metadata": {},
     "output_type": "execute_result"
    }
   ],
   "source": [
    "alert = AlertState()\n",
    "alert"
   ]
  },
  {
   "cell_type": "code",
   "execution_count": 68,
   "id": "0f3d9ece-b32b-4acd-a085-73291c116921",
   "metadata": {
    "tags": []
   },
   "outputs": [],
   "source": [
    "dashboard_tile = DashboardTile(recipe)"
   ]
  },
  {
   "cell_type": "code",
   "execution_count": 69,
   "id": "8ec8aa47-7228-46e5-916c-0f802730f115",
   "metadata": {
    "tags": []
   },
   "outputs": [
    {
     "data": {
      "application/vnd.jupyter.widget-view+json": {
       "model_id": "7a9dca7b8d384603baf54349171127a0",
       "version_major": 2,
       "version_minor": 0
      },
      "text/plain": [
       "DashboardTile(children=[DashToolbar(children=[Tooltip(children=['Save dashboard statistics as .csv'], close_de…"
      ]
     },
     "execution_count": 69,
     "metadata": {},
     "output_type": "execute_result"
    }
   ],
   "source": [
    "dashboard_tile"
   ]
  },
  {
   "cell_type": "markdown",
   "id": "0a5ea049-c7bf-44d1-b5c1-f3fa93863c75",
   "metadata": {},
   "source": [
    "## Test statistics from recipe"
   ]
  },
  {
   "cell_type": "code",
   "execution_count": 24,
   "id": "21431aff-f202-42da-8b37-27b94d9ac499",
   "metadata": {},
   "outputs": [
    {
     "name": "stdout",
     "output_type": "stream",
     "text": [
      "The autoreload extension is already loaded. To reload it, use:\n",
      "  %reload_ext autoreload\n"
     ]
    }
   ],
   "source": [
    "%load_ext autoreload\n",
    "%autoreload 2"
   ]
  },
  {
   "cell_type": "code",
   "execution_count": 26,
   "id": "8bfdd51c-5c40-480f-aaea-4469e0e7a9f0",
   "metadata": {
    "tags": []
   },
   "outputs": [],
   "source": [
    "import sys\n",
    "sys.path.append(\"../\")\n",
    "from component.scripts.statistics import get_summary_statistics\n",
    "from component.model.recipe import Recipe\n",
    "from component.scripts.seplan import reduce_constraints\n",
    "import ee\n",
    "ee.Initialize()"
   ]
  },
  {
   "cell_type": "code",
   "execution_count": 28,
   "id": "4d631f49-316e-4f9e-bf07-b8d9f93d22ca",
   "metadata": {},
   "outputs": [],
   "source": [
    "# Load a previously created recipe\n",
    "recipe = Recipe()\n",
    "recipe.load(\"/home/dguerrero/module_results/se.plan/recipes/antioquia_1.json\")\n",
    "recipe.seplan_aoi.aoi_model.set_object(); # we have to do this manually\n",
    "aoi = recipe.seplan_aoi.aoi_model.feature_collection"
   ]
  },
  {
   "cell_type": "code",
   "execution_count": 31,
   "id": "27ba0ac3-1a1b-4af7-9667-1de69e0b8f2c",
   "metadata": {
    "tags": []
   },
   "outputs": [
    {
     "data": {
      "text/plain": [
       "{'': {'COL_Antioquia': {'benefit': [{'biodiversity_intactness': {'total': [0.9141905697146238],\n",
       "      'values': [0.9038905752014645]}},\n",
       "    {'endangered_species': {'total': [14.587265048855699],\n",
       "      'values': [14.337335770802504]}},\n",
       "    {'ground_carbon': {'total': [85.2069566719725],\n",
       "      'values': [103.47732748252137]}},\n",
       "    {'forest_job': {'total': [0.003911315734834424],\n",
       "      'values': [0.0039113159113282284]}},\n",
       "    {'woodfuel_harvest': {'total': [0.2248397385459174],\n",
       "      'values': [0.2248397464960843]}},\n",
       "    {'plantation_growth_rates': {'total': [37.86204668873121],\n",
       "      'values': [37.73709455798074]}}],\n",
       "   'color': '#76591e',\n",
       "   'constraint': [{'treecover_with_potential': {'total': [6315210.808061779],\n",
       "      'values': [44.246559142712414]}},\n",
       "    {'city_access': {'total': [6315210.808062925],\n",
       "      'values': [0.0014091790618350813]}}],\n",
       "   'cost': [{'opportunity_cost': {'total': [9195.687180859843],\n",
       "      'values': [6848.380759528549]}},\n",
       "    {'implementation_cost': {'total': [1965.0440279942015],\n",
       "      'values': [1095.7005396542663]}}],\n",
       "   'suitability': {'total': 6315210.808061965,\n",
       "    'values': [{'image': 1, 'sum': 809683.7165284666},\n",
       "     {'image': 2, 'sum': 1311847.2412791434},\n",
       "     {'image': 3, 'sum': 728347.2839337642},\n",
       "     {'image': 4, 'sum': 402039.8482379966},\n",
       "     {'image': 5, 'sum': 206890.10775559075},\n",
       "     {'image': 6, 'sum': 2856402.610327003}]}}}}"
      ]
     },
     "execution_count": 31,
     "metadata": {},
     "output_type": "execute_result"
    }
   ],
   "source": [
    "summary_stats = get_summary_statistics(recipe)\n",
    "summary_stats"
   ]
  },
  {
   "cell_type": "markdown",
   "id": "1dde905b-b176-4add-8fb2-d0a7f86e7d4d",
   "metadata": {},
   "source": [
    "## Calculate the image percent cover pixel area"
   ]
  },
  {
   "cell_type": "code",
   "execution_count": 33,
   "id": "5ff8b7bc-9a06-4395-b68c-e1372c48ceca",
   "metadata": {
    "tags": []
   },
   "outputs": [],
   "source": [
    "from component.scripts.statistics import get_image_percent_cover_pixelarea\n",
    "from component.scripts.seplan import mask_image"
   ]
  },
  {
   "cell_type": "code",
   "execution_count": 34,
   "id": "39ed1b26-335e-4b59-a776-b7fbced93ccc",
   "metadata": {
    "tags": []
   },
   "outputs": [],
   "source": [
    "aoi = recipe.seplan.aoi_model.feature_collection"
   ]
  },
  {
   "cell_type": "code",
   "execution_count": 35,
   "id": "607fff88-36ce-4958-b369-2dafdf354dcb",
   "metadata": {
    "tags": []
   },
   "outputs": [
    {
     "data": {
      "text/plain": [
       "('projects/se-plan/assets/inputLayers/total_rest_pot_gt_treecoverfrac_masks',\n",
       " 'binary',\n",
       " [0])"
      ]
     },
     "execution_count": 35,
     "metadata": {},
     "output_type": "execute_result"
    }
   ],
   "source": [
    "asset_id = recipe.seplan.constraint_model.assets[0]\n",
    "data_type = recipe.seplan.constraint_model.data_type[0]\n",
    "maskout_values = recipe.seplan.constraint_model.values[0]\n",
    "\n",
    "asset_id, data_type, maskout_values"
   ]
  },
  {
   "cell_type": "code",
   "execution_count": 36,
   "id": "a4ad1e39-7d3f-4970-b1c9-34595ee993e1",
   "metadata": {
    "tags": []
   },
   "outputs": [],
   "source": [
    "# maskout any image from the model\n",
    "\n",
    "masked_image = mask_image(asset_id, data_type, maskout_values)"
   ]
  },
  {
   "cell_type": "code",
   "execution_count": 37,
   "id": "95c0f6da-a59a-42b3-be03-0eac8013ac1d",
   "metadata": {
    "tags": []
   },
   "outputs": [
    {
     "data": {
      "text/plain": [
       "{'perro': {'total': [6315210.808061779], 'values': [44.246559142712414]}}"
      ]
     },
     "execution_count": 37,
     "metadata": {},
     "output_type": "execute_result"
    }
   ],
   "source": [
    "get_image_percent_cover_pixelarea(masked_image, aoi, \"perro\").getInfo()"
   ]
  },
  {
   "cell_type": "code",
   "execution_count": 38,
   "id": "62eb5b13-0b9f-415f-ae7c-2ee7020681d9",
   "metadata": {
    "tags": []
   },
   "outputs": [],
   "source": [
    "from sepal_ui.mapping import SepalMap\n",
    "import ee\n",
    "\n",
    "ee.Initialize()"
   ]
  },
  {
   "cell_type": "code",
   "execution_count": null,
   "id": "68135700-5d38-4e84-a533-6dbb82b312eb",
   "metadata": {
    "tags": []
   },
   "outputs": [],
   "source": [
    "map_ = SepalMap()\n",
    "map_.addLayer(masked_image.unmask(0).randomVisualizer().clip(aoi))\n",
    "map_"
   ]
  },
  {
   "cell_type": "markdown",
   "id": "97e79030-b6d0-44b0-8085-6d6c92ec2575",
   "metadata": {
    "tags": []
   },
   "source": [
    "## Calculate the image sum on COSTS"
   ]
  },
  {
   "cell_type": "code",
   "execution_count": null,
   "id": "a82a11fe-dda2-48b0-8ee0-e5d75455a4c8",
   "metadata": {
    "tags": []
   },
   "outputs": [],
   "source": [
    "%load_ext autoreload\n",
    "%autoreload 2"
   ]
  },
  {
   "cell_type": "code",
   "execution_count": null,
   "id": "ab9236dd-3140-40f8-becd-5c8e4f0aae3f",
   "metadata": {
    "tags": []
   },
   "outputs": [],
   "source": [
    "from component.scripts.statistics import get_image_sum\n",
    "from component.scripts.seplan import reduce_constraints, asset_to_image"
   ]
  },
  {
   "cell_type": "code",
   "execution_count": null,
   "id": "71714efe-4f14-4181-a22d-a6eedc019cb1",
   "metadata": {
    "tags": []
   },
   "outputs": [],
   "source": [
    "aoi = recipe.seplan.aoi_model.feature_collection"
   ]
  },
  {
   "cell_type": "code",
   "execution_count": null,
   "id": "a6c885b8-1f8e-447a-a3b2-8c616215ee84",
   "metadata": {
    "tags": []
   },
   "outputs": [],
   "source": [
    "asset_id = recipe.seplan.cost_model.assets[0]\n",
    "constraint_list = recipe.seplan.get_masked_constraints_list()\n",
    "mask_out_areas = reduce_constraints(constraint_list)"
   ]
  },
  {
   "cell_type": "code",
   "execution_count": null,
   "id": "8347f140-a8a0-4af8-a0fb-8f16995f7704",
   "metadata": {
    "tags": []
   },
   "outputs": [],
   "source": [
    "image = asset_to_image(asset_id)"
   ]
  },
  {
   "cell_type": "code",
   "execution_count": null,
   "id": "f11b2b1a-bfb4-4260-b908-3f698308594d",
   "metadata": {
    "tags": []
   },
   "outputs": [],
   "source": [
    "sum_img = image.updateMask(mask_out_areas).reduceRegion(\n",
    "    reducer=ee.Reducer.sum(),\n",
    "    geometry=aoi,\n",
    "    scale=100,\n",
    "    maxPixels=1e13,\n",
    ")\n",
    "sum_img.values().get(0).getInfo()"
   ]
  },
  {
   "cell_type": "code",
   "execution_count": null,
   "id": "e6be3097-4a3b-47c8-8d21-33d74caf1b0d",
   "metadata": {
    "tags": []
   },
   "outputs": [],
   "source": [
    "get_image_sum(image, aoi, mask_out_areas, \"name\").getInfo()"
   ]
  },
  {
   "cell_type": "code",
   "execution_count": null,
   "id": "3e968d0e-ff67-4cf8-b65a-97d69a7da82e",
   "metadata": {
    "tags": []
   },
   "outputs": [],
   "source": [
    "area_ha = (\n",
    "    ee.Image.pixelArea()\n",
    "    .divide(10000)\n",
    "    .reduceRegion(\n",
    "        reducer=ee.Reducer.sum(),\n",
    "        geometry=aoi,\n",
    "        scale=100,\n",
    "        maxPixels=1e13,\n",
    "    )\n",
    "    .getInfo()\n",
    ")"
   ]
  },
  {
   "cell_type": "code",
   "execution_count": null,
   "id": "12051f35-ccb7-4ca9-af49-2cf55490c796",
   "metadata": {
    "tags": []
   },
   "outputs": [],
   "source": [
    "map_.addLayer(constraint_list[0][0].clip(aoi), {}, \"mask\")"
   ]
  },
  {
   "cell_type": "code",
   "execution_count": null,
   "id": "ac0e9e7f-7f64-4b5d-aaa9-21eb93ca0227",
   "metadata": {
    "tags": []
   },
   "outputs": [],
   "source": [
    "map_ = SepalMap()\n",
    "map_.addLayer(mask_out_areas.randomVisualizer().clip(aoi))\n",
    "map_"
   ]
  }
 ],
 "metadata": {
  "kernelspec": {
   "display_name": "Python 3 (ipykernel)",
   "language": "python",
   "name": "python3"
  },
  "language_info": {
   "codemirror_mode": {
    "name": "ipython",
    "version": 3
   },
   "file_extension": ".py",
   "mimetype": "text/x-python",
   "name": "python",
   "nbconvert_exporter": "python",
   "pygments_lexer": "ipython3",
   "version": "3.10.14"
  }
 },
 "nbformat": 4,
 "nbformat_minor": 5
}
