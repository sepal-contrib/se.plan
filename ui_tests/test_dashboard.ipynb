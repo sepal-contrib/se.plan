{
 "cells": [
  {
   "cell_type": "code",
   "execution_count": null,
   "id": "4ca903f4-aeb9-44b9-8cd1-3bda3c1fe345",
   "metadata": {
    "tags": []
   },
   "outputs": [],
   "source": [
    "%load_ext autoreload\n",
    "%autoreload 2"
   ]
  },
  {
   "cell_type": "code",
   "execution_count": null,
   "id": "7a54cfc1-c0c5-44c9-8d34-3ffc7090bdaa",
   "metadata": {
    "tags": []
   },
   "outputs": [],
   "source": [
    "import sys\n",
    "sys.path.append(\"../\")\n",
    "from component.message import cm"
   ]
  },
  {
   "cell_type": "code",
   "execution_count": null,
   "id": "0002ab75-28f6-46a6-8fee-0c88ab0f9c5a",
   "metadata": {
    "tags": []
   },
   "outputs": [],
   "source": [
    "from component.model.recipe import Recipe\n",
    "from component.tile.custom_aoi_tile import AoiTile\n",
    "from component.tile.dashboard_tile import DashboardTile\n",
    "from component.widget.alert_state import AlertState\n",
    "\n",
    "from pathlib import Path\n",
    "import json\n",
    "from component.scripts.plots import get_individual_charts\n",
    "import ipyvuetify as v"
   ]
  },
  {
   "cell_type": "code",
   "execution_count": null,
   "id": "6da11f13-d15e-4f08-9d15-225eb74cfeeb",
   "metadata": {
    "tags": []
   },
   "outputs": [],
   "source": [
    "build_alert = AlertState()\n",
    "build_alert"
   ]
  },
  {
   "cell_type": "code",
   "execution_count": null,
   "id": "b95fe655-bdb6-479a-8605-e6344b064b72",
   "metadata": {
    "tags": []
   },
   "outputs": [],
   "source": [
    "build_alert"
   ]
  },
  {
   "cell_type": "code",
   "execution_count": null,
   "id": "ddc1a77c-9a32-4ecf-955b-c1440d223933",
   "metadata": {
    "tags": []
   },
   "outputs": [],
   "source": [
    "recipe = Recipe()"
   ]
  },
  {
   "cell_type": "code",
   "execution_count": null,
   "id": "19d0e7eb-b254-45d4-b707-571bf6dd3740",
   "metadata": {},
   "outputs": [],
   "source": [
    "# We need the AoiTile so it can create the SeplanAoi and will \n",
    "# set the feature collection in the model\n",
    "aoi_tile = AoiTile(recipe=recipe)"
   ]
  },
  {
   "cell_type": "code",
   "execution_count": null,
   "id": "3f9d81b9-ae09-4504-b1d4-44baf097591b",
   "metadata": {},
   "outputs": [],
   "source": [
    "recipe.load(\"/home/dguerrero/module_results/se.plan/recipes/Myanmar_example.json\")"
   ]
  },
  {
   "cell_type": "code",
   "execution_count": null,
   "id": "48992938-3095-4a90-b86d-782563ff9966",
   "metadata": {},
   "outputs": [],
   "source": [
    "dashboard_tile = DashboardTile(recipe=recipe)"
   ]
  },
  {
   "cell_type": "code",
   "execution_count": null,
   "id": "c36f0058-973b-4c8c-9226-61545b7a833c",
   "metadata": {},
   "outputs": [],
   "source": [
    "dashboard_tile.reset()\n",
    "dashboard_tile.summary_stats = json.loads(Path(\"data/summary_stats.json\").read_text())[\"results\"]"
   ]
  },
  {
   "cell_type": "code",
   "execution_count": null,
   "id": "1768479a-b288-48ad-af42-b0698d611727",
   "metadata": {},
   "outputs": [],
   "source": [
    "suitability_data = {area_name:data[\"suitability\"] for area_name, data in dashboard_tile.summary_stats.items()}\n",
    "# suitability_data"
   ]
  },
  {
   "cell_type": "code",
   "execution_count": null,
   "id": "b4f37dbf-ca8e-4905-8f14-bd7f4dba1926",
   "metadata": {
    "tags": []
   },
   "outputs": [],
   "source": [
    "dashboard_tile"
   ]
  },
  {
   "cell_type": "markdown",
   "id": "fa49ef5f-9530-41cf-87a9-97ed268f111e",
   "metadata": {},
   "source": [
    "# Test suitability chart"
   ]
  },
  {
   "cell_type": "code",
   "execution_count": 1,
   "id": "d6ae92c9-1375-4919-b812-4b53807fc954",
   "metadata": {},
   "outputs": [],
   "source": [
    "%load_ext autoreload\n",
    "%autoreload 2"
   ]
  },
  {
   "cell_type": "code",
   "execution_count": 2,
   "id": "3d42a828-bcbb-4a98-8587-fdfe9d05e9f1",
   "metadata": {},
   "outputs": [],
   "source": [
    "import sys\n",
    "sys.path.append(\"../\")"
   ]
  },
  {
   "cell_type": "code",
   "execution_count": 11,
   "id": "3b0de1e9-6723-42b5-a95e-7848da12a42c",
   "metadata": {},
   "outputs": [],
   "source": [
    "from component.scripts.plots import get_stacked_bars_chart, get_bars_chart, parse_layer_data\n",
    "import json\n",
    "from component.widget.suitability_table import get_summary_table\n",
    "from pathlib import Path\n",
    "import ipyvuetify as v"
   ]
  },
  {
   "cell_type": "code",
   "execution_count": 12,
   "id": "3e0583b2-49e2-4c85-93b0-b8b73e53543f",
   "metadata": {},
   "outputs": [],
   "source": [
    "summary_stats = json.loads(Path(\"data/summary_stats.json\").read_text())[\"results\"]"
   ]
  },
  {
   "cell_type": "code",
   "execution_count": 13,
   "id": "6e330ba3-bc83-4906-ac8e-9b6f1460514b",
   "metadata": {},
   "outputs": [],
   "source": [
    "from component.parameter.vis_params import gradient"
   ]
  },
  {
   "cell_type": "code",
   "execution_count": 14,
   "id": "4c013c5f-ae83-4474-81f0-daaf15c1b88f",
   "metadata": {},
   "outputs": [
    {
     "data": {
      "text/plain": [
       "['#ebfaf2', '#a8decb', '#66c2a4', '#339768', '#006d2c']"
      ]
     },
     "execution_count": 14,
     "metadata": {},
     "output_type": "execute_result"
    }
   ],
   "source": [
    "palettes = {\"green\": [\"#EBFAF2\", \"#66c2a4\", \"#006d2c\"]}\n",
    "# palettes = {\"green\": [\"#98FB98\", \"#32CD32\", \"#006400\"]}\n",
    "\n",
    "no_data_color = [\"#353535\"]  # the color used for values filtered by constraints\n",
    "gradient_palette = gradient(levels=5, palette=palettes[\"green\"])\n",
    "gradient_palette"
   ]
  },
  {
   "cell_type": "code",
   "execution_count": 15,
   "id": "8a236581-a8c6-42f2-80d9-4ca7486774b4",
   "metadata": {},
   "outputs": [
    {
     "data": {
      "application/vnd.jupyter.widget-view+json": {
       "model_id": "3ab6d01b9f5044218fec501107c7e5ec",
       "version_major": 2,
       "version_minor": 0
      },
      "text/plain": [
       "EChartsWidget(option=Option(angleAxis=None, aria=None, axisPointer=None, backgroundColor='#1e1e1e00', brush=No…"
      ]
     },
     "execution_count": 15,
     "metadata": {},
     "output_type": "execute_result"
    }
   ],
   "source": [
    "chart = get_stacked_bars_chart(summary_stats)\n",
    "chart"
   ]
  },
  {
   "cell_type": "code",
   "execution_count": 29,
   "id": "a2a78292-c3e5-444b-91c1-fd58a435e98d",
   "metadata": {},
   "outputs": [],
   "source": [
    "v.theme.dark=not v.theme.dark"
   ]
  },
  {
   "cell_type": "code",
   "execution_count": null,
   "id": "ea569fc7-66ac-4f83-b76e-acdcd60c33cd",
   "metadata": {},
   "outputs": [],
   "source": [
    "chart.theme='light'"
   ]
  },
  {
   "cell_type": "code",
   "execution_count": null,
   "id": "a7193b77-d7d1-4bc0-a4b2-e94678c63ffc",
   "metadata": {},
   "outputs": [],
   "source": []
  },
  {
   "cell_type": "code",
   "execution_count": null,
   "id": "e4eddb1a-e150-4541-992f-c17b3e0ddfa8",
   "metadata": {},
   "outputs": [],
   "source": []
  },
  {
   "cell_type": "code",
   "execution_count": null,
   "id": "e891f272-6ee9-4eb2-9ac2-f8428418183c",
   "metadata": {},
   "outputs": [],
   "source": []
  },
  {
   "cell_type": "code",
   "execution_count": null,
   "id": "2c39d1b3-4ee8-4000-b38a-c83f370a5cdc",
   "metadata": {},
   "outputs": [],
   "source": [
    "chart.theme='light'\n",
    "chart.renderer='svg'"
   ]
  },
  {
   "cell_type": "code",
   "execution_count": null,
   "id": "98658b23-5eb1-478b-bc94-e97cbb45c971",
   "metadata": {},
   "outputs": [],
   "source": [
    "chart.theme='dark'\n",
    "chart.renderer='svg'"
   ]
  },
  {
   "cell_type": "code",
   "execution_count": null,
   "id": "4540d424-862a-41b7-9f75-4fc7b883396e",
   "metadata": {},
   "outputs": [],
   "source": [
    "layer_id = \"plantation_growth_rates\"\n",
    "layer_data = recipe.seplan.benefit_model.get_layer_data(\"plantation_growth_rates\")\n",
    "aoi_names, values, colors = parse_layer_data(summary_results, layer_id)"
   ]
  },
  {
   "cell_type": "code",
   "execution_count": null,
   "id": "1848fdd1-90b7-4bdd-bcc8-d4456e7f2baa",
   "metadata": {},
   "outputs": [],
   "source": [
    "get_bars_chart(\n",
    "    aoi_names,\n",
    "    [values],\n",
    "    [colors],\n",
    "    [layer_data[\"name\"]],\n",
    "    custom_color=True,\n",
    "    show_legend=False,\n",
    ")"
   ]
  },
  {
   "cell_type": "code",
   "execution_count": null,
   "id": "9926f6ae-437c-4d2e-a2a1-0742a7f36875",
   "metadata": {},
   "outputs": [],
   "source": [
    "aoi_names, values, colors, series_names = [], [], [], []\n",
    "for layer_id in recipe.seplan.cost_model.ids:\n",
    "\n",
    "    layer_data = recipe.seplan.cost_model.get_layer_data(layer_id)\n",
    "\n",
    "    aoi_name, value, color = parse_layer_data(summary_results, layer_id)\n",
    "    aoi_names.append(aoi_name)\n",
    "    values.append(value)\n",
    "    colors.append(color)\n",
    "    series_names.append(layer_data[\"name\"])\n",
    "\n",
    "chart = get_bars_chart(\n",
    "    aoi_names[0], values, series_names, series_colors = ['#4CAF50', '#2196F3'\n",
    "    ], custom_item_color=False, custom_item_colors=colors, bars_width=70\n",
    ")\n",
    "chart"
   ]
  },
  {
   "cell_type": "code",
   "execution_count": null,
   "id": "410ceaa0-fbd2-462b-9590-0aec9a3eef8c",
   "metadata": {},
   "outputs": [],
   "source": [
    "print(chart)"
   ]
  },
  {
   "cell_type": "code",
   "execution_count": null,
   "id": "666031f4-6a1f-4603-97f8-009420087550",
   "metadata": {},
   "outputs": [],
   "source": [
    "chart"
   ]
  },
  {
   "cell_type": "code",
   "execution_count": null,
   "id": "6eb99a39-c5bc-4f83-8d9a-d23b0e2586da",
   "metadata": {},
   "outputs": [],
   "source": [
    "from component.widget.dashboard_layer_panels import LayerFull"
   ]
  },
  {
   "cell_type": "code",
   "execution_count": null,
   "id": "d6091849-3a1b-4f0d-8aa4-e79fa2059135",
   "metadata": {},
   "outputs": [],
   "source": [
    "layer_data = recipe.seplan.cost_model.get_layer_data(layer_id)"
   ]
  },
  {
   "cell_type": "code",
   "execution_count": null,
   "id": "4bce0829-967d-4465-b643-73219e271172",
   "metadata": {},
   "outputs": [],
   "source": [
    "LayerFull(layer_data, chart)"
   ]
  },
  {
   "cell_type": "code",
   "execution_count": null,
   "id": "baaf892c-a590-4670-bb00-780641147d5c",
   "metadata": {},
   "outputs": [],
   "source": []
  },
  {
   "cell_type": "code",
   "execution_count": null,
   "id": "6838951b-c3e4-4491-b207-163f28ba8e28",
   "metadata": {},
   "outputs": [],
   "source": []
  },
  {
   "cell_type": "code",
   "execution_count": null,
   "id": "bcfc17fa-7098-40f4-8b9e-bf16bb12ec70",
   "metadata": {},
   "outputs": [],
   "source": []
  },
  {
   "cell_type": "code",
   "execution_count": null,
   "id": "4272d0c3-5426-4c99-a2b2-200ceaca93be",
   "metadata": {},
   "outputs": [],
   "source": [
    "from component.scripts.plots import parse_suitability"
   ]
  },
  {
   "cell_type": "code",
   "execution_count": null,
   "id": "d9ce77ef-bdf5-47ec-aafa-799780d97ef0",
   "metadata": {},
   "outputs": [],
   "source": [
    "from ipecharts.option import Option, Legend, Tooltip, XAxis, YAxis, Title\n",
    "from ipecharts.option.series import Bar\n",
    "from ipecharts.echarts import EChartsWidget\n",
    "\n"
   ]
  },
  {
   "cell_type": "code",
   "execution_count": null,
   "id": "c2248d44-863e-46a4-a732-8ff48ec9831a",
   "metadata": {},
   "outputs": [],
   "source": [
    "region_names, level_names, series_data = parse_suitability(dashboard_tile.summary_stats)"
   ]
  },
  {
   "cell_type": "code",
   "execution_count": null,
   "id": "dfe2d315-aaa3-442a-84b6-3b0ddf9f838f",
   "metadata": {},
   "outputs": [],
   "source": [
    "series_data"
   ]
  },
  {
   "cell_type": "code",
   "execution_count": null,
   "id": "87f2dc06-1438-4b86-b468-a6d7f5b46f91",
   "metadata": {},
   "outputs": [],
   "source": [
    "bars = []\n",
    "for series in series_data:\n",
    "    bars.append(\n",
    "        Bar(\n",
    "            **{\n",
    "                \"type\":\"bar\",\n",
    "                \"name\":series['name'],\n",
    "                \"stack\":series[\"stack\"],\n",
    "                \"data\":series[\"data\"],\n",
    "                \"itemStyle\": series['itemStyle']\n",
    "            }\n",
    "        )\n",
    "    )\n",
    "bars"
   ]
  },
  {
   "cell_type": "code",
   "execution_count": null,
   "id": "d366383b-f85a-47b3-a586-00e889ca021b",
   "metadata": {},
   "outputs": [],
   "source": [
    "option = Option(\n",
    "    **{\n",
    "        # 'title':Title(**{\n",
    "        #     'text': 'Forest Restoration Suitability by Region (Horizontal with Separate Unsuitable Land)'\n",
    "        # }),\n",
    "        \"backgroundColor\":\"#1e1e1e00\",\n",
    "        'legend': Legend(**{\n",
    "            'data': ['Very Low', 'Low', 'Medium', 'High', 'Very High', 'Unsuitable land']\n",
    "        }),\n",
    "        'yAxis': YAxis(**{\n",
    "            'type': 'category',\n",
    "            'data': ['MMR', 'Custom_MMR_Bago__E_', 'Custom_MMR_Kachin']\n",
    "        }),\n",
    "        'xAxis': XAxis(**{\n",
    "            'type': 'value'\n",
    "        })\n",
    "    },\n",
    "    series=bars, tooltip=Tooltip()\n",
    ")"
   ]
  },
  {
   "cell_type": "code",
   "execution_count": null,
   "id": "d0b7aade-e53e-4574-aa65-689d09675107",
   "metadata": {},
   "outputs": [],
   "source": [
    "EChartsWidget(option=option)"
   ]
  },
  {
   "cell_type": "code",
   "execution_count": null,
   "id": "f12fcf66-299a-43a5-b312-e9e46bfc4df2",
   "metadata": {},
   "outputs": [],
   "source": []
  },
  {
   "cell_type": "code",
   "execution_count": null,
   "id": "859c49c6-130e-4873-aad2-08592ebda80c",
   "metadata": {},
   "outputs": [],
   "source": []
  },
  {
   "cell_type": "code",
   "execution_count": null,
   "id": "eb38e98a-36c5-4b5d-8a59-e733dd0c278b",
   "metadata": {},
   "outputs": [],
   "source": []
  },
  {
   "cell_type": "code",
   "execution_count": null,
   "id": "35965d1a-079c-43bf-b5d2-c656c35cfdf4",
   "metadata": {},
   "outputs": [],
   "source": []
  },
  {
   "cell_type": "code",
   "execution_count": null,
   "id": "e73af3e7-21e8-48d2-84fa-4beed8c55407",
   "metadata": {},
   "outputs": [],
   "source": []
  },
  {
   "cell_type": "code",
   "execution_count": null,
   "id": "3cb24d84-9227-4d8c-a80d-b123ffd17824",
   "metadata": {},
   "outputs": [],
   "source": []
  },
  {
   "cell_type": "markdown",
   "id": "cc984471-8643-4e89-9a1b-fe3127574867",
   "metadata": {},
   "source": [
    "### Test stats "
   ]
  },
  {
   "cell_type": "code",
   "execution_count": null,
   "id": "ec5a6e42-449d-40dc-bc04-442712cd017c",
   "metadata": {
    "tags": []
   },
   "outputs": [],
   "source": [
    "ee_features = recipe.seplan.aoi_model.get_ee_features()\n",
    "ee_features"
   ]
  },
  {
   "cell_type": "code",
   "execution_count": null,
   "id": "77362665-b2a7-470a-98da-7722a6f1224b",
   "metadata": {
    "tags": []
   },
   "outputs": [],
   "source": [
    "from component.tile.dashboard_tile import DashboardTile\n",
    "from component.widget.alert_state import AlertState"
   ]
  },
  {
   "cell_type": "code",
   "execution_count": null,
   "id": "200c1bab-d16c-4036-81c1-17073477ba66",
   "metadata": {
    "tags": []
   },
   "outputs": [],
   "source": [
    "alert = AlertState()\n",
    "alert"
   ]
  },
  {
   "cell_type": "code",
   "execution_count": null,
   "id": "0f3d9ece-b32b-4acd-a085-73291c116921",
   "metadata": {
    "tags": []
   },
   "outputs": [],
   "source": [
    "dashboard_tile = DashboardTile()"
   ]
  },
  {
   "cell_type": "code",
   "execution_count": null,
   "id": "8ec8aa47-7228-46e5-916c-0f802730f115",
   "metadata": {
    "tags": []
   },
   "outputs": [],
   "source": [
    "dashboard_tile.build(recipe, alert)"
   ]
  },
  {
   "cell_type": "code",
   "execution_count": null,
   "id": "4bc38471-887c-4fa2-a97d-64650f3a079f",
   "metadata": {
    "tags": []
   },
   "outputs": [],
   "source": [
    "dashboard_tile"
   ]
  },
  {
   "cell_type": "markdown",
   "id": "0a5ea049-c7bf-44d1-b5c1-f3fa93863c75",
   "metadata": {},
   "source": [
    "## Test statistics from recipe"
   ]
  },
  {
   "cell_type": "code",
   "execution_count": null,
   "id": "21431aff-f202-42da-8b37-27b94d9ac499",
   "metadata": {},
   "outputs": [],
   "source": [
    "%load_ext autoreload\n",
    "%autoreload 2"
   ]
  },
  {
   "cell_type": "code",
   "execution_count": null,
   "id": "8bfdd51c-5c40-480f-aaea-4469e0e7a9f0",
   "metadata": {
    "tags": []
   },
   "outputs": [],
   "source": [
    "import sys\n",
    "sys.path.append(\"../\")\n",
    "from component.scripts.statistics import parse_theme_stats, get_summary_statistics\n",
    "from component.model.recipe import Recipe\n",
    "from component.scripts.seplan import reduce_constraints\n",
    "import ee\n",
    "ee.Initialize()"
   ]
  },
  {
   "cell_type": "code",
   "execution_count": null,
   "id": "4d631f49-316e-4f9e-bf07-b8d9f93d22ca",
   "metadata": {},
   "outputs": [],
   "source": [
    "# Load a previously created recipe\n",
    "recipe = Recipe()\n",
    "recipe.load_model()\n",
    "recipe.load(\"/home/dguerrero/module_results/se.plan/recipes/test_cundinamarca.json\")\n",
    "recipe.seplan_aoi.aoi_model.set_object(); # we have to do this manually\n",
    "aoi = recipe.seplan_aoi.aoi_model.feature_collection"
   ]
  },
  {
   "cell_type": "code",
   "execution_count": null,
   "id": "27ba0ac3-1a1b-4af7-9667-1de69e0b8f2c",
   "metadata": {
    "tags": []
   },
   "outputs": [],
   "source": [
    "summary_stats = get_summary_statistics(recipe.seplan)\n",
    "summary_stats"
   ]
  },
  {
   "cell_type": "code",
   "execution_count": null,
   "id": "04c535cd-e14a-4b38-add5-32555f97421a",
   "metadata": {
    "tags": []
   },
   "outputs": [],
   "source": [
    "parse_theme_stats(summary_stats)"
   ]
  },
  {
   "cell_type": "markdown",
   "id": "1dde905b-b176-4add-8fb2-d0a7f86e7d4d",
   "metadata": {},
   "source": [
    "## Calculate the image percent cover pixel area"
   ]
  },
  {
   "cell_type": "code",
   "execution_count": null,
   "id": "5ff8b7bc-9a06-4395-b68c-e1372c48ceca",
   "metadata": {
    "tags": []
   },
   "outputs": [],
   "source": [
    "from component.scripts.statistics import get_image_percent_cover_pixelarea\n",
    "from component.scripts.seplan import mask_image"
   ]
  },
  {
   "cell_type": "code",
   "execution_count": null,
   "id": "39ed1b26-335e-4b59-a776-b7fbced93ccc",
   "metadata": {
    "tags": []
   },
   "outputs": [],
   "source": [
    "aoi = recipe.seplan.aoi_model.feature_collection"
   ]
  },
  {
   "cell_type": "code",
   "execution_count": null,
   "id": "607fff88-36ce-4958-b369-2dafdf354dcb",
   "metadata": {
    "tags": []
   },
   "outputs": [],
   "source": [
    "asset_id = recipe.seplan.constraint_model.assets[0]\n",
    "data_type = recipe.seplan.constraint_model.data_type[0]\n",
    "maskout_values = recipe.seplan.constraint_model.values[0]\n",
    "\n",
    "asset_id, data_type, maskout_values"
   ]
  },
  {
   "cell_type": "code",
   "execution_count": null,
   "id": "a4ad1e39-7d3f-4970-b1c9-34595ee993e1",
   "metadata": {
    "tags": []
   },
   "outputs": [],
   "source": [
    "# maskout any image from the model\n",
    "\n",
    "masked_image = mask_image(asset_id, data_type, maskout_values)"
   ]
  },
  {
   "cell_type": "code",
   "execution_count": null,
   "id": "95c0f6da-a59a-42b3-be03-0eac8013ac1d",
   "metadata": {
    "tags": []
   },
   "outputs": [],
   "source": [
    "get_image_percent_cover_pixelarea(masked_image, aoi, \"perro\").getInfo()"
   ]
  },
  {
   "cell_type": "code",
   "execution_count": null,
   "id": "62eb5b13-0b9f-415f-ae7c-2ee7020681d9",
   "metadata": {
    "tags": []
   },
   "outputs": [],
   "source": [
    "from sepal_ui.mapping import SepalMap\n",
    "import ee\n",
    "\n",
    "ee.Initialize()"
   ]
  },
  {
   "cell_type": "code",
   "execution_count": null,
   "id": "68135700-5d38-4e84-a533-6dbb82b312eb",
   "metadata": {
    "tags": []
   },
   "outputs": [],
   "source": [
    "map_ = SepalMap()\n",
    "map_.addLayer(masked_image.unmask(0).randomVisualizer().clip(aoi))\n",
    "map_"
   ]
  },
  {
   "cell_type": "markdown",
   "id": "97e79030-b6d0-44b0-8085-6d6c92ec2575",
   "metadata": {
    "tags": []
   },
   "source": [
    "## Calculate the image sum on COSTS"
   ]
  },
  {
   "cell_type": "code",
   "execution_count": null,
   "id": "a82a11fe-dda2-48b0-8ee0-e5d75455a4c8",
   "metadata": {
    "tags": []
   },
   "outputs": [],
   "source": [
    "%load_ext autoreload\n",
    "%autoreload 2"
   ]
  },
  {
   "cell_type": "code",
   "execution_count": null,
   "id": "ab9236dd-3140-40f8-becd-5c8e4f0aae3f",
   "metadata": {
    "tags": []
   },
   "outputs": [],
   "source": [
    "from component.scripts.statistics import get_image_sum\n",
    "from component.scripts.seplan import reduce_constraints, asset_to_image"
   ]
  },
  {
   "cell_type": "code",
   "execution_count": null,
   "id": "71714efe-4f14-4181-a22d-a6eedc019cb1",
   "metadata": {
    "tags": []
   },
   "outputs": [],
   "source": [
    "aoi = recipe.seplan.aoi_model.feature_collection"
   ]
  },
  {
   "cell_type": "code",
   "execution_count": null,
   "id": "a6c885b8-1f8e-447a-a3b2-8c616215ee84",
   "metadata": {
    "tags": []
   },
   "outputs": [],
   "source": [
    "asset_id = recipe.seplan.cost_model.assets[0]\n",
    "constraint_list = recipe.seplan.get_masked_constraints_list()\n",
    "mask_out_areas = reduce_constraints(constraint_list)"
   ]
  },
  {
   "cell_type": "code",
   "execution_count": null,
   "id": "8347f140-a8a0-4af8-a0fb-8f16995f7704",
   "metadata": {
    "tags": []
   },
   "outputs": [],
   "source": [
    "image = asset_to_image(asset_id)"
   ]
  },
  {
   "cell_type": "code",
   "execution_count": null,
   "id": "f11b2b1a-bfb4-4260-b908-3f698308594d",
   "metadata": {
    "tags": []
   },
   "outputs": [],
   "source": [
    "sum_img = image.updateMask(mask_out_areas).reduceRegion(\n",
    "    reducer=ee.Reducer.sum(),\n",
    "    geometry=aoi,\n",
    "    scale=100,\n",
    "    maxPixels=1e13,\n",
    ")\n",
    "sum_img.values().get(0).getInfo()"
   ]
  },
  {
   "cell_type": "code",
   "execution_count": null,
   "id": "e6be3097-4a3b-47c8-8d21-33d74caf1b0d",
   "metadata": {
    "tags": []
   },
   "outputs": [],
   "source": [
    "get_image_sum(image, aoi, mask_out_areas, \"name\").getInfo()"
   ]
  },
  {
   "cell_type": "code",
   "execution_count": null,
   "id": "3e968d0e-ff67-4cf8-b65a-97d69a7da82e",
   "metadata": {
    "tags": []
   },
   "outputs": [],
   "source": [
    "area_ha = (\n",
    "    ee.Image.pixelArea()\n",
    "    .divide(10000)\n",
    "    .reduceRegion(\n",
    "        reducer=ee.Reducer.sum(),\n",
    "        geometry=aoi,\n",
    "        scale=100,\n",
    "        maxPixels=1e13,\n",
    "    )\n",
    "    .getInfo()\n",
    ")"
   ]
  },
  {
   "cell_type": "code",
   "execution_count": null,
   "id": "12051f35-ccb7-4ca9-af49-2cf55490c796",
   "metadata": {
    "tags": []
   },
   "outputs": [],
   "source": [
    "map_.addLayer(constraint_list[0][0].clip(aoi), {}, \"mask\")"
   ]
  },
  {
   "cell_type": "code",
   "execution_count": null,
   "id": "ac0e9e7f-7f64-4b5d-aaa9-21eb93ca0227",
   "metadata": {
    "tags": []
   },
   "outputs": [],
   "source": [
    "map_ = SepalMap()\n",
    "map_.addLayer(mask_out_areas.randomVisualizer().clip(aoi))\n",
    "map_"
   ]
  }
 ],
 "metadata": {
  "kernelspec": {
   "display_name": "Python 3 (ipykernel)",
   "language": "python",
   "name": "python3"
  },
  "language_info": {
   "codemirror_mode": {
    "name": "ipython",
    "version": 3
   },
   "file_extension": ".py",
   "mimetype": "text/x-python",
   "name": "python",
   "nbconvert_exporter": "python",
   "pygments_lexer": "ipython3",
   "version": "3.10.14"
  }
 },
 "nbformat": 4,
 "nbformat_minor": 5
}
