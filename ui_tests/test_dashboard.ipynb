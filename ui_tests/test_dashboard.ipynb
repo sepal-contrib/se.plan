{
 "cells": [
  {
   "cell_type": "code",
   "execution_count": 1,
   "id": "4ca903f4-aeb9-44b9-8cd1-3bda3c1fe345",
   "metadata": {
    "tags": []
   },
   "outputs": [],
   "source": [
    "%load_ext autoreload\n",
    "%autoreload 2"
   ]
  },
  {
   "cell_type": "code",
   "execution_count": 2,
   "id": "7a54cfc1-c0c5-44c9-8d34-3ffc7090bdaa",
   "metadata": {
    "tags": []
   },
   "outputs": [],
   "source": [
    "import sys\n",
    "from pathlib import Path\n",
    "\n",
    "sys.path = [str(Path(\"..\").resolve())] + sys.path\n"
   ]
  },
  {
   "cell_type": "code",
   "execution_count": 3,
   "id": "0002ab75-28f6-46a6-8fee-0c88ab0f9c5a",
   "metadata": {
    "tags": []
   },
   "outputs": [
    {
     "data": {
      "text/html": [
       "<style>/*******************************************************************************\n",
       " * Customization of the provided css from the different libs used by sepal_ui\n",
       " */\n",
       "\n",
       "/* replace the map panel elements on top */\n",
       ".leaflet-pane,\n",
       ".leaflet-top,\n",
       ".leaflet-bottom {\n",
       "  z-index: 2 !important;\n",
       "}\n",
       "\n",
       "/* remove the shadow from the widgets on the maps */\n",
       ".leaflet-widgetcontrol {\n",
       "  box-shadow: none;\n",
       "}\n",
       "\n",
       "/* remove extra padding on top of the content */\n",
       "main.v-content {\n",
       "  padding-top: 0px !important;\n",
       "}\n",
       "\n",
       ".v-alert__wrapper .progress {\n",
       "  background-color: transparent;\n",
       "}\n",
       "\n",
       "/* set the bar on top of the map (800) when set to fullscreen */\n",
       "header.v-app-bar {\n",
       "  z-index: 800 !important;\n",
       "}\n",
       "\n",
       "/* set the menu_content on top of the map when it's set to fullscreen */\n",
       ".v-menu__content {\n",
       "  max-width: 100% !important;\n",
       "  z-index: 801 !important;\n",
       "}\n",
       "\n",
       "/* make sure navigation drawers are always visible when they exist */\n",
       "nav.v-navigation-drawer {\n",
       "  z-index: 900 !important;\n",
       "}\n",
       "\n",
       "/* create extra position for the leaflet map controls */\n",
       ".leaflet-center {\n",
       "  left: 50%;\n",
       "  transform: translate(-50%, 0%);\n",
       "}\n",
       "\n",
       ".leaflet-middle {\n",
       "  top: 50%;\n",
       "  position: absolute;\n",
       "  z-index: 1000;\n",
       "  pointer-events: none;\n",
       "  transform: translate(0%, -50%);\n",
       "}\n",
       "\n",
       ".leaflet-center.leaflet-middle {\n",
       "  transform: translate(-50%, -50%);\n",
       "}\n",
       "\n",
       "/* create extra classes to customize the layer_control table */\n",
       ".v-no-hover:hover {\n",
       "  background-color: transparent !important;\n",
       "}\n",
       "\n",
       ".v-no-border tbody tr td,\n",
       ".v-no-border tbody tr th {\n",
       "  border: none !important;\n",
       "}\n",
       "\n",
       "/* extra css rules to make the messages disappear beneath the SimpleSlider */\n",
       ".v-no-messages .v-messages {\n",
       "  display: none;\n",
       "}\n",
       "\n",
       ".v-no-messages .v-input__slot {\n",
       "  margin-bottom: 0;\n",
       "}\n",
       "\n",
       "/* specific css for the btn placed on maps */\n",
       ".v-btn.v-size--default.v-map-btn:not(.v-btn--round) {\n",
       "  padding: 0px;\n",
       "  min-width: 0px;\n",
       "  width: 30px;\n",
       "  height: 30px;\n",
       "}\n",
       "\n",
       "/* add specific css for the zoom btn of the map */\n",
       ".v-btn.v-zoom-plus {\n",
       "  border-bottom-left-radius: 0;\n",
       "  border-bottom-right-radius: 0;\n",
       "}\n",
       "\n",
       ".v-btn.v-zoom-minus {\n",
       "  margin-top: -1px;\n",
       "  border-top-left-radius: 0;\n",
       "  border-top-right-radius: 0;\n",
       "}\n",
       "\n",
       "/* css rules for fullscreen menus */\n",
       ".v-card.v-menu-fullscreen {\n",
       "  width: calc(100vw - 80px);\n",
       "  height: calc(100vh - 20px);\n",
       "}\n",
       "\n",
       "/* hide the disclaimer message placed on top of the ui notebook\n",
       " * the message will be displayed until the css is loaded */\n",
       "#loading-app {\n",
       "  display: none !important;\n",
       "}\n",
       "\n",
       "/* Related with https://github.com/12rambau/sepal_ui/issues/893 */\n",
       "#rendered_cells,\n",
       "#main {\n",
       "  contain: revert !important;\n",
       "  background-color: revert !important;\n",
       "}\n",
       "\n",
       "#jp-main-content-panel {\n",
       "  contain: revert !important;\n",
       "}\n",
       "\n",
       ".full-screen-map > .leaflet-container {\n",
       "  position: fixed !important;\n",
       "  width: 100vw;\n",
       "  height: calc(100vh - 48px);\n",
       "  z-index: 800;\n",
       "  bottom: 0;\n",
       "  left: 0;\n",
       "}\n",
       "</style>"
      ],
      "text/plain": [
       "<IPython.core.display.HTML object>"
      ]
     },
     "metadata": {},
     "output_type": "display_data"
    },
    {
     "data": {
      "text/html": [
       "<link rel=\"stylesheet\" href=\"https://cdnjs.cloudflare.com/ajax/libs/font-awesome/6.2.1/css/all.min.css\"/>"
      ],
      "text/plain": [
       "<IPython.core.display.HTML object>"
      ]
     },
     "metadata": {},
     "output_type": "display_data"
    },
    {
     "data": {
      "application/javascript": [
       "/*******************************************************************************\n",
       " * remove any links from fontawesome 5 created by jupyter in favor of\n",
       " * fontawesome 6. to be removed when Jupyter updates it\n",
       " */\n",
       "\n",
       "function remove_fa5() {\n",
       "  let links = document.querySelectorAll(\n",
       "    \"link[href^='https://cdn.jsdelivr.net/npm/@fortawesome/fontawesome-free@^5']\"\n",
       "  );\n",
       "\n",
       "  links.forEach((link) => link.remove());\n",
       "}\n",
       "\n",
       "if (document.readyState != \"loading\") remove_fa5();\n",
       "else document.addEventListener(\"DOMContentLoaded\", remove_fa5);\n"
      ],
      "text/plain": [
       "<IPython.core.display.Javascript object>"
      ]
     },
     "metadata": {},
     "output_type": "display_data"
    },
    {
     "data": {
      "application/vnd.jupyter.widget-view+json": {
       "model_id": "812c05b21c5c421fb897142810f67b03",
       "version_major": 2,
       "version_minor": 0
      },
      "text/plain": [
       "ResizeTrigger()"
      ]
     },
     "metadata": {},
     "output_type": "display_data"
    },
    {
     "data": {
      "application/vnd.jupyter.widget-view+json": {
       "model_id": "5b2d8d4005704cd9b35be76eb0ac4375",
       "version_major": 2,
       "version_minor": 0
      },
      "text/plain": [
       "VuetifyTemplate(template=\"\\n        <style class='sepal-ui-script'>\\n            .custom_map .jupyter-widgets.…"
      ]
     },
     "metadata": {},
     "output_type": "display_data"
    },
    {
     "name": "stderr",
     "output_type": "stream",
     "text": [
      "*** Earth Engine *** Share your feedback by taking our Annual Developer Satisfaction Survey: https://google.qualtrics.com/jfe/form/SV_0JLhFqfSY1uiEaW?source=Init\n"
     ]
    }
   ],
   "source": [
    "import json\n",
    "\n",
    "import ipyvuetify as v\n",
    "from component.model.recipe import Recipe\n",
    "from component.tile.custom_aoi_tile import AoiTile\n",
    "from component.tile.dashboard_tile import DashboardTile\n",
    "from component.widget.alert_state import AlertState\n",
    "from component.scripts.plots import get_individual_charts\n",
    "\n",
    "\n",
    "from tests.data.test_recipes import *"
   ]
  },
  {
   "cell_type": "code",
   "execution_count": 4,
   "id": "6da11f13-d15e-4f08-9d15-225eb74cfeeb",
   "metadata": {
    "tags": []
   },
   "outputs": [
    {
     "data": {
      "application/vnd.jupyter.widget-view+json": {
       "model_id": "e00e57b744524273aa5d06c11c335a51",
       "version_major": 2,
       "version_minor": 0
      },
      "text/plain": [
       "AlertState(class_='d-none', layout=None, old_class='mt-5', style_='margin: 0 !important;', text=True, type='in…"
      ]
     },
     "execution_count": 4,
     "metadata": {},
     "output_type": "execute_result"
    }
   ],
   "source": [
    "build_alert = AlertState()\n",
    "build_alert"
   ]
  },
  {
   "cell_type": "code",
   "execution_count": 5,
   "id": "b95fe655-bdb6-479a-8605-e6344b064b72",
   "metadata": {
    "scrolled": true,
    "tags": []
   },
   "outputs": [
    {
     "data": {
      "application/vnd.jupyter.widget-view+json": {
       "model_id": "e00e57b744524273aa5d06c11c335a51",
       "version_major": 2,
       "version_minor": 0
      },
      "text/plain": [
       "AlertState(class_='d-none', layout=None, old_class='mt-5', style_='margin: 0 !important;', text=True, type='in…"
      ]
     },
     "execution_count": 5,
     "metadata": {},
     "output_type": "execute_result"
    }
   ],
   "source": [
    "build_alert"
   ]
  },
  {
   "cell_type": "code",
   "execution_count": 6,
   "id": "ddc1a77c-9a32-4ecf-955b-c1440d223933",
   "metadata": {
    "tags": []
   },
   "outputs": [],
   "source": [
    "recipe = Recipe()"
   ]
  },
  {
   "cell_type": "code",
   "execution_count": 7,
   "id": "19d0e7eb-b254-45d4-b707-571bf6dd3740",
   "metadata": {},
   "outputs": [],
   "source": [
    "# We need the AoiTile so it can create the SeplanAoi and will \n",
    "# set the feature collection in the model\n",
    "aoi_tile = AoiTile(recipe=recipe)"
   ]
  },
  {
   "cell_type": "code",
   "execution_count": 8,
   "id": "f35b5402-9a51-48bc-b0c5-2487f293eaef",
   "metadata": {},
   "outputs": [
    {
     "name": "stdout",
     "output_type": "stream",
     "text": [
      "zooming\n",
      "[[5.4568, -77.149], [8.858, -77.149]]\n",
      "2.0\n",
      "1\n",
      "2.0\n",
      "1.0\n"
     ]
    },
    {
     "data": {
      "text/plain": [
       "<component.model.recipe.Recipe at 0x7230164c54e0>"
      ]
     },
     "execution_count": 8,
     "metadata": {},
     "output_type": "execute_result"
    }
   ],
   "source": [
    "fail_recipe_path = \"/home/dguerrero/module_results/se.plan/recipes/antioquia2.json\"\n",
    "recipe.load(fail_recipe_path)"
   ]
  },
  {
   "cell_type": "code",
   "execution_count": null,
   "id": "05b83fa0-3b97-4508-a762-855ab707eb5a",
   "metadata": {},
   "outputs": [],
   "source": [
    "recipe.load(test_recipe_path)"
   ]
  },
  {
   "cell_type": "code",
   "execution_count": 9,
   "id": "86105801-d0f6-4f65-803d-f9e8cdc077a2",
   "metadata": {},
   "outputs": [
    {
     "data": {
      "text/plain": [
       "PosixPath('/home/dguerrero/1_modules/se.plan/tests/data/recipes/myanmar.json')"
      ]
     },
     "execution_count": 9,
     "metadata": {},
     "output_type": "execute_result"
    }
   ],
   "source": [
    "test_recipe_path\n",
    "test_antq1_recipe_path\n",
    "test_antq2_recipe_path\n",
    "test_empty_recipe_path\n",
    "test_error_recipe_path\n",
    "test_myanmar_recipe_path"
   ]
  },
  {
   "cell_type": "code",
   "execution_count": 19,
   "id": "7a83bf4e-c94c-4a37-9bf4-bc748d646390",
   "metadata": {},
   "outputs": [
    {
     "name": "stdout",
     "output_type": "stream",
     "text": [
      "zooming\n",
      "[[5.4568, -77.149], [8.858, -77.149]]\n",
      "0.0\n",
      "-1.0\n",
      "0.0\n",
      "1.0\n"
     ]
    },
    {
     "data": {
      "text/plain": [
       "<component.model.recipe.Recipe at 0x7230164c54e0>"
      ]
     },
     "execution_count": 19,
     "metadata": {},
     "output_type": "execute_result"
    }
   ],
   "source": [
    "recipe.load(test_antq2_recipe_path)"
   ]
  },
  {
   "cell_type": "code",
   "execution_count": 12,
   "id": "48992938-3095-4a90-b86d-782563ff9966",
   "metadata": {},
   "outputs": [],
   "source": [
    "dashboard_tile = DashboardTile(recipe=recipe)"
   ]
  },
  {
   "cell_type": "code",
   "execution_count": 13,
   "id": "c36f0058-973b-4c8c-9226-61545b7a833c",
   "metadata": {},
   "outputs": [],
   "source": [
    "# dashboard_tile.reset()\n",
    "# dashboard_tile.summary_stats = json.loads(Path(\"data/summary_stats.json\").read_text())[\"results\"]"
   ]
  },
  {
   "cell_type": "code",
   "execution_count": 14,
   "id": "1768479a-b288-48ad-af42-b0698d611727",
   "metadata": {},
   "outputs": [],
   "source": [
    "# suitability_data = {area_name:data[\"suitability\"] for area_name, data in dashboard_tile.summary_stats.items()}\n",
    "# # suitability_data"
   ]
  },
  {
   "cell_type": "code",
   "execution_count": 15,
   "id": "3c646b93-2f12-4187-82ff-8a2fc5888190",
   "metadata": {},
   "outputs": [
    {
     "data": {
      "text/plain": [
       "'/home/dguerrero/1_modules/se.plan/tests/data/recipes/myanmar.json'"
      ]
     },
     "execution_count": 15,
     "metadata": {},
     "output_type": "execute_result"
    }
   ],
   "source": [
    "recipe.recipe_session_path"
   ]
  },
  {
   "cell_type": "code",
   "execution_count": 17,
   "id": "7737807e-ecdc-4888-8abc-a21ee9a854ad",
   "metadata": {},
   "outputs": [
    {
     "data": {
      "text/plain": [
       "<component.model.recipe.Recipe at 0x7230164c54e0>"
      ]
     },
     "execution_count": 17,
     "metadata": {},
     "output_type": "execute_result"
    }
   ],
   "source": [
    "dashboard_tile.recipe"
   ]
  },
  {
   "cell_type": "code",
   "execution_count": 18,
   "id": "b4f37dbf-ca8e-4905-8f14-bd7f4dba1926",
   "metadata": {
    "tags": []
   },
   "outputs": [
    {
     "data": {
      "application/vnd.jupyter.widget-view+json": {
       "model_id": "b233a2be5bd743a2adfa168b55ebb26e",
       "version_major": 2,
       "version_minor": 0
      },
      "text/plain": [
       "DashboardTile(children=[DashToolbar(children=[Tooltip(children=['Save dashboard statistics as .csv'], close_de…"
      ]
     },
     "execution_count": 18,
     "metadata": {},
     "output_type": "execute_result"
    }
   ],
   "source": [
    "dashboard_tile"
   ]
  },
  {
   "cell_type": "markdown",
   "id": "fa49ef5f-9530-41cf-87a9-97ed268f111e",
   "metadata": {},
   "source": [
    "# Test suitability chart"
   ]
  },
  {
   "cell_type": "code",
   "execution_count": null,
   "id": "d6ae92c9-1375-4919-b812-4b53807fc954",
   "metadata": {},
   "outputs": [],
   "source": [
    "%load_ext autoreload\n",
    "%autoreload 2"
   ]
  },
  {
   "cell_type": "code",
   "execution_count": null,
   "id": "3d42a828-bcbb-4a98-8587-fdfe9d05e9f1",
   "metadata": {},
   "outputs": [],
   "source": [
    "import sys\n",
    "sys.path.append(\"../\")"
   ]
  },
  {
   "cell_type": "code",
   "execution_count": null,
   "id": "3b0de1e9-6723-42b5-a95e-7848da12a42c",
   "metadata": {},
   "outputs": [],
   "source": [
    "from component.scripts.plots import get_stacked_bars_chart, get_bars_chart, parse_layer_data, get_suitability_charts\n",
    "import json\n",
    "from component.widget.suitability_table import get_summary_table\n",
    "from pathlib import Path\n",
    "import ipyvuetify as v"
   ]
  },
  {
   "cell_type": "code",
   "execution_count": null,
   "id": "3e0583b2-49e2-4c85-93b0-b8b73e53543f",
   "metadata": {},
   "outputs": [],
   "source": [
    "summary_stats = json.loads(Path(\"data/summary_stats_double.json\").read_text())[\"results\"]"
   ]
  },
  {
   "cell_type": "code",
   "execution_count": null,
   "id": "5da72100-2f1b-48bd-b77b-3e3871fbdbd2",
   "metadata": {},
   "outputs": [],
   "source": [
    "summary_stats2 = json.loads(Path(\"data/summary_stats.json\").read_text())[\"results\"]"
   ]
  },
  {
   "cell_type": "code",
   "execution_count": null,
   "id": "f27dd672-1cb2-4e52-a41f-5fb08d06a337",
   "metadata": {},
   "outputs": [],
   "source": [
    "summary_stats3 = json.loads(Path(\"data/summary_stats_single.json\").read_text())[\"results\"]"
   ]
  },
  {
   "cell_type": "code",
   "execution_count": null,
   "id": "6e330ba3-bc83-4906-ac8e-9b6f1460514b",
   "metadata": {},
   "outputs": [],
   "source": [
    "from component.parameter.vis_params import gradient"
   ]
  },
  {
   "cell_type": "code",
   "execution_count": null,
   "id": "4c013c5f-ae83-4474-81f0-daaf15c1b88f",
   "metadata": {},
   "outputs": [],
   "source": [
    "palettes = {\"green\": [\"#EBFAF2\", \"#66c2a4\", \"#006d2c\"]}\n",
    "# palettes = {\"green\": [\"#98FB98\", \"#32CD32\", \"#006400\"]}\n",
    "\n",
    "no_data_color = [\"#353535\"]  # the color used for values filtered by constraints\n",
    "gradient_palette = gradient(levels=5, palette=palettes[\"green\"])\n",
    "gradient_palette"
   ]
  },
  {
   "cell_type": "code",
   "execution_count": null,
   "id": "8a236581-a8c6-42f2-80d9-4ca7486774b4",
   "metadata": {},
   "outputs": [],
   "source": [
    "chart = get_suitability_charts([summary_stats, summary_stats2,summary_stats3], test=True)\n",
    "chart"
   ]
  },
  {
   "cell_type": "code",
   "execution_count": null,
   "id": "88487ae0-6bb3-4d4e-97f1-6c08fc3a3ee3",
   "metadata": {},
   "outputs": [],
   "source": [
    "suitability_table = get_summary_table([summary_stats, summary_stats2, summary_stats3], \"both\")\n",
    "suitability_table"
   ]
  },
  {
   "cell_type": "code",
   "execution_count": null,
   "id": "a2a78292-c3e5-444b-91c1-fd58a435e98d",
   "metadata": {},
   "outputs": [],
   "source": [
    "v.theme.dark=not v.theme.dark"
   ]
  },
  {
   "cell_type": "code",
   "execution_count": null,
   "id": "a7193b77-d7d1-4bc0-a4b2-e94678c63ffc",
   "metadata": {},
   "outputs": [],
   "source": []
  },
  {
   "cell_type": "code",
   "execution_count": null,
   "id": "e4eddb1a-e150-4541-992f-c17b3e0ddfa8",
   "metadata": {},
   "outputs": [],
   "source": []
  },
  {
   "cell_type": "code",
   "execution_count": null,
   "id": "e891f272-6ee9-4eb2-9ac2-f8428418183c",
   "metadata": {},
   "outputs": [],
   "source": []
  },
  {
   "cell_type": "code",
   "execution_count": null,
   "id": "2c39d1b3-4ee8-4000-b38a-c83f370a5cdc",
   "metadata": {},
   "outputs": [],
   "source": [
    "chart.theme='light'\n",
    "chart.renderer='svg'"
   ]
  },
  {
   "cell_type": "code",
   "execution_count": null,
   "id": "98658b23-5eb1-478b-bc94-e97cbb45c971",
   "metadata": {},
   "outputs": [],
   "source": [
    "chart.theme='dark'\n",
    "chart.renderer='svg'"
   ]
  },
  {
   "cell_type": "code",
   "execution_count": null,
   "id": "4540d424-862a-41b7-9f75-4fc7b883396e",
   "metadata": {},
   "outputs": [],
   "source": [
    "layer_id = \"plantation_growth_rates\"\n",
    "layer_data = recipe.seplan.benefit_model.get_layer_data(\"plantation_growth_rates\")\n",
    "aoi_names, values, colors = parse_layer_data(summary_results, layer_id)"
   ]
  },
  {
   "cell_type": "code",
   "execution_count": null,
   "id": "9926f6ae-437c-4d2e-a2a1-0742a7f36875",
   "metadata": {},
   "outputs": [],
   "source": [
    "aoi_names, values, colors, series_names = [], [], [], []\n",
    "for layer_id in recipe.seplan.cost_model.ids:\n",
    "\n",
    "    layer_data = recipe.seplan.cost_model.get_layer_data(layer_id)\n",
    "\n",
    "    aoi_name, value, color = parse_layer_data(summary_results, layer_id)\n",
    "    aoi_names.append(aoi_name)\n",
    "    values.append(value)\n",
    "    colors.append(color)\n",
    "    series_names.append(layer_data[\"name\"])\n",
    "\n",
    "chart = get_bars_chart(\n",
    "    aoi_names[0], values, series_names, series_colors = ['#4CAF50', '#2196F3'\n",
    "    ], custom_item_color=False, custom_item_colors=colors, bars_width=70\n",
    ")\n",
    "chart"
   ]
  },
  {
   "cell_type": "code",
   "execution_count": null,
   "id": "410ceaa0-fbd2-462b-9590-0aec9a3eef8c",
   "metadata": {},
   "outputs": [],
   "source": [
    "print(chart)"
   ]
  },
  {
   "cell_type": "code",
   "execution_count": null,
   "id": "666031f4-6a1f-4603-97f8-009420087550",
   "metadata": {},
   "outputs": [],
   "source": [
    "chart"
   ]
  },
  {
   "cell_type": "code",
   "execution_count": null,
   "id": "6eb99a39-c5bc-4f83-8d9a-d23b0e2586da",
   "metadata": {},
   "outputs": [],
   "source": [
    "from component.widget.dashboard_layer_panels import LayerFull"
   ]
  },
  {
   "cell_type": "code",
   "execution_count": null,
   "id": "d6091849-3a1b-4f0d-8aa4-e79fa2059135",
   "metadata": {},
   "outputs": [],
   "source": [
    "layer_data = recipe.seplan.cost_model.get_layer_data(layer_id)"
   ]
  },
  {
   "cell_type": "code",
   "execution_count": null,
   "id": "4bce0829-967d-4465-b643-73219e271172",
   "metadata": {},
   "outputs": [],
   "source": [
    "LayerFull(layer_data, chart)"
   ]
  },
  {
   "cell_type": "code",
   "execution_count": null,
   "id": "baaf892c-a590-4670-bb00-780641147d5c",
   "metadata": {},
   "outputs": [],
   "source": []
  },
  {
   "cell_type": "markdown",
   "id": "ac710218-c22c-4b76-9902-23c1185f615a",
   "metadata": {},
   "source": [
    "## Test theme charts"
   ]
  },
  {
   "cell_type": "code",
   "execution_count": null,
   "id": "8c73dd9a-d8eb-4cf7-aeb5-54f3539f77d4",
   "metadata": {},
   "outputs": [],
   "source": [
    "%load_ext autoreload\n",
    "%autoreload 2"
   ]
  },
  {
   "cell_type": "code",
   "execution_count": null,
   "id": "bcfc17fa-7098-40f4-8b9e-bf16bb12ec70",
   "metadata": {},
   "outputs": [],
   "source": [
    "import sys\n",
    "sys.path.append(\"../\")"
   ]
  },
  {
   "cell_type": "code",
   "execution_count": null,
   "id": "d9001303-60b5-4f9a-9503-8eee766dd59e",
   "metadata": {},
   "outputs": [],
   "source": [
    "from component.model.recipe import Recipe\n",
    "from component.scripts.statistics import get_summary_statistics"
   ]
  },
  {
   "cell_type": "code",
   "execution_count": null,
   "id": "3ad34e36-12df-44be-a266-6a32253b958f",
   "metadata": {},
   "outputs": [],
   "source": [
    "recipe_1_path = \"/home/dguerrero/module_results/se.plan/recipes/antioquia_1.json\"\n",
    "recipe_2_path = \"/home/dguerrero/module_results/se.plan/recipes/antioquia_2.json\""
   ]
  },
  {
   "cell_type": "code",
   "execution_count": null,
   "id": "204618e2-afe8-4191-a8fe-8c0e0ab177fd",
   "metadata": {},
   "outputs": [],
   "source": [
    "recipe_1 = Recipe().load(recipe_1_path)\n",
    "recipe_2 = Recipe().load(recipe_2_path)"
   ]
  },
  {
   "cell_type": "code",
   "execution_count": null,
   "id": "e0e44b41-ecb7-4144-802d-4201f8ddc55a",
   "metadata": {},
   "outputs": [],
   "source": [
    "stats_recipe_1 = get_summary_statistics(recipe_1)"
   ]
  },
  {
   "cell_type": "code",
   "execution_count": null,
   "id": "7a12b2ed-555f-4a54-bcdb-e5c788a34929",
   "metadata": {},
   "outputs": [],
   "source": [
    "stats_recipe_2 = get_summary_statistics(recipe_2)"
   ]
  },
  {
   "cell_type": "code",
   "execution_count": null,
   "id": "859c49c6-130e-4873-aad2-08592ebda80c",
   "metadata": {},
   "outputs": [],
   "source": [
    "from component.tile.dashboard_tile import ThemeDashboard"
   ]
  },
  {
   "cell_type": "code",
   "execution_count": null,
   "id": "eb38e98a-36c5-4b5d-8a59-e733dd0c278b",
   "metadata": {},
   "outputs": [],
   "source": [
    "theme_dashboard = ThemeDashboard()\n",
    "theme_dashboard.set_summary(recipes=[recipe_1, recipe_2], recipes_stats=[stats_recipe_1, stats_recipe_2])"
   ]
  },
  {
   "cell_type": "code",
   "execution_count": null,
   "id": "e73af3e7-21e8-48d2-84fa-4beed8c55407",
   "metadata": {},
   "outputs": [],
   "source": []
  },
  {
   "cell_type": "code",
   "execution_count": null,
   "id": "3cb24d84-9227-4d8c-a80d-b123ffd17824",
   "metadata": {},
   "outputs": [],
   "source": []
  },
  {
   "cell_type": "markdown",
   "id": "cc984471-8643-4e89-9a1b-fe3127574867",
   "metadata": {},
   "source": [
    "### Test stats "
   ]
  },
  {
   "cell_type": "code",
   "execution_count": null,
   "id": "ec5a6e42-449d-40dc-bc04-442712cd017c",
   "metadata": {
    "tags": []
   },
   "outputs": [],
   "source": [
    "ee_features = recipe.seplan.aoi_model.get_ee_features()\n",
    "ee_features"
   ]
  },
  {
   "cell_type": "code",
   "execution_count": null,
   "id": "77362665-b2a7-470a-98da-7722a6f1224b",
   "metadata": {
    "tags": []
   },
   "outputs": [],
   "source": [
    "from component.tile.dashboard_tile import DashboardTile\n",
    "from component.widget.alert_state import AlertState"
   ]
  },
  {
   "cell_type": "code",
   "execution_count": null,
   "id": "200c1bab-d16c-4036-81c1-17073477ba66",
   "metadata": {
    "tags": []
   },
   "outputs": [],
   "source": [
    "alert = AlertState()\n",
    "alert"
   ]
  },
  {
   "cell_type": "code",
   "execution_count": null,
   "id": "0f3d9ece-b32b-4acd-a085-73291c116921",
   "metadata": {
    "tags": []
   },
   "outputs": [],
   "source": [
    "dashboard_tile = DashboardTile(recipe)"
   ]
  },
  {
   "cell_type": "code",
   "execution_count": null,
   "id": "8ec8aa47-7228-46e5-916c-0f802730f115",
   "metadata": {
    "tags": []
   },
   "outputs": [],
   "source": [
    "dashboard_tile"
   ]
  },
  {
   "cell_type": "markdown",
   "id": "0a5ea049-c7bf-44d1-b5c1-f3fa93863c75",
   "metadata": {},
   "source": [
    "## Test statistics from recipe"
   ]
  },
  {
   "cell_type": "code",
   "execution_count": null,
   "id": "21431aff-f202-42da-8b37-27b94d9ac499",
   "metadata": {},
   "outputs": [],
   "source": [
    "%load_ext autoreload\n",
    "%autoreload 2"
   ]
  },
  {
   "cell_type": "code",
   "execution_count": null,
   "id": "8bfdd51c-5c40-480f-aaea-4469e0e7a9f0",
   "metadata": {
    "tags": []
   },
   "outputs": [],
   "source": [
    "import sys\n",
    "sys.path.append(\"../\")\n",
    "from component.scripts.statistics import get_summary_statistics\n",
    "from component.model.recipe import Recipe\n",
    "from component.scripts.seplan import reduce_constraints\n",
    "import ee\n",
    "ee.Initialize()"
   ]
  },
  {
   "cell_type": "code",
   "execution_count": null,
   "id": "4d631f49-316e-4f9e-bf07-b8d9f93d22ca",
   "metadata": {},
   "outputs": [],
   "source": [
    "# Load a previously created recipe\n",
    "recipe = Recipe()\n",
    "recipe.load(\"/home/dguerrero/module_results/se.plan/recipes/antioquia_1.json\")\n",
    "recipe.seplan_aoi.aoi_model.set_object(); # we have to do this manually\n",
    "aoi = recipe.seplan_aoi.aoi_model.feature_collection"
   ]
  },
  {
   "cell_type": "code",
   "execution_count": null,
   "id": "27ba0ac3-1a1b-4af7-9667-1de69e0b8f2c",
   "metadata": {
    "tags": []
   },
   "outputs": [],
   "source": [
    "summary_stats = get_summary_statistics(recipe)\n",
    "summary_stats"
   ]
  },
  {
   "cell_type": "markdown",
   "id": "1dde905b-b176-4add-8fb2-d0a7f86e7d4d",
   "metadata": {},
   "source": [
    "## Calculate the image percent cover pixel area"
   ]
  },
  {
   "cell_type": "code",
   "execution_count": null,
   "id": "5ff8b7bc-9a06-4395-b68c-e1372c48ceca",
   "metadata": {
    "tags": []
   },
   "outputs": [],
   "source": [
    "from component.scripts.statistics import get_image_percent_cover_pixelarea\n",
    "from component.scripts.seplan import mask_image"
   ]
  },
  {
   "cell_type": "code",
   "execution_count": null,
   "id": "39ed1b26-335e-4b59-a776-b7fbced93ccc",
   "metadata": {
    "tags": []
   },
   "outputs": [],
   "source": [
    "aoi = recipe.seplan.aoi_model.feature_collection"
   ]
  },
  {
   "cell_type": "code",
   "execution_count": null,
   "id": "607fff88-36ce-4958-b369-2dafdf354dcb",
   "metadata": {
    "tags": []
   },
   "outputs": [],
   "source": [
    "asset_id = recipe.seplan.constraint_model.assets[0]\n",
    "data_type = recipe.seplan.constraint_model.data_type[0]\n",
    "maskout_values = recipe.seplan.constraint_model.values[0]\n",
    "\n",
    "asset_id, data_type, maskout_values"
   ]
  },
  {
   "cell_type": "code",
   "execution_count": null,
   "id": "a4ad1e39-7d3f-4970-b1c9-34595ee993e1",
   "metadata": {
    "tags": []
   },
   "outputs": [],
   "source": [
    "# maskout any image from the model\n",
    "\n",
    "masked_image = mask_image(asset_id, data_type, maskout_values)"
   ]
  },
  {
   "cell_type": "code",
   "execution_count": null,
   "id": "95c0f6da-a59a-42b3-be03-0eac8013ac1d",
   "metadata": {
    "tags": []
   },
   "outputs": [],
   "source": [
    "get_image_percent_cover_pixelarea(masked_image, aoi, \"perro\").getInfo()"
   ]
  },
  {
   "cell_type": "code",
   "execution_count": null,
   "id": "62eb5b13-0b9f-415f-ae7c-2ee7020681d9",
   "metadata": {
    "tags": []
   },
   "outputs": [],
   "source": [
    "from sepal_ui.mapping import SepalMap\n",
    "import ee\n",
    "\n",
    "ee.Initialize()"
   ]
  },
  {
   "cell_type": "code",
   "execution_count": null,
   "id": "68135700-5d38-4e84-a533-6dbb82b312eb",
   "metadata": {
    "tags": []
   },
   "outputs": [],
   "source": [
    "map_ = SepalMap()\n",
    "map_.addLayer(masked_image.unmask(0).randomVisualizer().clip(aoi))\n",
    "map_"
   ]
  },
  {
   "cell_type": "markdown",
   "id": "97e79030-b6d0-44b0-8085-6d6c92ec2575",
   "metadata": {
    "tags": []
   },
   "source": [
    "## Calculate the image sum on COSTS"
   ]
  },
  {
   "cell_type": "code",
   "execution_count": null,
   "id": "a82a11fe-dda2-48b0-8ee0-e5d75455a4c8",
   "metadata": {
    "tags": []
   },
   "outputs": [],
   "source": [
    "%load_ext autoreload\n",
    "%autoreload 2"
   ]
  },
  {
   "cell_type": "code",
   "execution_count": null,
   "id": "ab9236dd-3140-40f8-becd-5c8e4f0aae3f",
   "metadata": {
    "tags": []
   },
   "outputs": [],
   "source": [
    "from component.scripts.statistics import get_image_sum\n",
    "from component.scripts.seplan import reduce_constraints, asset_to_image"
   ]
  },
  {
   "cell_type": "code",
   "execution_count": null,
   "id": "71714efe-4f14-4181-a22d-a6eedc019cb1",
   "metadata": {
    "tags": []
   },
   "outputs": [],
   "source": [
    "aoi = recipe.seplan.aoi_model.feature_collection"
   ]
  },
  {
   "cell_type": "code",
   "execution_count": null,
   "id": "a6c885b8-1f8e-447a-a3b2-8c616215ee84",
   "metadata": {
    "tags": []
   },
   "outputs": [],
   "source": [
    "asset_id = recipe.seplan.cost_model.assets[0]\n",
    "constraint_list = recipe.seplan.get_masked_constraints_list()\n",
    "mask_out_areas = reduce_constraints(constraint_list)"
   ]
  },
  {
   "cell_type": "code",
   "execution_count": null,
   "id": "8347f140-a8a0-4af8-a0fb-8f16995f7704",
   "metadata": {
    "tags": []
   },
   "outputs": [],
   "source": [
    "image = asset_to_image(asset_id)"
   ]
  },
  {
   "cell_type": "code",
   "execution_count": null,
   "id": "f11b2b1a-bfb4-4260-b908-3f698308594d",
   "metadata": {
    "tags": []
   },
   "outputs": [],
   "source": [
    "sum_img = image.updateMask(mask_out_areas).reduceRegion(\n",
    "    reducer=ee.Reducer.sum(),\n",
    "    geometry=aoi,\n",
    "    scale=100,\n",
    "    maxPixels=1e13,\n",
    ")\n",
    "sum_img.values().get(0).getInfo()"
   ]
  },
  {
   "cell_type": "code",
   "execution_count": null,
   "id": "e6be3097-4a3b-47c8-8d21-33d74caf1b0d",
   "metadata": {
    "tags": []
   },
   "outputs": [],
   "source": [
    "get_image_sum(image, aoi, mask_out_areas, \"name\").getInfo()"
   ]
  },
  {
   "cell_type": "code",
   "execution_count": null,
   "id": "3e968d0e-ff67-4cf8-b65a-97d69a7da82e",
   "metadata": {
    "tags": []
   },
   "outputs": [],
   "source": [
    "area_ha = (\n",
    "    ee.Image.pixelArea()\n",
    "    .divide(10000)\n",
    "    .reduceRegion(\n",
    "        reducer=ee.Reducer.sum(),\n",
    "        geometry=aoi,\n",
    "        scale=100,\n",
    "        maxPixels=1e13,\n",
    "    )\n",
    "    .getInfo()\n",
    ")"
   ]
  },
  {
   "cell_type": "code",
   "execution_count": null,
   "id": "12051f35-ccb7-4ca9-af49-2cf55490c796",
   "metadata": {
    "tags": []
   },
   "outputs": [],
   "source": [
    "map_.addLayer(constraint_list[0][0].clip(aoi), {}, \"mask\")"
   ]
  },
  {
   "cell_type": "code",
   "execution_count": null,
   "id": "ac0e9e7f-7f64-4b5d-aaa9-21eb93ca0227",
   "metadata": {
    "tags": []
   },
   "outputs": [],
   "source": [
    "map_ = SepalMap()\n",
    "map_.addLayer(mask_out_areas.randomVisualizer().clip(aoi))\n",
    "map_"
   ]
  }
 ],
 "metadata": {
  "kernelspec": {
   "display_name": "Python 3 (ipykernel)",
   "language": "python",
   "name": "python3"
  },
  "language_info": {
   "codemirror_mode": {
    "name": "ipython",
    "version": 3
   },
   "file_extension": ".py",
   "mimetype": "text/x-python",
   "name": "python",
   "nbconvert_exporter": "python",
   "pygments_lexer": "ipython3",
   "version": "3.10.14"
  }
 },
 "nbformat": 4,
 "nbformat_minor": 5
}
