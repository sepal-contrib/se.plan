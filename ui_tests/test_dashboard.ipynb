{
 "cells": [
  {
   "cell_type": "code",
   "execution_count": 2,
   "id": "4ca903f4-aeb9-44b9-8cd1-3bda3c1fe345",
   "metadata": {
    "tags": []
   },
   "outputs": [
    {
     "name": "stdout",
     "output_type": "stream",
     "text": [
      "The autoreload extension is already loaded. To reload it, use:\n",
      "  %reload_ext autoreload\n"
     ]
    }
   ],
   "source": [
    "%load_ext autoreload\n",
    "%autoreload 2"
   ]
  },
  {
   "cell_type": "code",
   "execution_count": 3,
   "id": "7a54cfc1-c0c5-44c9-8d34-3ffc7090bdaa",
   "metadata": {
    "tags": []
   },
   "outputs": [
    {
     "data": {
      "text/html": [
       "<style>/*******************************************************************************\n",
       " * Customization of the provided css from the different libs used by sepal_ui\n",
       " */\n",
       "\n",
       "/* replace the map panel elements on top */\n",
       ".leaflet-pane,\n",
       ".leaflet-top,\n",
       ".leaflet-bottom {\n",
       "  z-index: 2 !important;\n",
       "}\n",
       "\n",
       "/* remove the shadow from the widgets on the maps */\n",
       ".leaflet-widgetcontrol {\n",
       "  box-shadow: none;\n",
       "}\n",
       "\n",
       "/* remove extra padding on top of the content */\n",
       "main.v-content {\n",
       "  padding-top: 0px !important;\n",
       "}\n",
       "\n",
       "/* remove all the backgrounds from the controls and widget to be colored naturelly by the map */\n",
       ".leaflet-control-container .vuetify-styles .v-application {\n",
       "  background: rgb(0, 0, 0, 0);\n",
       "}\n",
       ".v-alert__wrapper .progress {\n",
       "  background-color: transparent;\n",
       "}\n",
       "\n",
       "/* set the bar on top of the map (800) when set to fullscreen */\n",
       "header.v-app-bar {\n",
       "  z-index: 800 !important;\n",
       "}\n",
       "\n",
       "/* set the menu_content on top of the map when it's set to fullscreen */\n",
       ".v-menu__content {\n",
       "  max-width: 100% !important;\n",
       "}\n",
       "\n",
       "/* make sure navigation drawers are always visible when they exist */\n",
       "nav.v-navigation-drawer {\n",
       "  z-index: 900 !important;\n",
       "}\n",
       "\n",
       "/* create extra position for the leaflet map controls */\n",
       ".leaflet-center {\n",
       "  left: 50%;\n",
       "  transform: translate(-50%, 0%);\n",
       "}\n",
       "\n",
       ".leaflet-middle {\n",
       "  top: 50%;\n",
       "  position: absolute;\n",
       "  z-index: 1000;\n",
       "  pointer-events: none;\n",
       "  transform: translate(0%, -50%);\n",
       "}\n",
       "\n",
       ".leaflet-center.leaflet-middle {\n",
       "  transform: translate(-50%, -50%);\n",
       "}\n",
       "\n",
       "/* create extra classes to customize the layer_control table */\n",
       ".v-no-hover:hover {\n",
       "  background-color: transparent !important;\n",
       "}\n",
       "\n",
       ".v-no-border tbody tr td,\n",
       ".v-no-border tbody tr th {\n",
       "  border: none !important;\n",
       "}\n",
       "\n",
       "/* extra css rules to make the messages disappear beneath the SimpleSlider */\n",
       ".v-no-messages .v-messages {\n",
       "  display: none;\n",
       "}\n",
       "\n",
       ".v-no-messages .v-input__slot {\n",
       "  margin-bottom: 0;\n",
       "}\n",
       "\n",
       "/* specific css for the btn placed on maps */\n",
       ".v-btn.v-size--default.v-map-btn:not(.v-btn--round) {\n",
       "  padding: 0px;\n",
       "  min-width: 0px;\n",
       "  width: 30px;\n",
       "  height: 30px;\n",
       "}\n",
       "\n",
       "/* add specific css for the zoom btn of the map */\n",
       ".v-btn.v-zoom-plus {\n",
       "  border-bottom-left-radius: 0;\n",
       "  border-bottom-right-radius: 0;\n",
       "}\n",
       "\n",
       ".v-btn.v-zoom-minus {\n",
       "  margin-top: -1px;\n",
       "  border-top-left-radius: 0;\n",
       "  border-top-right-radius: 0;\n",
       "}\n",
       "\n",
       "/* css rules for fullscreen menus */\n",
       ".v-card.v-menu-fullscreen {\n",
       "  width: calc(100vw - 80px);\n",
       "  height: calc(100vh - 20px);\n",
       "}\n",
       "\n",
       "/* hide the disclaimer message placed on top of the ui notebook\n",
       " * the message will be displayed until the css is loaded */\n",
       "#loading-app {\n",
       "  display: none !important;\n",
       "}\n",
       "\n",
       "/* Related with https://github.com/12rambau/sepal_ui/issues/893 */\n",
       "#rendered_cells {\n",
       "  contain: revert !important;\n",
       "  background-color: revert !important;\n",
       "}\n",
       "</style>"
      ],
      "text/plain": [
       "<IPython.core.display.HTML object>"
      ]
     },
     "metadata": {},
     "output_type": "display_data"
    },
    {
     "data": {
      "text/html": [
       "<link rel=\"stylesheet\" href=\"https://cdnjs.cloudflare.com/ajax/libs/font-awesome/6.2.1/css/all.min.css\"/>"
      ],
      "text/plain": [
       "<IPython.core.display.HTML object>"
      ]
     },
     "metadata": {},
     "output_type": "display_data"
    },
    {
     "data": {
      "application/javascript": "/*******************************************************************************\n * remove any links from fontawesome 5 created by jupyter in favor of\n * fontawesome 6. to be removed when Jupyter updates it\n */\n\nfunction remove_fa5() {\n  let links = document.querySelectorAll(\n    \"link[href^='https://cdn.jsdelivr.net/npm/@fortawesome/fontawesome-free@^5']\"\n  );\n\n  links.forEach((link) => link.remove());\n}\n\nif (document.readyState != \"loading\") remove_fa5();\nelse document.addEventListener(\"DOMContentLoaded\", remove_fa5);\n",
      "text/plain": [
       "<IPython.core.display.Javascript object>"
      ]
     },
     "metadata": {},
     "output_type": "display_data"
    }
   ],
   "source": [
    "import sys\n",
    "sys.path.append(\"../\")\n",
    "from component.message import cm"
   ]
  },
  {
   "cell_type": "code",
   "execution_count": 4,
   "id": "0002ab75-28f6-46a6-8fee-0c88ab0f9c5a",
   "metadata": {
    "tags": []
   },
   "outputs": [
    {
     "data": {
      "application/vnd.jupyter.widget-view+json": {
       "model_id": "b161120908584143a17bac5a9e879bf1",
       "version_major": 2,
       "version_minor": 0
      },
      "text/plain": [
       "ResizeTrigger()"
      ]
     },
     "metadata": {},
     "output_type": "display_data"
    },
    {
     "data": {
      "application/vnd.jupyter.widget-view+json": {
       "model_id": "97db87ccbc474edb99612248fb06861e",
       "version_major": 2,
       "version_minor": 0
      },
      "text/plain": [
       "VuetifyTemplate(template=\"\\n        <style class='sepal-ui-script'>\\n            .custom_map .jupyter-widgets.…"
      ]
     },
     "metadata": {},
     "output_type": "display_data"
    }
   ],
   "source": [
    "from component.model.recipe import Recipe\n",
    "from component.tile.custom_aoi_tile import AoiTile\n",
    "from component.tile.dashboard_tile import DashboardTile\n",
    "from component.widget.alert_state import AlertState"
   ]
  },
  {
   "cell_type": "code",
   "execution_count": 5,
   "id": "6da11f13-d15e-4f08-9d15-225eb74cfeeb",
   "metadata": {
    "tags": []
   },
   "outputs": [],
   "source": [
    "build_alert = AlertState()"
   ]
  },
  {
   "cell_type": "code",
   "execution_count": 6,
   "id": "b95fe655-bdb6-479a-8605-e6344b064b72",
   "metadata": {
    "tags": []
   },
   "outputs": [
    {
     "data": {
      "application/vnd.jupyter.widget-view+json": {
       "model_id": "f22427bb8c0245198b493d490064b5bd",
       "version_major": 2,
       "version_minor": 0
      },
      "text/plain": [
       "AlertState(class_='d-none', layout=None, old_class='mt-5', style_='margin: 0 !important;', text=True, type='in…"
      ]
     },
     "execution_count": 6,
     "metadata": {},
     "output_type": "execute_result"
    }
   ],
   "source": [
    "build_alert"
   ]
  },
  {
   "cell_type": "code",
   "execution_count": 7,
   "id": "ddc1a77c-9a32-4ecf-955b-c1440d223933",
   "metadata": {
    "tags": []
   },
   "outputs": [
    {
     "data": {
      "text/plain": [
       "<component.model.recipe.Recipe at 0x772cda1eb010>"
      ]
     },
     "execution_count": 7,
     "metadata": {},
     "output_type": "execute_result"
    }
   ],
   "source": [
    "recipe = Recipe()\n",
    "recipe.load_model()"
   ]
  },
  {
   "cell_type": "code",
   "execution_count": 8,
   "id": "8b2ca6ff-23da-4cb1-a1d9-9e9f72990465",
   "metadata": {
    "tags": []
   },
   "outputs": [],
   "source": [
    "aoi_tile = AoiTile()"
   ]
  },
  {
   "cell_type": "code",
   "execution_count": 9,
   "id": "48992938-3095-4a90-b86d-782563ff9966",
   "metadata": {},
   "outputs": [],
   "source": [
    "dashboard_tile = DashboardTile()\n",
    "dashboard_tile.build(recipe=recipe, build_alert=build_alert)"
   ]
  },
  {
   "cell_type": "code",
   "execution_count": 10,
   "id": "1b65d526-2102-4b9b-a3f5-abb9979841d5",
   "metadata": {
    "tags": []
   },
   "outputs": [],
   "source": [
    "aoi_tile.build(recipe=recipe, build_alert=build_alert)"
   ]
  },
  {
   "cell_type": "code",
   "execution_count": 20,
   "id": "e60f5bc6-5f00-4d1f-9e0b-6ee0dbd8fdbf",
   "metadata": {
    "tags": []
   },
   "outputs": [],
   "source": [
    "aoi_tile;"
   ]
  },
  {
   "cell_type": "code",
   "execution_count": 21,
   "id": "b4f37dbf-ca8e-4905-8f14-bd7f4dba1926",
   "metadata": {
    "tags": []
   },
   "outputs": [],
   "source": [
    "dashboard_tile;"
   ]
  },
  {
   "cell_type": "markdown",
   "id": "cc984471-8643-4e89-9a1b-fe3127574867",
   "metadata": {},
   "source": [
    "### Test stats "
   ]
  },
  {
   "cell_type": "code",
   "execution_count": 15,
   "id": "ec5a6e42-449d-40dc-bc04-442712cd017c",
   "metadata": {
    "tags": []
   },
   "outputs": [
    {
     "data": {
      "text/plain": [
       "{'COL_Risaralda': {'ee_feature': <pygaul.AdmItems at 0x772c6ebe3250>,\n",
       "  'color': '#b3842e'}}"
      ]
     },
     "execution_count": 15,
     "metadata": {},
     "output_type": "execute_result"
    }
   ],
   "source": [
    "ee_features = recipe.seplan.aoi_model.get_ee_features()\n",
    "ee_features"
   ]
  },
  {
   "cell_type": "code",
   "execution_count": 16,
   "id": "77362665-b2a7-470a-98da-7722a6f1224b",
   "metadata": {
    "tags": []
   },
   "outputs": [],
   "source": [
    "from component.tile.dashboard_tile import DashboardTile\n",
    "from component.widget.alert_state import AlertState"
   ]
  },
  {
   "cell_type": "code",
   "execution_count": 17,
   "id": "200c1bab-d16c-4036-81c1-17073477ba66",
   "metadata": {
    "tags": []
   },
   "outputs": [
    {
     "data": {
      "application/vnd.jupyter.widget-view+json": {
       "model_id": "c333496dbdd14f939608684eb54d058f",
       "version_major": 2,
       "version_minor": 0
      },
      "text/plain": [
       "AlertState(class_='d-none', layout=None, old_class='mt-5', style_='margin: 0 !important;', text=True, type='in…"
      ]
     },
     "execution_count": 17,
     "metadata": {},
     "output_type": "execute_result"
    }
   ],
   "source": [
    "alert = AlertState()\n",
    "alert"
   ]
  },
  {
   "cell_type": "code",
   "execution_count": 18,
   "id": "0f3d9ece-b32b-4acd-a085-73291c116921",
   "metadata": {
    "tags": []
   },
   "outputs": [],
   "source": [
    "dashboard_tile = DashboardTile()"
   ]
  },
  {
   "cell_type": "code",
   "execution_count": 19,
   "id": "8ec8aa47-7228-46e5-916c-0f802730f115",
   "metadata": {
    "tags": []
   },
   "outputs": [
    {
     "ename": "AttributeError",
     "evalue": "'Recipe' object has no attribute 'dash_model'",
     "output_type": "error",
     "traceback": [
      "\u001b[0;31m---------------------------------------------------------------------------\u001b[0m",
      "\u001b[0;31mAttributeError\u001b[0m                            Traceback (most recent call last)",
      "Cell \u001b[0;32mIn[19], line 1\u001b[0m\n\u001b[0;32m----> 1\u001b[0m \u001b[43mdashboard_tile\u001b[49m\u001b[38;5;241;43m.\u001b[39;49m\u001b[43mbuild\u001b[49m\u001b[43m(\u001b[49m\u001b[43mrecipe\u001b[49m\u001b[43m,\u001b[49m\u001b[43m \u001b[49m\u001b[43malert\u001b[49m\u001b[43m)\u001b[49m\n",
      "File \u001b[0;32m~/1_modules/se.plan/ui_tests/../component/tile/dashboard_tile.py:63\u001b[0m, in \u001b[0;36mDashboardTile.build\u001b[0;34m(self, recipe, build_alert)\u001b[0m\n\u001b[1;32m     59\u001b[0m dash_toolbar\u001b[38;5;241m.\u001b[39mbtn_download\u001b[38;5;241m.\u001b[39mon_event(\u001b[38;5;124m\"\u001b[39m\u001b[38;5;124mclick\u001b[39m\u001b[38;5;124m\"\u001b[39m, \u001b[38;5;28mself\u001b[39m\u001b[38;5;241m.\u001b[39mcsv_export)\n\u001b[1;32m     61\u001b[0m build_alert\u001b[38;5;241m.\u001b[39mset_state(\u001b[38;5;124m\"\u001b[39m\u001b[38;5;124mnew\u001b[39m\u001b[38;5;124m\"\u001b[39m, \u001b[38;5;124m\"\u001b[39m\u001b[38;5;124mdashboard\u001b[39m\u001b[38;5;124m\"\u001b[39m, \u001b[38;5;124m\"\u001b[39m\u001b[38;5;124mdone\u001b[39m\u001b[38;5;124m\"\u001b[39m)\n\u001b[0;32m---> 63\u001b[0m \u001b[38;5;28;43mself\u001b[39;49m\u001b[38;5;241;43m.\u001b[39;49m\u001b[43mrecipe\u001b[49m\u001b[38;5;241;43m.\u001b[39;49m\u001b[43mdash_model\u001b[49m\u001b[38;5;241m.\u001b[39mobserve(\u001b[38;5;28mself\u001b[39m\u001b[38;5;241m.\u001b[39mreset, \u001b[38;5;124m\"\u001b[39m\u001b[38;5;124mreset_count\u001b[39m\u001b[38;5;124m\"\u001b[39m)\n",
      "\u001b[0;31mAttributeError\u001b[0m: 'Recipe' object has no attribute 'dash_model'"
     ]
    }
   ],
   "source": [
    "dashboard_tile.build(recipe, alert)"
   ]
  },
  {
   "cell_type": "code",
   "execution_count": 14,
   "id": "4bc38471-887c-4fa2-a97d-64650f3a079f",
   "metadata": {
    "tags": []
   },
   "outputs": [
    {
     "data": {
      "application/vnd.jupyter.widget-view+json": {
       "model_id": "c2f1e1995f8f47b38be941eff670c2b0",
       "version_major": 2,
       "version_minor": 0
      },
      "text/plain": [
       "DashboardTile(children=[DashToolBar(children=[Tooltip(children=['Save dashboard statistics as .csv'], close_de…"
      ]
     },
     "execution_count": 14,
     "metadata": {},
     "output_type": "execute_result"
    }
   ],
   "source": [
    "dashboard_tile"
   ]
  },
  {
   "cell_type": "markdown",
   "id": "0a5ea049-c7bf-44d1-b5c1-f3fa93863c75",
   "metadata": {},
   "source": [
    "## Test statistics from recipe"
   ]
  },
  {
   "cell_type": "code",
   "execution_count": 1,
   "id": "21431aff-f202-42da-8b37-27b94d9ac499",
   "metadata": {},
   "outputs": [],
   "source": [
    "%load_ext autoreload\n",
    "%autoreload 2"
   ]
  },
  {
   "cell_type": "code",
   "execution_count": 2,
   "id": "8bfdd51c-5c40-480f-aaea-4469e0e7a9f0",
   "metadata": {
    "tags": []
   },
   "outputs": [
    {
     "data": {
      "text/html": [
       "<style>/*******************************************************************************\n",
       " * Customization of the provided css from the different libs used by sepal_ui\n",
       " */\n",
       "\n",
       "/* replace the map panel elements on top */\n",
       ".leaflet-pane,\n",
       ".leaflet-top,\n",
       ".leaflet-bottom {\n",
       "  z-index: 2 !important;\n",
       "}\n",
       "\n",
       "/* remove the shadow from the widgets on the maps */\n",
       ".leaflet-widgetcontrol {\n",
       "  box-shadow: none;\n",
       "}\n",
       "\n",
       "/* remove extra padding on top of the content */\n",
       "main.v-content {\n",
       "  padding-top: 0px !important;\n",
       "}\n",
       "\n",
       "/* remove all the backgrounds from the controls and widget to be colored naturelly by the map */\n",
       ".leaflet-control-container .vuetify-styles .v-application {\n",
       "  background: rgb(0, 0, 0, 0);\n",
       "}\n",
       ".v-alert__wrapper .progress {\n",
       "  background-color: transparent;\n",
       "}\n",
       "\n",
       "/* set the bar on top of the map (800) when set to fullscreen */\n",
       "header.v-app-bar {\n",
       "  z-index: 800 !important;\n",
       "}\n",
       "\n",
       "/* set the menu_content on top of the map when it's set to fullscreen */\n",
       ".v-menu__content {\n",
       "  max-width: 100% !important;\n",
       "}\n",
       "\n",
       "/* make sure navigation drawers are always visible when they exist */\n",
       "nav.v-navigation-drawer {\n",
       "  z-index: 900 !important;\n",
       "}\n",
       "\n",
       "/* create extra position for the leaflet map controls */\n",
       ".leaflet-center {\n",
       "  left: 50%;\n",
       "  transform: translate(-50%, 0%);\n",
       "}\n",
       "\n",
       ".leaflet-middle {\n",
       "  top: 50%;\n",
       "  position: absolute;\n",
       "  z-index: 1000;\n",
       "  pointer-events: none;\n",
       "  transform: translate(0%, -50%);\n",
       "}\n",
       "\n",
       ".leaflet-center.leaflet-middle {\n",
       "  transform: translate(-50%, -50%);\n",
       "}\n",
       "\n",
       "/* create extra classes to customize the layer_control table */\n",
       ".v-no-hover:hover {\n",
       "  background-color: transparent !important;\n",
       "}\n",
       "\n",
       ".v-no-border tbody tr td,\n",
       ".v-no-border tbody tr th {\n",
       "  border: none !important;\n",
       "}\n",
       "\n",
       "/* extra css rules to make the messages disappear beneath the SimpleSlider */\n",
       ".v-no-messages .v-messages {\n",
       "  display: none;\n",
       "}\n",
       "\n",
       ".v-no-messages .v-input__slot {\n",
       "  margin-bottom: 0;\n",
       "}\n",
       "\n",
       "/* specific css for the btn placed on maps */\n",
       ".v-btn.v-size--default.v-map-btn:not(.v-btn--round) {\n",
       "  padding: 0px;\n",
       "  min-width: 0px;\n",
       "  width: 30px;\n",
       "  height: 30px;\n",
       "}\n",
       "\n",
       "/* add specific css for the zoom btn of the map */\n",
       ".v-btn.v-zoom-plus {\n",
       "  border-bottom-left-radius: 0;\n",
       "  border-bottom-right-radius: 0;\n",
       "}\n",
       "\n",
       ".v-btn.v-zoom-minus {\n",
       "  margin-top: -1px;\n",
       "  border-top-left-radius: 0;\n",
       "  border-top-right-radius: 0;\n",
       "}\n",
       "\n",
       "/* css rules for fullscreen menus */\n",
       ".v-card.v-menu-fullscreen {\n",
       "  width: calc(100vw - 80px);\n",
       "  height: calc(100vh - 20px);\n",
       "}\n",
       "\n",
       "/* hide the disclaimer message placed on top of the ui notebook\n",
       " * the message will be displayed until the css is loaded */\n",
       "#loading-app {\n",
       "  display: none !important;\n",
       "}\n",
       "\n",
       "/* Related with https://github.com/12rambau/sepal_ui/issues/893 */\n",
       "#rendered_cells {\n",
       "  contain: revert !important;\n",
       "  background-color: revert !important;\n",
       "}\n",
       "</style>"
      ],
      "text/plain": [
       "<IPython.core.display.HTML object>"
      ]
     },
     "metadata": {},
     "output_type": "display_data"
    },
    {
     "data": {
      "text/html": [
       "<link rel=\"stylesheet\" href=\"https://cdnjs.cloudflare.com/ajax/libs/font-awesome/6.2.1/css/all.min.css\"/>"
      ],
      "text/plain": [
       "<IPython.core.display.HTML object>"
      ]
     },
     "metadata": {},
     "output_type": "display_data"
    },
    {
     "data": {
      "application/javascript": "/*******************************************************************************\n * remove any links from fontawesome 5 created by jupyter in favor of\n * fontawesome 6. to be removed when Jupyter updates it\n */\n\nfunction remove_fa5() {\n  let links = document.querySelectorAll(\n    \"link[href^='https://cdn.jsdelivr.net/npm/@fortawesome/fontawesome-free@^5']\"\n  );\n\n  links.forEach((link) => link.remove());\n}\n\nif (document.readyState != \"loading\") remove_fa5();\nelse document.addEventListener(\"DOMContentLoaded\", remove_fa5);\n",
      "text/plain": [
       "<IPython.core.display.Javascript object>"
      ]
     },
     "metadata": {},
     "output_type": "display_data"
    },
    {
     "data": {
      "application/vnd.jupyter.widget-view+json": {
       "model_id": "45361a6ee5144765957d9e25724d2a4d",
       "version_major": 2,
       "version_minor": 0
      },
      "text/plain": [
       "ResizeTrigger()"
      ]
     },
     "metadata": {},
     "output_type": "display_data"
    }
   ],
   "source": [
    "import sys\n",
    "sys.path.append(\"../\")\n",
    "from component.scripts.statistics import parse_theme_stats, get_summary_statistics\n",
    "from component.model.recipe import Recipe\n",
    "from component.scripts.seplan import reduce_constraints\n",
    "import ee\n",
    "ee.Initialize()"
   ]
  },
  {
   "cell_type": "code",
   "execution_count": 3,
   "id": "4d631f49-316e-4f9e-bf07-b8d9f93d22ca",
   "metadata": {},
   "outputs": [],
   "source": [
    "# Load a previously created recipe\n",
    "recipe = Recipe()\n",
    "recipe.load_model()\n",
    "recipe.load(\"/home/dguerrero/module_results/se.plan/recipes/test_cundinamarca.json\")\n",
    "recipe.seplan_aoi.aoi_model.set_object(); # we have to do this manually\n",
    "aoi = recipe.seplan_aoi.aoi_model.feature_collection"
   ]
  },
  {
   "cell_type": "code",
   "execution_count": 8,
   "id": "27ba0ac3-1a1b-4af7-9667-1de69e0b8f2c",
   "metadata": {
    "tags": []
   },
   "outputs": [
    {
     "data": {
      "text/plain": [
       "[{'COL_Cundinamarca': {'benefit': [{'biodiversity_intactness': {'total': [0.88282625811616],\n",
       "      'values': [0.8838698205429807]}},\n",
       "    {'endangered_species': {'total': [15.02175306852444],\n",
       "      'values': [15.846754387002877]}},\n",
       "    {'ground_carbon': {'total': [81.91007175108024],\n",
       "      'values': [81.8111435147813]}},\n",
       "    {'forest_job': {'total': [0.011914094776501726],\n",
       "      'values': [0.011997179747788371]}},\n",
       "    {'woodfuel_harvest': {'total': [0.407807665975417],\n",
       "      'values': [0.41001070769679226]}}],\n",
       "   'color': '#b3842e',\n",
       "   'constraint': [{'treecover_with_potential': {'total': [2444852.477004771],\n",
       "      'values': [22.754402432843605]}},\n",
       "    {'city_access': {'total': [2444852.4770066217],\n",
       "      'values': [0.5431212158648957]}},\n",
       "    {'ecozones': {'total': [2444852.4770057476],\n",
       "      'values': [23.428423762423307]}},\n",
       "    {'annual_rainfall': {'total': [2444852.477004152],\n",
       "      'values': [62.37692296276993]}}],\n",
       "   'cost': [{'opportunity_cost': {'total': [6705.203742898495],\n",
       "      'values': [1914.5781778540886]}},\n",
       "    {'implementation_cost': {'total': [1899.0754726453629],\n",
       "      'values': [464.1883588847593]}}],\n",
       "   'suitability': {'total': 2444852.4770047963,\n",
       "    'values': [{'image': 1, 'sum': 139943.731421081},\n",
       "     {'image': 2, 'sum': 228347.73485458118},\n",
       "     {'image': 3, 'sum': 79897.03068479581},\n",
       "     {'image': 4, 'sum': 66599.10722401357},\n",
       "     {'image': 5, 'sum': 79331.74756846117},\n",
       "     {'image': 6, 'sum': 1850733.1252518634}]}}}]"
      ]
     },
     "execution_count": 8,
     "metadata": {},
     "output_type": "execute_result"
    }
   ],
   "source": [
    "summary_stats = get_summary_statistics(recipe.seplan)\n",
    "summary_stats"
   ]
  },
  {
   "cell_type": "code",
   "execution_count": 9,
   "id": "04c535cd-e14a-4b38-add5-32555f97421a",
   "metadata": {
    "tags": []
   },
   "outputs": [
    {
     "data": {
      "text/plain": [
       "{'benefit': {'biodiversity_intactness': {'values': [0.8838698205429807],\n",
       "   'total': 0},\n",
       "  'endangered_species': {'values': [15.846754387002877], 'total': 0},\n",
       "  'ground_carbon': {'values': [81.8111435147813], 'total': 0},\n",
       "  'forest_job': {'values': [0.011997179747788371], 'total': 0},\n",
       "  'woodfuel_harvest': {'values': [0.41001070769679226], 'total': 0}},\n",
       " 'constraint': {'treecover_with_potential': {'values': [22.754402432843605],\n",
       "   'total': 0},\n",
       "  'city_access': {'values': [0.5431212158648957], 'total': 0},\n",
       "  'ecozones': {'values': [23.428423762423307], 'total': 0},\n",
       "  'annual_rainfall': {'values': [62.37692296276993], 'total': 0}},\n",
       " 'cost': {'opportunity_cost': {'values': [1914.5781778540886], 'total': 0},\n",
       "  'implementation_cost': {'values': [464.1883588847593], 'total': 0}}}"
      ]
     },
     "execution_count": 9,
     "metadata": {},
     "output_type": "execute_result"
    }
   ],
   "source": [
    "parse_theme_stats(summary_stats)"
   ]
  },
  {
   "cell_type": "markdown",
   "id": "1dde905b-b176-4add-8fb2-d0a7f86e7d4d",
   "metadata": {},
   "source": [
    "## Calculate the image percent cover pixel area"
   ]
  },
  {
   "cell_type": "code",
   "execution_count": null,
   "id": "5ff8b7bc-9a06-4395-b68c-e1372c48ceca",
   "metadata": {
    "tags": []
   },
   "outputs": [],
   "source": [
    "from component.scripts.statistics import get_image_percent_cover_pixelarea\n",
    "from component.scripts.seplan import mask_image"
   ]
  },
  {
   "cell_type": "code",
   "execution_count": null,
   "id": "39ed1b26-335e-4b59-a776-b7fbced93ccc",
   "metadata": {
    "tags": []
   },
   "outputs": [],
   "source": [
    "aoi = recipe.seplan.aoi_model.feature_collection"
   ]
  },
  {
   "cell_type": "code",
   "execution_count": null,
   "id": "607fff88-36ce-4958-b369-2dafdf354dcb",
   "metadata": {
    "tags": []
   },
   "outputs": [],
   "source": [
    "asset_id = recipe.seplan.constraint_model.assets[0]\n",
    "data_type = recipe.seplan.constraint_model.data_type[0]\n",
    "maskout_values = recipe.seplan.constraint_model.values[0]\n",
    "\n",
    "asset_id, data_type, maskout_values"
   ]
  },
  {
   "cell_type": "code",
   "execution_count": null,
   "id": "a4ad1e39-7d3f-4970-b1c9-34595ee993e1",
   "metadata": {
    "tags": []
   },
   "outputs": [],
   "source": [
    "# maskout any image from the model\n",
    "\n",
    "masked_image = mask_image(asset_id, data_type, maskout_values)"
   ]
  },
  {
   "cell_type": "code",
   "execution_count": null,
   "id": "95c0f6da-a59a-42b3-be03-0eac8013ac1d",
   "metadata": {
    "tags": []
   },
   "outputs": [],
   "source": [
    "get_image_percent_cover_pixelarea(masked_image, aoi, \"perro\").getInfo()"
   ]
  },
  {
   "cell_type": "code",
   "execution_count": null,
   "id": "62eb5b13-0b9f-415f-ae7c-2ee7020681d9",
   "metadata": {
    "tags": []
   },
   "outputs": [],
   "source": [
    "from sepal_ui.mapping import SepalMap\n",
    "import ee\n",
    "\n",
    "ee.Initialize()"
   ]
  },
  {
   "cell_type": "code",
   "execution_count": null,
   "id": "68135700-5d38-4e84-a533-6dbb82b312eb",
   "metadata": {
    "tags": []
   },
   "outputs": [],
   "source": [
    "map_ = SepalMap()\n",
    "map_.addLayer(masked_image.unmask(0).randomVisualizer().clip(aoi))\n",
    "map_"
   ]
  },
  {
   "cell_type": "markdown",
   "id": "97e79030-b6d0-44b0-8085-6d6c92ec2575",
   "metadata": {
    "tags": []
   },
   "source": [
    "## Calculate the image sum on COSTS"
   ]
  },
  {
   "cell_type": "code",
   "execution_count": null,
   "id": "a82a11fe-dda2-48b0-8ee0-e5d75455a4c8",
   "metadata": {
    "tags": []
   },
   "outputs": [],
   "source": [
    "%load_ext autoreload\n",
    "%autoreload 2"
   ]
  },
  {
   "cell_type": "code",
   "execution_count": null,
   "id": "ab9236dd-3140-40f8-becd-5c8e4f0aae3f",
   "metadata": {
    "tags": []
   },
   "outputs": [],
   "source": [
    "from component.scripts.statistics import get_image_sum\n",
    "from component.scripts.seplan import reduce_constraints, asset_to_image"
   ]
  },
  {
   "cell_type": "code",
   "execution_count": null,
   "id": "71714efe-4f14-4181-a22d-a6eedc019cb1",
   "metadata": {
    "tags": []
   },
   "outputs": [],
   "source": [
    "aoi = recipe.seplan.aoi_model.feature_collection"
   ]
  },
  {
   "cell_type": "code",
   "execution_count": null,
   "id": "a6c885b8-1f8e-447a-a3b2-8c616215ee84",
   "metadata": {
    "tags": []
   },
   "outputs": [],
   "source": [
    "asset_id = recipe.seplan.cost_model.assets[0]\n",
    "constraint_list = recipe.seplan.get_masked_constraints_list()\n",
    "mask_out_areas = reduce_constraints(constraint_list)"
   ]
  },
  {
   "cell_type": "code",
   "execution_count": null,
   "id": "8347f140-a8a0-4af8-a0fb-8f16995f7704",
   "metadata": {
    "tags": []
   },
   "outputs": [],
   "source": [
    "image = asset_to_image(asset_id)"
   ]
  },
  {
   "cell_type": "code",
   "execution_count": null,
   "id": "f11b2b1a-bfb4-4260-b908-3f698308594d",
   "metadata": {
    "tags": []
   },
   "outputs": [],
   "source": [
    "sum_img = image.updateMask(mask_out_areas).reduceRegion(\n",
    "    reducer=ee.Reducer.sum(),\n",
    "    geometry=aoi,\n",
    "    scale=100,\n",
    "    maxPixels=1e13,\n",
    ")\n",
    "sum_img.values().get(0).getInfo()"
   ]
  },
  {
   "cell_type": "code",
   "execution_count": null,
   "id": "e6be3097-4a3b-47c8-8d21-33d74caf1b0d",
   "metadata": {
    "tags": []
   },
   "outputs": [],
   "source": [
    "get_image_sum(image, aoi, mask_out_areas, \"name\").getInfo()"
   ]
  },
  {
   "cell_type": "code",
   "execution_count": null,
   "id": "3e968d0e-ff67-4cf8-b65a-97d69a7da82e",
   "metadata": {
    "tags": []
   },
   "outputs": [],
   "source": [
    "area_ha = (\n",
    "    ee.Image.pixelArea()\n",
    "    .divide(10000)\n",
    "    .reduceRegion(\n",
    "        reducer=ee.Reducer.sum(),\n",
    "        geometry=aoi,\n",
    "        scale=100,\n",
    "        maxPixels=1e13,\n",
    "    )\n",
    "    .getInfo()\n",
    ")"
   ]
  },
  {
   "cell_type": "code",
   "execution_count": null,
   "id": "12051f35-ccb7-4ca9-af49-2cf55490c796",
   "metadata": {
    "tags": []
   },
   "outputs": [],
   "source": [
    "map_.addLayer(constraint_list[0][0].clip(aoi), {}, \"mask\")"
   ]
  },
  {
   "cell_type": "code",
   "execution_count": null,
   "id": "ac0e9e7f-7f64-4b5d-aaa9-21eb93ca0227",
   "metadata": {
    "tags": []
   },
   "outputs": [],
   "source": [
    "map_ = SepalMap()\n",
    "map_.addLayer(mask_out_areas.randomVisualizer().clip(aoi))\n",
    "map_"
   ]
  }
 ],
 "metadata": {
  "kernelspec": {
   "display_name": "Python 3",
   "language": "python",
   "name": "python3"
  },
  "language_info": {
   "codemirror_mode": {
    "name": "ipython",
    "version": 3
   },
   "file_extension": ".py",
   "mimetype": "text/x-python",
   "name": "python",
   "nbconvert_exporter": "python",
   "pygments_lexer": "ipython3",
   "version": "3.10.12"
  }
 },
 "nbformat": 4,
 "nbformat_minor": 5
}
