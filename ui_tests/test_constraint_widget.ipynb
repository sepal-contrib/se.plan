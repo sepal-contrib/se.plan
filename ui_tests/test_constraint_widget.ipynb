{
 "cells": [
  {
   "cell_type": "code",
   "execution_count": 1,
   "id": "fe8b3cce-85da-44dc-bdf7-ac186d2eda5d",
   "metadata": {
    "tags": []
   },
   "outputs": [],
   "source": [
    "%load_ext autoreload\n",
    "%autoreload 2"
   ]
  },
  {
   "cell_type": "code",
   "execution_count": 2,
   "id": "da55ba9c-df39-41e0-ac4e-40ba0934f46a",
   "metadata": {},
   "outputs": [
    {
     "data": {
      "text/html": [
       "<style>/*******************************************************************************\n",
       " * Customization of the provided css from the different libs used by sepal_ui\n",
       " */\n",
       "\n",
       "/* replace the map panel elements on top */\n",
       ".leaflet-pane,\n",
       ".leaflet-top,\n",
       ".leaflet-bottom {\n",
       "  z-index: 2 !important;\n",
       "}\n",
       "\n",
       "/* remove the shadow from the widgets on the maps */\n",
       ".leaflet-widgetcontrol {\n",
       "  box-shadow: none;\n",
       "}\n",
       "\n",
       "/* remove extra padding on top of the content */\n",
       "main.v-content {\n",
       "  padding-top: 0px !important;\n",
       "}\n",
       "\n",
       ".v-alert__wrapper .progress {\n",
       "  background-color: transparent;\n",
       "}\n",
       "\n",
       "/* set the bar on top of the map (800) when set to fullscreen */\n",
       "header.v-app-bar {\n",
       "  z-index: 800 !important;\n",
       "}\n",
       "\n",
       "/* set the menu_content on top of the map when it's set to fullscreen */\n",
       ".v-menu__content {\n",
       "  max-width: 100% !important;\n",
       "}\n",
       "\n",
       "/* make sure navigation drawers are always visible when they exist */\n",
       "nav.v-navigation-drawer {\n",
       "  z-index: 900 !important;\n",
       "}\n",
       "\n",
       "/* create extra position for the leaflet map controls */\n",
       ".leaflet-center {\n",
       "  left: 50%;\n",
       "  transform: translate(-50%, 0%);\n",
       "}\n",
       "\n",
       ".leaflet-middle {\n",
       "  top: 50%;\n",
       "  position: absolute;\n",
       "  z-index: 1000;\n",
       "  pointer-events: none;\n",
       "  transform: translate(0%, -50%);\n",
       "}\n",
       "\n",
       ".leaflet-center.leaflet-middle {\n",
       "  transform: translate(-50%, -50%);\n",
       "}\n",
       "\n",
       "/* create extra classes to customize the layer_control table */\n",
       ".v-no-hover:hover {\n",
       "  background-color: transparent !important;\n",
       "}\n",
       "\n",
       ".v-no-border tbody tr td,\n",
       ".v-no-border tbody tr th {\n",
       "  border: none !important;\n",
       "}\n",
       "\n",
       "/* extra css rules to make the messages disappear beneath the SimpleSlider */\n",
       ".v-no-messages .v-messages {\n",
       "  display: none;\n",
       "}\n",
       "\n",
       ".v-no-messages .v-input__slot {\n",
       "  margin-bottom: 0;\n",
       "}\n",
       "\n",
       "/* specific css for the btn placed on maps */\n",
       ".v-btn.v-size--default.v-map-btn:not(.v-btn--round) {\n",
       "  padding: 0px;\n",
       "  min-width: 0px;\n",
       "  width: 30px;\n",
       "  height: 30px;\n",
       "}\n",
       "\n",
       "/* add specific css for the zoom btn of the map */\n",
       ".v-btn.v-zoom-plus {\n",
       "  border-bottom-left-radius: 0;\n",
       "  border-bottom-right-radius: 0;\n",
       "}\n",
       "\n",
       ".v-btn.v-zoom-minus {\n",
       "  margin-top: -1px;\n",
       "  border-top-left-radius: 0;\n",
       "  border-top-right-radius: 0;\n",
       "}\n",
       "\n",
       "/* css rules for fullscreen menus */\n",
       ".v-card.v-menu-fullscreen {\n",
       "  width: calc(100vw - 80px);\n",
       "  height: calc(100vh - 20px);\n",
       "}\n",
       "\n",
       "/* hide the disclaimer message placed on top of the ui notebook\n",
       " * the message will be displayed until the css is loaded */\n",
       "#loading-app {\n",
       "  display: none !important;\n",
       "}\n",
       "\n",
       "/* Related with https://github.com/12rambau/sepal_ui/issues/893 */\n",
       "#rendered_cells {\n",
       "  contain: revert !important;\n",
       "  background-color: revert !important;\n",
       "}\n",
       "</style>"
      ],
      "text/plain": [
       "<IPython.core.display.HTML object>"
      ]
     },
     "metadata": {},
     "output_type": "display_data"
    },
    {
     "data": {
      "text/html": [
       "<link rel=\"stylesheet\" href=\"https://cdnjs.cloudflare.com/ajax/libs/font-awesome/6.2.1/css/all.min.css\"/>"
      ],
      "text/plain": [
       "<IPython.core.display.HTML object>"
      ]
     },
     "metadata": {},
     "output_type": "display_data"
    },
    {
     "data": {
      "application/javascript": [
       "/*******************************************************************************\n",
       " * remove any links from fontawesome 5 created by jupyter in favor of\n",
       " * fontawesome 6. to be removed when Jupyter updates it\n",
       " */\n",
       "\n",
       "function remove_fa5() {\n",
       "  let links = document.querySelectorAll(\n",
       "    \"link[href^='https://cdn.jsdelivr.net/npm/@fortawesome/fontawesome-free@^5']\"\n",
       "  );\n",
       "\n",
       "  links.forEach((link) => link.remove());\n",
       "}\n",
       "\n",
       "if (document.readyState != \"loading\") remove_fa5();\n",
       "else document.addEventListener(\"DOMContentLoaded\", remove_fa5);\n"
      ],
      "text/plain": [
       "<IPython.core.display.Javascript object>"
      ]
     },
     "metadata": {},
     "output_type": "display_data"
    },
    {
     "data": {
      "application/vnd.jupyter.widget-view+json": {
       "model_id": "7f254a3b4ce644cdb48730914b1401c9",
       "version_major": 2,
       "version_minor": 0
      },
      "text/plain": [
       "ResizeTrigger()"
      ]
     },
     "metadata": {},
     "output_type": "display_data"
    },
    {
     "data": {
      "application/vnd.jupyter.widget-view+json": {
       "model_id": "db1cb6be3c6245f0b818f7b8132e7f08",
       "version_major": 2,
       "version_minor": 0
      },
      "text/plain": [
       "VuetifyTemplate(template=\"\\n        <style class='sepal-ui-script'>\\n            .custom_map .jupyter-widgets.…"
      ]
     },
     "metadata": {},
     "output_type": "display_data"
    }
   ],
   "source": [
    "import sys\n",
    "sys.path.append(\"../\")\n",
    "from component.widget.constraint_widget import ConstraintWidget\n",
    "from sepal_ui import color\n",
    "import ipyvuetify as v\n",
    "from component.widget.custom_widgets import Tabs"
   ]
  },
  {
   "cell_type": "code",
   "execution_count": 15,
   "id": "58dfdd0a-dcd7-4358-bfdc-cccb2a15d310",
   "metadata": {},
   "outputs": [],
   "source": [
    "from sepal_ui.scripts.utils import init_ee"
   ]
  },
  {
   "cell_type": "code",
   "execution_count": 16,
   "id": "4628302c-a601-4944-97a0-1612ce3fd159",
   "metadata": {},
   "outputs": [],
   "source": [
    "import ee"
   ]
  },
  {
   "cell_type": "code",
   "execution_count": 17,
   "id": "b9a6ce03-ff9f-40b7-b93a-36e6182cc14d",
   "metadata": {},
   "outputs": [],
   "source": [
    "init_ee()"
   ]
  },
  {
   "cell_type": "code",
   "execution_count": 18,
   "id": "570cac24-d620-4c91-ab42-b35150720a77",
   "metadata": {},
   "outputs": [
    {
     "data": {
      "text/plain": [
       "5"
      ]
     },
     "execution_count": 18,
     "metadata": {},
     "output_type": "execute_result"
    }
   ],
   "source": [
    "ee.Number(5).getInfo()"
   ]
  },
  {
   "cell_type": "code",
   "execution_count": 3,
   "id": "cd8d8a28-b1f3-4871-8d77-74fbf42f9006",
   "metadata": {},
   "outputs": [
    {
     "data": {
      "application/vnd.jupyter.widget-view+json": {
       "model_id": "f841b024cd4448948d356358bff9c189",
       "version_major": 2,
       "version_minor": 0
      },
      "text/plain": [
       "Tabs(children=[Tabs(children=[Tab(children=['title'], layout=None)], layout=None, v_model=0), TabsItems(childr…"
      ]
     },
     "execution_count": 3,
     "metadata": {},
     "output_type": "execute_result"
    }
   ],
   "source": [
    "Tabs([\"title\"], [\"\"])"
   ]
  },
  {
   "cell_type": "code",
   "execution_count": 14,
   "id": "eba10df2-5a13-45c0-87e4-75cc1aea30c9",
   "metadata": {},
   "outputs": [],
   "source": [
    "v.theme.dark=not v.theme.dark"
   ]
  },
  {
   "cell_type": "code",
   "execution_count": 5,
   "id": "0525733f-b88e-4b3c-81f5-189e18224825",
   "metadata": {
    "tags": []
   },
   "outputs": [
    {
     "data": {
      "application/vnd.jupyter.widget-view+json": {
       "model_id": "6d3f725913384063b4684a86a7f3187b",
       "version_major": 2,
       "version_minor": 0
      },
      "text/plain": [
       "ConstraintWidget(attributes={'data-layer': 'layer', 'id': 'layer_widget'}, children=[Flex(children=[RadioGroup…"
      ]
     },
     "execution_count": 5,
     "metadata": {},
     "output_type": "execute_result"
    }
   ],
   "source": [
    "binary = ConstraintWidget(\"binary\", \"layer\", [0])\n",
    "binary.observe(lambda *_: print(binary.v_model), \"v_model\")\n",
    "binary"
   ]
  },
  {
   "cell_type": "code",
   "execution_count": null,
   "id": "2ffbd7c2-823b-4082-be6f-bb6c4ec82186",
   "metadata": {
    "tags": []
   },
   "outputs": [],
   "source": [
    "binary.v_model = [1]"
   ]
  },
  {
   "cell_type": "code",
   "execution_count": null,
   "id": "403287ed-b602-4bc9-9ba6-80b5ad1e2f58",
   "metadata": {},
   "outputs": [],
   "source": []
  },
  {
   "cell_type": "code",
   "execution_count": null,
   "id": "946a0920-6560-485c-9227-17c246dbf1c4",
   "metadata": {},
   "outputs": [],
   "source": [
    "continuos = ConstraintWidget(\"categorical\", \"layer\", [0,1,2,3,4])\n",
    "continuos.items = list(range(19))\n",
    "continuos.observe(lambda *_: print(continuos.v_model), \"v_model\")\n",
    "continuos"
   ]
  },
  {
   "cell_type": "code",
   "execution_count": null,
   "id": "b38da809-3ac7-4032-a65c-9747135c72a0",
   "metadata": {},
   "outputs": [],
   "source": [
    "values = [0,999] # Are the min and max\n",
    "continuos = ConstraintWidget(\"continuous\", \"layer\", values)\n",
    "continuos.widget.min_ = values[0]\n",
    "continuos.widget.max_ = values[-1]\n",
    "continuos.widget.v_model = [values[0], values[-1]]\n",
    "continuos"
   ]
  },
  {
   "cell_type": "code",
   "execution_count": null,
   "id": "5c47a7b4-a3ac-4130-a3ab-64b043fdcbf7",
   "metadata": {},
   "outputs": [],
   "source": [
    "continuos"
   ]
  }
 ],
 "metadata": {
  "kernelspec": {
   "display_name": "(test) test-se.plan",
   "language": "python",
   "name": "test-se.plan"
  },
  "language_info": {
   "codemirror_mode": {
    "name": "ipython",
    "version": 3
   },
   "file_extension": ".py",
   "mimetype": "text/x-python",
   "name": "python",
   "nbconvert_exporter": "python",
   "pygments_lexer": "ipython3",
   "version": "3.10.12"
  }
 },
 "nbformat": 4,
 "nbformat_minor": 5
}
