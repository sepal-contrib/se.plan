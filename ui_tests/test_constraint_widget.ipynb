{
 "cells": [
  {
   "cell_type": "code",
   "execution_count": null,
   "id": "fe8b3cce-85da-44dc-bdf7-ac186d2eda5d",
   "metadata": {
    "tags": []
   },
   "outputs": [],
   "source": [
    "%load_ext autoreload\n",
    "%autoreload 2"
   ]
  },
  {
   "cell_type": "code",
   "execution_count": null,
   "id": "da55ba9c-df39-41e0-ac4e-40ba0934f46a",
   "metadata": {},
   "outputs": [],
   "source": [
    "import sys\n",
    "sys.path.append(\"../\")\n",
    "from component.widget.constraint_widget import ConstraintWidget\n",
    "from sepal_ui import color\n",
    "import ipyvuetify as v\n",
    "from component.widget.custom_widgets import Tabs"
   ]
  },
  {
   "cell_type": "code",
   "execution_count": null,
   "id": "58dfdd0a-dcd7-4358-bfdc-cccb2a15d310",
   "metadata": {},
   "outputs": [],
   "source": [
    "from sepal_ui.scripts.utils import init_ee"
   ]
  },
  {
   "cell_type": "code",
   "execution_count": null,
   "id": "4628302c-a601-4944-97a0-1612ce3fd159",
   "metadata": {},
   "outputs": [],
   "source": [
    "import ee"
   ]
  },
  {
   "cell_type": "code",
   "execution_count": null,
   "id": "b9a6ce03-ff9f-40b7-b93a-36e6182cc14d",
   "metadata": {},
   "outputs": [],
   "source": [
    "init_ee()"
   ]
  },
  {
   "cell_type": "code",
   "execution_count": null,
   "id": "570cac24-d620-4c91-ab42-b35150720a77",
   "metadata": {},
   "outputs": [],
   "source": [
    "ee.Number(5).getInfo()"
   ]
  },
  {
   "cell_type": "code",
   "execution_count": null,
   "id": "cd8d8a28-b1f3-4871-8d77-74fbf42f9006",
   "metadata": {},
   "outputs": [],
   "source": [
    "Tabs([\"title\"], [\"\"])"
   ]
  },
  {
   "cell_type": "code",
   "execution_count": null,
   "id": "eba10df2-5a13-45c0-87e4-75cc1aea30c9",
   "metadata": {},
   "outputs": [],
   "source": [
    "v.theme.dark=not v.theme.dark"
   ]
  },
  {
   "cell_type": "code",
   "execution_count": null,
   "id": "0525733f-b88e-4b3c-81f5-189e18224825",
   "metadata": {
    "tags": []
   },
   "outputs": [],
   "source": [
    "binary = ConstraintWidget(\"binary\", \"layer\", [0])\n",
    "binary.observe(lambda *_: print(binary.v_model), \"v_model\")\n",
    "binary"
   ]
  },
  {
   "cell_type": "code",
   "execution_count": null,
   "id": "2ffbd7c2-823b-4082-be6f-bb6c4ec82186",
   "metadata": {
    "tags": []
   },
   "outputs": [],
   "source": [
    "binary.v_model = [1]"
   ]
  },
  {
   "cell_type": "code",
   "execution_count": null,
   "id": "403287ed-b602-4bc9-9ba6-80b5ad1e2f58",
   "metadata": {},
   "outputs": [],
   "source": []
  },
  {
   "cell_type": "code",
   "execution_count": null,
   "id": "946a0920-6560-485c-9227-17c246dbf1c4",
   "metadata": {},
   "outputs": [],
   "source": [
    "continuos = ConstraintWidget(\"categorical\", \"layer\", [0,1,2,3,4])\n",
    "continuos.items = list(range(19))\n",
    "continuos.observe(lambda *_: print(continuos.v_model), \"v_model\")\n",
    "continuos"
   ]
  },
  {
   "cell_type": "code",
   "execution_count": null,
   "id": "b38da809-3ac7-4032-a65c-9747135c72a0",
   "metadata": {},
   "outputs": [],
   "source": [
    "values = [0,999] # Are the min and max\n",
    "continuos = ConstraintWidget(\"continuous\", \"layer\", values)\n",
    "continuos.widget.min_ = values[0]\n",
    "continuos.widget.max_ = values[-1]\n",
    "continuos.widget.v_model = [values[0], values[-1]]\n",
    "continuos"
   ]
  },
  {
   "cell_type": "code",
   "execution_count": null,
   "id": "5c47a7b4-a3ac-4130-a3ab-64b043fdcbf7",
   "metadata": {},
   "outputs": [],
   "source": [
    "continuos"
   ]
  },
  {
   "cell_type": "markdown",
   "id": "c7c93f06-005e-4030-abf7-6a8d94878ccf",
   "metadata": {},
   "source": [
    "## Test constraint Row"
   ]
  },
  {
   "cell_type": "code",
   "execution_count": null,
   "id": "bf637499-aeb3-4341-b516-49b9fb946dbb",
   "metadata": {},
   "outputs": [],
   "source": [
    "%load_ext autoreload\n",
    "%autoreload 2"
   ]
  },
  {
   "cell_type": "code",
   "execution_count": null,
   "id": "0ca1468f-5dd8-4814-b24d-5a76af4d95f8",
   "metadata": {},
   "outputs": [],
   "source": [
    "import sys\n",
    "sys.path.append(\"../\")\n",
    "from component.widget.constraint_widget import ConstraintWidget\n",
    "from sepal_ui import color\n",
    "import ipyvuetify as v\n",
    "from component.widget.custom_widgets import Tabs"
   ]
  },
  {
   "cell_type": "code",
   "execution_count": null,
   "id": "1d6ca443-d9fd-47f0-9d9e-e97fe092c939",
   "metadata": {},
   "outputs": [],
   "source": [
    "from component.model.constraint_model import ConstraintModel\n",
    "from component.widget.constraint_dialog import ConstraintDialog\n",
    "from component.model.aoi_model import SeplanAoi\n",
    "from component.widget.alert_state import Alert\n",
    "from component.widget.preview_map_dialog import PreviewMapDialog\n",
    "from component.widget.constraint_row import ConstraintRow\n",
    "from component.model.recipe import Recipe"
   ]
  },
  {
   "cell_type": "code",
   "execution_count": null,
   "id": "d45b2ca1-69e8-48f1-8a0a-1ab48560987f",
   "metadata": {},
   "outputs": [],
   "source": [
    "# Load a previously created recipe\n",
    "recipe = Recipe()\n",
    "recipe.load_model()\n",
    "\n",
    "# This has to be done like this because the recipe tile is the one that sets the recipe path\n",
    "recipe.recipe_session_path = \"/home/dguerrero/module_results/se.plan/recipes/uganda_scenario.json\"\n",
    "recipe.load(recipe.recipe_session_path)\n",
    "\n",
    "recipe.seplan_aoi.aoi_model.set_object(); # we have to do this manually\n",
    "aoi_model = recipe.seplan_aoi"
   ]
  },
  {
   "cell_type": "code",
   "execution_count": null,
   "id": "022826c1-bad8-465d-87be-2582894e9c74",
   "metadata": {},
   "outputs": [],
   "source": [
    "constraint_model = recipe.seplan.constraint_model\n",
    "alert = Alert()\n",
    "preview_map = PreviewMapDialog()\n",
    "constraint_dialog = ConstraintDialog(constraint_model, alert)"
   ]
  },
  {
   "cell_type": "code",
   "execution_count": null,
   "id": "f28d37a8-bbfa-4b8f-a813-5833dbb567c7",
   "metadata": {},
   "outputs": [],
   "source": [
    "# The model is the one that builds the rows, \n",
    "# so the model has to contain the constraint that I want to test\n",
    "# I can either load the recipe or add the values manually to the model"
   ]
  },
  {
   "cell_type": "code",
   "execution_count": null,
   "id": "1147899b-e4ba-43d8-8ff9-1192c832c352",
   "metadata": {},
   "outputs": [],
   "source": [
    "constraint_row = ConstraintRow(\n",
    "    model = constraint_model,\n",
    "    layer_id = \"city_access\",\n",
    "    dialog = constraint_dialog,\n",
    "    aoi_model = aoi_model,\n",
    "    alert = alert,\n",
    "    preview_map = preview_map,    \n",
    ")"
   ]
  },
  {
   "cell_type": "code",
   "execution_count": null,
   "id": "a076e6d5-6243-41b4-8835-5bdeb4888353",
   "metadata": {},
   "outputs": [],
   "source": [
    "constraint_row"
   ]
  },
  {
   "cell_type": "code",
   "execution_count": null,
   "id": "33671ae2-dcf9-4d62-bbf8-722743e7d18f",
   "metadata": {},
   "outputs": [],
   "source": [
    "preview_map"
   ]
  }
 ],
 "metadata": {
  "kernelspec": {
   "display_name": "(test) test-se.plan",
   "language": "python",
   "name": "test-se.plan"
  },
  "language_info": {
   "codemirror_mode": {
    "name": "ipython",
    "version": 3
   },
   "file_extension": ".py",
   "mimetype": "text/x-python",
   "name": "python",
   "nbconvert_exporter": "python",
   "pygments_lexer": "ipython3",
   "version": "3.10.12"
  }
 },
 "nbformat": 4,
 "nbformat_minor": 5
}
