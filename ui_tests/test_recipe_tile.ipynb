{
 "cells": [
  {
   "cell_type": "code",
   "execution_count": 1,
   "id": "1aeefe7c-4b10-4a4e-b4a3-f8ade600c0fe",
   "metadata": {
    "tags": []
   },
   "outputs": [],
   "source": [
    "%load_ext autoreload\n",
    "%autoreload 2"
   ]
  },
  {
   "cell_type": "code",
   "execution_count": 2,
   "id": "0639e8e5-a7c4-42d2-b1c0-9a300effd1d3",
   "metadata": {
    "tags": []
   },
   "outputs": [
    {
     "data": {
      "text/html": [
       "<style>/*******************************************************************************\n",
       " * Customization of the provided css from the different libs used by sepal_ui\n",
       " */\n",
       "\n",
       "/* replace the map panel elements on top */\n",
       ".leaflet-pane,\n",
       ".leaflet-top,\n",
       ".leaflet-bottom {\n",
       "  z-index: 2 !important;\n",
       "}\n",
       "\n",
       "/* remove the shadow from the widgets on the maps */\n",
       ".leaflet-widgetcontrol {\n",
       "  box-shadow: none;\n",
       "}\n",
       "\n",
       "/* remove extra padding on top of the content */\n",
       "main.v-content {\n",
       "  padding-top: 0px !important;\n",
       "}\n",
       "\n",
       ".v-alert__wrapper .progress {\n",
       "  background-color: transparent;\n",
       "}\n",
       "\n",
       "/* set the bar on top of the map (800) when set to fullscreen */\n",
       "header.v-app-bar {\n",
       "  z-index: 800 !important;\n",
       "}\n",
       "\n",
       "/* set the menu_content on top of the map when it's set to fullscreen */\n",
       ".v-menu__content {\n",
       "  max-width: 100% !important;\n",
       "  z-index: 801 !important;\n",
       "}\n",
       "\n",
       "/* make sure navigation drawers are always visible when they exist */\n",
       "nav.v-navigation-drawer {\n",
       "  z-index: 900 !important;\n",
       "}\n",
       "\n",
       "/* create extra position for the leaflet map controls */\n",
       ".leaflet-center {\n",
       "  left: 50%;\n",
       "  transform: translate(-50%, 0%);\n",
       "}\n",
       "\n",
       ".leaflet-middle {\n",
       "  top: 50%;\n",
       "  position: absolute;\n",
       "  z-index: 1000;\n",
       "  pointer-events: none;\n",
       "  transform: translate(0%, -50%);\n",
       "}\n",
       "\n",
       ".leaflet-center.leaflet-middle {\n",
       "  transform: translate(-50%, -50%);\n",
       "}\n",
       "\n",
       "/* create extra classes to customize the layer_control table */\n",
       ".v-no-hover:hover {\n",
       "  background-color: transparent !important;\n",
       "}\n",
       "\n",
       ".v-no-border tbody tr td,\n",
       ".v-no-border tbody tr th {\n",
       "  border: none !important;\n",
       "}\n",
       "\n",
       "/* extra css rules to make the messages disappear beneath the SimpleSlider */\n",
       ".v-no-messages .v-messages {\n",
       "  display: none;\n",
       "}\n",
       "\n",
       ".v-no-messages .v-input__slot {\n",
       "  margin-bottom: 0;\n",
       "}\n",
       "\n",
       "/* specific css for the btn placed on maps */\n",
       ".v-btn.v-size--default.v-map-btn:not(.v-btn--round) {\n",
       "  padding: 0px;\n",
       "  min-width: 0px;\n",
       "  width: 30px;\n",
       "  height: 30px;\n",
       "}\n",
       "\n",
       "/* add specific css for the zoom btn of the map */\n",
       ".v-btn.v-zoom-plus {\n",
       "  border-bottom-left-radius: 0;\n",
       "  border-bottom-right-radius: 0;\n",
       "}\n",
       "\n",
       ".v-btn.v-zoom-minus {\n",
       "  margin-top: -1px;\n",
       "  border-top-left-radius: 0;\n",
       "  border-top-right-radius: 0;\n",
       "}\n",
       "\n",
       "/* css rules for fullscreen menus */\n",
       ".v-card.v-menu-fullscreen {\n",
       "  width: calc(100vw - 80px);\n",
       "  height: calc(100vh - 20px);\n",
       "}\n",
       "\n",
       "/* hide the disclaimer message placed on top of the ui notebook\n",
       " * the message will be displayed until the css is loaded */\n",
       "#loading-app {\n",
       "  display: none !important;\n",
       "}\n",
       "\n",
       "/* Related with https://github.com/12rambau/sepal_ui/issues/893 */\n",
       "#rendered_cells {\n",
       "  contain: revert !important;\n",
       "  background-color: revert !important;\n",
       "}\n",
       "\n",
       ".full-screen-map > .leaflet-container {\n",
       "  position: fixed !important;\n",
       "  width: 100vw;\n",
       "  height: calc(100vh - 48px);\n",
       "  z-index: 800;\n",
       "  bottom: 0;\n",
       "  left: 0;\n",
       "}\n",
       "</style>"
      ],
      "text/plain": [
       "<IPython.core.display.HTML object>"
      ]
     },
     "metadata": {},
     "output_type": "display_data"
    },
    {
     "data": {
      "text/html": [
       "<link rel=\"stylesheet\" href=\"https://cdnjs.cloudflare.com/ajax/libs/font-awesome/6.2.1/css/all.min.css\"/>"
      ],
      "text/plain": [
       "<IPython.core.display.HTML object>"
      ]
     },
     "metadata": {},
     "output_type": "display_data"
    },
    {
     "data": {
      "application/javascript": [
       "/*******************************************************************************\n",
       " * remove any links from fontawesome 5 created by jupyter in favor of\n",
       " * fontawesome 6. to be removed when Jupyter updates it\n",
       " */\n",
       "\n",
       "function remove_fa5() {\n",
       "  let links = document.querySelectorAll(\n",
       "    \"link[href^='https://cdn.jsdelivr.net/npm/@fortawesome/fontawesome-free@^5']\"\n",
       "  );\n",
       "\n",
       "  links.forEach((link) => link.remove());\n",
       "}\n",
       "\n",
       "if (document.readyState != \"loading\") remove_fa5();\n",
       "else document.addEventListener(\"DOMContentLoaded\", remove_fa5);\n"
      ],
      "text/plain": [
       "<IPython.core.display.Javascript object>"
      ]
     },
     "metadata": {},
     "output_type": "display_data"
    },
    {
     "data": {
      "application/vnd.jupyter.widget-view+json": {
       "model_id": "1867cfd35e8a4d1a8d146d2c2f768d8f",
       "version_major": 2,
       "version_minor": 0
      },
      "text/plain": [
       "ResizeTrigger()"
      ]
     },
     "metadata": {},
     "output_type": "display_data"
    },
    {
     "data": {
      "application/vnd.jupyter.widget-view+json": {
       "model_id": "89a5c1d2c787429a8ae8921345f278cb",
       "version_major": 2,
       "version_minor": 0
      },
      "text/plain": [
       "VuetifyTemplate(template=\"\\n        <style class='sepal-ui-script'>\\n            .custom_map .jupyter-widgets.…"
      ]
     },
     "metadata": {},
     "output_type": "display_data"
    }
   ],
   "source": [
    "import sys\n",
    "sys.path.append(\"../\")\n",
    "from component.model.app_model import AppModel\n",
    "from component.widget.alert_state import AlertState\n",
    "from component.tile.custom_aoi_tile import AoiTile\n",
    "from component.tile.dashboard_tile import DashboardTile\n",
    "from component.tile.map_tile import MapTile\n",
    "from component.tile.questionnaire_tile import QuestionnaireTile\n",
    "from component.tile.recipe_tile import RecipeTile, RecipeView\n",
    "from component.model.recipe import Recipe"
   ]
  },
  {
   "cell_type": "code",
   "execution_count": 27,
   "id": "47987d15-f6f9-42d0-ab90-ab7f192aaac5",
   "metadata": {
    "tags": []
   },
   "outputs": [],
   "source": [
    "app_model = AppModel()"
   ]
  },
  {
   "cell_type": "code",
   "execution_count": 28,
   "id": "10855daf-f479-4047-83e9-aaae174d9822",
   "metadata": {},
   "outputs": [],
   "source": [
    "recipe = Recipe()"
   ]
  },
  {
   "cell_type": "code",
   "execution_count": 29,
   "id": "99a790d9-e284-4a2c-99b7-2b4f706f005f",
   "metadata": {
    "tags": []
   },
   "outputs": [
    {
     "data": {
      "application/vnd.jupyter.widget-view+json": {
       "model_id": "7d6f15dacde340adbabb78e163d6fce4",
       "version_major": 2,
       "version_minor": 0
      },
      "text/plain": [
       "RecipeTile(children=[RecipeView(attributes={'_metadata': 'recipe_tile'}, children=[AlertDialog(children=[Card(…"
      ]
     },
     "execution_count": 29,
     "metadata": {},
     "output_type": "execute_result"
    }
   ],
   "source": [
    "recipe_tile = RecipeTile(recipe, app_model)\n",
    "recipe_tile"
   ]
  },
  {
   "cell_type": "code",
   "execution_count": 30,
   "id": "fe1c9a97-9f84-4c37-8219-6482e4201cd9",
   "metadata": {},
   "outputs": [
    {
     "name": "stdout",
     "output_type": "stream",
     "text": [
      "asdf\n"
     ]
    }
   ],
   "source": [
    "# We need the AoiTile so it can create the SeplanAoi and will \n",
    "# set the feature collection in the model\n",
    "aoi_tile = AoiTile(recipe=recipe)"
   ]
  },
  {
   "cell_type": "code",
   "execution_count": 31,
   "id": "cb034333-b6ae-42a2-b5a7-1f5b472c0788",
   "metadata": {
    "tags": []
   },
   "outputs": [
    {
     "data": {
      "text/plain": [
       "ConstraintModel(new_changes=0, updated=0, themes=[''], names=['Current tree cover less than potential'], ids=['treecover_with_potential'], assets=['projects/se-plan/assets/inputLayers/total_rest_pot_gt_treecoverfrac_masks'], descs=['Sites that have the potential for restoration. Their tree-cover fraction is less its potential and they are not in urban areas.'], units=['binary'], values=[[0, 1]], data_type=['binary'])"
      ]
     },
     "execution_count": 31,
     "metadata": {},
     "output_type": "execute_result"
    }
   ],
   "source": [
    "recipe.constraint_model"
   ]
  },
  {
   "cell_type": "code",
   "execution_count": 32,
   "id": "042f5b47-dd84-45a7-9df2-f0e8a043753e",
   "metadata": {},
   "outputs": [],
   "source": [
    "from component.widget.questionaire_table import Table\n",
    "from component.widget.preview_theme_btn import PreviewThemeBtn"
   ]
  },
  {
   "cell_type": "code",
   "execution_count": 33,
   "id": "a62da491-6105-4f68-afd5-0f248383f4bc",
   "metadata": {},
   "outputs": [
    {
     "name": "stdout",
     "output_type": "stream",
     "text": [
      "asdf\n",
      "setting rows from: init\n",
      "Current model IDs ['treecover_with_potential']\n",
      "Current view IDs []\n",
      "new IDs ['treecover_with_potential']\n",
      "old IDs []\n",
      "new IDs\n",
      "ConstraintRow.Current tree cover less than potential.None__init__\n",
      "ConstraintRow(treecover_with_potential).update_view()\n",
      "theres no aoi 129936007675088xx\n",
      "[0]\n"
     ]
    }
   ],
   "source": [
    "constraint_table = Table(\n",
    "    model=recipe.constraint_model,\n",
    "    alert=None,\n",
    "    aoi_model=recipe.seplan_aoi,\n",
    "    preview_map=None,\n",
    "    preview_theme_map_btn=PreviewThemeBtn(\n",
    "        type_=\"constraint\",\n",
    "        map_=None,\n",
    "        seplan=recipe.seplan,\n",
    "        alert=None,\n",
    "    ),\n",
    ")"
   ]
  },
  {
   "cell_type": "code",
   "execution_count": 34,
   "id": "0c30709d-dc0a-4c85-868e-2200cc3dffb8",
   "metadata": {},
   "outputs": [
    {
     "data": {
      "application/vnd.jupyter.widget-view+json": {
       "model_id": "26cb02416292438ba718d83fd5bf1129",
       "version_major": 2,
       "version_minor": 0
      },
      "text/plain": [
       "Table(children=[ConstraintDialog(children=[Card(children=[CardTitle(children=['Constraint'], layout=None), Car…"
      ]
     },
     "execution_count": 34,
     "metadata": {},
     "output_type": "execute_result"
    }
   ],
   "source": [
    "constraint_table"
   ]
  },
  {
   "cell_type": "code",
   "execution_count": null,
   "id": "de561a97-1f14-4e68-9a44-98934847e114",
   "metadata": {},
   "outputs": [],
   "source": []
  },
  {
   "cell_type": "code",
   "execution_count": null,
   "id": "ccfae432-1fb9-44d9-8691-62f03d3d85b0",
   "metadata": {},
   "outputs": [],
   "source": []
  },
  {
   "cell_type": "code",
   "execution_count": null,
   "id": "602a7c67-47d6-48ea-8204-1572675172af",
   "metadata": {},
   "outputs": [],
   "source": []
  },
  {
   "cell_type": "code",
   "execution_count": null,
   "id": "0672d4dc-1a14-49b7-ad08-67abcb331326",
   "metadata": {
    "tags": []
   },
   "outputs": [],
   "source": [
    "# from sepal_ui.mapping import SepalMap\n",
    "# map_ = SepalMap()\n",
    "# map_.addLayer(recipe_tile.recipe_view.recipe.seplan_aoi.feature_collection)\n",
    "# map_"
   ]
  },
  {
   "cell_type": "code",
   "execution_count": null,
   "id": "7a865d21-398f-4adc-9ed4-2e38b085cd3b",
   "metadata": {
    "tags": []
   },
   "outputs": [],
   "source": [
    "# recipe_tile.recipe_view.recipe.constraint_model.values"
   ]
  },
  {
   "cell_type": "code",
   "execution_count": null,
   "id": "9525633a-11fd-4ff6-8131-734aa6ee5305",
   "metadata": {
    "tags": []
   },
   "outputs": [],
   "source": [
    "map_tile"
   ]
  },
  {
   "cell_type": "code",
   "execution_count": null,
   "id": "115f926a-9594-47f8-9eb8-b47d3c04eda0",
   "metadata": {
    "tags": []
   },
   "outputs": [],
   "source": [
    "dashboard_tile"
   ]
  }
 ],
 "metadata": {
  "kernelspec": {
   "display_name": "(test) test-se.plan",
   "language": "python",
   "name": "test-se.plan"
  },
  "language_info": {
   "codemirror_mode": {
    "name": "ipython",
    "version": 3
   },
   "file_extension": ".py",
   "mimetype": "text/x-python",
   "name": "python",
   "nbconvert_exporter": "python",
   "pygments_lexer": "ipython3",
   "version": "3.10.12"
  }
 },
 "nbformat": 4,
 "nbformat_minor": 5
}
