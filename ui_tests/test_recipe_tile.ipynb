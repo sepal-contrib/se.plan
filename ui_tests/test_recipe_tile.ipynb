{
 "cells": [
  {
   "cell_type": "code",
   "execution_count": null,
   "id": "1aeefe7c-4b10-4a4e-b4a3-f8ade600c0fe",
   "metadata": {
    "tags": []
   },
   "outputs": [],
   "source": [
    "%load_ext autoreload\n",
    "%autoreload 2"
   ]
  },
  {
   "cell_type": "code",
   "execution_count": null,
   "id": "0639e8e5-a7c4-42d2-b1c0-9a300effd1d3",
   "metadata": {
    "tags": []
   },
   "outputs": [],
   "source": [
    "import sys\n",
    "sys.path.append(\"../\")\n",
    "from component.model.app_model import AppModel\n",
    "from component.widget.alert_state import AlertState\n",
    "from component.tile.custom_aoi_tile import AoiTile\n",
    "from component.tile.dashboard_tile import DashboardTile\n",
    "from component.tile.map_tile import MapTile\n",
    "from component.tile.questionnaire_tile import QuestionnaireTile\n",
    "from component.tile.recipe_tile import RecipeTile, RecipeView\n",
    "from component.model.recipe import Recipe"
   ]
  },
  {
   "cell_type": "code",
   "execution_count": null,
   "id": "47987d15-f6f9-42d0-ab90-ab7f192aaac5",
   "metadata": {
    "tags": []
   },
   "outputs": [],
   "source": [
    "app_model = AppModel()"
   ]
  },
  {
   "cell_type": "code",
   "execution_count": null,
   "id": "10855daf-f479-4047-83e9-aaae174d9822",
   "metadata": {},
   "outputs": [],
   "source": [
    "recipe = Recipe()"
   ]
  },
  {
   "cell_type": "code",
   "execution_count": null,
   "id": "99a790d9-e284-4a2c-99b7-2b4f706f005f",
   "metadata": {
    "tags": []
   },
   "outputs": [],
   "source": [
    "recipe_tile = RecipeTile(recipe, app_model)\n",
    "recipe_tile"
   ]
  },
  {
   "cell_type": "code",
   "execution_count": null,
   "id": "fe1c9a97-9f84-4c37-8219-6482e4201cd9",
   "metadata": {},
   "outputs": [],
   "source": [
    "# We need the AoiTile so it can create the SeplanAoi and will \n",
    "# set the feature collection in the model\n",
    "aoi_tile = AoiTile(recipe=recipe)"
   ]
  },
  {
   "cell_type": "code",
   "execution_count": null,
   "id": "cb034333-b6ae-42a2-b5a7-1f5b472c0788",
   "metadata": {
    "tags": []
   },
   "outputs": [],
   "source": [
    "recipe.constraint_model"
   ]
  },
  {
   "cell_type": "code",
   "execution_count": null,
   "id": "042f5b47-dd84-45a7-9df2-f0e8a043753e",
   "metadata": {},
   "outputs": [],
   "source": [
    "from component.widget.questionaire_table import Table\n",
    "from component.widget.preview_theme_btn import PreviewThemeBtn"
   ]
  },
  {
   "cell_type": "code",
   "execution_count": null,
   "id": "a62da491-6105-4f68-afd5-0f248383f4bc",
   "metadata": {},
   "outputs": [],
   "source": [
    "constraint_table = Table(\n",
    "    model=recipe.constraint_model,\n",
    "    alert=None,\n",
    "    aoi_model=recipe.seplan_aoi,\n",
    "    preview_map=None,\n",
    "    preview_theme_map_btn=PreviewThemeBtn(\n",
    "        type_=\"constraint\",\n",
    "        map_=None,\n",
    "        seplan=recipe.seplan,\n",
    "        alert=None,\n",
    "    ),\n",
    ")"
   ]
  },
  {
   "cell_type": "code",
   "execution_count": null,
   "id": "0c30709d-dc0a-4c85-868e-2200cc3dffb8",
   "metadata": {},
   "outputs": [],
   "source": [
    "constraint_table"
   ]
  },
  {
   "cell_type": "code",
   "execution_count": null,
   "id": "de561a97-1f14-4e68-9a44-98934847e114",
   "metadata": {},
   "outputs": [],
   "source": []
  },
  {
   "cell_type": "code",
   "execution_count": null,
   "id": "ccfae432-1fb9-44d9-8691-62f03d3d85b0",
   "metadata": {},
   "outputs": [],
   "source": []
  },
  {
   "cell_type": "code",
   "execution_count": null,
   "id": "602a7c67-47d6-48ea-8204-1572675172af",
   "metadata": {},
   "outputs": [],
   "source": []
  },
  {
   "cell_type": "code",
   "execution_count": null,
   "id": "0672d4dc-1a14-49b7-ad08-67abcb331326",
   "metadata": {
    "tags": []
   },
   "outputs": [],
   "source": [
    "# from sepal_ui.mapping import SepalMap\n",
    "# map_ = SepalMap()\n",
    "# map_.addLayer(recipe_tile.recipe_view.recipe.seplan_aoi.feature_collection)\n",
    "# map_"
   ]
  },
  {
   "cell_type": "code",
   "execution_count": null,
   "id": "7a865d21-398f-4adc-9ed4-2e38b085cd3b",
   "metadata": {
    "tags": []
   },
   "outputs": [],
   "source": [
    "# recipe_tile.recipe_view.recipe.constraint_model.values"
   ]
  },
  {
   "cell_type": "code",
   "execution_count": null,
   "id": "9525633a-11fd-4ff6-8131-734aa6ee5305",
   "metadata": {
    "tags": []
   },
   "outputs": [],
   "source": [
    "map_tile"
   ]
  },
  {
   "cell_type": "code",
   "execution_count": null,
   "id": "115f926a-9594-47f8-9eb8-b47d3c04eda0",
   "metadata": {
    "tags": []
   },
   "outputs": [],
   "source": [
    "dashboard_tile"
   ]
  }
 ],
 "metadata": {
  "kernelspec": {
   "display_name": "Python 3 (ipykernel)",
   "language": "python",
   "name": "python3"
  },
  "language_info": {
   "codemirror_mode": {
    "name": "ipython",
    "version": 3
   },
   "file_extension": ".py",
   "mimetype": "text/x-python",
   "name": "python",
   "nbconvert_exporter": "python",
   "pygments_lexer": "ipython3",
   "version": "3.10.14"
  }
 },
 "nbformat": 4,
 "nbformat_minor": 5
}
