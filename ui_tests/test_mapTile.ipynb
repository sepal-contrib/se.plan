{
 "cells": [
  {
   "cell_type": "code",
   "execution_count": 1,
   "id": "7e9f1c13-f33e-41ae-8bc3-4108a4cf7708",
   "metadata": {
    "tags": []
   },
   "outputs": [],
   "source": [
    "%load_ext autoreload\n",
    "%autoreload 2"
   ]
  },
  {
   "cell_type": "code",
   "execution_count": 2,
   "id": "b5c29403",
   "metadata": {},
   "outputs": [],
   "source": [
    "import sys\n",
    "sys.path.append('..')"
   ]
  },
  {
   "cell_type": "code",
   "execution_count": 3,
   "id": "8b94378c-bd93-423d-a07b-47d0de150d3f",
   "metadata": {
    "tags": []
   },
   "outputs": [
    {
     "data": {
      "text/html": [
       "<style>/*******************************************************************************\n",
       " * Customization of the provided css from the different libs used by sepal_ui\n",
       " */\n",
       "\n",
       "/* replace the map panel elements on top */\n",
       ".leaflet-pane,\n",
       ".leaflet-top,\n",
       ".leaflet-bottom {\n",
       "  z-index: 2 !important;\n",
       "}\n",
       "\n",
       "/* remove the shadow from the widgets on the maps */\n",
       ".leaflet-widgetcontrol {\n",
       "  box-shadow: none;\n",
       "}\n",
       "\n",
       "/* remove extra padding on top of the content */\n",
       "main.v-content {\n",
       "  padding-top: 0px !important;\n",
       "}\n",
       "\n",
       ".v-alert__wrapper .progress {\n",
       "  background-color: transparent;\n",
       "}\n",
       "\n",
       "/* set the bar on top of the map (800) when set to fullscreen */\n",
       "header.v-app-bar {\n",
       "  z-index: 800 !important;\n",
       "}\n",
       "\n",
       "/* set the menu_content on top of the map when it's set to fullscreen */\n",
       ".v-menu__content {\n",
       "  max-width: 100% !important;\n",
       "  z-index: 801 !important;\n",
       "}\n",
       "\n",
       "/* make sure navigation drawers are always visible when they exist */\n",
       "nav.v-navigation-drawer {\n",
       "  z-index: 900 !important;\n",
       "}\n",
       "\n",
       "/* create extra position for the leaflet map controls */\n",
       ".leaflet-center {\n",
       "  left: 50%;\n",
       "  transform: translate(-50%, 0%);\n",
       "}\n",
       "\n",
       ".leaflet-middle {\n",
       "  top: 50%;\n",
       "  position: absolute;\n",
       "  z-index: 1000;\n",
       "  pointer-events: none;\n",
       "  transform: translate(0%, -50%);\n",
       "}\n",
       "\n",
       ".leaflet-center.leaflet-middle {\n",
       "  transform: translate(-50%, -50%);\n",
       "}\n",
       "\n",
       "/* create extra classes to customize the layer_control table */\n",
       ".v-no-hover:hover {\n",
       "  background-color: transparent !important;\n",
       "}\n",
       "\n",
       ".v-no-border tbody tr td,\n",
       ".v-no-border tbody tr th {\n",
       "  border: none !important;\n",
       "}\n",
       "\n",
       "/* extra css rules to make the messages disappear beneath the SimpleSlider */\n",
       ".v-no-messages .v-messages {\n",
       "  display: none;\n",
       "}\n",
       "\n",
       ".v-no-messages .v-input__slot {\n",
       "  margin-bottom: 0;\n",
       "}\n",
       "\n",
       "/* specific css for the btn placed on maps */\n",
       ".v-btn.v-size--default.v-map-btn:not(.v-btn--round) {\n",
       "  padding: 0px;\n",
       "  min-width: 0px;\n",
       "  width: 30px;\n",
       "  height: 30px;\n",
       "}\n",
       "\n",
       "/* add specific css for the zoom btn of the map */\n",
       ".v-btn.v-zoom-plus {\n",
       "  border-bottom-left-radius: 0;\n",
       "  border-bottom-right-radius: 0;\n",
       "}\n",
       "\n",
       ".v-btn.v-zoom-minus {\n",
       "  margin-top: -1px;\n",
       "  border-top-left-radius: 0;\n",
       "  border-top-right-radius: 0;\n",
       "}\n",
       "\n",
       "/* css rules for fullscreen menus */\n",
       ".v-card.v-menu-fullscreen {\n",
       "  width: calc(100vw - 80px);\n",
       "  height: calc(100vh - 20px);\n",
       "}\n",
       "\n",
       "/* hide the disclaimer message placed on top of the ui notebook\n",
       " * the message will be displayed until the css is loaded */\n",
       "#loading-app {\n",
       "  display: none !important;\n",
       "}\n",
       "\n",
       "/* Related with https://github.com/12rambau/sepal_ui/issues/893 */\n",
       "#rendered_cells,\n",
       "#main {\n",
       "  contain: revert !important;\n",
       "  background-color: revert !important;\n",
       "}\n",
       "\n",
       "#jp-main-content-panel {\n",
       "  contain: revert !important;\n",
       "}\n",
       "\n",
       ".full-screen-map > .leaflet-container {\n",
       "  position: fixed !important;\n",
       "  width: 100vw;\n",
       "  height: calc(100vh - 48px);\n",
       "  z-index: 800;\n",
       "  bottom: 0;\n",
       "  left: 0;\n",
       "}\n",
       "</style>"
      ],
      "text/plain": [
       "<IPython.core.display.HTML object>"
      ]
     },
     "metadata": {},
     "output_type": "display_data"
    },
    {
     "data": {
      "text/html": [
       "<link rel=\"stylesheet\" href=\"https://cdnjs.cloudflare.com/ajax/libs/font-awesome/6.2.1/css/all.min.css\"/>"
      ],
      "text/plain": [
       "<IPython.core.display.HTML object>"
      ]
     },
     "metadata": {},
     "output_type": "display_data"
    },
    {
     "data": {
      "application/javascript": [
       "/*******************************************************************************\n",
       " * remove any links from fontawesome 5 created by jupyter in favor of\n",
       " * fontawesome 6. to be removed when Jupyter updates it\n",
       " */\n",
       "\n",
       "function remove_fa5() {\n",
       "  let links = document.querySelectorAll(\n",
       "    \"link[href^='https://cdn.jsdelivr.net/npm/@fortawesome/fontawesome-free@^5']\"\n",
       "  );\n",
       "\n",
       "  links.forEach((link) => link.remove());\n",
       "}\n",
       "\n",
       "if (document.readyState != \"loading\") remove_fa5();\n",
       "else document.addEventListener(\"DOMContentLoaded\", remove_fa5);\n"
      ],
      "text/plain": [
       "<IPython.core.display.Javascript object>"
      ]
     },
     "metadata": {},
     "output_type": "display_data"
    },
    {
     "data": {
      "application/vnd.jupyter.widget-view+json": {
       "model_id": "284101bc79fe439883d4fb888c39061b",
       "version_major": 2,
       "version_minor": 0
      },
      "text/plain": [
       "ResizeTrigger()"
      ]
     },
     "metadata": {},
     "output_type": "display_data"
    }
   ],
   "source": [
    "from component.model import BenefitModel\n",
    "from component.model import ConstraintModel\n",
    "from component.model import CostModel\n",
    "from component.model.aoi_model import SeplanAoi"
   ]
  },
  {
   "cell_type": "code",
   "execution_count": 4,
   "id": "38a2c765-3034-4784-9c1a-d1ba1b68f0f9",
   "metadata": {
    "tags": []
   },
   "outputs": [
    {
     "data": {
      "application/vnd.jupyter.widget-view+json": {
       "model_id": "246cbd3eaefe4be7a4ce923bf49d605a",
       "version_major": 2,
       "version_minor": 0
      },
      "text/plain": [
       "VuetifyTemplate(template=\"\\n        <style class='sepal-ui-script'>\\n            .custom_map .jupyter-widgets.…"
      ]
     },
     "metadata": {},
     "output_type": "display_data"
    },
    {
     "name": "stderr",
     "output_type": "stream",
     "text": [
      "*** Earth Engine *** Share your feedback by taking our Annual Developer Satisfaction Survey: https://google.qualtrics.com/jfe/form/SV_0JLhFqfSY1uiEaW?source=Init\n"
     ]
    }
   ],
   "source": [
    "from component.tile.map_tile import MapTile\n",
    "from component.widget.alert_state import AlertState"
   ]
  },
  {
   "cell_type": "code",
   "execution_count": 5,
   "id": "c4c3f9a3-14f4-4a5b-b7d3-8f4c271adbee",
   "metadata": {
    "tags": []
   },
   "outputs": [],
   "source": [
    "from component.model.recipe import Recipe"
   ]
  },
  {
   "cell_type": "code",
   "execution_count": 6,
   "id": "92ab76fb-4844-4f45-8824-3ab11949b60b",
   "metadata": {
    "tags": []
   },
   "outputs": [],
   "source": [
    "alert = AlertState()"
   ]
  },
  {
   "cell_type": "code",
   "execution_count": 7,
   "id": "691ac587-2fae-480d-8b27-d9c131aa09e1",
   "metadata": {
    "tags": []
   },
   "outputs": [
    {
     "data": {
      "application/vnd.jupyter.widget-view+json": {
       "model_id": "86738c01098245f093d17d4cd7214f65",
       "version_major": 2,
       "version_minor": 0
      },
      "text/plain": [
       "AlertState(class_='d-none', layout=None, old_class='mt-5', style_='margin: 0 !important;', text=True, type='in…"
      ]
     },
     "execution_count": 7,
     "metadata": {},
     "output_type": "execute_result"
    }
   ],
   "source": [
    "alert"
   ]
  },
  {
   "cell_type": "code",
   "execution_count": 8,
   "id": "ffa907c6-ec1a-478a-9d07-22277cc42932",
   "metadata": {
    "tags": []
   },
   "outputs": [],
   "source": [
    "recipe = Recipe()"
   ]
  },
  {
   "cell_type": "code",
   "execution_count": 9,
   "id": "6d3d6eeb-0911-4410-a9b5-608617d48b31",
   "metadata": {
    "tags": []
   },
   "outputs": [],
   "source": [
    "# benefit_index = seplan_model.get_benefit_index(clip=True)\n",
    "# benefit_cost_index = seplan_model.get_benefit_cost_index(clip=True)\n",
    "# constraint_index = seplan_model.get_constraint_index(clip=True)"
   ]
  },
  {
   "cell_type": "code",
   "execution_count": 10,
   "id": "b04b0e30-f8e0-4c2b-a519-30f37fe05681",
   "metadata": {
    "tags": []
   },
   "outputs": [
    {
     "name": "stdout",
     "output_type": "stream",
     "text": [
      "This is mes\n"
     ]
    },
    {
     "data": {
      "application/vnd.jupyter.widget-view+json": {
       "model_id": "c1addfb744994c0b9e33290cb1ef6012",
       "version_major": 2,
       "version_minor": 0
      },
      "text/plain": [
       "MapTile(children=[AlertDialog(children=[Card(children=[Alert(class_='d-none', layout=None, old_class='mt-5', s…"
      ]
     },
     "execution_count": 10,
     "metadata": {},
     "output_type": "execute_result"
    }
   ],
   "source": [
    "map_tile = MapTile(recipe)\n",
    "map_tile"
   ]
  },
  {
   "cell_type": "code",
   "execution_count": 13,
   "id": "e35b18eb-f648-41c5-bbd7-e3c3448b1d83",
   "metadata": {
    "tags": []
   },
   "outputs": [],
   "source": [
    "from component.widget.import_aoi_dialog import ImportAoiView"
   ]
  },
  {
   "cell_type": "code",
   "execution_count": 14,
   "id": "fa014fb8-7b08-4b56-9d99-41ae69903356",
   "metadata": {},
   "outputs": [],
   "source": [
    "from sepal_ui.aoi.aoi_view import AoiView"
   ]
  },
  {
   "cell_type": "code",
   "execution_count": 20,
   "id": "05edcf2a-7b2e-450e-b461-63c848cb8390",
   "metadata": {},
   "outputs": [
    {
     "name": "stdout",
     "output_type": "stream",
     "text": [
      "This is mes\n"
     ]
    }
   ],
   "source": [
    "aoi_view = AoiView()"
   ]
  },
  {
   "cell_type": "code",
   "execution_count": 21,
   "id": "f3194d27-9db4-43be-b712-b145fd707598",
   "metadata": {},
   "outputs": [
    {
     "data": {
      "application/vnd.jupyter.widget-view+json": {
       "model_id": "98d06eb7a27846058cb6e973ff5e2067",
       "version_major": 2,
       "version_minor": 0
      },
      "text/plain": [
       "AoiView(children=[MethodSelect(dense=True, items=[{'header': 'Administrative definitions'}, {'text': 'Country/…"
      ]
     },
     "execution_count": 21,
     "metadata": {},
     "output_type": "execute_result"
    }
   ],
   "source": [
    "aoi_view"
   ]
  },
  {
   "cell_type": "code",
   "execution_count": 22,
   "id": "ae0cc7cf-d7f6-40aa-8298-48fe1546b5ef",
   "metadata": {},
   "outputs": [
    {
     "data": {
      "text/html": [
       "<div>\n",
       "<style scoped>\n",
       "    .dataframe tbody tr th:only-of-type {\n",
       "        vertical-align: middle;\n",
       "    }\n",
       "\n",
       "    .dataframe tbody tr th {\n",
       "        vertical-align: top;\n",
       "    }\n",
       "\n",
       "    .dataframe thead th {\n",
       "        text-align: right;\n",
       "    }\n",
       "</style>\n",
       "<table border=\"1\" class=\"dataframe\">\n",
       "  <thead>\n",
       "    <tr style=\"text-align: right;\">\n",
       "      <th></th>\n",
       "      <th>geometry</th>\n",
       "      <th>layer</th>\n",
       "    </tr>\n",
       "  </thead>\n",
       "  <tbody>\n",
       "    <tr>\n",
       "      <th>0</th>\n",
       "      <td>POLYGON ((5.2206 6.95443, 5.22082 6.94964, 5.2...</td>\n",
       "      <td>Akure ofosu_FR</td>\n",
       "    </tr>\n",
       "    <tr>\n",
       "      <th>1</th>\n",
       "      <td>POLYGON ((4.99277 7.3574, 4.99291 7.35568, 4.9...</td>\n",
       "      <td>Akure_FR</td>\n",
       "    </tr>\n",
       "    <tr>\n",
       "      <th>2</th>\n",
       "      <td>POLYGON ((5.01126 6.95741, 5.01216 6.95498, 5....</td>\n",
       "      <td>Idanre_FR</td>\n",
       "    </tr>\n",
       "    <tr>\n",
       "      <th>3</th>\n",
       "      <td>POLYGON ((5.70646 7.04836, 5.71788 7.04313, 5....</td>\n",
       "      <td>Ifon_FR</td>\n",
       "    </tr>\n",
       "    <tr>\n",
       "      <th>4</th>\n",
       "      <td>MULTIPOLYGON (((5.7191 7.24477, 5.71905 7.2447...</td>\n",
       "      <td>Ipele Idoani_FR</td>\n",
       "    </tr>\n",
       "    <tr>\n",
       "      <th>5</th>\n",
       "      <td>POLYGON ((4.94311 6.64921, 4.94331 6.64939, 4....</td>\n",
       "      <td>Irele_FR</td>\n",
       "    </tr>\n",
       "    <tr>\n",
       "      <th>6</th>\n",
       "      <td>POLYGON ((4.89377 6.30375, 4.89492 6.30185, 4....</td>\n",
       "      <td>Ogigbobiri_FR</td>\n",
       "    </tr>\n",
       "    <tr>\n",
       "      <th>7</th>\n",
       "      <td>POLYGON ((5.56655 6.76352, 5.57327 6.75661, 5....</td>\n",
       "      <td>Okelese_FR</td>\n",
       "    </tr>\n",
       "    <tr>\n",
       "      <th>8</th>\n",
       "      <td>MULTIPOLYGON (((4.48358 6.78481, 4.48346 6.784...</td>\n",
       "      <td>Oluwa_FR</td>\n",
       "    </tr>\n",
       "    <tr>\n",
       "      <th>9</th>\n",
       "      <td>POLYGON ((4.90267 6.91159, 4.91155 6.903, 4.91...</td>\n",
       "      <td>Onisere_FR</td>\n",
       "    </tr>\n",
       "    <tr>\n",
       "      <th>10</th>\n",
       "      <td>POLYGON ((4.92185 6.74551, 4.93256 6.68245, 4....</td>\n",
       "      <td>Otu_FR</td>\n",
       "    </tr>\n",
       "    <tr>\n",
       "      <th>11</th>\n",
       "      <td>POLYGON ((5.44546 7.02321, 5.44754 7.02024, 5....</td>\n",
       "      <td>Owo_FR</td>\n",
       "    </tr>\n",
       "    <tr>\n",
       "      <th>12</th>\n",
       "      <td>MULTIPOLYGON (((5.61256 7.37208, 5.61251 7.372...</td>\n",
       "      <td>Oyinmo_FR</td>\n",
       "    </tr>\n",
       "  </tbody>\n",
       "</table>\n",
       "</div>"
      ],
      "text/plain": [
       "                                             geometry            layer\n",
       "0   POLYGON ((5.2206 6.95443, 5.22082 6.94964, 5.2...   Akure ofosu_FR\n",
       "1   POLYGON ((4.99277 7.3574, 4.99291 7.35568, 4.9...         Akure_FR\n",
       "2   POLYGON ((5.01126 6.95741, 5.01216 6.95498, 5....        Idanre_FR\n",
       "3   POLYGON ((5.70646 7.04836, 5.71788 7.04313, 5....          Ifon_FR\n",
       "4   MULTIPOLYGON (((5.7191 7.24477, 5.71905 7.2447...  Ipele Idoani_FR\n",
       "5   POLYGON ((4.94311 6.64921, 4.94331 6.64939, 4....         Irele_FR\n",
       "6   POLYGON ((4.89377 6.30375, 4.89492 6.30185, 4....    Ogigbobiri_FR\n",
       "7   POLYGON ((5.56655 6.76352, 5.57327 6.75661, 5....       Okelese_FR\n",
       "8   MULTIPOLYGON (((4.48358 6.78481, 4.48346 6.784...         Oluwa_FR\n",
       "9   POLYGON ((4.90267 6.91159, 4.91155 6.903, 4.91...       Onisere_FR\n",
       "10  POLYGON ((4.92185 6.74551, 4.93256 6.68245, 4....           Otu_FR\n",
       "11  POLYGON ((5.44546 7.02321, 5.44754 7.02024, 5....           Owo_FR\n",
       "12  MULTIPOLYGON (((5.61256 7.37208, 5.61251 7.372...        Oyinmo_FR"
      ]
     },
     "execution_count": 22,
     "metadata": {},
     "output_type": "execute_result"
    }
   ],
   "source": [
    "aoi_view.model.gdf"
   ]
  }
 ],
 "metadata": {
  "kernelspec": {
   "display_name": "Python 3 (ipykernel)",
   "language": "python",
   "name": "python3"
  },
  "language_info": {
   "codemirror_mode": {
    "name": "ipython",
    "version": 3
   },
   "file_extension": ".py",
   "mimetype": "text/x-python",
   "name": "python",
   "nbconvert_exporter": "python",
   "pygments_lexer": "ipython3",
   "version": "3.10.14"
  }
 },
 "nbformat": 4,
 "nbformat_minor": 5
}
