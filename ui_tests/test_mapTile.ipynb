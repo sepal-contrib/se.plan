{
 "cells": [
  {
   "cell_type": "code",
   "execution_count": 1,
   "id": "7e9f1c13-f33e-41ae-8bc3-4108a4cf7708",
   "metadata": {
    "tags": []
   },
   "outputs": [],
   "source": [
    "%load_ext autoreload\n",
    "%autoreload 2"
   ]
  },
  {
   "cell_type": "code",
   "execution_count": 2,
   "id": "b5c29403",
   "metadata": {},
   "outputs": [],
   "source": [
    "import sys\n",
    "from pathlib import Path\n",
    "\n",
    "sys.path = [str(Path(\"..\").resolve())] + sys.path"
   ]
  },
  {
   "cell_type": "code",
   "execution_count": 3,
   "id": "8b94378c-bd93-423d-a07b-47d0de150d3f",
   "metadata": {
    "tags": []
   },
   "outputs": [
    {
     "data": {
      "text/html": [
       "<style>/*******************************************************************************\n",
       " * Customization of the provided css from the different libs used by sepal_ui\n",
       " */\n",
       "\n",
       "/* replace the map panel elements on top */\n",
       ".leaflet-pane,\n",
       ".leaflet-top,\n",
       ".leaflet-bottom {\n",
       "  z-index: 2 !important;\n",
       "}\n",
       "\n",
       "/* remove the shadow from the widgets on the maps */\n",
       ".leaflet-widgetcontrol {\n",
       "  box-shadow: none;\n",
       "}\n",
       "\n",
       "/* remove extra padding on top of the content */\n",
       "main.v-content {\n",
       "  padding-top: 0px !important;\n",
       "}\n",
       "\n",
       ".v-alert__wrapper .progress {\n",
       "  background-color: transparent;\n",
       "}\n",
       "\n",
       "/* set the bar on top of the map (800) when set to fullscreen */\n",
       "header.v-app-bar {\n",
       "  z-index: 800 !important;\n",
       "}\n",
       "\n",
       "/* set the menu_content on top of the map when it's set to fullscreen */\n",
       ".v-menu__content {\n",
       "  max-width: 100% !important;\n",
       "  z-index: 801 !important;\n",
       "}\n",
       "\n",
       "/* make sure navigation drawers are always visible when they exist */\n",
       "nav.v-navigation-drawer {\n",
       "  z-index: 900 !important;\n",
       "}\n",
       "\n",
       "/* create extra position for the leaflet map controls */\n",
       ".leaflet-center {\n",
       "  left: 50%;\n",
       "  transform: translate(-50%, 0%);\n",
       "}\n",
       "\n",
       ".leaflet-middle {\n",
       "  top: 50%;\n",
       "  position: absolute;\n",
       "  z-index: 1000;\n",
       "  pointer-events: none;\n",
       "  transform: translate(0%, -50%);\n",
       "}\n",
       "\n",
       ".leaflet-center.leaflet-middle {\n",
       "  transform: translate(-50%, -50%);\n",
       "}\n",
       "\n",
       "/* create extra classes to customize the layer_control table */\n",
       ".v-no-hover:hover {\n",
       "  background-color: transparent !important;\n",
       "}\n",
       "\n",
       ".v-no-border tbody tr td,\n",
       ".v-no-border tbody tr th {\n",
       "  border: none !important;\n",
       "}\n",
       "\n",
       "/* extra css rules to make the messages disappear beneath the SimpleSlider */\n",
       ".v-no-messages .v-messages {\n",
       "  display: none;\n",
       "}\n",
       "\n",
       ".v-no-messages .v-input__slot {\n",
       "  margin-bottom: 0;\n",
       "}\n",
       "\n",
       "/* specific css for the btn placed on maps */\n",
       ".v-btn.v-size--default.v-map-btn:not(.v-btn--round) {\n",
       "  padding: 0px;\n",
       "  min-width: 0px;\n",
       "  width: 30px;\n",
       "  height: 30px;\n",
       "}\n",
       "\n",
       "/* add specific css for the zoom btn of the map */\n",
       ".v-btn.v-zoom-plus {\n",
       "  border-bottom-left-radius: 0;\n",
       "  border-bottom-right-radius: 0;\n",
       "}\n",
       "\n",
       ".v-btn.v-zoom-minus {\n",
       "  margin-top: -1px;\n",
       "  border-top-left-radius: 0;\n",
       "  border-top-right-radius: 0;\n",
       "}\n",
       "\n",
       "/* css rules for fullscreen menus */\n",
       ".v-card.v-menu-fullscreen {\n",
       "  width: calc(100vw - 80px);\n",
       "  height: calc(100vh - 20px);\n",
       "}\n",
       "\n",
       "/* hide the disclaimer message placed on top of the ui notebook\n",
       " * the message will be displayed until the css is loaded */\n",
       "#loading-app {\n",
       "  display: none !important;\n",
       "}\n",
       "\n",
       "/* Related with https://github.com/12rambau/sepal_ui/issues/893 */\n",
       "#rendered_cells,\n",
       "#main {\n",
       "  contain: revert !important;\n",
       "  background-color: revert !important;\n",
       "}\n",
       "\n",
       "#jp-main-content-panel {\n",
       "  contain: revert !important;\n",
       "}\n",
       "\n",
       ".full-screen-map > .leaflet-container {\n",
       "  position: fixed !important;\n",
       "  width: 100vw;\n",
       "  height: calc(100vh - 48px);\n",
       "  z-index: 800;\n",
       "  bottom: 0;\n",
       "  left: 0;\n",
       "}\n",
       "</style>"
      ],
      "text/plain": [
       "<IPython.core.display.HTML object>"
      ]
     },
     "metadata": {},
     "output_type": "display_data"
    },
    {
     "data": {
      "text/html": [
       "<link rel=\"stylesheet\" href=\"https://cdnjs.cloudflare.com/ajax/libs/font-awesome/6.2.1/css/all.min.css\"/>"
      ],
      "text/plain": [
       "<IPython.core.display.HTML object>"
      ]
     },
     "metadata": {},
     "output_type": "display_data"
    },
    {
     "data": {
      "application/javascript": [
       "/*******************************************************************************\n",
       " * remove any links from fontawesome 5 created by jupyter in favor of\n",
       " * fontawesome 6. to be removed when Jupyter updates it\n",
       " */\n",
       "\n",
       "function remove_fa5() {\n",
       "  let links = document.querySelectorAll(\n",
       "    \"link[href^='https://cdn.jsdelivr.net/npm/@fortawesome/fontawesome-free@^5']\"\n",
       "  );\n",
       "\n",
       "  links.forEach((link) => link.remove());\n",
       "}\n",
       "\n",
       "if (document.readyState != \"loading\") remove_fa5();\n",
       "else document.addEventListener(\"DOMContentLoaded\", remove_fa5);\n"
      ],
      "text/plain": [
       "<IPython.core.display.Javascript object>"
      ]
     },
     "metadata": {},
     "output_type": "display_data"
    },
    {
     "data": {
      "application/vnd.jupyter.widget-view+json": {
       "model_id": "b5dba4dcbf2b40c28c431c6c72af2c8c",
       "version_major": 2,
       "version_minor": 0
      },
      "text/plain": [
       "ResizeTrigger()"
      ]
     },
     "metadata": {},
     "output_type": "display_data"
    }
   ],
   "source": [
    "from component.model import BenefitModel\n",
    "from component.model import ConstraintModel\n",
    "from component.model import CostModel\n",
    "from component.model.aoi_model import SeplanAoi"
   ]
  },
  {
   "cell_type": "code",
   "execution_count": 4,
   "id": "38a2c765-3034-4784-9c1a-d1ba1b68f0f9",
   "metadata": {
    "tags": []
   },
   "outputs": [
    {
     "data": {
      "application/vnd.jupyter.widget-view+json": {
       "model_id": "a369800dbd694033ba53aff251483e1d",
       "version_major": 2,
       "version_minor": 0
      },
      "text/plain": [
       "VuetifyTemplate(template=\"\\n        <style class='sepal-ui-script'>\\n            .custom_map .jupyter-widgets.…"
      ]
     },
     "metadata": {},
     "output_type": "display_data"
    },
    {
     "name": "stderr",
     "output_type": "stream",
     "text": [
      "*** Earth Engine *** Share your feedback by taking our Annual Developer Satisfaction Survey: https://google.qualtrics.com/jfe/form/SV_0JLhFqfSY1uiEaW?source=Init\n"
     ]
    }
   ],
   "source": [
    "from component.tile.map_tile import MapTile\n",
    "from component.widget.alert_state import AlertState"
   ]
  },
  {
   "cell_type": "code",
   "execution_count": 5,
   "id": "c4c3f9a3-14f4-4a5b-b7d3-8f4c271adbee",
   "metadata": {
    "tags": []
   },
   "outputs": [],
   "source": [
    "from component.model.recipe import Recipe"
   ]
  },
  {
   "cell_type": "code",
   "execution_count": 6,
   "id": "92ab76fb-4844-4f45-8824-3ab11949b60b",
   "metadata": {
    "tags": []
   },
   "outputs": [],
   "source": [
    "alert = AlertState()"
   ]
  },
  {
   "cell_type": "code",
   "execution_count": 7,
   "id": "691ac587-2fae-480d-8b27-d9c131aa09e1",
   "metadata": {
    "tags": []
   },
   "outputs": [
    {
     "data": {
      "application/vnd.jupyter.widget-view+json": {
       "model_id": "6f83f724220b47eaa6a4b3629e407ccb",
       "version_major": 2,
       "version_minor": 0
      },
      "text/plain": [
       "AlertState(class_='d-none', layout=None, old_class='mt-5', style_='margin: 0 !important;', text=True, type='in…"
      ]
     },
     "execution_count": 7,
     "metadata": {},
     "output_type": "execute_result"
    }
   ],
   "source": [
    "alert"
   ]
  },
  {
   "cell_type": "code",
   "execution_count": 20,
   "id": "ffa907c6-ec1a-478a-9d07-22277cc42932",
   "metadata": {
    "tags": []
   },
   "outputs": [
    {
     "data": {
      "text/plain": [
       "<component.model.recipe.Recipe at 0x7ec1d80af5e0>"
      ]
     },
     "execution_count": 20,
     "metadata": {},
     "output_type": "execute_result"
    }
   ],
   "source": [
    "recipe = Recipe()\n",
    "recipe_path = \"/home/dguerrero/module_results/se.plan/recipes/antioquia2.json\"\n",
    "recipe.load(recipe_path)"
   ]
  },
  {
   "cell_type": "code",
   "execution_count": 21,
   "id": "6d3d6eeb-0911-4410-a9b5-608617d48b31",
   "metadata": {
    "tags": []
   },
   "outputs": [],
   "source": [
    "# benefit_index = seplan_model.get_benefit_index(clip=True)\n",
    "# benefit_cost_index = seplan_model.get_benefit_cost_index(clip=True)\n",
    "# constraint_index = seplan_model.get_constraint_index(clip=True)"
   ]
  },
  {
   "cell_type": "code",
   "execution_count": 23,
   "id": "b04b0e30-f8e0-4c2b-a519-30f37fe05681",
   "metadata": {
    "tags": []
   },
   "outputs": [
    {
     "data": {
      "application/vnd.jupyter.widget-view+json": {
       "model_id": "3623a862e00b40d497460dbd027c510b",
       "version_major": 2,
       "version_minor": 0
      },
      "text/plain": [
       "MapTile(children=[AlertDialog(children=[Card(children=[Alert(class_='d-none', layout=None, old_class='mt-5', s…"
      ]
     },
     "execution_count": 23,
     "metadata": {},
     "output_type": "execute_result"
    }
   ],
   "source": [
    "map_tile = MapTile(recipe)\n",
    "map_tile"
   ]
  },
  {
   "cell_type": "code",
   "execution_count": 15,
   "id": "e35b18eb-f648-41c5-bbd7-e3c3448b1d83",
   "metadata": {
    "tags": []
   },
   "outputs": [],
   "source": [
    "from component.widget.import_aoi_dialog import ImportAoiView"
   ]
  },
  {
   "cell_type": "code",
   "execution_count": 16,
   "id": "fa014fb8-7b08-4b56-9d99-41ae69903356",
   "metadata": {},
   "outputs": [],
   "source": [
    "from sepal_ui.aoi.aoi_view import AoiView"
   ]
  },
  {
   "cell_type": "code",
   "execution_count": 17,
   "id": "05edcf2a-7b2e-450e-b461-63c848cb8390",
   "metadata": {},
   "outputs": [],
   "source": [
    "aoi_view = AoiView()"
   ]
  },
  {
   "cell_type": "code",
   "execution_count": 18,
   "id": "f3194d27-9db4-43be-b712-b145fd707598",
   "metadata": {},
   "outputs": [
    {
     "data": {
      "application/vnd.jupyter.widget-view+json": {
       "model_id": "25e9367a78874f439f7bc5050321f530",
       "version_major": 2,
       "version_minor": 0
      },
      "text/plain": [
       "AoiView(children=[MethodSelect(dense=True, items=[{'header': 'Administrative definitions'}, {'text': 'Country/…"
      ]
     },
     "execution_count": 18,
     "metadata": {},
     "output_type": "execute_result"
    }
   ],
   "source": [
    "aoi_view"
   ]
  },
  {
   "cell_type": "code",
   "execution_count": 19,
   "id": "ae0cc7cf-d7f6-40aa-8298-48fe1546b5ef",
   "metadata": {},
   "outputs": [],
   "source": [
    "aoi_view.model.gdf"
   ]
  }
 ],
 "metadata": {
  "kernelspec": {
   "display_name": "Python 3 (ipykernel)",
   "language": "python",
   "name": "python3"
  },
  "language_info": {
   "codemirror_mode": {
    "name": "ipython",
    "version": 3
   },
   "file_extension": ".py",
   "mimetype": "text/x-python",
   "name": "python",
   "nbconvert_exporter": "python",
   "pygments_lexer": "ipython3",
   "version": "3.10.14"
  }
 },
 "nbformat": 4,
 "nbformat_minor": 5
}
