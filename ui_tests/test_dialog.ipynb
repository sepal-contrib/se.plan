{
 "cells": [
  {
   "cell_type": "markdown",
   "id": "2659af4d-9242-4beb-92aa-316b61ad4498",
   "metadata": {
    "tags": []
   },
   "source": [
    "## Benefits table"
   ]
  },
  {
   "cell_type": "code",
   "execution_count": null,
   "id": "5176c7fb-4570-4368-a91b-8a959cc964f5",
   "metadata": {
    "tags": []
   },
   "outputs": [],
   "source": [
    "%load_ext autoreload\n",
    "%autoreload 2"
   ]
  },
  {
   "cell_type": "code",
   "execution_count": null,
   "id": "3ef5f7b6-4955-43bc-b88d-6ae3a2b8b334",
   "metadata": {
    "tags": []
   },
   "outputs": [],
   "source": [
    "from component.widget.benefit_dialog import BenefitDialog\n",
    "from component.widget.questionaire_table import Table\n",
    "from component.model import BenefitModel"
   ]
  },
  {
   "cell_type": "code",
   "execution_count": null,
   "id": "3720597e-a9f3-45fa-9d1b-8dd320eb8b6e",
   "metadata": {
    "tags": []
   },
   "outputs": [],
   "source": [
    "benefits_model = BenefitModel()"
   ]
  },
  {
   "cell_type": "code",
   "execution_count": null,
   "id": "320f268b-8c56-442d-8d06-4d42fd9411ef",
   "metadata": {
    "tags": []
   },
   "outputs": [],
   "source": [
    "benefits_table = Table(model=benefits_model)\n",
    "benefits_table"
   ]
  },
  {
   "cell_type": "code",
   "execution_count": null,
   "id": "3d95ca8b-bc81-47e3-b14e-a8cb0635d66a",
   "metadata": {
    "tags": []
   },
   "outputs": [],
   "source": [
    "benefits_model.weights = [1, 1, 1, 1, 1, 3]\n",
    "benefits_model.updated += 1"
   ]
  },
  {
   "cell_type": "markdown",
   "id": "0a99949a-f75f-4542-b5d3-a5c14553f21b",
   "metadata": {},
   "source": [
    "## Constraint table"
   ]
  },
  {
   "cell_type": "code",
   "execution_count": null,
   "id": "2d45da82-3b84-42fb-865f-84721c822d62",
   "metadata": {
    "tags": []
   },
   "outputs": [],
   "source": [
    "%load_ext autoreload\n",
    "%autoreload 2"
   ]
  },
  {
   "cell_type": "code",
   "execution_count": null,
   "id": "1b6ac7a1-4443-4dd4-934d-58f667858359",
   "metadata": {
    "tags": []
   },
   "outputs": [],
   "source": [
    "from component.widget.constraint_dialog import ConstraintDialog\n",
    "from component.widget.questionaire_table import Table\n",
    "from component.model import ConstraintModel\n",
    "\n",
    "from sepal_ui.aoi.aoi_model import AoiModel\n",
    "\n",
    "aoi_model = AoiModel(admin=\"959\")\n",
    "# aoi_model = AoiModel()"
   ]
  },
  {
   "cell_type": "code",
   "execution_count": null,
   "id": "8fab1c13-a6e6-4fa1-991f-9049decbf04f",
   "metadata": {
    "tags": []
   },
   "outputs": [],
   "source": [
    "constraint_model = ConstraintModel()"
   ]
  },
  {
   "cell_type": "code",
   "execution_count": null,
   "id": "b39091b8-1d3b-4ae5-b59e-a22000f9dc99",
   "metadata": {
    "tags": []
   },
   "outputs": [],
   "source": [
    "constraint_dialog = ConstraintDialog(model=constraint_model)\n",
    "constraint_dialog"
   ]
  },
  {
   "cell_type": "code",
   "execution_count": null,
   "id": "be15611a-b0df-4be9-b01b-b2b3976f480c",
   "metadata": {
    "tags": []
   },
   "outputs": [],
   "source": [
    "constraint_table = Table(\n",
    "    model=constraint_model, dialog=constraint_dialog, aoi_model=aoi_model\n",
    ")"
   ]
  },
  {
   "cell_type": "code",
   "execution_count": null,
   "id": "fcbc66fa-d8c5-4ae2-90d7-f5febf9ef5e5",
   "metadata": {
    "tags": []
   },
   "outputs": [],
   "source": [
    "constraint_table"
   ]
  },
  {
   "cell_type": "markdown",
   "id": "a4c61e46-b042-4a1f-ad2c-20e5d2649674",
   "metadata": {},
   "source": [
    "## Cost table"
   ]
  },
  {
   "cell_type": "code",
   "execution_count": null,
   "id": "ce52f073-19e6-49d5-b100-db9879a4c90a",
   "metadata": {},
   "outputs": [],
   "source": [
    "%load_ext autoreload\n",
    "%autoreload 2"
   ]
  },
  {
   "cell_type": "code",
   "execution_count": null,
   "id": "99b80e37-1c99-4ce1-a4fe-2e04b881b520",
   "metadata": {
    "tags": []
   },
   "outputs": [],
   "source": [
    "from component.widget.cost_dialog import CostDialog\n",
    "from component.widget.questionaire_table import Table\n",
    "from component.model import CostModel"
   ]
  },
  {
   "cell_type": "code",
   "execution_count": null,
   "id": "f4d737b0-2796-4dd4-9b97-59efd0414273",
   "metadata": {
    "tags": []
   },
   "outputs": [],
   "source": [
    "cost_model = CostModel()"
   ]
  },
  {
   "cell_type": "code",
   "execution_count": null,
   "id": "f37336d5-3a65-4d67-a9fb-eaa6faef19ff",
   "metadata": {
    "tags": []
   },
   "outputs": [],
   "source": [
    "cost_dialog = CostDialog(model=cost_model)\n",
    "cost_dialog"
   ]
  },
  {
   "cell_type": "code",
   "execution_count": null,
   "id": "3c1c3c25-1c33-40e1-ab4f-eaeb6c16aaba",
   "metadata": {
    "tags": []
   },
   "outputs": [],
   "source": [
    "cost_table = Table(model=cost_model, dialog=cost_dialog)"
   ]
  },
  {
   "cell_type": "code",
   "execution_count": null,
   "id": "4a6a216f-fd2a-4350-b698-96e45af06536",
   "metadata": {
    "tags": []
   },
   "outputs": [],
   "source": [
    "cost_table"
   ]
  }
 ],
 "metadata": {
  "kernelspec": {
   "display_name": "(test) test-se",
   "language": "python",
   "name": "test-se"
  },
  "language_info": {
   "codemirror_mode": {
    "name": "ipython",
    "version": 3
   },
   "file_extension": ".py",
   "mimetype": "text/x-python",
   "name": "python",
   "nbconvert_exporter": "python",
   "pygments_lexer": "ipython3",
   "version": "3.8.10"
  }
 },
 "nbformat": 4,
 "nbformat_minor": 5
}
