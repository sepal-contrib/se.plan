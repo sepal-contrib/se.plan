{
 "cells": [
  {
   "cell_type": "markdown",
   "id": "2659af4d-9242-4beb-92aa-316b61ad4498",
   "metadata": {
    "tags": []
   },
   "source": [
    "## Benefits table"
   ]
  },
  {
   "cell_type": "code",
   "execution_count": null,
   "id": "5176c7fb-4570-4368-a91b-8a959cc964f5",
   "metadata": {
    "tags": []
   },
   "outputs": [],
   "source": [
    "%load_ext autoreload\n",
    "%autoreload 2"
   ]
  },
  {
   "cell_type": "code",
   "execution_count": null,
   "id": "bc855c1f-7e57-4fe2-a1ce-373d5e5f613d",
   "metadata": {},
   "outputs": [],
   "source": [
    "import sys\n",
    "sys.path.append(\"../\")\n",
    "from component.message import cm"
   ]
  },
  {
   "cell_type": "code",
   "execution_count": null,
   "id": "3ef5f7b6-4955-43bc-b88d-6ae3a2b8b334",
   "metadata": {
    "tags": []
   },
   "outputs": [],
   "source": [
    "from component.widget.benefit_dialog import BenefitDialog\n",
    "from component.widget.questionaire_table import Table\n",
    "from component.model import BenefitModel"
   ]
  },
  {
   "cell_type": "code",
   "execution_count": null,
   "id": "3720597e-a9f3-45fa-9d1b-8dd320eb8b6e",
   "metadata": {
    "tags": []
   },
   "outputs": [],
   "source": [
    "benefits_model = BenefitModel()"
   ]
  },
  {
   "cell_type": "code",
   "execution_count": null,
   "id": "320f268b-8c56-442d-8d06-4d42fd9411ef",
   "metadata": {
    "tags": []
   },
   "outputs": [],
   "source": [
    "benefits_table = Table(model=benefits_model)\n",
    "benefits_table"
   ]
  },
  {
   "cell_type": "code",
   "execution_count": null,
   "id": "3d95ca8b-bc81-47e3-b14e-a8cb0635d66a",
   "metadata": {
    "tags": []
   },
   "outputs": [],
   "source": [
    "benefits_model.weights = [1, 1, 1, 1, 1, 3]\n",
    "benefits_model.updated += 1"
   ]
  },
  {
   "cell_type": "markdown",
   "id": "0a99949a-f75f-4542-b5d3-a5c14553f21b",
   "metadata": {},
   "source": [
    "## Constraint table"
   ]
  },
  {
   "cell_type": "code",
   "execution_count": 1,
   "id": "2d45da82-3b84-42fb-865f-84721c822d62",
   "metadata": {
    "tags": []
   },
   "outputs": [],
   "source": [
    "%load_ext autoreload\n",
    "%autoreload 2"
   ]
  },
  {
   "cell_type": "code",
   "execution_count": 2,
   "id": "71023316-56d0-43d1-a32f-54885524c0c7",
   "metadata": {},
   "outputs": [
    {
     "data": {
      "text/html": [
       "<style>/*******************************************************************************\n",
       " * Customization of the provided css from the different libs used by sepal_ui\n",
       " */\n",
       "\n",
       "/* replace the map panel elements on top */\n",
       ".leaflet-pane,\n",
       ".leaflet-top,\n",
       ".leaflet-bottom {\n",
       "  z-index: 2 !important;\n",
       "}\n",
       "\n",
       "/* remove the shadow from the widgets on the maps */\n",
       ".leaflet-widgetcontrol {\n",
       "  box-shadow: none;\n",
       "}\n",
       "\n",
       "/* remove extra padding on top of the content */\n",
       "main.v-content {\n",
       "  padding-top: 0px !important;\n",
       "}\n",
       "\n",
       ".v-alert__wrapper .progress {\n",
       "  background-color: transparent;\n",
       "}\n",
       "\n",
       "/* set the bar on top of the map (800) when set to fullscreen */\n",
       "header.v-app-bar {\n",
       "  z-index: 800 !important;\n",
       "}\n",
       "\n",
       "/* set the menu_content on top of the map when it's set to fullscreen */\n",
       ".v-menu__content {\n",
       "  max-width: 100% !important;\n",
       "  z-index: 801 !important;\n",
       "}\n",
       "\n",
       "/* make sure navigation drawers are always visible when they exist */\n",
       "nav.v-navigation-drawer {\n",
       "  z-index: 900 !important;\n",
       "}\n",
       "\n",
       "/* create extra position for the leaflet map controls */\n",
       ".leaflet-center {\n",
       "  left: 50%;\n",
       "  transform: translate(-50%, 0%);\n",
       "}\n",
       "\n",
       ".leaflet-middle {\n",
       "  top: 50%;\n",
       "  position: absolute;\n",
       "  z-index: 1000;\n",
       "  pointer-events: none;\n",
       "  transform: translate(0%, -50%);\n",
       "}\n",
       "\n",
       ".leaflet-center.leaflet-middle {\n",
       "  transform: translate(-50%, -50%);\n",
       "}\n",
       "\n",
       "/* create extra classes to customize the layer_control table */\n",
       ".v-no-hover:hover {\n",
       "  background-color: transparent !important;\n",
       "}\n",
       "\n",
       ".v-no-border tbody tr td,\n",
       ".v-no-border tbody tr th {\n",
       "  border: none !important;\n",
       "}\n",
       "\n",
       "/* extra css rules to make the messages disappear beneath the SimpleSlider */\n",
       ".v-no-messages .v-messages {\n",
       "  display: none;\n",
       "}\n",
       "\n",
       ".v-no-messages .v-input__slot {\n",
       "  margin-bottom: 0;\n",
       "}\n",
       "\n",
       "/* specific css for the btn placed on maps */\n",
       ".v-btn.v-size--default.v-map-btn:not(.v-btn--round) {\n",
       "  padding: 0px;\n",
       "  min-width: 0px;\n",
       "  width: 30px;\n",
       "  height: 30px;\n",
       "}\n",
       "\n",
       "/* add specific css for the zoom btn of the map */\n",
       ".v-btn.v-zoom-plus {\n",
       "  border-bottom-left-radius: 0;\n",
       "  border-bottom-right-radius: 0;\n",
       "}\n",
       "\n",
       ".v-btn.v-zoom-minus {\n",
       "  margin-top: -1px;\n",
       "  border-top-left-radius: 0;\n",
       "  border-top-right-radius: 0;\n",
       "}\n",
       "\n",
       "/* css rules for fullscreen menus */\n",
       ".v-card.v-menu-fullscreen {\n",
       "  width: calc(100vw - 80px);\n",
       "  height: calc(100vh - 20px);\n",
       "}\n",
       "\n",
       "/* hide the disclaimer message placed on top of the ui notebook\n",
       " * the message will be displayed until the css is loaded */\n",
       "#loading-app {\n",
       "  display: none !important;\n",
       "}\n",
       "\n",
       "/* Related with https://github.com/12rambau/sepal_ui/issues/893 */\n",
       "#rendered_cells,\n",
       "#main {\n",
       "  contain: revert !important;\n",
       "  background-color: revert !important;\n",
       "}\n",
       "\n",
       "#jp-main-content-panel {\n",
       "  contain: revert !important;\n",
       "}\n",
       "\n",
       ".full-screen-map > .leaflet-container {\n",
       "  position: fixed !important;\n",
       "  width: 100vw;\n",
       "  height: calc(100vh - 48px);\n",
       "  z-index: 800;\n",
       "  bottom: 0;\n",
       "  left: 0;\n",
       "}\n",
       "</style>"
      ],
      "text/plain": [
       "<IPython.core.display.HTML object>"
      ]
     },
     "metadata": {},
     "output_type": "display_data"
    },
    {
     "data": {
      "text/html": [
       "<link rel=\"stylesheet\" href=\"https://cdnjs.cloudflare.com/ajax/libs/font-awesome/6.2.1/css/all.min.css\"/>"
      ],
      "text/plain": [
       "<IPython.core.display.HTML object>"
      ]
     },
     "metadata": {},
     "output_type": "display_data"
    },
    {
     "data": {
      "application/javascript": [
       "/*******************************************************************************\n",
       " * remove any links from fontawesome 5 created by jupyter in favor of\n",
       " * fontawesome 6. to be removed when Jupyter updates it\n",
       " */\n",
       "\n",
       "function remove_fa5() {\n",
       "  let links = document.querySelectorAll(\n",
       "    \"link[href^='https://cdn.jsdelivr.net/npm/@fortawesome/fontawesome-free@^5']\"\n",
       "  );\n",
       "\n",
       "  links.forEach((link) => link.remove());\n",
       "}\n",
       "\n",
       "if (document.readyState != \"loading\") remove_fa5();\n",
       "else document.addEventListener(\"DOMContentLoaded\", remove_fa5);\n"
      ],
      "text/plain": [
       "<IPython.core.display.Javascript object>"
      ]
     },
     "metadata": {},
     "output_type": "display_data"
    }
   ],
   "source": [
    "import sys\n",
    "sys.path.append(\"../\")\n",
    "from component.message import cm"
   ]
  },
  {
   "cell_type": "code",
   "execution_count": 3,
   "id": "1b6ac7a1-4443-4dd4-934d-58f667858359",
   "metadata": {
    "tags": []
   },
   "outputs": [
    {
     "data": {
      "application/vnd.jupyter.widget-view+json": {
       "model_id": "3f9aa15f4edc4be7867d3e1c922a46df",
       "version_major": 2,
       "version_minor": 0
      },
      "text/plain": [
       "ResizeTrigger()"
      ]
     },
     "metadata": {},
     "output_type": "display_data"
    },
    {
     "data": {
      "application/vnd.jupyter.widget-view+json": {
       "model_id": "e7be2decc8244d168dd904437a6e449a",
       "version_major": 2,
       "version_minor": 0
      },
      "text/plain": [
       "VuetifyTemplate(template=\"\\n        <style class='sepal-ui-script'>\\n            .custom_map .jupyter-widgets.…"
      ]
     },
     "metadata": {},
     "output_type": "display_data"
    },
    {
     "data": {
      "text/plain": [
       "AoiModel(admin=959, asset_name=None, method=ADMIN0, name=COL_Risaralda, updated=3, asset_json=None, vector_json=None)"
      ]
     },
     "execution_count": 3,
     "metadata": {},
     "output_type": "execute_result"
    }
   ],
   "source": [
    "from component.widget.constraint_dialog import ConstraintDialog\n",
    "from component.widget.questionaire_table import Table\n",
    "from component.model import ConstraintModel\n",
    "\n",
    "from component.model.aoi_model import SeplanAoi\n",
    "aoi_model = SeplanAoi(admin=\"959\")\n",
    "aoi_model.aoi_model.set_object()\n",
    "# aoi_model = AoiModel()"
   ]
  },
  {
   "cell_type": "code",
   "execution_count": 4,
   "id": "8fab1c13-a6e6-4fa1-991f-9049decbf04f",
   "metadata": {
    "tags": []
   },
   "outputs": [],
   "source": [
    "constraint_model = ConstraintModel()"
   ]
  },
  {
   "cell_type": "code",
   "execution_count": 8,
   "id": "b39091b8-1d3b-4ae5-b59e-a22000f9dc99",
   "metadata": {
    "tags": []
   },
   "outputs": [
    {
     "name": "stdout",
     "output_type": "stream",
     "text": [
      "This is mes\n"
     ]
    },
    {
     "data": {
      "application/vnd.jupyter.widget-view+json": {
       "model_id": "b3c8eaa20ace46ae84c8e0f77ad4db5c",
       "version_major": 2,
       "version_minor": 0
      },
      "text/plain": [
       "ConstraintDialog(children=[Card(children=[CardTitle(children=['Constraint'], layout=None), CardText(children=[…"
      ]
     },
     "execution_count": 8,
     "metadata": {},
     "output_type": "execute_result"
    }
   ],
   "source": [
    "constraint_dialog = ConstraintDialog(model=constraint_model)\n",
    "constraint_dialog"
   ]
  },
  {
   "cell_type": "code",
   "execution_count": 9,
   "id": "be15611a-b0df-4be9-b01b-b2b3976f480c",
   "metadata": {
    "tags": []
   },
   "outputs": [
    {
     "name": "stdout",
     "output_type": "stream",
     "text": [
      "This is mes\n"
     ]
    }
   ],
   "source": [
    "constraint_table = Table(\n",
    "    model=constraint_model, aoi_model=aoi_model\n",
    ")"
   ]
  },
  {
   "cell_type": "code",
   "execution_count": 10,
   "id": "fcbc66fa-d8c5-4ae2-90d7-f5febf9ef5e5",
   "metadata": {
    "tags": []
   },
   "outputs": [
    {
     "data": {
      "application/vnd.jupyter.widget-view+json": {
       "model_id": "3d9d1b22c60841b28b5fa6252d96c1e3",
       "version_major": 2,
       "version_minor": 0
      },
      "text/plain": [
       "Table(children=[ConstraintDialog(children=[Card(children=[CardTitle(children=['Constraint'], layout=None), Car…"
      ]
     },
     "execution_count": 10,
     "metadata": {},
     "output_type": "execute_result"
    }
   ],
   "source": [
    "constraint_table"
   ]
  },
  {
   "cell_type": "code",
   "execution_count": null,
   "id": "52aa72f4-bb3f-49e2-aa3c-927b9c1bb86a",
   "metadata": {},
   "outputs": [],
   "source": [
    "constraint_model.assets"
   ]
  },
  {
   "cell_type": "markdown",
   "id": "a4c61e46-b042-4a1f-ad2c-20e5d2649674",
   "metadata": {},
   "source": [
    "## Cost table"
   ]
  },
  {
   "cell_type": "code",
   "execution_count": null,
   "id": "0a7717a1-5fce-4c5e-a3dc-91351b6269f8",
   "metadata": {},
   "outputs": [],
   "source": [
    "from component.widget.buttons import TextBtn\n"
   ]
  },
  {
   "cell_type": "code",
   "execution_count": null,
   "id": "03c90fcc-9e73-4966-a153-99a6fb88aecc",
   "metadata": {},
   "outputs": [],
   "source": [
    "w_validate = TextBtn(\n",
    "            cm.constraint.dialog.validate, gliph=\"fa-solid fa-check\", type_=\"success\"\n",
    "        )\n"
   ]
  },
  {
   "cell_type": "code",
   "execution_count": null,
   "id": "7c6d5c35-e4f3-4e41-872d-656d0dff1fc5",
   "metadata": {},
   "outputs": [],
   "source": [
    "w_validate.msg=\"perro\""
   ]
  },
  {
   "cell_type": "code",
   "execution_count": null,
   "id": "5c940db7-9c65-47b3-bfff-e564337aae83",
   "metadata": {},
   "outputs": [],
   "source": [
    "w_validate"
   ]
  },
  {
   "cell_type": "code",
   "execution_count": null,
   "id": "ce52f073-19e6-49d5-b100-db9879a4c90a",
   "metadata": {},
   "outputs": [],
   "source": [
    "%load_ext autoreload\n",
    "%autoreload 2"
   ]
  },
  {
   "cell_type": "code",
   "execution_count": null,
   "id": "99b80e37-1c99-4ce1-a4fe-2e04b881b520",
   "metadata": {
    "tags": []
   },
   "outputs": [],
   "source": [
    "from component.widget.cost_dialog import CostDialog\n",
    "from component.widget.questionaire_table import Table\n",
    "from component.model import CostModel"
   ]
  },
  {
   "cell_type": "code",
   "execution_count": null,
   "id": "f4d737b0-2796-4dd4-9b97-59efd0414273",
   "metadata": {
    "tags": []
   },
   "outputs": [],
   "source": [
    "cost_model = CostModel()"
   ]
  },
  {
   "cell_type": "code",
   "execution_count": null,
   "id": "f37336d5-3a65-4d67-a9fb-eaa6faef19ff",
   "metadata": {
    "tags": []
   },
   "outputs": [],
   "source": [
    "cost_dialog = CostDialog(model=cost_model)\n",
    "cost_dialog"
   ]
  },
  {
   "cell_type": "code",
   "execution_count": null,
   "id": "3c1c3c25-1c33-40e1-ab4f-eaeb6c16aaba",
   "metadata": {
    "tags": []
   },
   "outputs": [],
   "source": [
    "cost_table = Table(model=cost_model, dialog=cost_dialog)"
   ]
  },
  {
   "cell_type": "code",
   "execution_count": null,
   "id": "4a6a216f-fd2a-4350-b698-96e45af06536",
   "metadata": {
    "tags": []
   },
   "outputs": [],
   "source": [
    "cost_table"
   ]
  }
 ],
 "metadata": {
  "kernelspec": {
   "display_name": "Python 3 (ipykernel)",
   "language": "python",
   "name": "python3"
  },
  "language_info": {
   "codemirror_mode": {
    "name": "ipython",
    "version": 3
   },
   "file_extension": ".py",
   "mimetype": "text/x-python",
   "name": "python",
   "nbconvert_exporter": "python",
   "pygments_lexer": "ipython3",
   "version": "3.10.14"
  }
 },
 "nbformat": 4,
 "nbformat_minor": 5
}
