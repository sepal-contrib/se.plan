{
 "cells": [
  {
   "cell_type": "code",
   "execution_count": 1,
   "metadata": {},
   "outputs": [],
   "source": [
    "%load_ext autoreload\n",
    "%autoreload 2"
   ]
  },
  {
   "cell_type": "code",
   "execution_count": 2,
   "metadata": {},
   "outputs": [],
   "source": [
    "import sys\n",
    "sys.path.append(\"../\")"
   ]
  },
  {
   "cell_type": "code",
   "execution_count": 19,
   "metadata": {},
   "outputs": [],
   "source": [
    "from component.widget.scenarios_dialog import ScenarioInputs, CompareScenariosDialog\n",
    "import ipyvuetify as v\n",
    "from sepal_ui.mapping import SepalMap\n",
    "from sepal_ui.mapping import SepalMap"
   ]
  },
  {
   "cell_type": "code",
   "execution_count": 20,
   "metadata": {},
   "outputs": [
    {
     "data": {
      "application/vnd.jupyter.widget-view+json": {
       "model_id": "f1f6493520bc43918e95fbf15b30cd13",
       "version_major": 2,
       "version_minor": 0
      },
      "text/plain": [
       "SepalMap(center=[0, 0], controls=(ZoomControl(options=['position', 'transparent_bg'], position='topright', wid…"
      ]
     },
     "execution_count": 20,
     "metadata": {},
     "output_type": "execute_result"
    }
   ],
   "source": [
    "m = SepalMap()\n",
    "m"
   ]
  },
  {
   "cell_type": "code",
   "execution_count": 23,
   "metadata": {},
   "outputs": [
    {
     "ename": "TypeError",
     "evalue": "TableIcon.__init__() got an unexpected keyword argument 'disabled'",
     "output_type": "error",
     "traceback": [
      "\u001b[0;31m---------------------------------------------------------------------------\u001b[0m",
      "\u001b[0;31mTypeError\u001b[0m                                 Traceback (most recent call last)",
      "Cell \u001b[0;32mIn[23], line 1\u001b[0m\n\u001b[0;32m----> 1\u001b[0m compare_scenarios  \u001b[38;5;241m=\u001b[39m \u001b[43mCompareScenariosDialog\u001b[49m\u001b[43m(\u001b[49m\u001b[43mmap_\u001b[49m\u001b[38;5;241;43m=\u001b[39;49m\u001b[43mm\u001b[49m\u001b[43m)\u001b[49m\n",
      "File \u001b[0;32m~/1_modules/se.plan/ui_tests/../component/widget/scenarios_dialog.py:174\u001b[0m, in \u001b[0;36mCompareScenariosDialog.__init__\u001b[0;34m(self, map_, alert, recipe)\u001b[0m\n\u001b[1;32m    171\u001b[0m \u001b[38;5;28mself\u001b[39m\u001b[38;5;241m.\u001b[39msuitability_indices \u001b[38;5;241m=\u001b[39m []\n\u001b[1;32m    173\u001b[0m \u001b[38;5;66;03m# Create UI elements for up to 2 scenario inputs\u001b[39;00m\n\u001b[0;32m--> 174\u001b[0m \u001b[38;5;28mself\u001b[39m\u001b[38;5;241m.\u001b[39mscenario_inputs \u001b[38;5;241m=\u001b[39m \u001b[43mScenarioInputs\u001b[49m\u001b[43m(\u001b[49m\n\u001b[1;32m    175\u001b[0m \u001b[43m    \u001b[49m\u001b[43mmain_recipe\u001b[49m\u001b[38;5;241;43m=\u001b[39;49m\u001b[43mrecipe\u001b[49m\u001b[43m \u001b[49m\u001b[38;5;28;43;01mif\u001b[39;49;00m\u001b[43m \u001b[49m\u001b[43mrecipe\u001b[49m\u001b[43m \u001b[49m\u001b[38;5;28;43;01melse\u001b[39;49;00m\u001b[43m \u001b[49m\u001b[38;5;28;43;01mNone\u001b[39;49;00m\u001b[43m,\u001b[49m\n\u001b[1;32m    176\u001b[0m \u001b[43m    \u001b[49m\u001b[43mrecipe_limit\u001b[49m\u001b[38;5;241;43m=\u001b[39;49m\u001b[38;5;241;43m2\u001b[39;49m\u001b[43m,\u001b[49m\n\u001b[1;32m    177\u001b[0m \u001b[43m\u001b[49m\u001b[43m)\u001b[49m\n\u001b[1;32m    178\u001b[0m \u001b[38;5;28mself\u001b[39m\u001b[38;5;241m.\u001b[39mbtn_compare \u001b[38;5;241m=\u001b[39m TextBtn(\u001b[38;5;124m\"\u001b[39m\u001b[38;5;124mCompare\u001b[39m\u001b[38;5;124m\"\u001b[39m)\n\u001b[1;32m    179\u001b[0m \u001b[38;5;28mself\u001b[39m\u001b[38;5;241m.\u001b[39mbtn_cancel \u001b[38;5;241m=\u001b[39m TextBtn(\u001b[38;5;124m\"\u001b[39m\u001b[38;5;124mCancel\u001b[39m\u001b[38;5;124m\"\u001b[39m, outlined\u001b[38;5;241m=\u001b[39m\u001b[38;5;28;01mTrue\u001b[39;00m)\n",
      "File \u001b[0;32m~/1_modules/se.plan/ui_tests/../component/widget/scenarios_dialog.py:46\u001b[0m, in \u001b[0;36mScenarioInputs.__init__\u001b[0;34m(self, main_recipe, recipe_limit)\u001b[0m\n\u001b[1;32m     44\u001b[0m btn_add \u001b[38;5;241m=\u001b[39m IconBtn(\u001b[38;5;124m\"\u001b[39m\u001b[38;5;124mmdi-plus\u001b[39m\u001b[38;5;124m\"\u001b[39m, color\u001b[38;5;241m=\u001b[39m\u001b[38;5;124m\"\u001b[39m\u001b[38;5;124mprimary\u001b[39m\u001b[38;5;124m\"\u001b[39m, class_\u001b[38;5;241m=\u001b[39m\u001b[38;5;124m\"\u001b[39m\u001b[38;5;124mmr-2\u001b[39m\u001b[38;5;124m\"\u001b[39m)\n\u001b[1;32m     45\u001b[0m btn_add\u001b[38;5;241m.\u001b[39mon_event(\u001b[38;5;124m\"\u001b[39m\u001b[38;5;124mclick\u001b[39m\u001b[38;5;124m\"\u001b[39m, \u001b[38;5;28mself\u001b[39m\u001b[38;5;241m.\u001b[39madd_input)\n\u001b[0;32m---> 46\u001b[0m main_recipe \u001b[38;5;241m=\u001b[39m \u001b[38;5;28;43mself\u001b[39;49m\u001b[38;5;241;43m.\u001b[39;49m\u001b[43mget_input_row\u001b[49m\u001b[43m(\u001b[49m\u001b[43mtrashable\u001b[49m\u001b[38;5;241;43m=\u001b[39;49m\u001b[38;5;28;43;01mFalse\u001b[39;49;00m\u001b[43m,\u001b[49m\u001b[43m \u001b[49m\u001b[43mmain_recipe\u001b[49m\u001b[38;5;241;43m=\u001b[39;49m\u001b[43mmain_recipe\u001b[49m\u001b[43m)\u001b[49m\n\u001b[1;32m     48\u001b[0m headers \u001b[38;5;241m=\u001b[39m sw\u001b[38;5;241m.\u001b[39mHtml(\n\u001b[1;32m     49\u001b[0m     tag\u001b[38;5;241m=\u001b[39m\u001b[38;5;124m\"\u001b[39m\u001b[38;5;124mtr\u001b[39m\u001b[38;5;124m\"\u001b[39m,\n\u001b[1;32m     50\u001b[0m     children\u001b[38;5;241m=\u001b[39m[\n\u001b[0;32m   (...)\u001b[0m\n\u001b[1;32m     56\u001b[0m     ],\n\u001b[1;32m     57\u001b[0m )\n\u001b[1;32m     59\u001b[0m \u001b[38;5;28mself\u001b[39m\u001b[38;5;241m.\u001b[39mtbody \u001b[38;5;241m=\u001b[39m sw\u001b[38;5;241m.\u001b[39mHtml(\n\u001b[1;32m     60\u001b[0m     attributes\u001b[38;5;241m=\u001b[39m{\u001b[38;5;124m\"\u001b[39m\u001b[38;5;124mid\u001b[39m\u001b[38;5;124m\"\u001b[39m: \u001b[38;5;124m\"\u001b[39m\u001b[38;5;124mtbody\u001b[39m\u001b[38;5;124m\"\u001b[39m},\n\u001b[1;32m     61\u001b[0m     tag\u001b[38;5;241m=\u001b[39m\u001b[38;5;124m\"\u001b[39m\u001b[38;5;124mtbody\u001b[39m\u001b[38;5;124m\"\u001b[39m,\n\u001b[1;32m     62\u001b[0m     children\u001b[38;5;241m=\u001b[39m[main_recipe, \u001b[38;5;28mself\u001b[39m\u001b[38;5;241m.\u001b[39mget_input_row(trashable\u001b[38;5;241m=\u001b[39m\u001b[38;5;28;01mFalse\u001b[39;00m)],\n\u001b[1;32m     63\u001b[0m )\n",
      "File \u001b[0;32m~/1_modules/se.plan/ui_tests/../component/widget/scenarios_dialog.py:120\u001b[0m, in \u001b[0;36mScenarioInputs.get_input_row\u001b[0;34m(self, trashable, main_recipe)\u001b[0m\n\u001b[1;32m    116\u001b[0m \u001b[38;5;250m\u001b[39m\u001b[38;5;124;03m\"\"\"Get a new file input.\"\"\"\u001b[39;00m\n\u001b[1;32m    118\u001b[0m row_id \u001b[38;5;241m=\u001b[39m \u001b[38;5;28mself\u001b[39m\u001b[38;5;241m.\u001b[39mget_id_name(\u001b[38;5;28mself\u001b[39m\u001b[38;5;241m.\u001b[39midx)\n\u001b[0;32m--> 120\u001b[0m remove_btn \u001b[38;5;241m=\u001b[39m \u001b[43mTableIcon\u001b[49m\u001b[43m(\u001b[49m\u001b[38;5;124;43m\"\u001b[39;49m\u001b[38;5;124;43mmdi-trash-can\u001b[39;49m\u001b[38;5;124;43m\"\u001b[39;49m\u001b[43m,\u001b[49m\u001b[43m \u001b[49m\u001b[43mdisabled\u001b[49m\u001b[38;5;241;43m=\u001b[39;49m\u001b[38;5;129;43;01mnot\u001b[39;49;00m\u001b[43m \u001b[49m\u001b[43mtrashable\u001b[49m\u001b[43m)\u001b[49m\n\u001b[1;32m    122\u001b[0m \u001b[38;5;28;01mif\u001b[39;00m trashable:\n\u001b[1;32m    123\u001b[0m     remove_btn\u001b[38;5;241m.\u001b[39mon_event(\u001b[38;5;124m\"\u001b[39m\u001b[38;5;124mclick\u001b[39m\u001b[38;5;124m\"\u001b[39m, \u001b[38;5;28;01mlambda\u001b[39;00m \u001b[38;5;241m*\u001b[39margs: \u001b[38;5;28mself\u001b[39m\u001b[38;5;241m.\u001b[39mremove_input_row(row_id))\n",
      "\u001b[0;31mTypeError\u001b[0m: TableIcon.__init__() got an unexpected keyword argument 'disabled'"
     ]
    }
   ],
   "source": [
    "compare_scenarios  = CompareScenariosDialog(map_=m)"
   ]
  },
  {
   "cell_type": "code",
   "execution_count": 24,
   "metadata": {},
   "outputs": [
    {
     "data": {
      "application/vnd.jupyter.widget-view+json": {
       "model_id": "ba231d213cb34e12b437f328327bf62e",
       "version_major": 2,
       "version_minor": 0
      },
      "text/plain": [
       "CompareScenariosDialog(children=[Card(children=[CardTitle(children=['Compare Scenarios'], layout=None), CardTe…"
      ]
     },
     "execution_count": 24,
     "metadata": {},
     "output_type": "execute_result"
    }
   ],
   "source": [
    "compare_scenarios"
   ]
  },
  {
   "cell_type": "code",
   "execution_count": 18,
   "metadata": {},
   "outputs": [],
   "source": [
    "compare_scenarios.v_model = True"
   ]
  },
  {
   "cell_type": "code",
   "execution_count": null,
   "metadata": {},
   "outputs": [],
   "source": [
    "from component.widget.buttons import TextBtn"
   ]
  },
  {
   "cell_type": "code",
   "execution_count": null,
   "metadata": {},
   "outputs": [],
   "source": [
    "btn = TextBtn(\"perro\")"
   ]
  },
  {
   "cell_type": "code",
   "execution_count": null,
   "metadata": {},
   "outputs": [],
   "source": [
    "btn"
   ]
  },
  {
   "cell_type": "code",
   "execution_count": null,
   "metadata": {},
   "outputs": [],
   "source": [
    "btn.loading=False"
   ]
  }
 ],
 "metadata": {
  "kernelspec": {
   "display_name": "Python 3 (ipykernel)",
   "language": "python",
   "name": "python3"
  },
  "language_info": {
   "codemirror_mode": {
    "name": "ipython",
    "version": 3
   },
   "file_extension": ".py",
   "mimetype": "text/x-python",
   "name": "python",
   "nbconvert_exporter": "python",
   "pygments_lexer": "ipython3",
   "version": "3.10.14"
  }
 },
 "nbformat": 4,
 "nbformat_minor": 4
}
