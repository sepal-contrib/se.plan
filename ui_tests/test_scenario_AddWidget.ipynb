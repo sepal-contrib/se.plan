{
 "cells": [
  {
   "cell_type": "code",
   "execution_count": 1,
   "metadata": {},
   "outputs": [],
   "source": [
    "%load_ext autoreload\n",
    "%autoreload 2"
   ]
  },
  {
   "cell_type": "code",
   "execution_count": 2,
   "metadata": {},
   "outputs": [],
   "source": [
    "import sys\n",
    "sys.path.append(\"../\")"
   ]
  },
  {
   "cell_type": "code",
   "execution_count": 8,
   "metadata": {},
   "outputs": [],
   "source": [
    "from component.widget.scenarios_dialog import ScenarioInputs, CompareScenariosDialog\n",
    "import ipyvuetify as v\n",
    "from sepal_ui.mapping import SepalMap\n",
    "from component.widget.map import SeplanMap\n",
    "import ee"
   ]
  },
  {
   "cell_type": "code",
   "execution_count": 9,
   "metadata": {},
   "outputs": [
    {
     "data": {
      "application/vnd.jupyter.widget-view+json": {
       "model_id": "46d4ab63699a4aeda6fc66ac8ee548a5",
       "version_major": 2,
       "version_minor": 0
      },
      "text/plain": [
       "SeplanMap(center=[0, 0], controls=(ZoomControl(options=['position', 'transparent_bg'], position='topright', wi…"
      ]
     },
     "execution_count": 9,
     "metadata": {},
     "output_type": "execute_result"
    }
   ],
   "source": [
    "m = SeplanMap()\n",
    "m"
   ]
  },
  {
   "cell_type": "code",
   "execution_count": 15,
   "metadata": {},
   "outputs": [],
   "source": [
    "compare_scenarios  = CompareScenariosDialog(map_=m, type_=\"map\")"
   ]
  },
  {
   "cell_type": "code",
   "execution_count": 17,
   "metadata": {},
   "outputs": [
    {
     "data": {
      "application/vnd.jupyter.widget-view+json": {
       "model_id": "fcb34c78003947ef9c13da1f880952e9",
       "version_major": 2,
       "version_minor": 0
      },
      "text/plain": [
       "CompareScenariosDialog(children=[Card(attributes={'id': 'card_content'}, children=[CardTitle(children=['Compar…"
      ]
     },
     "execution_count": 17,
     "metadata": {},
     "output_type": "execute_result"
    }
   ],
   "source": [
    "compare_scenarios"
   ]
  },
  {
   "cell_type": "code",
   "execution_count": 18,
   "metadata": {},
   "outputs": [],
   "source": [
    "compare_scenarios.v_model = True"
   ]
  },
  {
   "cell_type": "markdown",
   "metadata": {},
   "source": [
    "## Compare scenarios charts"
   ]
  },
  {
   "cell_type": "code",
   "execution_count": 8,
   "metadata": {},
   "outputs": [
    {
     "data": {
      "application/vnd.jupyter.widget-view+json": {
       "model_id": "f041a846acf34b59995c27138168077c",
       "version_major": 2,
       "version_minor": 0
      },
      "text/plain": [
       "CompareScenariosDialog(children=[Card(attributes={'id': 'card_content'}, children=[CardTitle(children=['Compar…"
      ]
     },
     "execution_count": 8,
     "metadata": {},
     "output_type": "execute_result"
    }
   ],
   "source": [
    "compare_scenarios  = CompareScenariosDialog(type_=\"chart\", trashable=True, increaseable=True, limit=5)\n",
    "compare_scenarios"
   ]
  },
  {
   "cell_type": "code",
   "execution_count": 9,
   "metadata": {},
   "outputs": [],
   "source": [
    "compare_scenarios.v_model = True"
   ]
  },
  {
   "cell_type": "markdown",
   "metadata": {},
   "source": [
    "### Dashboards toolbar"
   ]
  },
  {
   "cell_type": "code",
   "execution_count": 19,
   "metadata": {},
   "outputs": [],
   "source": [
    "from component.widget.alert_state import AlertState\n",
    "from component.model.recipe import Recipe\n",
    "from component.widget.custom_widgets import DashToolbar\n",
    "from component.tile.dashboard_tile import ThemeDashboard, OverallDashboard"
   ]
  },
  {
   "cell_type": "code",
   "execution_count": 20,
   "metadata": {},
   "outputs": [
    {
     "data": {
      "application/vnd.jupyter.widget-view+json": {
       "model_id": "481e2db51d714c08a740d6b54a478ceb",
       "version_major": 2,
       "version_minor": 0
      },
      "text/plain": [
       "AlertState(class_='d-none', layout=None, old_class='mt-5', style_='margin: 0 !important;', text=True, type='in…"
      ]
     },
     "execution_count": 20,
     "metadata": {},
     "output_type": "execute_result"
    }
   ],
   "source": [
    "build_alert = AlertState()\n",
    "build_alert"
   ]
  },
  {
   "cell_type": "code",
   "execution_count": 21,
   "metadata": {},
   "outputs": [],
   "source": [
    "recipe = Recipe()"
   ]
  },
  {
   "cell_type": "code",
   "execution_count": 62,
   "metadata": {},
   "outputs": [],
   "source": [
    "recipe.load(\"/home/dguerrero/module_results/se.plan/recipes/Myanmar_example.json\")"
   ]
  },
  {
   "cell_type": "code",
   "execution_count": 63,
   "metadata": {},
   "outputs": [],
   "source": [
    "theme_dashboard = ThemeDashboard()\n",
    "overall_dashboard = OverallDashboard()"
   ]
  },
  {
   "cell_type": "code",
   "execution_count": 64,
   "metadata": {},
   "outputs": [],
   "source": [
    "compare_scenarios  = CompareScenariosDialog(map_=m, type_=\"chart\", theme_dashboard=theme_dashboard, overall_dashboard=overall_dashboard)"
   ]
  },
  {
   "cell_type": "code",
   "execution_count": 65,
   "metadata": {},
   "outputs": [
    {
     "data": {
      "application/vnd.jupyter.widget-view+json": {
       "model_id": "db730412ebe347dfbcfac9b63e5a4765",
       "version_major": 2,
       "version_minor": 0
      },
      "text/plain": [
       "CompareScenariosDialog(children=[Card(attributes={'id': 'card_content'}, children=[CardTitle(children=['Compar…"
      ]
     },
     "execution_count": 65,
     "metadata": {},
     "output_type": "execute_result"
    }
   ],
   "source": [
    "compare_scenarios"
   ]
  },
  {
   "cell_type": "code",
   "execution_count": 69,
   "metadata": {},
   "outputs": [],
   "source": [
    "compare_scenarios.open_dialog()"
   ]
  },
  {
   "cell_type": "code",
   "execution_count": 66,
   "metadata": {},
   "outputs": [
    {
     "data": {
      "application/vnd.jupyter.widget-view+json": {
       "model_id": "4d1bc82a43c3470dbc7c4282c6f64e90",
       "version_major": 2,
       "version_minor": 0
      },
      "text/plain": [
       "OverallDashboard(children=[CardTitle(children=['Summary of restoration suitability by region'], layout=None), …"
      ]
     },
     "execution_count": 66,
     "metadata": {},
     "output_type": "execute_result"
    }
   ],
   "source": [
    "overall_dashboard"
   ]
  },
  {
   "cell_type": "code",
   "execution_count": 67,
   "metadata": {},
   "outputs": [
    {
     "data": {
      "application/vnd.jupyter.widget-view+json": {
       "model_id": "9e0f5fb05e9b47af80fc845768c0472d",
       "version_major": 2,
       "version_minor": 0
      },
      "text/plain": [
       "ThemeDashboard(children=[CardTitle(children=['Area of interest - summary by subthemes'], layout=None), Alert(c…"
      ]
     },
     "execution_count": 67,
     "metadata": {},
     "output_type": "execute_result"
    }
   ],
   "source": [
    "theme_dashboard"
   ]
  },
  {
   "cell_type": "code",
   "execution_count": null,
   "metadata": {},
   "outputs": [],
   "source": []
  },
  {
   "cell_type": "code",
   "execution_count": null,
   "metadata": {},
   "outputs": [],
   "source": []
  }
 ],
 "metadata": {
  "kernelspec": {
   "display_name": "Python 3 (ipykernel)",
   "language": "python",
   "name": "python3"
  },
  "language_info": {
   "codemirror_mode": {
    "name": "ipython",
    "version": 3
   },
   "file_extension": ".py",
   "mimetype": "text/x-python",
   "name": "python",
   "nbconvert_exporter": "python",
   "pygments_lexer": "ipython3",
   "version": "3.10.14"
  }
 },
 "nbformat": 4,
 "nbformat_minor": 4
}
