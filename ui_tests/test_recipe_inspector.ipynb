{
 "cells": [
  {
   "cell_type": "code",
   "execution_count": null,
   "id": "2f986015-f78d-4254-9935-aa55b9ed05e1",
   "metadata": {},
   "outputs": [],
   "source": [
    "%load_ext autoreload\n",
    "%autoreload 2"
   ]
  },
  {
   "cell_type": "code",
   "execution_count": null,
   "id": "de4ea64d-bf05-4b3e-adaf-2f8998b16b8f",
   "metadata": {},
   "outputs": [],
   "source": [
    "import sys\n",
    "from pathlib import Path\n",
    "sys.path = [str(Path(\"..\").resolve())] + sys.path"
   ]
  },
  {
   "cell_type": "code",
   "execution_count": null,
   "id": "b10c5ebb-3c09-427a-897a-9a16c0c125f6",
   "metadata": {},
   "outputs": [],
   "source": [
    "from tests.data.test_recipes import *"
   ]
  },
  {
   "cell_type": "code",
   "execution_count": null,
   "id": "b0625d0c-e1a3-4395-bb9e-c5291f803388",
   "metadata": {},
   "outputs": [],
   "source": [
    "from component.scripts.validation import read_recipe_data\n",
    "from component.widget.custom_widgets import RecipeInspector"
   ]
  },
  {
   "cell_type": "code",
   "execution_count": null,
   "id": "3f8bc132-c98f-43ab-9c92-275ae935526d",
   "metadata": {},
   "outputs": [],
   "source": [
    "test_antq1_recipe_path"
   ]
  },
  {
   "cell_type": "code",
   "execution_count": null,
   "id": "38e0bf1c-f533-4a3d-b373-10c381a6e70d",
   "metadata": {},
   "outputs": [],
   "source": [
    "_, data = read_recipe_data(test_antq1_recipe_path)"
   ]
  },
  {
   "cell_type": "code",
   "execution_count": null,
   "id": "76b7a882-99e6-4607-9d46-18fcb6e27432",
   "metadata": {},
   "outputs": [],
   "source": [
    "recipe_inspector = RecipeInspector()\n",
    "recipe_inspector.set_data(data, \"recipe_name\")\n",
    "recipe_inspector"
   ]
  },
  {
   "cell_type": "code",
   "execution_count": null,
   "id": "46828164-b0f0-44a9-9cdd-b798af6b270d",
   "metadata": {},
   "outputs": [],
   "source": [
    "recipe_inspector.dialog = True"
   ]
  },
  {
   "cell_type": "markdown",
   "id": "94bc6672-9b2c-431a-b411-f494fb90823b",
   "metadata": {},
   "source": [
    "## Load from RecipeInput"
   ]
  },
  {
   "cell_type": "code",
   "execution_count": 1,
   "id": "77376085-89b3-4b58-bfb9-253e6c57ca4a",
   "metadata": {},
   "outputs": [],
   "source": [
    "%load_ext autoreload\n",
    "%autoreload 2"
   ]
  },
  {
   "cell_type": "code",
   "execution_count": 4,
   "id": "3bf4220b-a38b-467e-8bfc-af3cf445fbaa",
   "metadata": {},
   "outputs": [],
   "source": [
    "import sys\n",
    "from pathlib import Path\n",
    "sys.path = [str(Path(\"..\").resolve())] + sys.path\n",
    "from component.widget.custom_widgets import RecipeInput"
   ]
  },
  {
   "cell_type": "code",
   "execution_count": null,
   "id": "26756bdc-afe7-4634-962a-171faad62236",
   "metadata": {},
   "outputs": [],
   "source": [
    "RecipeInput()"
   ]
  },
  {
   "cell_type": "code",
   "execution_count": null,
   "id": "cdf4d745-e199-4fc5-ab61-412acc4b4eb4",
   "metadata": {},
   "outputs": [],
   "source": []
  }
 ],
 "metadata": {
  "kernelspec": {
   "display_name": "Python 3 (ipykernel)",
   "language": "python",
   "name": "python3"
  },
  "language_info": {
   "codemirror_mode": {
    "name": "ipython",
    "version": 3
   },
   "file_extension": ".py",
   "mimetype": "text/x-python",
   "name": "python",
   "nbconvert_exporter": "python",
   "pygments_lexer": "ipython3",
   "version": "3.10.14"
  }
 },
 "nbformat": 4,
 "nbformat_minor": 5
}
