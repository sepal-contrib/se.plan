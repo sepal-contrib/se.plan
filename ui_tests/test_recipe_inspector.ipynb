{
 "cells": [
  {
   "cell_type": "code",
   "execution_count": 9,
   "id": "2f986015-f78d-4254-9935-aa55b9ed05e1",
   "metadata": {},
   "outputs": [
    {
     "name": "stdout",
     "output_type": "stream",
     "text": [
      "The autoreload extension is already loaded. To reload it, use:\n",
      "  %reload_ext autoreload\n"
     ]
    }
   ],
   "source": [
    "%load_ext autoreload\n",
    "%autoreload 2"
   ]
  },
  {
   "cell_type": "code",
   "execution_count": 10,
   "id": "de4ea64d-bf05-4b3e-adaf-2f8998b16b8f",
   "metadata": {},
   "outputs": [],
   "source": [
    "import sys\n",
    "from pathlib import Path\n",
    "sys.path = [str(Path(\"..\").resolve())] + sys.path"
   ]
  },
  {
   "cell_type": "code",
   "execution_count": 11,
   "id": "b10c5ebb-3c09-427a-897a-9a16c0c125f6",
   "metadata": {},
   "outputs": [],
   "source": [
    "from tests.data.test_recipes import *"
   ]
  },
  {
   "cell_type": "code",
   "execution_count": 12,
   "id": "b0625d0c-e1a3-4395-bb9e-c5291f803388",
   "metadata": {},
   "outputs": [],
   "source": [
    "from component.scripts.validation import read_recipe_data\n",
    "from component.widget.custom_widgets import RecipeInspector"
   ]
  },
  {
   "cell_type": "code",
   "execution_count": 13,
   "id": "3f8bc132-c98f-43ab-9c92-275ae935526d",
   "metadata": {},
   "outputs": [
    {
     "data": {
      "text/plain": [
       "PosixPath('/home/dguerrero/1_modules/se.plan/tests/data/recipes/antioquia_1.json')"
      ]
     },
     "execution_count": 13,
     "metadata": {},
     "output_type": "execute_result"
    }
   ],
   "source": [
    "test_antq1_recipe_path"
   ]
  },
  {
   "cell_type": "code",
   "execution_count": 14,
   "id": "38e0bf1c-f533-4a3d-b373-10c381a6e70d",
   "metadata": {},
   "outputs": [],
   "source": [
    "_, data = read_recipe_data(test_antq1_recipe_path)"
   ]
  },
  {
   "cell_type": "code",
   "execution_count": 15,
   "id": "76b7a882-99e6-4607-9d46-18fcb6e27432",
   "metadata": {},
   "outputs": [
    {
     "data": {
      "application/vnd.jupyter.widget-view+json": {
       "model_id": "248e11b1c70149ff85772f919daa748e",
       "version_major": 2,
       "version_minor": 0
      },
      "text/plain": [
       "RecipeInspector(data_dict={'signature': 'cc19794c0d420e449f36308ce0ede23d03f14be78490d857fbda3289a1910e75', 'a…"
      ]
     },
     "execution_count": 15,
     "metadata": {},
     "output_type": "execute_result"
    }
   ],
   "source": [
    "recipe_inspector = RecipeInspector()\n",
    "recipe_inspector.set_data(data, \"recipe_name\")\n",
    "recipe_inspector"
   ]
  },
  {
   "cell_type": "code",
   "execution_count": 8,
   "id": "46828164-b0f0-44a9-9cdd-b798af6b270d",
   "metadata": {},
   "outputs": [],
   "source": [
    "recipe_inspector.dialog = True"
   ]
  },
  {
   "cell_type": "markdown",
   "id": "94bc6672-9b2c-431a-b411-f494fb90823b",
   "metadata": {},
   "source": [
    "## Load from load dialog"
   ]
  },
  {
   "cell_type": "code",
   "execution_count": 26,
   "id": "3bf4220b-a38b-467e-8bfc-af3cf445fbaa",
   "metadata": {},
   "outputs": [],
   "source": [
    "from component.tile.recipe_tile import LoadDialog"
   ]
  },
  {
   "cell_type": "code",
   "execution_count": 32,
   "id": "26756bdc-afe7-4634-962a-171faad62236",
   "metadata": {},
   "outputs": [
    {
     "data": {
      "application/vnd.jupyter.widget-view+json": {
       "model_id": "825011a063044f4ca499c3a66ad55e94",
       "version_major": 2,
       "version_minor": 0
      },
      "text/plain": [
       "LoadDialog(children=[Card(children=[CardTitle(children=['Load a recipe'], layout=None), CardText(children=[Rec…"
      ]
     },
     "execution_count": 32,
     "metadata": {},
     "output_type": "execute_result"
    }
   ],
   "source": [
    "load_dialog = LoadDialog()\n",
    "load_dialog"
   ]
  },
  {
   "cell_type": "code",
   "execution_count": 33,
   "id": "9be4028e-8569-4543-9180-78dd842b87cd",
   "metadata": {},
   "outputs": [],
   "source": [
    "load_dialog.open_dialog()"
   ]
  },
  {
   "cell_type": "code",
   "execution_count": 34,
   "id": "a95586b9-de9d-47d7-8748-b76052926b47",
   "metadata": {},
   "outputs": [],
   "source": [
    "load_dialog.load_recipe_path"
   ]
  },
  {
   "cell_type": "code",
   "execution_count": 30,
   "id": "d1be0c3e-7425-444e-9a47-084abf6a00ab",
   "metadata": {},
   "outputs": [],
   "source": [
    "import ipyvuetify as v"
   ]
  },
  {
   "cell_type": "code",
   "execution_count": 31,
   "id": "0410cc76-24f1-4d56-ad2b-9c3df1e06b9c",
   "metadata": {},
   "outputs": [],
   "source": [
    "v.theme.dark=True"
   ]
  }
 ],
 "metadata": {
  "kernelspec": {
   "display_name": "Python 3 (ipykernel)",
   "language": "python",
   "name": "python3"
  },
  "language_info": {
   "codemirror_mode": {
    "name": "ipython",
    "version": 3
   },
   "file_extension": ".py",
   "mimetype": "text/x-python",
   "name": "python",
   "nbconvert_exporter": "python",
   "pygments_lexer": "ipython3",
   "version": "3.10.14"
  }
 },
 "nbformat": 4,
 "nbformat_minor": 5
}
