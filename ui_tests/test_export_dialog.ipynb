{
 "cells": [
  {
   "cell_type": "code",
   "execution_count": 1,
   "id": "21431aff-f202-42da-8b37-27b94d9ac499",
   "metadata": {},
   "outputs": [],
   "source": [
    "%load_ext autoreload\n",
    "%autoreload 2"
   ]
  },
  {
   "cell_type": "code",
   "execution_count": 8,
   "id": "8bfdd51c-5c40-480f-aaea-4469e0e7a9f0",
   "metadata": {
    "tags": []
   },
   "outputs": [],
   "source": [
    "import sys\n",
    "sys.path.append(\"../\")\n",
    "from component.model.recipe import Recipe\n",
    "import ee\n",
    "from component.widget.export_dialog import ExportMapDialog\n",
    "ee.Initialize()\n",
    "import ipyvuetify as v"
   ]
  },
  {
   "cell_type": "code",
   "execution_count": 9,
   "id": "4d631f49-316e-4f9e-bf07-b8d9f93d22ca",
   "metadata": {},
   "outputs": [],
   "source": [
    "# Load a previously created recipe\n",
    "recipe = Recipe()\n",
    "recipe.load_model()\n",
    "\n",
    "# This has to be done like this because the recipe tile is the one that sets the recipe path\n",
    "recipe.recipe_session_path = \"/home/dguerrero/module_results/se.plan/recipes/test_cundinamarca.json\"\n",
    "recipe.load(recipe.recipe_session_path)\n",
    "\n",
    "recipe.seplan_aoi.aoi_model.set_object(); # we have to do this manually\n",
    "aoi = recipe.seplan_aoi.aoi_model.feature_collection"
   ]
  },
  {
   "cell_type": "code",
   "execution_count": 10,
   "id": "c51eb186-4c4d-4d70-a479-8cd236cdf23f",
   "metadata": {},
   "outputs": [],
   "source": [
    "export_dialog = ExportMapDialog(recipe)"
   ]
  },
  {
   "cell_type": "code",
   "execution_count": 11,
   "id": "073221bf-2633-46c2-be74-086352bf0080",
   "metadata": {},
   "outputs": [
    {
     "data": {
      "application/vnd.jupyter.widget-view+json": {
       "model_id": "4cc9764a4c7042e99bb9eb9f93bc7806",
       "version_major": 2,
       "version_minor": 0
      },
      "text/plain": [
       "CardText(children=[Select(items=[{'header': 'Index'}, {'text': 'Suitability index', 'value': ['index', 'constr…"
      ]
     },
     "execution_count": 11,
     "metadata": {},
     "output_type": "execute_result"
    }
   ],
   "source": [
    "export_dialog.content"
   ]
  },
  {
   "cell_type": "code",
   "execution_count": 12,
   "id": "e16bb7da-ae42-4e27-b966-01c327a3f1de",
   "metadata": {},
   "outputs": [
    {
     "data": {
      "application/vnd.jupyter.widget-view+json": {
       "model_id": "fa8cdcac39c940dba7f58c454d916c1f",
       "version_major": 2,
       "version_minor": 0
      },
      "text/plain": [
       "CardActions(children=[Spacer(layout=None), TextBtn(children=[Icon(children=[''], class_='d-none', layout=None,…"
      ]
     },
     "execution_count": 12,
     "metadata": {},
     "output_type": "execute_result"
    }
   ],
   "source": [
    "export_dialog.actions"
   ]
  },
  {
   "cell_type": "code",
   "execution_count": 20,
   "id": "ff1f6464-29ba-4ccd-9944-027de24c99dc",
   "metadata": {},
   "outputs": [],
   "source": [
    "v.theme.dark = not v.theme.dark"
   ]
  },
  {
   "cell_type": "code",
   "execution_count": null,
   "id": "9b0d0365-e58d-4a00-88e1-33e6b9f6ef7f",
   "metadata": {},
   "outputs": [],
   "source": []
  }
 ],
 "metadata": {
  "kernelspec": {
   "display_name": "(test) test-se.plan",
   "language": "python",
   "name": "test-se.plan"
  },
  "language_info": {
   "codemirror_mode": {
    "name": "ipython",
    "version": 3
   },
   "file_extension": ".py",
   "mimetype": "text/x-python",
   "name": "python",
   "nbconvert_exporter": "python",
   "pygments_lexer": "ipython3",
   "version": "3.10.12"
  }
 },
 "nbformat": 4,
 "nbformat_minor": 5
}
