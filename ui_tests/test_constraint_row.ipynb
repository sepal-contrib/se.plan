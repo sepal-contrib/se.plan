{
 "cells": [
  {
   "cell_type": "markdown",
   "metadata": {},
   "source": [
    "## Test constraint Row"
   ]
  },
  {
   "cell_type": "code",
   "execution_count": null,
   "metadata": {},
   "outputs": [],
   "source": [
    "%load_ext autoreload\n",
    "%autoreload 2"
   ]
  },
  {
   "cell_type": "code",
   "execution_count": null,
   "metadata": {},
   "outputs": [],
   "source": [
    "import sys\n",
    "sys.path.append(\"../\")"
   ]
  },
  {
   "cell_type": "code",
   "execution_count": null,
   "metadata": {},
   "outputs": [],
   "source": [
    "from component.widget.constraint_dialog import ConstraintDialog\n",
    "from component.widget.alert_state import Alert\n",
    "from component.widget.preview_map_dialog import PreviewMapDialog\n",
    "from component.widget.constraint_row import ConstraintRow\n",
    "from component.model.recipe import Recipe   \n",
    "from tests.data.test_recipes import test_recipe_path"
   ]
  },
  {
   "cell_type": "code",
   "execution_count": null,
   "metadata": {},
   "outputs": [],
   "source": [
    "# Load a previously created recipe\n",
    "recipe = Recipe()\n",
    "recipe.load_model()\n",
    "\n",
    "# This has to be done like this because the recipe tile is the one that sets the recipe path\n",
    "recipe.recipe_session_path = test_recipe_path\n",
    "recipe.load(recipe.recipe_session_path)\n",
    "\n",
    "recipe.seplan_aoi.aoi_model.set_object(); # we have to do this manually\n",
    "aoi_model = recipe.seplan_aoi"
   ]
  },
  {
   "cell_type": "code",
   "execution_count": null,
   "metadata": {},
   "outputs": [],
   "source": [
    "constraint_model = recipe.seplan.constraint_model\n",
    "alert = Alert()\n",
    "preview_map = PreviewMapDialog()\n",
    "constraint_dialog = ConstraintDialog(constraint_model, alert)"
   ]
  },
  {
   "cell_type": "code",
   "execution_count": null,
   "metadata": {},
   "outputs": [],
   "source": [
    "# The model is the one that builds the rows, \n",
    "# so the model has to contain the constraint that I want to test\n",
    "# I can either load the recipe or add the values manually to the model"
   ]
  },
  {
   "cell_type": "code",
   "execution_count": null,
   "metadata": {},
   "outputs": [],
   "source": [
    "constraint_row = ConstraintRow(\n",
    "    model = constraint_model,\n",
    "    layer_id = \"city_access\",\n",
    "    dialog = constraint_dialog,\n",
    "    aoi_model = aoi_model,\n",
    "    alert = alert,\n",
    "    preview_map = preview_map,    \n",
    ")"
   ]
  },
  {
   "cell_type": "code",
   "execution_count": null,
   "metadata": {},
   "outputs": [],
   "source": [
    "constraint_row"
   ]
  },
  {
   "cell_type": "code",
   "execution_count": null,
   "metadata": {},
   "outputs": [],
   "source": [
    "preview_map"
   ]
  }
 ],
 "metadata": {
  "language_info": {
   "name": "python"
  }
 },
 "nbformat": 4,
 "nbformat_minor": 2
}
