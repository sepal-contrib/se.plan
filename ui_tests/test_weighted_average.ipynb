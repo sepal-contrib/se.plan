{
 "cells": [
  {
   "cell_type": "code",
   "execution_count": 1,
   "metadata": {},
   "outputs": [],
   "source": [
    "%load_ext autoreload\n",
    "%autoreload 2"
   ]
  },
  {
   "cell_type": "code",
   "execution_count": 3,
   "metadata": {},
   "outputs": [],
   "source": [
    "from component.model import BenefitModel\n",
    "from component.model import ConstraintModel\n",
    "from component.model import CostModel\n",
    "from component.model import SeplanAoi\n",
    "\n",
    "from component.scripts.seplan import Seplan\n",
    "\n",
    "\n",
    "from sepal_ui.mapping import SepalMap, InspectorControl\n",
    "from component.scripts.seplan import _percentile"
   ]
  },
  {
   "cell_type": "code",
   "execution_count": 4,
   "metadata": {},
   "outputs": [],
   "source": [
    "seplan_aoi = SeplanAoi(aoi_model=None)\n",
    "benefit_model = BenefitModel()\n",
    "constraint_model = ConstraintModel()\n",
    "cost_model = CostModel()\n",
    "seplan_model = Seplan(\n",
    "    seplan_aoi,\n",
    "    benefit_model,\n",
    "    constraint_model,\n",
    "    cost_model,\n",
    ")"
   ]
  },
  {
   "cell_type": "code",
   "execution_count": 5,
   "metadata": {},
   "outputs": [
    {
     "data": {
      "application/vnd.jupyter.widget-view+json": {
       "model_id": "ad076d3f989f4d74b9e8d2744143bdbf",
       "version_major": 2,
       "version_minor": 0
      },
      "text/plain": [
       "SepalMap(center=[0, 0], controls=(ZoomControl(options=['position', 'transparent_bg'], position='topright', wid…"
      ]
     },
     "metadata": {},
     "output_type": "display_data"
    }
   ],
   "source": [
    "map_ = SepalMap()\n",
    "inspector_control = InspectorControl(map_)\n",
    "map_.add(inspector_control)"
   ]
  },
  {
   "cell_type": "code",
   "execution_count": 6,
   "metadata": {},
   "outputs": [],
   "source": [
    "import ee\n",
    "\n",
    "ee.Initialize()\n",
    "aoi = seplan_aoi.feature_collection"
   ]
  },
  {
   "cell_type": "code",
   "execution_count": 32,
   "metadata": {},
   "outputs": [],
   "source": [
    "# Create a random point over the AOI=name=COL_Risaralda\n",
    "random_point = {\n",
    "    \"type\": \"FeatureCollection\",\n",
    "    \"columns\": {},\n",
    "    \"features\": [\n",
    "        {\n",
    "            \"type\": \"Feature\",\n",
    "            \"geometry\": {\n",
    "                \"type\": \"Point\",\n",
    "                \"coordinates\": [-75.92060223140517, 4.861788659634801],\n",
    "            },\n",
    "            \"id\": \"0\",\n",
    "            \"properties\": {},\n",
    "        }\n",
    "    ],\n",
    "}\n",
    "\n",
    "\n",
    "random_point = ee.FeatureCollection(random_point).first().geometry()\n",
    "# Now let's extract the value of the normalize benefits"
   ]
  },
  {
   "cell_type": "markdown",
   "metadata": {},
   "source": [
    "## Create a test dataset with a random value from each benefit\n"
   ]
  },
  {
   "cell_type": "code",
   "execution_count": 24,
   "metadata": {},
   "outputs": [],
   "source": [
    "# Okay I'm not using GEE functions because I think that the performance would\n",
    "# be more or less the same, as we are not using any getinfo function, so at\n",
    "# the end we are just building the graph."
   ]
  },
  {
   "cell_type": "code",
   "execution_count": 37,
   "metadata": {},
   "outputs": [],
   "source": [
    "perc_images = [\n",
    "    _percentile(ee.Image(i).unmask(), aoi) for i in seplan_model.benefit_model.assets\n",
    "]\n",
    "\n",
    "# create a list of images with only one value (the value of the random point)\n",
    "images = []\n",
    "for image in perc_images:\n",
    "    images.append(\n",
    "        ee.Image(\n",
    "            ee.Number(\n",
    "                image.reduceRegion(\n",
    "                    reducer=ee.Reducer.first(),\n",
    "                    geometry=random_point,\n",
    "                    scale=image.projection().nominalScale(),\n",
    "                )\n",
    "                .values()\n",
    "                .get(0)\n",
    "            )\n",
    "        )\n",
    "    )"
   ]
  },
  {
   "cell_type": "code",
   "execution_count": 96,
   "metadata": {},
   "outputs": [
    {
     "data": {
      "text/plain": [
       "[0.10720205307006836,\n",
       " 0.03448275849223137,\n",
       " 0.9781022071838379,\n",
       " 0.9337244629859924,\n",
       " 0.964881181716919,\n",
       " 0.9337817430496216]"
      ]
     },
     "execution_count": 96,
     "metadata": {},
     "output_type": "execute_result"
    }
   ],
   "source": [
    "# Those values are the following\n",
    "[\n",
    "    0.10720205307006836,\n",
    "    0.03448275849223137,\n",
    "    0.9781022071838379,\n",
    "    0.9337244629859924,\n",
    "    0.964881181716919,\n",
    "    0.9337817430496216,\n",
    "]"
   ]
  },
  {
   "cell_type": "code",
   "execution_count": 56,
   "metadata": {},
   "outputs": [],
   "source": [
    "# Get the value by using the min value of the image (min max are the same)\n",
    "image_values = [image.getInfo()[\"bands\"][0][\"data_type\"][\"min\"] for image in images]"
   ]
  },
  {
   "cell_type": "code",
   "execution_count": 97,
   "metadata": {},
   "outputs": [
    {
     "data": {
      "text/plain": [
       "['bii', 'bii', 'carbon_seq', 'local', 'local', 'wood']"
      ]
     },
     "execution_count": 97,
     "metadata": {},
     "output_type": "execute_result"
    }
   ],
   "source": [
    "self.benefit_model.themes"
   ]
  },
  {
   "cell_type": "code",
   "execution_count": 94,
   "metadata": {},
   "outputs": [],
   "source": [
    "# Test the function that is used\n",
    "\n",
    "self = seplan_model\n",
    "\n",
    "# Create an empty dictionary with the themes as keys\n",
    "default = {\"image\": ee.Image(0), \"weight\": 0, \"nb\": 0}\n",
    "theme_images = {k: default.copy() for k in set(self.benefit_model.themes)}\n",
    "\n",
    "for idx, image in enumerate(images):\n",
    "    #  Get the theme of the image by the index of the asset\n",
    "    theme_image = theme_images[self.benefit_model.themes[idx]]\n",
    "    theme_image[\"image\"] = theme_image[\"image\"].add(image)\n",
    "    theme_image[\"weight\"] += self.benefit_model.weights[idx]\n",
    "    theme_image[\"nb\"] += 1\n",
    "\n",
    "for v in theme_images.values():\n",
    "    v[\"weight\"] = v[\"weight\"] / v[\"nb\"]\n",
    "    v[\"image\"] = v[\"image\"].divide(v[\"nb\"])\n",
    "\n",
    "total_weight = sum([v[\"weight\"] for v in theme_images.values()])\n",
    "\n",
    "index = ee.Image(0)\n",
    "for v in theme_images.values():\n",
    "    index = index.add(v[\"image\"].multiply(ee.Image(v[\"weight\"]).divide(total_weight)))"
   ]
  },
  {
   "cell_type": "code",
   "execution_count": 95,
   "metadata": {},
   "outputs": [
    {
     "data": {
      "text/plain": [
       "{'type': 'Image',\n",
       " 'bands': [{'id': 'constant',\n",
       "   'data_type': {'type': 'PixelType',\n",
       "    'precision': 'double',\n",
       "    'min': 0.7330072945915163,\n",
       "    'max': 0.7330072945915163},\n",
       "   'crs': 'EPSG:4326',\n",
       "   'crs_transform': [1, 0, 0, 0, 1, 0]}]}"
      ]
     },
     "execution_count": 95,
     "metadata": {},
     "output_type": "execute_result"
    }
   ],
   "source": [
    "index.getInfo()"
   ]
  },
  {
   "cell_type": "code",
   "execution_count": 81,
   "metadata": {},
   "outputs": [
    {
     "data": {
      "text/plain": [
       "dict_keys(['wood', 'local', 'bii', 'carbon_seq'])"
      ]
     },
     "execution_count": 81,
     "metadata": {},
     "output_type": "execute_result"
    }
   ],
   "source": [
    "theme_images.keys()"
   ]
  },
  {
   "cell_type": "code",
   "execution_count": 82,
   "metadata": {},
   "outputs": [
    {
     "data": {
      "text/plain": [
       "{'image': <ee.image.Image at 0x7f601da519f0>, 'weight': 4.0, 'nb': 1}"
      ]
     },
     "execution_count": 82,
     "metadata": {},
     "output_type": "execute_result"
    }
   ],
   "source": [
    "test_theme = theme_images[\"wood\"]\n",
    "test_theme"
   ]
  },
  {
   "cell_type": "code",
   "execution_count": 88,
   "metadata": {},
   "outputs": [
    {
     "data": {
      "text/plain": [
       "{'type': 'Image',\n",
       " 'bands': [{'id': 'constant',\n",
       "   'data_type': {'type': 'PixelType',\n",
       "    'precision': 'double',\n",
       "    'min': 0.9337817430496216,\n",
       "    'max': 0.9337817430496216},\n",
       "   'crs': 'EPSG:4326',\n",
       "   'crs_transform': [1, 0, 0, 0, 1, 0]}]}"
      ]
     },
     "execution_count": 88,
     "metadata": {},
     "output_type": "execute_result"
    }
   ],
   "source": [
    "test_theme[\"image\"].getInfo()"
   ]
  },
  {
   "cell_type": "code",
   "execution_count": 89,
   "metadata": {},
   "outputs": [
    {
     "data": {
      "text/plain": [
       "3.7351269721984863"
      ]
     },
     "execution_count": 89,
     "metadata": {},
     "output_type": "execute_result"
    }
   ],
   "source": [
    "0.9337817430496216 * 4"
   ]
  },
  {
   "cell_type": "code",
   "execution_count": 85,
   "metadata": {},
   "outputs": [
    {
     "data": {
      "text/plain": [
       "4.0"
      ]
     },
     "execution_count": 85,
     "metadata": {},
     "output_type": "execute_result"
    }
   ],
   "source": [
    "test_theme[\"weight\"]"
   ]
  },
  {
   "cell_type": "code",
   "execution_count": 83,
   "metadata": {},
   "outputs": [
    {
     "data": {
      "text/plain": [
       "{'type': 'Image',\n",
       " 'bands': [{'id': 'constant',\n",
       "   'data_type': {'type': 'PixelType',\n",
       "    'precision': 'double',\n",
       "    'min': 3.7351269721984863,\n",
       "    'max': 3.7351269721984863},\n",
       "   'crs': 'EPSG:4326',\n",
       "   'crs_transform': [1, 0, 0, 0, 1, 0]}]}"
      ]
     },
     "execution_count": 83,
     "metadata": {},
     "output_type": "execute_result"
    }
   ],
   "source": [
    "test_theme[\"image\"].multiply(ee.Image(test_theme[\"weight\"])).getInfo()"
   ]
  },
  {
   "cell_type": "code",
   "execution_count": 68,
   "metadata": {},
   "outputs": [
    {
     "data": {
      "text/plain": [
       "{'type': 'Image',\n",
       " 'bands': [{'id': 'constant',\n",
       "   'data_type': {'type': 'PixelType',\n",
       "    'precision': 'double',\n",
       "    'min': 0.24661651143833296,\n",
       "    'max': 0.24661651143833296},\n",
       "   'crs': 'EPSG:4326',\n",
       "   'crs_transform': [1, 0, 0, 0, 1, 0]}]}"
      ]
     },
     "execution_count": 68,
     "metadata": {},
     "output_type": "execute_result"
    }
   ],
   "source": [
    "index.getInfo()"
   ]
  },
  {
   "cell_type": "code",
   "execution_count": 63,
   "metadata": {},
   "outputs": [
    {
     "data": {
      "text/plain": [
       "{'constant': 0.24661651143833296}"
      ]
     },
     "execution_count": 63,
     "metadata": {},
     "output_type": "execute_result"
    }
   ],
   "source": [
    "index.reduceRegion(\n",
    "    reducer=ee.Reducer.first(),\n",
    "    scale=index.projection().nominalScale(),\n",
    "    geometry=random_point,\n",
    ").getInfo()"
   ]
  },
  {
   "cell_type": "code",
   "execution_count": 61,
   "metadata": {},
   "outputs": [
    {
     "data": {
      "text/plain": [
       "{'wood': {'image': <ee.image.Image at 0x7f601da52680>, 'weight': 4.0, 'nb': 1},\n",
       " 'local': {'image': <ee.image.Image at 0x7f601da52770>,\n",
       "  'weight': 4.0,\n",
       "  'nb': 2},\n",
       " 'bii': {'image': <ee.image.Image at 0x7f601da52890>, 'weight': 4.0, 'nb': 2},\n",
       " 'carbon_seq': {'image': <ee.image.Image at 0x7f601da52830>,\n",
       "  'weight': 4.0,\n",
       "  'nb': 1}}"
      ]
     },
     "execution_count": 61,
     "metadata": {},
     "output_type": "execute_result"
    }
   ],
   "source": [
    "theme_images"
   ]
  },
  {
   "cell_type": "code",
   "execution_count": 57,
   "metadata": {},
   "outputs": [
    {
     "data": {
      "text/plain": [
       "[0.10720205307006836,\n",
       " 0.03448275849223137,\n",
       " 0.9781022071838379,\n",
       " 0.9337244629859924,\n",
       " 0.964881181716919,\n",
       " 0.9337817430496216]"
      ]
     },
     "execution_count": 57,
     "metadata": {},
     "output_type": "execute_result"
    }
   ],
   "source": [
    "image_values"
   ]
  },
  {
   "cell_type": "code",
   "execution_count": 58,
   "metadata": {},
   "outputs": [
    {
     "data": {
      "text/plain": [
       "[4, 4, 4, 4, 4, 4]"
      ]
     },
     "execution_count": 58,
     "metadata": {},
     "output_type": "execute_result"
    }
   ],
   "source": [
    "image_weights = seplan_model.benefit_model.weights\n",
    "image_weights"
   ]
  },
  {
   "cell_type": "code",
   "execution_count": 59,
   "metadata": {},
   "outputs": [
    {
     "data": {
      "text/plain": [
       "['bii', 'bii', 'carbon_seq', 'local', 'local', 'wood']"
      ]
     },
     "execution_count": 59,
     "metadata": {},
     "output_type": "execute_result"
    }
   ],
   "source": [
    "image_themes = seplan_model.benefit_model.themes\n",
    "image_themes"
   ]
  },
  {
   "cell_type": "code",
   "execution_count": 64,
   "metadata": {},
   "outputs": [
    {
     "data": {
      "text/plain": [
       "0.7330072945915163"
      ]
     },
     "execution_count": 64,
     "metadata": {},
     "output_type": "execute_result"
    }
   ],
   "source": [
    "WAa = image_weights[0]\n",
    "WAb = image_weights[1]\n",
    "Aa = image_values[0]\n",
    "Ab = image_values[1]\n",
    "Wb = image_weights[2]\n",
    "B = image_values[2]\n",
    "WCa = image_weights[3]\n",
    "WCb = image_weights[4]\n",
    "Ca = image_values[3]\n",
    "Cb = image_values[4]\n",
    "Wd = image_weights[5]\n",
    "D = image_values[5]\n",
    "\n",
    "WA = (WAa + WAb) / 2\n",
    "A = (Aa + Ab) / 2\n",
    "\n",
    "WC = (WCa + WCb) / 2\n",
    "C = (Ca + Cb) / 2\n",
    "\n",
    "index = (WA * A + Wb * B + WC * C + Wd * D) / (WA + Wb + WC + Wd)\n",
    "index"
   ]
  },
  {
   "cell_type": "code",
   "execution_count": 93,
   "metadata": {},
   "outputs": [
    {
     "data": {
      "text/plain": [
       "0.2334454357624054"
      ]
     },
     "execution_count": 93,
     "metadata": {},
     "output_type": "execute_result"
    }
   ],
   "source": [
    "(Wd * D) / (WA + Wb + WC + Wd)"
   ]
  }
 ],
 "metadata": {
  "kernelspec": {
   "display_name": "(test) test-se.plan",
   "language": "python",
   "name": "test-se.plan"
  },
  "language_info": {
   "codemirror_mode": {
    "name": "ipython",
    "version": 3
   },
   "file_extension": ".py",
   "mimetype": "text/x-python",
   "name": "python",
   "nbconvert_exporter": "python",
   "pygments_lexer": "ipython3",
   "version": "3.10.12"
  }
 },
 "nbformat": 4,
 "nbformat_minor": 4
}
