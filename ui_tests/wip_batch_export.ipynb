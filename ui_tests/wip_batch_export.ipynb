{
 "cells": [
  {
   "cell_type": "markdown",
   "id": "ef30caa5-70cc-42d0-9a66-bedcc24e5a2f",
   "metadata": {},
   "source": [
    "# se.plan for large areas and batch processing\n",
    "\n",
    "Occasionally it is needed to run a se.plan scenario for an area that is too large to be computed on the fly or when you have many scenarios you would like to run quickly without using the GUI. This notebook seeks to help facilitate those use cases. \n",
    "\n",
    "In this notebook I'll demonstrate how to use a previously saved se.plan recipe to run se.plan on a new area and save dashboard results. \n",
    "\n",
    "Specifically we will:\n",
    "\n",
    "1. Load a previous se.plan recipe\n",
    "2. Add a new AOI that would be larger than typically usable in the se.plan GUI\n",
    "3. Calculate the dashboard statistics for the new aoi and 4 new sub aois\n",
    "4. Run se.plan\n",
    "5. Get dashboard statistics\n",
    "6. Export the new recipe to a GEE asset and export our statistics to Google Drive as a CSV\n",
    "\n"
   ]
  },
  {
   "cell_type": "markdown",
   "id": "7cb0ecf1-4b67-4390-99f9-4abfc48fe344",
   "metadata": {
    "tags": []
   },
   "source": [
    "### Step 1 - Load a previous se.plan recipe\n",
    "\n",
    "We use a previous se.plan recipe to supply the answers from the questionnaire. se.plan uses a specific formatting schema when creating the recipes which is not the most fun to edit or interact with. If you are planning on running a few different scenarios for multiple regions I would suggest using the se.plan GUI to save the recipes for each plan then navigate back here to apply them programmatically."
   ]
  },
  {
   "cell_type": "code",
   "execution_count": null,
   "id": "bf4bafd3-d881-4801-ad4d-5503c22a8830",
   "metadata": {},
   "outputs": [],
   "source": [
    "# import libaraies needed  and initialize to GEE.\n",
    "from component import scripts\n",
    "import ee\n",
    "import json\n",
    "import geemap\n",
    "\n",
    "ee.Initialize()"
   ]
  },
  {
   "cell_type": "code",
   "execution_count": null,
   "id": "e25abef8-0dbb-4f3d-b525-d3df1ad4b976",
   "metadata": {},
   "outputs": [],
   "source": [
    "path = \"/home/jdilger/module_results/se.plan/SLV/recipe_2022-05-23.json\"\n",
    "with open(path, \"r\") as f:\n",
    "    recipe = json.load(f)\n",
    "\n",
    "# get priorities and constraints AS STRINGS\n",
    "# wlc function expects this\n",
    "priorities = recipe[\"question_model\"][\"priorities\"]\n",
    "constraints = recipe[\"question_model\"][\"constraints\"]\n",
    "layer_list = recipe[\"layer_model\"][\"layer_list\"]\n",
    "\n",
    "print(\"wlc priorities input type should be a string :\", type(priorities))\n",
    "print(\"wlc constraints input type should be a string :\", type(constraints))\n",
    "print(\"layer_list should be a list :\", type(layer_list))"
   ]
  },
  {
   "cell_type": "markdown",
   "id": "937c6dde-0816-49eb-908d-d370696f8339",
   "metadata": {},
   "source": [
    "### Step 2 - Add a new AOI\n",
    "\n",
    "Although each recipe has an aoi associated with it we will instead use a new area that we define. The way the aoi is saved in the recipe is not as straight forward since you can choose from preloaded collections uploaded shapefiles or personal GEE assets. For this notebook we will use a prepared aoi that encompasses Vietnam, Cambodia, Laos, and Thailand (aoi). \n",
    "\n",
    "Additionally, we will use those country borders as sub aois for generating dashboard results from the se.plan restoration suitability analysis.\n"
   ]
  },
  {
   "cell_type": "code",
   "execution_count": null,
   "id": "00172602-a364-4def-8bb7-7d4ab73ea2fd",
   "metadata": {},
   "outputs": [],
   "source": [
    "aoi = ee.FeatureCollection(\"users/jdilger/mekong-test\")\n",
    "\n",
    "fao = ee.FeatureCollection(\"FAO/GAUL/2015/level0\")\n",
    "points = ee.Geometry.MultiPoint(\n",
    "    [\n",
    "        [104.75271920718572, 12.738189346725711],\n",
    "        [101.80838326968572, 16.184391550716192],\n",
    "        [108.31228951968572, 13.850129627946572],\n",
    "        [106.15896920718572, 16.184391550716192],\n",
    "    ]\n",
    ")\n",
    "\n",
    "sub_aois = fao.filterBounds(points)"
   ]
  },
  {
   "cell_type": "markdown",
   "id": "ee07a62f-8b94-450f-b68d-a1395f924df1",
   "metadata": {},
   "source": [
    "### Step 3 - run se.plan\n",
    "\n",
    "With our new aoi and the lists of constraints and priorities prepared running se.plan can be accomplished by calling a single function `scripts.wlc()` This function returns more information than we need to view the output so we will only take the WLC output which is the first item from the tuple."
   ]
  },
  {
   "cell_type": "code",
   "execution_count": null,
   "id": "0c390621-aaba-4626-aedc-718f28849261",
   "metadata": {},
   "outputs": [],
   "source": [
    "# wlc returns wlc_out, benefit_list, constraint_list, cost_list\n",
    "wlc = scripts.wlc(layer_list, constraints, priorities, aoi)\n",
    "output = wlc[0]"
   ]
  },
  {
   "cell_type": "markdown",
   "id": "cd101a94-1c49-444e-9729-9651c1fe0bf6",
   "metadata": {},
   "source": [
    "#### Optional\n",
    "Optionally we can use the geemap library to view the output of or run before continuing on with generating statistics and exporting.\n"
   ]
  },
  {
   "cell_type": "code",
   "execution_count": null,
   "id": "37ea561e-564d-40b4-8d52-d197f68532af",
   "metadata": {},
   "outputs": [],
   "source": [
    "Map = geemap.Map()\n",
    "Map.centerObject(aoi, 5)\n",
    "Map"
   ]
  },
  {
   "cell_type": "code",
   "execution_count": null,
   "id": "a1db0a4e-be45-47b8-81ed-6b9f77e63a80",
   "metadata": {},
   "outputs": [],
   "source": [
    "Map.addLayer(\n",
    "    output,\n",
    "    {\n",
    "        \"min\": 0,\n",
    "        \"max\": 5,\n",
    "        \"palette\": [\"000000\", \"aff0ff\", \"72b1ff\", \"4564ff\", \"592fff\", \"8806ff\"],\n",
    "    },\n",
    "    \"wlc output\",\n",
    ")"
   ]
  },
  {
   "cell_type": "markdown",
   "id": "d83296a8-6599-4168-bb08-2910fc417ed2",
   "metadata": {},
   "source": [
    "### Step 5 - get dashboard stats\n",
    "\n",
    "In the se.plan GUI when we generate the dashboard we have to use a `.getInfo()` call to return the data to the client side. While this works it is common to run into 'computation timed out' errors. By keeping the on Googles servers we can safely export the statistics to a CSV. \n",
    "\n",
    "We will get the statistics for the entire region as well as map over our feature collection. "
   ]
  },
  {
   "cell_type": "code",
   "execution_count": null,
   "id": "0196102c-0833-4e34-bfd9-e4d709f0c5c4",
   "metadata": {},
   "outputs": [],
   "source": [
    "dashboard_data = scripts.get_summary_statistics(\n",
    "    wlc, \"mekong-test\", aoi, layer_list, False\n",
    ")\n",
    "# print(scripts.dashboard_data_to_fc(dashboard_data).getInfo())"
   ]
  },
  {
   "cell_type": "markdown",
   "id": "6f00df67-6846-4fd4-b9c5-6996b6ed5aa7",
   "metadata": {},
   "source": [
    "Preparing the sub aois takes a little bit more work. We will use a custom function `get_sub_aois_dashboard_data` to extract the information we want. It expects a feature collection the name of an identifying column and the unique values of which you want to run the statistics on. In this case we want to use all of them so we can use `aggregate_array` on the `ADM0_NAME` property.  \n",
    "\n",
    "To make exporting simpler, we'll add the dashboard_data results the sub aois list as a tuple in the same format."
   ]
  },
  {
   "cell_type": "code",
   "execution_count": null,
   "id": "9c104ec3-9b73-4093-9355-8c15c69391c2",
   "metadata": {},
   "outputs": [],
   "source": [
    "def get_sub_aois_dashboard_data(\n",
    "    sub_aois: ee.FeatureCollection,\n",
    "    ids: list,\n",
    "    ids_col: str,\n",
    "    wlc: ee.Image,\n",
    "    layer_list: list,\n",
    "):\n",
    "    def get_sub_stats(sub_id):\n",
    "        geom = sub_aois.filter(ee.Filter.eq(ids_col, sub_id)).first().geometry()\n",
    "        return (\n",
    "            sub_id,\n",
    "            scripts.get_summary_statistics(wlc, sub_id, geom, layer_list, False),\n",
    "        )\n",
    "\n",
    "    return [get_sub_stats(sub_id) for sub_id in ids]"
   ]
  },
  {
   "cell_type": "code",
   "execution_count": null,
   "id": "278370a3-9f53-45c3-80a6-4350bd6076e1",
   "metadata": {},
   "outputs": [],
   "source": [
    "# print(sub_aois.first().toDictionary().getInfo())\n",
    "sub_id_col = \"ADM0_NAME\"\n",
    "sub_ids = sub_aois.aggregate_array(sub_id_col).getInfo()\n",
    "# dashboard_data_sub_aois = sub_aois.toList(10).map(lambda x: scripts.get_summary_statistics(wlc, 'ok', ee.Feature(x).geometry(), layer_list, False))\n",
    "# print(dashboard_data_sub_aois.size().getInfo())\n",
    "dashboard_data_sub_aois = get_sub_aois_dashboard_data(\n",
    "    sub_aois, sub_ids, sub_id_col, wlc, layer_list\n",
    ")\n",
    "dashboard_data_sub_aois.append((\"mekong-test\", dashboard_data))\n",
    "dashboard_data_sub_aois"
   ]
  },
  {
   "cell_type": "markdown",
   "id": "a3d95219-62ca-445f-aa93-8aa286edae53",
   "metadata": {},
   "source": [
    "### Step 6 - exporting \n"
   ]
  },
  {
   "cell_type": "code",
   "execution_count": null,
   "id": "154d1b93-4ccf-4943-a944-e0332c381562",
   "metadata": {},
   "outputs": [],
   "source": [
    "for name, eedict in dashboard_data_sub_aois:\n",
    "    name = name.replace(\" \", \"_\").replace(\"'\", \"\")\n",
    "    fc = scripts.dashboard_data_to_fc(eedict)\n",
    "    ee.batch.Export.table.toDrive(\n",
    "        collection=fc,\n",
    "        description=name,\n",
    "        folder=\"seplan_batch\",\n",
    "        fileFormat=\"csv\",\n",
    "        selectors=\"category,name,type,value\",\n",
    "    ).start()"
   ]
  },
  {
   "cell_type": "code",
   "execution_count": null,
   "id": "26065a76-fca1-431a-a765-8e2e0b793419",
   "metadata": {},
   "outputs": [],
   "source": [
    "ee.batch.Export.image.toAsset(\n",
    "    image=output,\n",
    "    description=\"mekong-seplan-test\",\n",
    "    assetId=\"projects/john-ee-282116/assets/mekong-seplan-test\",\n",
    "    region=aoi.geometry(),\n",
    "    scale=30,\n",
    "    maxPixels=1e13,\n",
    ").start()"
   ]
  },
  {
   "cell_type": "markdown",
   "id": "5df95151-b805-4aee-83a8-3ff5e8b3b98f",
   "metadata": {},
   "source": [
    "def get_stats_ee(wlc_outputs, layer_model, areas, name)\n",
    "\n",
    "\n",
    "\n",
    "what the cli should look like,\n",
    "\n",
    "somename recipe main_aoi sumarry_aois -n nameOfRun -summary-name-col summary_aois_name_col\n",
    "\n",
    "ategory,"
   ]
  },
  {
   "cell_type": "code",
   "execution_count": null,
   "id": "94eb2244-9dc2-45a0-a2ef-5519c5222145",
   "metadata": {},
   "outputs": [],
   "source": []
  },
  {
   "cell_type": "code",
   "execution_count": null,
   "id": "b5a98040-f08e-4c2c-a2e7-a9d9aa0d39cf",
   "metadata": {},
   "outputs": [],
   "source": []
  }
 ],
 "metadata": {
  "kernelspec": {
   "display_name": " (venv) se.plan",
   "language": "python",
   "name": "venv-se.plan"
  },
  "language_info": {
   "codemirror_mode": {
    "name": "ipython",
    "version": 3
   },
   "file_extension": ".py",
   "mimetype": "text/x-python",
   "name": "python",
   "nbconvert_exporter": "python",
   "pygments_lexer": "ipython3",
   "version": "3.8.10"
  }
 },
 "nbformat": 4,
 "nbformat_minor": 5
}
