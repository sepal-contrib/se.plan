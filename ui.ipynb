{
 "cells": [
  {
   "cell_type": "markdown",
   "id": "46839a6b-663c-424a-827e-d11ed7c49053",
   "metadata": {},
   "source": [
    "<center><h1 class=\"text-center h3\" id=\"loading-app\">Setting things up for you... Thanks for waiting!</h1></center>"
   ]
  },
  {
   "cell_type": "code",
   "execution_count": null,
   "id": "6f434bc9",
   "metadata": {},
   "outputs": [],
   "source": [
    "import component.auth"
   ]
  },
  {
   "cell_type": "code",
   "execution_count": null,
   "id": "6320d7f9-989e-4e60-a809-0453c05affc4",
   "metadata": {
    "tags": []
   },
   "outputs": [],
   "source": [
    "import sepal_ui.sepalwidgets as sw\n",
    "from component.widget.custom_widgets import (\n",
    "    CustomDrawerItem,\n",
    "    CustomNavDrawer,\n",
    "    CustomAppBar,\n",
    "    CustomApp,\n",
    ")\n",
    "\n",
    "from component.model.app_model import AppModel\n",
    "from component.tile.custom_aoi_tile import AoiTile\n",
    "from component.tile.dashboard_tile import DashboardTile\n",
    "from component.tile.map_tile import MapTile\n",
    "from component.tile.questionnaire_tile import QuestionnaireTile\n",
    "from component.tile.recipe_tile import RecipeTile\n",
    "\n",
    "from component.message import cm\n",
    "import component.frontend  # we need this line"
   ]
  },
  {
   "cell_type": "code",
   "execution_count": null,
   "id": "62022248-af80-4b4e-b2bd-f559ac3fd68b",
   "metadata": {
    "tags": []
   },
   "outputs": [],
   "source": [
    "app_model = AppModel()"
   ]
  },
  {
   "cell_type": "code",
   "execution_count": null,
   "id": "3a5aa6b5-92ec-4a66-bac5-2ab6037e6476",
   "metadata": {
    "tags": []
   },
   "outputs": [],
   "source": [
    "about_tile = sw.TileAbout(cm.app.about)\n",
    "about_tile.set_title(\"\")\n",
    "disclaimer_tile = sw.TileDisclaimer()"
   ]
  },
  {
   "cell_type": "code",
   "execution_count": null,
   "id": "978118cb",
   "metadata": {
    "tags": []
   },
   "outputs": [],
   "source": [
    "aoi_tile = AoiTile()\n",
    "questionnaire_tile = QuestionnaireTile()\n",
    "map_tile = MapTile(app_model)\n",
    "dashboard_tile = DashboardTile()\n",
    "recipe_tile = RecipeTile(\n",
    "    app_model, aoi_tile, questionnaire_tile, map_tile, dashboard_tile\n",
    ")"
   ]
  },
  {
   "cell_type": "code",
   "execution_count": null,
   "id": "302a2177-bdae-428d-a1a1-8c758cb32979",
   "metadata": {
    "tags": []
   },
   "outputs": [],
   "source": [
    "# Create an appBar\n",
    "app_bar = CustomAppBar(cm.app.title)"
   ]
  },
  {
   "cell_type": "code",
   "execution_count": null,
   "id": "dcd06625-8e1b-424a-8639-8b8d04754b5c",
   "metadata": {
    "tags": []
   },
   "outputs": [],
   "source": [
    "app_content = [\n",
    "    about_tile,\n",
    "    aoi_tile,\n",
    "    questionnaire_tile,\n",
    "    map_tile,\n",
    "    dashboard_tile,\n",
    "    recipe_tile,\n",
    "    disclaimer_tile,\n",
    "]"
   ]
  },
  {
   "cell_type": "code",
   "execution_count": null,
   "id": "ec6b6d2c-2eab-4364-bae5-e9b20301c871",
   "metadata": {
    "tags": []
   },
   "outputs": [],
   "source": [
    "aux_drawers = {\n",
    "    \"recipe_tile\": {\n",
    "        \"title\": cm.app.drawer.recipe,\n",
    "        \"icon\": \"mdi-note-text\",\n",
    "    },\n",
    "    \"about_tile\": {\n",
    "        \"title\": cm.app.drawer.about,\n",
    "        \"icon\": \"mdi-help-circle\",\n",
    "    },\n",
    "}\n",
    "\n",
    "app_drawers = {\n",
    "    \"aoi_tile\": {\n",
    "        \"title\": cm.app.drawer.aoi,\n",
    "        \"icon\": \"mdi-map-marker-check\",\n",
    "    },\n",
    "    \"questionnaire_tile\": {\n",
    "        \"title\": cm.app.drawer.question,\n",
    "        \"icon\": \"mdi-file-question\",\n",
    "    },\n",
    "    \"map_tile\": {\n",
    "        \"title\": cm.app.drawer.map,\n",
    "        \"icon\": \"mdi-map\",\n",
    "    },\n",
    "    \"dashboard_tile\": {\n",
    "        \"title\": cm.app.drawer.dashboard,\n",
    "        \"icon\": \"mdi-view-dashboard\",\n",
    "    },\n",
    "}\n",
    "aux_items = [\n",
    "    CustomDrawerItem(**aux_drawers[key], card=key) for key in aux_drawers.keys()\n",
    "]\n",
    "\n",
    "app_items = [\n",
    "    CustomDrawerItem(**app_drawers[key], card=key, model=app_model, bind_var=\"ready\")\n",
    "    for key in app_drawers.keys()\n",
    "]\n",
    "\n",
    "items = [aux_items[0]] + app_items + [aux_items[-1]]"
   ]
  },
  {
   "cell_type": "code",
   "execution_count": null,
   "id": "ee34f559",
   "metadata": {
    "tags": []
   },
   "outputs": [],
   "source": [
    "code_link = \"https://github.com/sepal-contrib/se.plan\"\n",
    "wiki_link = \"https://docs.sepal.io/en/latest/modules/dwn/seplan.html\"\n",
    "issue_link = \"https://github.com/sepal-contrib/se.plan/issues/new\"\n",
    "\n",
    "app_drawer = CustomNavDrawer(\n",
    "    items, code=code_link, wiki=wiki_link, issue=issue_link, app_model=app_model\n",
    ")"
   ]
  },
  {
   "cell_type": "code",
   "execution_count": null,
   "id": "b79cfcc5-1615-4e7c-a4de-bc38076d8cc9",
   "metadata": {
    "tags": []
   },
   "outputs": [],
   "source": [
    "# build the Html final app by gathering everything\n",
    "app = CustomApp(\n",
    "    app_model, tiles=app_content, appBar=app_bar, navDrawer=app_drawer\n",
    ").show_tile(\"about_tile\")"
   ]
  },
  {
   "cell_type": "code",
   "execution_count": null,
   "id": "81605f26-1ed3-4bdb-8c17-706c5c07fa38",
   "metadata": {
    "tags": []
   },
   "outputs": [],
   "source": [
    "app"
   ]
  }
 ],
 "metadata": {
  "kernelspec": {
   "display_name": " (venv) se.plan",
   "language": "python",
   "name": "venv-se.plan"
  },
  "language_info": {
   "codemirror_mode": {
    "name": "ipython",
    "version": 3
   },
   "file_extension": ".py",
   "mimetype": "text/x-python",
   "name": "python",
   "nbconvert_exporter": "python",
   "pygments_lexer": "ipython3",
   "version": "3.10.12"
  }
 },
 "nbformat": 4,
 "nbformat_minor": 5
}
