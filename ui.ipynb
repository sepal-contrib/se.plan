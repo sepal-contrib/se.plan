{
 "cells": [
  {
   "cell_type": "code",
   "execution_count": 1,
   "id": "6320d7f9-989e-4e60-a809-0453c05affc4",
   "metadata": {
    "tags": []
   },
   "outputs": [
    {
     "data": {
      "text/html": [
       "<style>/*******************************************************************************\n",
       " * Customization of the provided css from the different libs used by sepal_ui\n",
       " */\n",
       "\n",
       "/* replace the map panel elements on top */\n",
       ".leaflet-pane,\n",
       ".leaflet-top,\n",
       ".leaflet-bottom {\n",
       "  z-index: 2 !important;\n",
       "}\n",
       "\n",
       "/* remove the shadow from the widgets on the maps */\n",
       ".leaflet-widgetcontrol {\n",
       "  box-shadow: none;\n",
       "}\n",
       "\n",
       "/* remove extra padding on top of the content */\n",
       "main.v-content {\n",
       "  padding-top: 0px !important;\n",
       "}\n",
       "\n",
       ".v-alert__wrapper .progress {\n",
       "  background-color: transparent;\n",
       "}\n",
       "\n",
       "/* set the bar on top of the map (800) when set to fullscreen */\n",
       "header.v-app-bar {\n",
       "  z-index: 800 !important;\n",
       "}\n",
       "\n",
       "/* set the menu_content on top of the map when it's set to fullscreen */\n",
       ".v-menu__content {\n",
       "  max-width: 100% !important;\n",
       "  z-index: 801 !important;\n",
       "}\n",
       "\n",
       "/* make sure navigation drawers are always visible when they exist */\n",
       "nav.v-navigation-drawer {\n",
       "  z-index: 900 !important;\n",
       "}\n",
       "\n",
       "/* create extra position for the leaflet map controls */\n",
       ".leaflet-center {\n",
       "  left: 50%;\n",
       "  transform: translate(-50%, 0%);\n",
       "}\n",
       "\n",
       ".leaflet-middle {\n",
       "  top: 50%;\n",
       "  position: absolute;\n",
       "  z-index: 1000;\n",
       "  pointer-events: none;\n",
       "  transform: translate(0%, -50%);\n",
       "}\n",
       "\n",
       ".leaflet-center.leaflet-middle {\n",
       "  transform: translate(-50%, -50%);\n",
       "}\n",
       "\n",
       "/* create extra classes to customize the layer_control table */\n",
       ".v-no-hover:hover {\n",
       "  background-color: transparent !important;\n",
       "}\n",
       "\n",
       ".v-no-border tbody tr td,\n",
       ".v-no-border tbody tr th {\n",
       "  border: none !important;\n",
       "}\n",
       "\n",
       "/* extra css rules to make the messages disappear beneath the SimpleSlider */\n",
       ".v-no-messages .v-messages {\n",
       "  display: none;\n",
       "}\n",
       "\n",
       ".v-no-messages .v-input__slot {\n",
       "  margin-bottom: 0;\n",
       "}\n",
       "\n",
       "/* specific css for the btn placed on maps */\n",
       ".v-btn.v-size--default.v-map-btn:not(.v-btn--round) {\n",
       "  padding: 0px;\n",
       "  min-width: 0px;\n",
       "  width: 30px;\n",
       "  height: 30px;\n",
       "}\n",
       "\n",
       "/* add specific css for the zoom btn of the map */\n",
       ".v-btn.v-zoom-plus {\n",
       "  border-bottom-left-radius: 0;\n",
       "  border-bottom-right-radius: 0;\n",
       "}\n",
       "\n",
       ".v-btn.v-zoom-minus {\n",
       "  margin-top: -1px;\n",
       "  border-top-left-radius: 0;\n",
       "  border-top-right-radius: 0;\n",
       "}\n",
       "\n",
       "/* css rules for fullscreen menus */\n",
       ".v-card.v-menu-fullscreen {\n",
       "  width: calc(100vw - 80px);\n",
       "  height: calc(100vh - 20px);\n",
       "}\n",
       "\n",
       "/* hide the disclaimer message placed on top of the ui notebook\n",
       " * the message will be displayed until the css is loaded */\n",
       "#loading-app {\n",
       "  display: none !important;\n",
       "}\n",
       "\n",
       "/* Related with https://github.com/12rambau/sepal_ui/issues/893 */\n",
       "#rendered_cells {\n",
       "  contain: revert !important;\n",
       "  background-color: revert !important;\n",
       "}\n",
       "\n",
       ".full-screen-map > .leaflet-container {\n",
       "  position: fixed !important;\n",
       "  width: 100vw;\n",
       "  height: calc(100vh - 48px);\n",
       "  z-index: 800;\n",
       "  bottom: 0;\n",
       "  left: 0;\n",
       "}\n",
       "</style>"
      ],
      "text/plain": [
       "<IPython.core.display.HTML object>"
      ]
     },
     "metadata": {},
     "output_type": "display_data"
    },
    {
     "data": {
      "text/html": [
       "<link rel=\"stylesheet\" href=\"https://cdnjs.cloudflare.com/ajax/libs/font-awesome/6.2.1/css/all.min.css\"/>"
      ],
      "text/plain": [
       "<IPython.core.display.HTML object>"
      ]
     },
     "metadata": {},
     "output_type": "display_data"
    },
    {
     "data": {
      "application/javascript": [
       "/*******************************************************************************\n",
       " * remove any links from fontawesome 5 created by jupyter in favor of\n",
       " * fontawesome 6. to be removed when Jupyter updates it\n",
       " */\n",
       "\n",
       "function remove_fa5() {\n",
       "  let links = document.querySelectorAll(\n",
       "    \"link[href^='https://cdn.jsdelivr.net/npm/@fortawesome/fontawesome-free@^5']\"\n",
       "  );\n",
       "\n",
       "  links.forEach((link) => link.remove());\n",
       "}\n",
       "\n",
       "if (document.readyState != \"loading\") remove_fa5();\n",
       "else document.addEventListener(\"DOMContentLoaded\", remove_fa5);\n"
      ],
      "text/plain": [
       "<IPython.core.display.Javascript object>"
      ]
     },
     "metadata": {},
     "output_type": "display_data"
    },
    {
     "data": {
      "application/vnd.jupyter.widget-view+json": {
       "model_id": "b2c189c171ea4d43a3f11ec3bdd5c2cc",
       "version_major": 2,
       "version_minor": 0
      },
      "text/plain": [
       "ResizeTrigger()"
      ]
     },
     "metadata": {},
     "output_type": "display_data"
    },
    {
     "data": {
      "application/vnd.jupyter.widget-view+json": {
       "model_id": "cde23ebd7e684076b421a73e52411e91",
       "version_major": 2,
       "version_minor": 0
      },
      "text/plain": [
       "VuetifyTemplate(template=\"\\n        <style class='sepal-ui-script'>\\n            .custom_map .jupyter-widgets.…"
      ]
     },
     "metadata": {},
     "output_type": "display_data"
    }
   ],
   "source": [
    "import sepal_ui.sepalwidgets as sw\n",
    "from component.widget.custom_widgets import (\n",
    "    CustomDrawerItem,\n",
    "    CustomNavDrawer,\n",
    "    CustomAppBar,\n",
    "    CustomApp,\n",
    "    CustomTileAbout\n",
    ")\n",
    "\n",
    "from component.model.app_model import AppModel\n",
    "from component.tile.custom_aoi_tile import AoiTile\n",
    "from component.tile.dashboard_tile import DashboardTile\n",
    "from component.tile.map_tile import MapTile\n",
    "from component.tile.questionnaire_tile import QuestionnaireTile\n",
    "from component.tile.recipe_tile import RecipeTile\n",
    "from component.model.recipe import Recipe\n",
    "\n",
    "from component.message import cm"
   ]
  },
  {
   "cell_type": "code",
   "execution_count": 2,
   "id": "62022248-af80-4b4e-b2bd-f559ac3fd68b",
   "metadata": {
    "tags": []
   },
   "outputs": [],
   "source": [
    "app_model = AppModel()"
   ]
  },
  {
   "cell_type": "code",
   "execution_count": null,
   "id": "3a5aa6b5-92ec-4a66-bac5-2ab6037e6476",
   "metadata": {
    "tags": []
   },
   "outputs": [],
   "source": [
    "about_tile = CustomTileAbout(cm.app.about)\n",
    "about_tile.set_title(\"\")\n",
    "disclaimer_tile = sw.TileDisclaimer()"
   ]
  },
  {
   "cell_type": "code",
   "execution_count": null,
   "id": "184f41b0",
   "metadata": {},
   "outputs": [],
   "source": [
    "recipe = Recipe()"
   ]
  },
  {
   "cell_type": "code",
   "execution_count": null,
   "id": "978118cb",
   "metadata": {
    "tags": []
   },
   "outputs": [],
   "source": [
    "recipe_tile = RecipeTile(recipe=recipe, app_model=app_model)\n",
    "aoi_tile = AoiTile(recipe=recipe)\n",
    "questionnaire_tile = QuestionnaireTile(recipe=recipe)\n",
    "map_tile = MapTile(recipe=recipe, app_model=app_model)\n",
    "dashboard_tile = DashboardTile(recipe=recipe)"
   ]
  },
  {
   "cell_type": "code",
   "execution_count": null,
   "id": "302a2177-bdae-428d-a1a1-8c758cb32979",
   "metadata": {
    "tags": []
   },
   "outputs": [],
   "source": [
    "# Create an appBar\n",
    "app_bar = CustomAppBar(cm.app.title)"
   ]
  },
  {
   "cell_type": "code",
   "execution_count": null,
   "id": "dcd06625-8e1b-424a-8639-8b8d04754b5c",
   "metadata": {
    "tags": []
   },
   "outputs": [],
   "source": [
    "app_content = [\n",
    "    about_tile,\n",
    "    aoi_tile,\n",
    "    questionnaire_tile,\n",
    "    map_tile,\n",
    "    dashboard_tile,\n",
    "    recipe_tile,\n",
    "    disclaimer_tile,\n",
    "]"
   ]
  },
  {
   "cell_type": "code",
   "execution_count": null,
   "id": "ec6b6d2c-2eab-4364-bae5-e9b20301c871",
   "metadata": {
    "tags": []
   },
   "outputs": [],
   "source": [
    "aux_drawers = {\n",
    "    \"about_tile\": {\n",
    "        \"title\": cm.app.drawer.about,\n",
    "        \"icon\": \"mdi-help-circle\",\n",
    "    },\n",
    "    \"recipe_tile\": {\n",
    "        \"title\": cm.app.drawer.recipe,\n",
    "        \"icon\": \"mdi-note-text\",\n",
    "    },\n",
    "}\n",
    "\n",
    "app_drawers = {\n",
    "    \"aoi_tile\": {\n",
    "        \"title\": cm.app.drawer.aoi,\n",
    "        \"icon\": \"mdi-map-marker-check\",\n",
    "    },\n",
    "    \"questionnaire_tile\": {\n",
    "        \"title\": cm.app.drawer.question,\n",
    "        \"icon\": \"mdi-file-question\",\n",
    "    },\n",
    "    \"map_tile\": {\n",
    "        \"title\": cm.app.drawer.map,\n",
    "        \"icon\": \"mdi-map\",\n",
    "    },\n",
    "    \"dashboard_tile\": {\n",
    "        \"title\": cm.app.drawer.dashboard,\n",
    "        \"icon\": \"mdi-view-dashboard\",\n",
    "    },\n",
    "}\n",
    "aux_items = [\n",
    "    CustomDrawerItem(**aux_drawers[key], card=key) for key in aux_drawers.keys()\n",
    "]\n",
    "\n",
    "app_items = [\n",
    "    CustomDrawerItem(**app_drawers[key], card=key, model=app_model, bind_var=\"ready\")\n",
    "    for key in app_drawers.keys()\n",
    "]\n",
    "\n",
    "items = aux_items + app_items"
   ]
  },
  {
   "cell_type": "code",
   "execution_count": null,
   "id": "ee34f559",
   "metadata": {
    "tags": []
   },
   "outputs": [],
   "source": [
    "code_link = \"https://github.com/sepal-contrib/se.plan\"\n",
    "wiki_link = \"https://docs.sepal.io/en/latest/modules/dwn/seplan.html\"\n",
    "issue_link = \"https://github.com/sepal-contrib/se.plan/issues/new\"\n",
    "\n",
    "app_drawer = CustomNavDrawer(\n",
    "    items, code=code_link, wiki=wiki_link, issue=issue_link, app_model=app_model\n",
    ")"
   ]
  },
  {
   "cell_type": "code",
   "execution_count": null,
   "id": "b79cfcc5-1615-4e7c-a4de-bc38076d8cc9",
   "metadata": {
    "tags": []
   },
   "outputs": [],
   "source": [
    "# build the Html final app by gathering everything\n",
    "app = CustomApp(\n",
    "    app_model, tiles=app_content, appBar=app_bar, navDrawer=app_drawer\n",
    ").show_tile(\"about_tile\")"
   ]
  },
  {
   "cell_type": "code",
   "execution_count": null,
   "id": "81605f26-1ed3-4bdb-8c17-706c5c07fa38",
   "metadata": {
    "tags": []
   },
   "outputs": [],
   "source": [
    "app"
   ]
  }
 ],
 "metadata": {
  "kernelspec": {
   "display_name": "Python 3 (ipykernel)",
   "language": "python",
   "name": "python3"
  },
  "language_info": {
   "codemirror_mode": {
    "name": "ipython",
    "version": 3
   },
   "file_extension": ".py",
   "mimetype": "text/x-python",
   "name": "python",
   "nbconvert_exporter": "python",
   "pygments_lexer": "ipython3",
   "version": "3.10.14"
  },
  "title": "se.plan"
 },
 "nbformat": 4,
 "nbformat_minor": 5
}
